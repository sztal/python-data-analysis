{
 "cells": [
  {
   "cell_type": "markdown",
   "metadata": {},
   "source": [
    "# Array processing and _numpy_\n",
    "\n",
    "Szymon Talaga, 11.12.2019\n",
    "\n",
    "<hr>"
   ]
  },
  {
   "cell_type": "markdown",
   "metadata": {},
   "source": [
    "## Scientific computing in Python\n",
    "\n",
    "Python as a language and computing environment is very convenient as it has very simple and natural syntax and supports interactive work within a Python shell or other environment such as Jupyter notebook.\n",
    "This is possible because it has so-called dynamic typing.\n",
    "\n",
    "### Dynamic typing\n",
    "\n",
    "A language has dynamic typing when it does not force a user to specify types of variables by hand. Instead, a language with dynamic typing will dynamically infer a type of a variable when it has to access it.\n",
    "This makes writing code much easier and facilitates interactivity, but it also mean that Python (and similar languages) are much slower than languages such C/C++ that have static typing.\n",
    "\n",
    "### Static typing\n",
    "\n",
    "Static typing means that a user has to specify types of all variables when they define it. It makes the code much faster as there is no need to do dynamic type inference all the time. However, it also means that the code has to be compiled.\n",
    "\n",
    "### The problem of scientific computing\n",
    "\n",
    "In scientific computing we need to have both ease-of-use of a dynamic language like Python (since we do not want to force scientists to be full-fledged software engineers) as well as performance provided by compiled languages with static typing such as C/C++.\n",
    "\n",
    "<hr>"
   ]
  },
  {
   "cell_type": "markdown",
   "metadata": {},
   "source": [
    "## Numpy\n",
    "\n",
    "Numpy is not a part of the standard library so it has to be installed with PIP first. However, it installed by default in the Anaconda distribution of Python."
   ]
  },
  {
   "cell_type": "code",
   "execution_count": 2,
   "metadata": {},
   "outputs": [],
   "source": [
    "# Import numpy: alias np is traditional; everyone uses it\n",
    "import numpy as np"
   ]
  },
  {
   "cell_type": "markdown",
   "metadata": {},
   "source": [
    "Numpy is the standard Python solution for the problem of scientific computing. This is possible thanks to the specific design of Numpy as a software package. It consists of two main parts:\n",
    "\n",
    "1. Core library written in C/C++. It implements all the crucial computationally intensive procedures.\n",
    "2. Python interface. It allows to communicate with core library from within Python. It also implements a lot of helper procedures that are not computationally complex.\n",
    "\n",
    "Thus, Numpy in some sense _translates_ our code written in Python to very efficient C/C++ code.\n",
    "However, there are two additional constraints that have to be satisfied for this to happend.\n",
    "\n",
    "1. Data passed from Python to Numpy core has to be of fixed data type (i.e. int, float, bool), so it can be used by a program with static typing.\n",
    "2. Data has to be passed between Python and Numpy core as rarely as possible as the transfer inflicts a significant additional computational cost.\n",
    "\n",
    "The above constraints can be satisfied because the central data structure in Numpy is an array."
   ]
  },
  {
   "cell_type": "markdown",
   "metadata": {},
   "source": [
    "### Arrays"
   ]
  },
  {
   "cell_type": "markdown",
   "metadata": {},
   "source": [
    "In general, an array is a multidimensional generalization of a list."
   ]
  },
  {
   "cell_type": "markdown",
   "metadata": {},
   "source": [
    "```python\n",
    "# 1D array with shape (6,)\n",
    "[0, 1, 11, 5, 7, 0]\n",
    "\n",
    "# 2D array with shape (2, 3)\n",
    "[ [0, 5, 10], \n",
    "  [11, 6, 7] ]\n",
    "\n",
    "# 3D array with shape (2, 2, 3)\n",
    "[ [ [1, 2, 3], [4, 0, 7] ],\n",
    "  [ [1, 4, 6], [1, 1, 3] ] ]\n",
    "```"
   ]
  },
  {
   "cell_type": "markdown",
   "metadata": {},
   "source": [
    "Every array is defined not only by its content but also by its shape. And the shape is defined by:\n",
    "\n",
    "1. Zero or more axes (it is possible to define a null array with no data and zero axes). Axes are dimensions along which data is arranged. One axis gives a vector, two axes give a matrix and three or more axes give just an array (sometimes also called tensor).\n",
    "2. Numbers of elements along a given axis (defined as a tuple of positive integers).\n",
    "\n",
    "Thus, in general in Numpy we store our data in arrays."
   ]
  },
  {
   "cell_type": "code",
   "execution_count": 5,
   "metadata": {},
   "outputs": [
    {
     "name": "stdout",
     "output_type": "stream",
     "text": [
      "1D\n",
      " [1 2 3] \n",
      "\n",
      "2D\n",
      " [[1 2]\n",
      " [3 4]] \n",
      "\n",
      "3D\n",
      " [[[1 2]\n",
      "  [3 4]]\n",
      "\n",
      " [[4 5]\n",
      "  [5 6]]]\n"
     ]
    }
   ],
   "source": [
    "# Standard array creation\n",
    "# (often people use uppercase letters to denote arrays)\n",
    "\n",
    "# 1D\n",
    "X = np.array([1, 2, 3])\n",
    "print(\"1D\\n\", X, \"\\n\")\n",
    "\n",
    "# 2D\n",
    "X = np.array([\n",
    "    [1, 2],\n",
    "    [3, 4]\n",
    "])\n",
    "print(\"2D\\n\", X, \"\\n\")\n",
    "\n",
    "# 3D\n",
    "X = np.array([\n",
    "    [ [1, 2], [3, 4] ],\n",
    "    [ [4, 5], [5, 6] ]\n",
    "])\n",
    "print(\"3D\\n\", X)"
   ]
  },
  {
   "cell_type": "markdown",
   "metadata": {},
   "source": [
    "Every array has two important attributes defined on it."
   ]
  },
  {
   "cell_type": "code",
   "execution_count": 6,
   "metadata": {},
   "outputs": [
    {
     "name": "stdout",
     "output_type": "stream",
     "text": [
      "1D array\n",
      "1\n",
      "(3,)\n",
      "\n",
      "2D array\n",
      "2\n",
      "(2, 2)\n"
     ]
    }
   ],
   "source": [
    "print(\"1D array\")\n",
    "X = np.array([1, 2, 3])\n",
    "print(X.ndim)     # number of axes\n",
    "print(X.shape)    # number of elements along axes\n",
    "\n",
    "print(\"\\n2D array\")\n",
    "X = np.array([ [1, 2], [3, 4] ])\n",
    "print(X.ndim)     # number of axes\n",
    "print(X.shape)    # number of elements along axes"
   ]
  },
  {
   "cell_type": "markdown",
   "metadata": {},
   "source": [
    "#### Data types\n",
    "\n",
    "The second defining feature of every array is its data type. As we already mentioned, high performance computing requires static typing. That is why our arrays needs to be of a fixed, homogeneous type (that is all elements have to be of the same type). Thanks to this it can be passed to core library written in C/C++ and handled in an optimal manner."
   ]
  },
  {
   "cell_type": "markdown",
   "metadata": {},
   "source": [
    "In Numpy we can define our arrays to be of one of the standard Python types. We use special `dtype` argument in array creation functions."
   ]
  },
  {
   "cell_type": "code",
   "execution_count": 8,
   "metadata": {},
   "outputs": [
    {
     "name": "stdout",
     "output_type": "stream",
     "text": [
      "int\n",
      " [1 2 3]\n",
      "float (note decimal dots)\n",
      " [1. 2. 3.]\n",
      "bool\n",
      " [False  True  True]\n"
     ]
    }
   ],
   "source": [
    "X = np.array([1, 2, 3], dtype=int)\n",
    "print(\"int\\n\", X)\n",
    "\n",
    "X = np.array([1, 2, 3], dtype=float)\n",
    "print(\"float (note decimal dots)\\n\", X)\n",
    "\n",
    "X = np.array([0, 1, 2], dtype=bool)\n",
    "print(\"bool\\n\", X)"
   ]
  },
  {
   "cell_type": "markdown",
   "metadata": {},
   "source": [
    "However, Numpy provides with more control over types of our data. It is a quite complex subject (and you can read more about it [here](https://docs.scipy.org/doc/numpy/reference/arrays.dtypes.html)).\n",
    "For now, let us just notice that we have quite a lot of control over the amount of memory consumed by a single number in given representation. Below are some examples of Numpy data types (`dtypes`). A name of each type is followed by a number indicating how many bits a single value of this type consumes.\n",
    "\n",
    "* `np.float128`\n",
    "* `np.float64` \n",
    "* `np.float32`\n",
    "* `np.float16`\n",
    "* `np.int64`\n",
    "* `np.int32`\n",
    "* `np.int16`\n",
    "* `np.bool`"
   ]
  },
  {
   "cell_type": "markdown",
   "metadata": {},
   "source": [
    "On most machines (those with 64bit OS architectures) built-in Python int and float types correspond to `np.int64` and `np.float64`."
   ]
  },
  {
   "cell_type": "markdown",
   "metadata": {},
   "source": [
    "But why may we want to care about `dtypes` and memory. One reason is that we may need our floating-point arithmetic to be extremely precise. In such a case it may be worthwhile to use for instance `np.float128` instead of default `np.float64`. Let us see what it means on a simple example."
   ]
  },
  {
   "cell_type": "code",
   "execution_count": 9,
   "metadata": {},
   "outputs": [
    {
     "name": "stdout",
     "output_type": "stream",
     "text": [
      "x1 = 2.3679258962705483e-09\n",
      "x2 = 4.735851792541097e-09\n"
     ]
    }
   ],
   "source": [
    "small_x1 = 1 / 422310513\n",
    "small_x2 = 2 / 422310513\n",
    "\n",
    "print(f\"x1 = {small_x1}\\nx2 = {small_x2}\")"
   ]
  },
  {
   "cell_type": "markdown",
   "metadata": {},
   "source": [
    "Standard Python is quite precise as it uses 64 bit floats."
   ]
  },
  {
   "cell_type": "code",
   "execution_count": 12,
   "metadata": {},
   "outputs": [
    {
     "name": "stdout",
     "output_type": "stream",
     "text": [
      "True\n",
      "False\n"
     ]
    },
    {
     "data": {
      "text/plain": [
       "2.3679259e-09"
      ]
     },
     "execution_count": 12,
     "metadata": {},
     "output_type": "execute_result"
    }
   ],
   "source": [
    "print(small_x1 == np.float64(small_x1))\n",
    "print(small_x1 == np.float32(small_x1))\n",
    "np.float32(small_x1)"
   ]
  },
  {
   "cell_type": "markdown",
   "metadata": {},
   "source": [
    "Below we see why precision may matter."
   ]
  },
  {
   "cell_type": "code",
   "execution_count": 13,
   "metadata": {},
   "outputs": [
    {
     "name": "stdout",
     "output_type": "stream",
     "text": [
      "2.3679259e-09\n",
      "4.7358517e-09\n",
      "False\n"
     ]
    }
   ],
   "source": [
    "print(np.float32(small_x1))\n",
    "print(np.float32(small_x2))\n",
    "print(np.float32(small_x1) == np.float32(small_x2))"
   ]
  },
  {
   "cell_type": "code",
   "execution_count": 14,
   "metadata": {},
   "outputs": [
    {
     "name": "stdout",
     "output_type": "stream",
     "text": [
      "0.0\n",
      "0.0\n",
      "True\n"
     ]
    }
   ],
   "source": [
    "print(np.float16(small_x1))\n",
    "print(np.float16(small_x2))\n",
    "print(np.float16(small_x1) == np.float16(small_x2))"
   ]
  },
  {
   "cell_type": "markdown",
   "metadata": {},
   "source": [
    "However, this does not mean that we should always use as much precision as we can. In fact, we usually does not need to. Quite often we may prefer to use less precise data types in order to lower the memory footprint of our application. However, we have to understand our problem well in order to be able to choose `dtype` properly, as lack of precision may result in corruption of our data.\n",
    "\n",
    "Below we show how this may happend for integers.\n",
    "\n",
    "In general integers can store only up to $2^b - 1$ different values, where $b$ is the number of bits. Moreover, in general integers are signed (can represent both positive and negative numbers) so the number of unique absolute values is $2^{b-1} - 1$."
   ]
  },
  {
   "cell_type": "code",
   "execution_count": 15,
   "metadata": {},
   "outputs": [
    {
     "name": "stdout",
     "output_type": "stream",
     "text": [
      "127\n",
      "-128\n"
     ]
    }
   ],
   "source": [
    "# The case of signed 8 bit integer\n",
    "# It can take values from -128 to 127 (256 unique value in total) \n",
    "print(np.int8(127))\n",
    "print(np.int8(-128))"
   ]
  },
  {
   "cell_type": "markdown",
   "metadata": {},
   "source": [
    "But what happens if we try to represent too large a number? This leads to integer under or overflow."
   ]
  },
  {
   "cell_type": "code",
   "execution_count": 16,
   "metadata": {},
   "outputs": [
    {
     "name": "stdout",
     "output_type": "stream",
     "text": [
      "-126\n",
      "126\n"
     ]
    }
   ],
   "source": [
    "# Integer overflow\n",
    "# We get third lowest value\n",
    "print(np.int8(130))\n",
    "\n",
    "# Integer underflow\n",
    "# We get the second highest value\n",
    "print(np.int8(-130))"
   ]
  },
  {
   "cell_type": "markdown",
   "metadata": {},
   "source": [
    "#### Axes hierarchy"
   ]
  },
  {
   "cell_type": "markdown",
   "metadata": {},
   "source": [
    "Axes in an array are ordered to form a hierarchy. The ordering is defined in the `.shape` attribute."
   ]
  },
  {
   "cell_type": "code",
   "execution_count": 17,
   "metadata": {},
   "outputs": [
    {
     "data": {
      "text/plain": [
       "(2, 3)"
      ]
     },
     "execution_count": 17,
     "metadata": {},
     "output_type": "execute_result"
    }
   ],
   "source": [
    "X = np.array([ [1,2,3], [4,5,6] ])\n",
    "X.shape"
   ]
  },
  {
   "cell_type": "markdown",
   "metadata": {},
   "source": [
    "The array above has to elements along the first (main) axis and three elements along the second axis.\n",
    "This means that it has a form of a sequence with two elements (main axis), each of which is a sequence of three elements (second axis).\n",
    "This interpretation of course generalizes to more than two dimensions.\n",
    "\n",
    "Numpy prints array in such a way as to stress the shape of elements along the main axis."
   ]
  },
  {
   "cell_type": "code",
   "execution_count": 18,
   "metadata": {},
   "outputs": [
    {
     "name": "stdout",
     "output_type": "stream",
     "text": [
      "(3, 2, 2)\n"
     ]
    },
    {
     "data": {
      "text/plain": [
       "array([[[1, 2],\n",
       "        [3, 4]],\n",
       "\n",
       "       [[5, 6],\n",
       "        [5, 6]],\n",
       "\n",
       "       [[7, 8],\n",
       "        [8, 9]]])"
      ]
     },
     "execution_count": 18,
     "metadata": {},
     "output_type": "execute_result"
    }
   ],
   "source": [
    "X = np.array([\n",
    "    [ [1, 2], [3, 4] ],\n",
    "    [ [5, 6], [5, 6] ],\n",
    "    [ [7, 8], [8, 9] ] \n",
    "]) \n",
    "print(X.shape)\n",
    "X"
   ]
  },
  {
   "cell_type": "markdown",
   "metadata": {},
   "source": [
    "When we iterate over an array with a standard for-loop, we always iterate over the elements of the first (main) axis."
   ]
  },
  {
   "cell_type": "code",
   "execution_count": 19,
   "metadata": {},
   "outputs": [
    {
     "name": "stdout",
     "output_type": "stream",
     "text": [
      "Shape: (2, 2) \n",
      " [[1 2]\n",
      " [3 4]]\n",
      "Shape: (2, 2) \n",
      " [[5 6]\n",
      " [5 6]]\n",
      "Shape: (2, 2) \n",
      " [[7 8]\n",
      " [8 9]]\n"
     ]
    }
   ],
   "source": [
    "for chunk in X:\n",
    "    print(\"Shape:\", chunk.shape, \"\\n\", chunk)"
   ]
  },
  {
   "cell_type": "markdown",
   "metadata": {},
   "source": [
    "### Creating arrays"
   ]
  },
  {
   "cell_type": "markdown",
   "metadata": {},
   "source": [
    "There are other ways to create arrays than only with the literal constructor function `np.array()`. Below we present some other useful array creation functions."
   ]
  },
  {
   "cell_type": "code",
   "execution_count": 23,
   "metadata": {},
   "outputs": [
    {
     "data": {
      "text/plain": [
       "array([[1., 1.],\n",
       "       [1., 1.],\n",
       "       [1., 1.],\n",
       "       [1., 1.],\n",
       "       [1., 1.]])"
      ]
     },
     "execution_count": 23,
     "metadata": {},
     "output_type": "execute_result"
    }
   ],
   "source": [
    "# Create array of ones with shape (5, 2)\n",
    "np.ones((5, 2))"
   ]
  },
  {
   "cell_type": "code",
   "execution_count": 24,
   "metadata": {},
   "outputs": [
    {
     "data": {
      "text/plain": [
       "array([0., 0., 0., 0., 0., 0., 0., 0., 0., 0.])"
      ]
     },
     "execution_count": 24,
     "metadata": {},
     "output_type": "execute_result"
    }
   ],
   "source": [
    "# Create array of zeros with shape (10,)\n",
    "np.zeros((10,))"
   ]
  },
  {
   "cell_type": "code",
   "execution_count": 25,
   "metadata": {},
   "outputs": [
    {
     "data": {
      "text/plain": [
       "array([[1, 0, 0, 0, 0],\n",
       "       [0, 1, 0, 0, 0],\n",
       "       [0, 0, 1, 0, 0],\n",
       "       [0, 0, 0, 1, 0],\n",
       "       [0, 0, 0, 0, 1]])"
      ]
     },
     "execution_count": 25,
     "metadata": {},
     "output_type": "execute_result"
    }
   ],
   "source": [
    "# Create 5-by-5 identity matrix\n",
    "np.eye(5, dtype=int)"
   ]
  },
  {
   "cell_type": "markdown",
   "metadata": {},
   "source": [
    "**NOTE.** An identity matrix is a square matrix with zeros and ones along the diagonal. Its main special mathematical property relates to the fact that it is a matrix equivalent of the number $1$. If we have an $n$-by-$n$ identity matrix $I$ and other $X$ matrix with $n$ rows, we have that:\n",
    "\n",
    "$$IX = X$$"
   ]
  },
  {
   "cell_type": "code",
   "execution_count": 26,
   "metadata": {},
   "outputs": [
    {
     "data": {
      "text/plain": [
       "array([0, 1, 2, 3, 4, 5, 6, 7, 8, 9])"
      ]
     },
     "execution_count": 26,
     "metadata": {},
     "output_type": "execute_result"
    }
   ],
   "source": [
    "# Create a range of integers from 0 to 10 (not including 10)\n",
    "np.arange(10)"
   ]
  },
  {
   "cell_type": "code",
   "execution_count": 27,
   "metadata": {},
   "outputs": [
    {
     "data": {
      "text/plain": [
       "array([-5, -4, -3, -2, -1,  0,  1,  2,  3,  4])"
      ]
     },
     "execution_count": 27,
     "metadata": {},
     "output_type": "execute_result"
    }
   ],
   "source": [
    "# Create a range of integers from -5 to 5 (not including 5)\n",
    "np.arange(-5, 5)"
   ]
  },
  {
   "cell_type": "code",
   "execution_count": 28,
   "metadata": {},
   "outputs": [
    {
     "data": {
      "text/plain": [
       "array([0, 3, 6, 9])"
      ]
     },
     "execution_count": 28,
     "metadata": {},
     "output_type": "execute_result"
    }
   ],
   "source": [
    "# Create a range of integers from 0 to 10 with step size of 3\n",
    "np.arange(0, 10, 3)"
   ]
  },
  {
   "cell_type": "code",
   "execution_count": 29,
   "metadata": {},
   "outputs": [
    {
     "data": {
      "text/plain": [
       "array([0. , 0.1, 0.2, 0.3, 0.4, 0.5, 0.6, 0.7, 0.8, 0.9, 1. ])"
      ]
     },
     "execution_count": 29,
     "metadata": {},
     "output_type": "execute_result"
    }
   ],
   "source": [
    "# Create a range of 11 equally spaced floating point numbers between 0 and 1\n",
    "np.linspace(0, 1, 11)"
   ]
  },
  {
   "cell_type": "markdown",
   "metadata": {},
   "source": [
    "Standard `np.array` function can be used with anything that can be interpreted as an array. So it can be a list, a list of lists (tuples work too), but also an iterator like a `range` object. "
   ]
  },
  {
   "cell_type": "markdown",
   "metadata": {},
   "source": [
    "Any array creation function accepts also the `dtype` arguments which takes any valid Numpy `dtype` as well as standard types such as `int`, `float` and `bool`."
   ]
  },
  {
   "cell_type": "markdown",
   "metadata": {},
   "source": [
    "#### Type conversion"
   ]
  },
  {
   "cell_type": "markdown",
   "metadata": {},
   "source": [
    "Moreover, any array can be at any time converted to any other type (or at least we may try to do so)."
   ]
  },
  {
   "cell_type": "code",
   "execution_count": 30,
   "metadata": {},
   "outputs": [
    {
     "data": {
      "text/plain": [
       "array([0., 1., 2., 3., 4., 5., 6., 7., 8., 9.])"
      ]
     },
     "execution_count": 30,
     "metadata": {},
     "output_type": "execute_result"
    }
   ],
   "source": [
    "X = np.arange(10)\n",
    "X.astype(float)"
   ]
  },
  {
   "cell_type": "markdown",
   "metadata": {},
   "source": [
    "However, there is one special `dtype` called `object`. It is used to represent any type of Python object. This means that this is a type that **do not give us any significant performance gain** as data of this type can not be used by Numpy core."
   ]
  },
  {
   "cell_type": "code",
   "execution_count": 31,
   "metadata": {},
   "outputs": [
    {
     "data": {
      "text/plain": [
       "array([{'a': 1}, 'a string', 10], dtype=object)"
      ]
     },
     "execution_count": 31,
     "metadata": {},
     "output_type": "execute_result"
    }
   ],
   "source": [
    "# Array of Python objects\n",
    "X = np.array([ {'a': 1}, 'a string', 10 ])\n",
    "X"
   ]
  },
  {
   "cell_type": "markdown",
   "metadata": {},
   "source": [
    "Object arrays also often do not support many common operations such as type conversion as they may not be well defined."
   ]
  },
  {
   "cell_type": "code",
   "execution_count": 32,
   "metadata": {},
   "outputs": [
    {
     "ename": "TypeError",
     "evalue": "int() argument must be a string, a bytes-like object or a number, not 'dict'",
     "output_type": "error",
     "traceback": [
      "\u001b[0;31m---------------------------------------------------------------------------\u001b[0m",
      "\u001b[0;31mTypeError\u001b[0m                                 Traceback (most recent call last)",
      "\u001b[0;32m<ipython-input-32-89009bc7cb63>\u001b[0m in \u001b[0;36m<module>\u001b[0;34m\u001b[0m\n\u001b[0;32m----> 1\u001b[0;31m \u001b[0mX\u001b[0m\u001b[0;34m.\u001b[0m\u001b[0mastype\u001b[0m\u001b[0;34m(\u001b[0m\u001b[0mint\u001b[0m\u001b[0;34m)\u001b[0m\u001b[0;34m\u001b[0m\u001b[0;34m\u001b[0m\u001b[0m\n\u001b[0m",
      "\u001b[0;31mTypeError\u001b[0m: int() argument must be a string, a bytes-like object or a number, not 'dict'"
     ]
    }
   ],
   "source": [
    "X.astype(int)"
   ]
  },
  {
   "cell_type": "markdown",
   "metadata": {},
   "source": [
    "#### Reshaping, copies and views"
   ]
  },
  {
   "cell_type": "markdown",
   "metadata": {},
   "source": [
    "One of the main features of Numpy is that it allows us to easily cast our arrays to different shapes."
   ]
  },
  {
   "cell_type": "code",
   "execution_count": 33,
   "metadata": {},
   "outputs": [
    {
     "data": {
      "text/plain": [
       "array([ 0,  1,  2,  3,  4,  5,  6,  7,  8,  9, 10, 11, 12, 13, 14, 15])"
      ]
     },
     "execution_count": 33,
     "metadata": {},
     "output_type": "execute_result"
    }
   ],
   "source": [
    "X = np.arange(16)\n",
    "X"
   ]
  },
  {
   "cell_type": "code",
   "execution_count": 34,
   "metadata": {},
   "outputs": [
    {
     "data": {
      "text/plain": [
       "array([[ 0,  1,  2,  3],\n",
       "       [ 4,  5,  6,  7],\n",
       "       [ 8,  9, 10, 11],\n",
       "       [12, 13, 14, 15]])"
      ]
     },
     "execution_count": 34,
     "metadata": {},
     "output_type": "execute_result"
    }
   ],
   "source": [
    "X.reshape(4, 4)"
   ]
  },
  {
   "cell_type": "markdown",
   "metadata": {},
   "source": [
    "**IMPORTANT.** By default, reshaping in Numpy always fills values in such a way that the last axis is filled first."
   ]
  },
  {
   "cell_type": "code",
   "execution_count": 35,
   "metadata": {},
   "outputs": [
    {
     "data": {
      "text/plain": [
       "array([[[ 0,  1,  2],\n",
       "        [ 3,  4,  5]],\n",
       "\n",
       "       [[ 6,  7,  8],\n",
       "        [ 9, 10, 11]]])"
      ]
     },
     "execution_count": 35,
     "metadata": {},
     "output_type": "execute_result"
    }
   ],
   "source": [
    "X = np.arange(12)\n",
    "X.reshape(2, 2, 3)"
   ]
  },
  {
   "cell_type": "markdown",
   "metadata": {},
   "source": [
    "The crucial thing is that a new, reshaped array does not copy the data. It still points to the same data and it only **view** it differently.\n",
    "\n",
    "This mean that a new reshaped array is a new Python object, but in terms of actual data it still uses the same data.\n",
    "This can be revealed by using the `.base` attribute defined on any Numpy array. It points to the array from which a given array was derived.\n",
    "The base of an original array is ``None``."
   ]
  },
  {
   "cell_type": "code",
   "execution_count": 37,
   "metadata": {},
   "outputs": [
    {
     "name": "stdout",
     "output_type": "stream",
     "text": [
      "False\n",
      "True\n"
     ]
    }
   ],
   "source": [
    "X = np.arange(16)\n",
    "Y = X.reshape(4, 4)\n",
    "\n",
    "print(X is Y)       # they are different objects\n",
    "print(X is Y.base)  # but point to the same data"
   ]
  },
  {
   "cell_type": "code",
   "execution_count": 38,
   "metadata": {},
   "outputs": [
    {
     "name": "stdout",
     "output_type": "stream",
     "text": [
      "None\n",
      "[ 0  1  2  3  4  5  6  7  8  9 10 11 12 13 14 15]\n"
     ]
    }
   ],
   "source": [
    "print(X.base)\n",
    "print(Y.base)"
   ]
  },
  {
   "cell_type": "markdown",
   "metadata": {},
   "source": [
    "It is important to be more or less aware when you create new data and when just new views of the same data.\n",
    "Below we see why it can be very important. When we chage an element of one of the arrays it is changed in all other arrays that view the same data."
   ]
  },
  {
   "cell_type": "code",
   "execution_count": 39,
   "metadata": {},
   "outputs": [
    {
     "name": "stdout",
     "output_type": "stream",
     "text": [
      "[   0    1    2    3    4 -999    6    7    8    9   10   11   12   13\n",
      "   14   15]\n",
      "\n",
      " [[   0    1    2    3]\n",
      " [   4 -999    6    7]\n",
      " [   8    9   10   11]\n",
      " [  12   13   14   15]]\n"
     ]
    }
   ],
   "source": [
    "X = np.arange(16)\n",
    "Y = X.reshape(4, 4)\n",
    "X[5] = -999\n",
    "print(X)\n",
    "print(\"\\n\", Y)"
   ]
  },
  {
   "cell_type": "markdown",
   "metadata": {},
   "source": [
    "However, if we want we can copy any array explicitly."
   ]
  },
  {
   "cell_type": "code",
   "execution_count": 40,
   "metadata": {},
   "outputs": [
    {
     "name": "stdout",
     "output_type": "stream",
     "text": [
      "False\n",
      "None None\n"
     ]
    }
   ],
   "source": [
    "X = np.ones((3, 3))\n",
    "Y = X.copy()\n",
    "\n",
    "print(X is Y)\n",
    "print(X.base, Y.base)"
   ]
  },
  {
   "cell_type": "markdown",
   "metadata": {},
   "source": [
    "There is also a specific type of `.reshape()` which is called transpose. The idea of transpose is very important in linear algebra, where it corresponds to swapping rows with columns in a matrix. In a more general contexts of arrays, it refers to swapping of axes, so the first become the last, the second becomes the second last and so on.\n",
    "\n",
    "To get a transpose of an array we use a special `.T.` attribute defined on every array object."
   ]
  },
  {
   "cell_type": "code",
   "execution_count": 42,
   "metadata": {},
   "outputs": [
    {
     "name": "stdout",
     "output_type": "stream",
     "text": [
      "(5,) (5,)\n",
      "(5, 4) (4, 5)\n",
      "(3, 2, 5, 4) (4, 5, 2, 3)\n"
     ]
    }
   ],
   "source": [
    "X = np.arange(5)\n",
    "# Transpose does nothing for a 1D array\n",
    "print(X.shape, X.T.shape)\n",
    "\n",
    "# 2D transpose\n",
    "X = np.arange(20).reshape(5, 4)\n",
    "print(X.shape, X.T.shape)\n",
    "\n",
    "# 4D transpose\n",
    "X = np.arange(3*2*5*4).reshape(3, 2, 5, 4)\n",
    "print(X.shape, X.T.shape)"
   ]
  },
  {
   "cell_type": "markdown",
   "metadata": {},
   "source": [
    "### Aggregation"
   ]
  },
  {
   "cell_type": "markdown",
   "metadata": {},
   "source": [
    "Numpy also provides us with many built in methods defined on every array object that allows us to aggregate our data in different ways."
   ]
  },
  {
   "cell_type": "code",
   "execution_count": 43,
   "metadata": {},
   "outputs": [
    {
     "data": {
      "text/plain": [
       "45"
      ]
     },
     "execution_count": 43,
     "metadata": {},
     "output_type": "execute_result"
    }
   ],
   "source": [
    "X = np.arange(10)\n",
    "X.sum()"
   ]
  },
  {
   "cell_type": "markdown",
   "metadata": {},
   "source": [
    "Below or some of the most useful aggregating functions.\n",
    "\n",
    "* `sum` (sum of all elements)\n",
    "* `prod` (product of all elements)\n",
    "* `mean` (mean value / average value)\n",
    "* `var` (variance)\n",
    "* `std` (standard deviation)\n",
    "* `min` (minimum)\n",
    "* `max` (maximum)\n",
    "* `all` (boolean and between all values)\n",
    "* `any` (boolean or between all values)"
   ]
  },
  {
   "cell_type": "markdown",
   "metadata": {},
   "source": [
    "The crucial thing, however, is that we can aggregate along specific axes."
   ]
  },
  {
   "cell_type": "code",
   "execution_count": 44,
   "metadata": {},
   "outputs": [
    {
     "data": {
      "text/plain": [
       "array([[ 0,  1,  2,  3],\n",
       "       [ 4,  5,  6,  7],\n",
       "       [ 8,  9, 10, 11],\n",
       "       [12, 13, 14, 15],\n",
       "       [16, 17, 18, 19]])"
      ]
     },
     "execution_count": 44,
     "metadata": {},
     "output_type": "execute_result"
    }
   ],
   "source": [
    "X = np.arange(20).reshape(5, 4)\n",
    "X"
   ]
  },
  {
   "cell_type": "code",
   "execution_count": 45,
   "metadata": {},
   "outputs": [
    {
     "data": {
      "text/plain": [
       "array([40, 45, 50, 55])"
      ]
     },
     "execution_count": 45,
     "metadata": {},
     "output_type": "execute_result"
    }
   ],
   "source": [
    "X.sum(0)   # aggregate along the first axis"
   ]
  },
  {
   "cell_type": "code",
   "execution_count": 46,
   "metadata": {},
   "outputs": [
    {
     "data": {
      "text/plain": [
       "array([ 6, 22, 38, 54, 70])"
      ]
     },
     "execution_count": 46,
     "metadata": {},
     "output_type": "execute_result"
    }
   ],
   "source": [
    "X.sum(1)   # aggregate along the second axis"
   ]
  },
  {
   "cell_type": "code",
   "execution_count": 47,
   "metadata": {},
   "outputs": [
    {
     "data": {
      "text/plain": [
       "array([ 6, 22, 38, 54, 70])"
      ]
     },
     "execution_count": 47,
     "metadata": {},
     "output_type": "execute_result"
    }
   ],
   "source": [
    "X.sum(-1)  # aggrega along the last axis"
   ]
  },
  {
   "cell_type": "markdown",
   "metadata": {},
   "source": [
    "With multidimensional arrays we can also aggregate along multiple axes."
   ]
  },
  {
   "cell_type": "code",
   "execution_count": 48,
   "metadata": {},
   "outputs": [
    {
     "data": {
      "text/plain": [
       "array([[[ 0,  1,  2],\n",
       "        [ 3,  4,  5],\n",
       "        [ 6,  7,  8]],\n",
       "\n",
       "       [[ 9, 10, 11],\n",
       "        [12, 13, 14],\n",
       "        [15, 16, 17]],\n",
       "\n",
       "       [[18, 19, 20],\n",
       "        [21, 22, 23],\n",
       "        [24, 25, 26]],\n",
       "\n",
       "       [[27, 28, 29],\n",
       "        [30, 31, 32],\n",
       "        [33, 34, 35]]])"
      ]
     },
     "execution_count": 48,
     "metadata": {},
     "output_type": "execute_result"
    }
   ],
   "source": [
    "X = np.arange(36).reshape(4, 3, 3)\n",
    "X"
   ]
  },
  {
   "cell_type": "code",
   "execution_count": 51,
   "metadata": {},
   "outputs": [
    {
     "data": {
      "text/plain": [
       "array([ 36, 117, 198, 279])"
      ]
     },
     "execution_count": 51,
     "metadata": {},
     "output_type": "execute_result"
    }
   ],
   "source": [
    "X.sum((1, 2))   # aggregate along the second and the third axes"
   ]
  },
  {
   "cell_type": "markdown",
   "metadata": {},
   "source": [
    "### Exercises, part A: array creation, reshaping and aggregation"
   ]
  },
  {
   "cell_type": "markdown",
   "metadata": {},
   "source": [
    "#### A1.\n",
    "\n",
    "Compute sum of all multiples of 7 which are greater than or equal to 0 and lower than 100.\n",
    "\n",
    "HINT. Use `np.arange` and `sum` aggregation method."
   ]
  },
  {
   "cell_type": "code",
   "execution_count": 7,
   "metadata": {},
   "outputs": [
    {
     "data": {
      "text/plain": [
       "735"
      ]
     },
     "execution_count": 7,
     "metadata": {},
     "output_type": "execute_result"
    }
   ],
   "source": [
    "# Your code\n",
    "np.arange(7, 100, 7).sum()"
   ]
  },
  {
   "cell_type": "markdown",
   "metadata": {},
   "source": [
    "#### A2.\n",
    "\n",
    "You are provided with repeated measurements from a test for 5 subjects. There are 7 measurements for each subject.\n",
    "Compute average values and standard deviations for all subjects.\n",
    "\n",
    "The problem is that the data you are provided is arrange in a one-dimensional list.\n",
    "However, you know that measurements for any given subject are next to each other, so you should use this fact to your advantage."
   ]
  },
  {
   "cell_type": "code",
   "execution_count": 8,
   "metadata": {},
   "outputs": [],
   "source": [
    "X = np.array([\n",
    "    9.13277641, 14.41078704,  9.22040494,  8.58801853,  7.74778277, 11.92951325,  8.35103319,  \n",
    "    5.5999831 ,  9.58651896, 10.87977671,  8.22024318,  9.39598417, 10.74455952,  9.18794327,  \n",
    "    9.43863215,  7.06870742,  9.49590352,  8.91426591, 14.68357244, 11.13252626,  9.91102564, \n",
    "    9.25597556, 12.78596713, 11.49586057, 13.84790885,  9.6170427 ,  8.28066311, 10.76219817,  \n",
    "    9.4020769 , 11.30056981,  6.53012513, 12.36805772, 11.83046264,  8.34725296,  9.26385409\n",
    "])"
   ]
  },
  {
   "cell_type": "code",
   "execution_count": 9,
   "metadata": {},
   "outputs": [
    {
     "data": {
      "text/plain": [
       "array([ 9.91147373,  9.08785842, 10.09209048, 10.86365944,  9.86319989])"
      ]
     },
     "execution_count": 9,
     "metadata": {},
     "output_type": "execute_result"
    },
    {
     "data": {
      "text/plain": [
       "array([2.21257175, 1.65733353, 2.18787438, 1.84474369, 1.93426989])"
      ]
     },
     "execution_count": 9,
     "metadata": {},
     "output_type": "execute_result"
    }
   ],
   "source": [
    "# Your code\n",
    "Y = X.reshape(5, 7)\n",
    "Y.mean(1)\n",
    "Y.std(1)"
   ]
  },
  {
   "cell_type": "markdown",
   "metadata": {},
   "source": [
    "### Standard indexing"
   ]
  },
  {
   "cell_type": "markdown",
   "metadata": {},
   "source": [
    "Arrays can be of course indexed as any other ordered collection that supports numerical indexing with integer indices (such as lists and tuples).\n",
    "However, since they can have multiple axes, they can be indexed with multiple indexers."
   ]
  },
  {
   "cell_type": "code",
   "execution_count": 10,
   "metadata": {},
   "outputs": [
    {
     "name": "stdout",
     "output_type": "stream",
     "text": [
      "2\n",
      "8\n",
      "[2 3 4]\n"
     ]
    }
   ],
   "source": [
    "# 1D arrays works exactly like lists etc.\n",
    "X = np.arange(10)\n",
    "print(X[2])\n",
    "print(X[-2])\n",
    "print(X[2:5])"
   ]
  },
  {
   "cell_type": "code",
   "execution_count": 11,
   "metadata": {},
   "outputs": [
    {
     "data": {
      "text/plain": [
       "array([[ 0,  1,  2,  3],\n",
       "       [ 4,  5,  6,  7],\n",
       "       [ 8,  9, 10, 11]])"
      ]
     },
     "execution_count": 11,
     "metadata": {},
     "output_type": "execute_result"
    }
   ],
   "source": [
    "# 2D arrays can be indexed with one or two indexers\n",
    "X = np.arange(12).reshape(3, 4)\n",
    "X"
   ]
  },
  {
   "cell_type": "code",
   "execution_count": 12,
   "metadata": {},
   "outputs": [
    {
     "data": {
      "text/plain": [
       "array([4, 5, 6, 7])"
      ]
     },
     "execution_count": 12,
     "metadata": {},
     "output_type": "execute_result"
    },
    {
     "data": {
      "text/plain": [
       "array([1, 5, 9])"
      ]
     },
     "execution_count": 12,
     "metadata": {},
     "output_type": "execute_result"
    },
    {
     "data": {
      "text/plain": [
       "5"
      ]
     },
     "execution_count": 12,
     "metadata": {},
     "output_type": "execute_result"
    }
   ],
   "source": [
    "X[1]    # second row (second element of the first axis)\n",
    "X[:, 1] # all elements along the first axis and the second element along the second axis\n",
    "X[1, 1] # second element along the first axis and the second element along the second axis"
   ]
  },
  {
   "cell_type": "code",
   "execution_count": 13,
   "metadata": {},
   "outputs": [
    {
     "data": {
      "text/plain": [
       "array([[[ 0,  1],\n",
       "        [ 2,  3],\n",
       "        [ 4,  5]],\n",
       "\n",
       "       [[ 6,  7],\n",
       "        [ 8,  9],\n",
       "        [10, 11]],\n",
       "\n",
       "       [[12, 13],\n",
       "        [14, 15],\n",
       "        [16, 17]]])"
      ]
     },
     "execution_count": 13,
     "metadata": {},
     "output_type": "execute_result"
    }
   ],
   "source": [
    "# Indexing of course generalized to more dimensions\n",
    "X = np.arange(18).reshape(3, 3, 2)\n",
    "X"
   ]
  },
  {
   "cell_type": "code",
   "execution_count": 14,
   "metadata": {},
   "outputs": [
    {
     "data": {
      "text/plain": [
       "array([[0, 1],\n",
       "       [2, 3],\n",
       "       [4, 5]])"
      ]
     },
     "execution_count": 14,
     "metadata": {},
     "output_type": "execute_result"
    }
   ],
   "source": [
    "X[0]"
   ]
  },
  {
   "cell_type": "code",
   "execution_count": 15,
   "metadata": {},
   "outputs": [
    {
     "data": {
      "text/plain": [
       "array([14, 15])"
      ]
     },
     "execution_count": 15,
     "metadata": {},
     "output_type": "execute_result"
    }
   ],
   "source": [
    "X[2, 1]"
   ]
  },
  {
   "cell_type": "code",
   "execution_count": 16,
   "metadata": {},
   "outputs": [
    {
     "data": {
      "text/plain": [
       "array([[ 1,  3,  5],\n",
       "       [ 7,  9, 11],\n",
       "       [13, 15, 17]])"
      ]
     },
     "execution_count": 16,
     "metadata": {},
     "output_type": "execute_result"
    }
   ],
   "source": [
    "X[:, :, 1]"
   ]
  },
  {
   "cell_type": "markdown",
   "metadata": {},
   "source": [
    "Indexes can be passed also as tuples with integers and `slice` objects."
   ]
  },
  {
   "cell_type": "code",
   "execution_count": 17,
   "metadata": {},
   "outputs": [
    {
     "data": {
      "text/plain": [
       "array([[ 0,  1,  2],\n",
       "       [ 3,  4,  5],\n",
       "       [ 6,  7,  8],\n",
       "       [ 9, 10, 11]])"
      ]
     },
     "execution_count": 17,
     "metadata": {},
     "output_type": "execute_result"
    }
   ],
   "source": [
    "X = np.arange(12).reshape(4, 3)\n",
    "X"
   ]
  },
  {
   "cell_type": "code",
   "execution_count": 18,
   "metadata": {},
   "outputs": [
    {
     "data": {
      "text/plain": [
       "True"
      ]
     },
     "execution_count": 18,
     "metadata": {},
     "output_type": "execute_result"
    }
   ],
   "source": [
    "X[3, 2] == X[(3, 2)]"
   ]
  },
  {
   "cell_type": "code",
   "execution_count": 19,
   "metadata": {},
   "outputs": [
    {
     "data": {
      "text/plain": [
       "array([ True,  True,  True])"
      ]
     },
     "execution_count": 19,
     "metadata": {},
     "output_type": "execute_result"
    }
   ],
   "source": [
    "X[:3, 1] == X[(slice(None, 3), 1)]"
   ]
  },
  {
   "cell_type": "markdown",
   "metadata": {},
   "source": [
    "### Vectorization & broadcasting\n",
    "\n",
    "Vectorization is the crucial idea that allows us to fully appreciate the power of arrays with fixed data types. It makes it possible to drastically limit the number of times we have to pass data between Python and Numpy core.\n",
    "\n",
    "The main idea is to avoid explicit loops at all costs and instead reshape arrays properly and express complex computations as simple arithmetic computations between different arrays."
   ]
  },
  {
   "cell_type": "markdown",
   "metadata": {},
   "source": [
    "#### Array-scalar vectorization\n",
    "\n",
    "The simplest case is the vectorization of array-scalar operations.\n",
    "\n",
    "Below we see two approaches to the same operation of multiplying all numbers in a one-dimensional array by a constant (a scalar)."
   ]
  },
  {
   "cell_type": "code",
   "execution_count": 20,
   "metadata": {},
   "outputs": [
    {
     "data": {
      "text/plain": [
       "array([1, 1, 1, 1, 1, 1, 1, 1, 1, 1])"
      ]
     },
     "execution_count": 20,
     "metadata": {},
     "output_type": "execute_result"
    }
   ],
   "source": [
    "X = np.ones((10,), dtype=int)\n",
    "X"
   ]
  },
  {
   "cell_type": "code",
   "execution_count": 21,
   "metadata": {},
   "outputs": [
    {
     "data": {
      "text/plain": [
       "array([5, 5, 5, 5, 5, 5, 5, 5, 5, 5])"
      ]
     },
     "execution_count": 21,
     "metadata": {},
     "output_type": "execute_result"
    }
   ],
   "source": [
    "# Naive, non-vectorized approach based on a for-loop\n",
    "Y = np.array([ x * 5 for x in X ])\n",
    "Y"
   ]
  },
  {
   "cell_type": "code",
   "execution_count": 22,
   "metadata": {},
   "outputs": [
    {
     "data": {
      "text/plain": [
       "array([5, 5, 5, 5, 5, 5, 5, 5, 5, 5])"
      ]
     },
     "execution_count": 22,
     "metadata": {},
     "output_type": "execute_result"
    }
   ],
   "source": [
    "# Vectorized approach\n",
    "Y = X * 5\n",
    "Y"
   ]
  },
  {
   "cell_type": "markdown",
   "metadata": {},
   "source": [
    "In general all standard arithmetic operators when called with Numpy arrays are vectorized. In the case of array-scalar operations it means that they are carried out **element-wise**."
   ]
  },
  {
   "cell_type": "code",
   "execution_count": 23,
   "metadata": {},
   "outputs": [],
   "source": [
    "X = np.arange(10000)"
   ]
  },
  {
   "cell_type": "markdown",
   "metadata": {},
   "source": [
    "Below we see a comparison of computation time for the two approaches.\n",
    "Clearly, Numpy is many orders of magnitude faster."
   ]
  },
  {
   "cell_type": "code",
   "execution_count": 24,
   "metadata": {},
   "outputs": [
    {
     "name": "stdout",
     "output_type": "stream",
     "text": [
      "1.95 ms ± 133 µs per loop (mean ± std. dev. of 7 runs, 100 loops each)\n"
     ]
    }
   ],
   "source": [
    "%%timeit\n",
    "[ x * 5 for x in X ]"
   ]
  },
  {
   "cell_type": "code",
   "execution_count": 25,
   "metadata": {},
   "outputs": [
    {
     "name": "stdout",
     "output_type": "stream",
     "text": [
      "5.92 µs ± 192 ns per loop (mean ± std. dev. of 7 runs, 100000 loops each)\n"
     ]
    }
   ],
   "source": [
    "%%timeit\n",
    "X * 5"
   ]
  },
  {
   "cell_type": "markdown",
   "metadata": {},
   "source": [
    "Arithmetic operators are element-wise in the same way also for multidimensional arrays."
   ]
  },
  {
   "cell_type": "code",
   "execution_count": 26,
   "metadata": {},
   "outputs": [
    {
     "data": {
      "text/plain": [
       "array([[[10, 10],\n",
       "        [10, 10]],\n",
       "\n",
       "       [[10, 10],\n",
       "        [10, 10]],\n",
       "\n",
       "       [[10, 10],\n",
       "        [10, 10]]])"
      ]
     },
     "execution_count": 26,
     "metadata": {},
     "output_type": "execute_result"
    }
   ],
   "source": [
    "X = np.ones((3, 2, 2), dtype=int)\n",
    "X * 10"
   ]
  },
  {
   "cell_type": "markdown",
   "metadata": {},
   "source": [
    "All standard arithmetic operators are supported:\n",
    "\n",
    "* `+` (addition)\n",
    "* `-` (subtraction)\n",
    "* `*` (multiplication)\n",
    "* `/` (division)\n",
    "* `//` (integer division)\n",
    "* `%` (modulo operator; integer division rest)\n",
    "* `**` (exponentiation; i.e. $x^a$)"
   ]
  },
  {
   "cell_type": "markdown",
   "metadata": {},
   "source": [
    "Moreover, logical and comparison operators are also supported. However, `or` and `and` operators does not work. Instead, their bitwise counterparts has to be used.\n",
    "\n",
    "* `==` (equality test)\n",
    "* `>` / `>=` / `<` / `<=` (comparisons)\n",
    "* `&` (bitwise `and`)\n",
    "* `|` (bitwise `or`)\n",
    "\n",
    "Vectorized logical operators applied to Numpy arrays return boolean arrays of the same size in which ``True`` values indicate elements that passed the test."
   ]
  },
  {
   "cell_type": "code",
   "execution_count": 27,
   "metadata": {},
   "outputs": [],
   "source": [
    "X = np.array([0, 3, 1])"
   ]
  },
  {
   "cell_type": "code",
   "execution_count": 28,
   "metadata": {},
   "outputs": [
    {
     "data": {
      "text/plain": [
       "array([False,  True, False])"
      ]
     },
     "execution_count": 28,
     "metadata": {},
     "output_type": "execute_result"
    }
   ],
   "source": [
    "# Equality test\n",
    "X == 3"
   ]
  },
  {
   "cell_type": "code",
   "execution_count": 29,
   "metadata": {},
   "outputs": [
    {
     "data": {
      "text/plain": [
       "array([False,  True,  True])"
      ]
     },
     "execution_count": 29,
     "metadata": {},
     "output_type": "execute_result"
    }
   ],
   "source": [
    "# Comparison\n",
    "X > 0"
   ]
  },
  {
   "cell_type": "markdown",
   "metadata": {},
   "source": [
    "Bitwise logical operators `|` and `&` can operate on booleans and integers. However, their behavior on integers is quite complex and is beyond the scope of this course.\n",
    "So here we will focus on their behavior for boolean values (or `0` and `1` integers)."
   ]
  },
  {
   "cell_type": "code",
   "execution_count": 30,
   "metadata": {},
   "outputs": [],
   "source": [
    "X = np.array([0, 0, 1])"
   ]
  },
  {
   "cell_type": "code",
   "execution_count": 31,
   "metadata": {},
   "outputs": [
    {
     "data": {
      "text/plain": [
       "array([0, 0, 1])"
      ]
     },
     "execution_count": 31,
     "metadata": {},
     "output_type": "execute_result"
    }
   ],
   "source": [
    "# Bitwise AND\n",
    "X & 1"
   ]
  },
  {
   "cell_type": "code",
   "execution_count": 32,
   "metadata": {},
   "outputs": [
    {
     "data": {
      "text/plain": [
       "array([1, 1, 1])"
      ]
     },
     "execution_count": 32,
     "metadata": {},
     "output_type": "execute_result"
    }
   ],
   "source": [
    "# Bitwise OR\n",
    "X | 1"
   ]
  },
  {
   "cell_type": "markdown",
   "metadata": {},
   "source": [
    "Moreover, Numpy also provides vectorized implementations of all the standard mathematical functions (and many more exotic ones). They are defined as functions in the main Numpy package. Below are few examples:\n",
    "\n",
    "* `np.sqrt` (square root; $\\sqrt{x}$)\n",
    "* `np.exp` (natural exponentiation; $e^{x}$)\n",
    "* `np.log` (natural logartihm; $\\log(x)$)\n",
    "* `np.log2` (logarithm with base $2$; $\\log_2(x)$)\n",
    "* `np.log10` (logarithm with base $10$; $\\log_{10}(x)$)\n",
    "* `np.sin` (sine; $\\sin(x)$)\n",
    "* `np.cos` (cosine; $\\cos(x)$)\n",
    "\n",
    "Numpy also defines several important mathematical constants such as:\n",
    "\n",
    "* `np.pi` (The number $\\pi$)"
   ]
  },
  {
   "cell_type": "code",
   "execution_count": 33,
   "metadata": {},
   "outputs": [
    {
     "name": "stdout",
     "output_type": "stream",
     "text": [
      "[  2.71828183   7.3890561   54.59815003 148.4131591 ]\n",
      "[0.         0.69314718 1.38629436 1.60943791]\n"
     ]
    }
   ],
   "source": [
    "X = np.array([1, 2, 4, 5])\n",
    "print(np.exp(X))\n",
    "print(np.log(X))"
   ]
  },
  {
   "cell_type": "markdown",
   "metadata": {},
   "source": [
    "#### Array-array vectorization\n",
    "\n",
    "The simplest case of array-array operation is when both arrays are of the same shape. Similarly to scalar-vector vectorization it can always be done.\n",
    "When two arrays have the same shape the operations are done elementwise."
   ]
  },
  {
   "cell_type": "code",
   "execution_count": 34,
   "metadata": {},
   "outputs": [
    {
     "name": "stdout",
     "output_type": "stream",
     "text": [
      "[[ 0  1  2]\n",
      " [ 3  4  5]\n",
      " [ 6  7  8]\n",
      " [ 9 10 11]]\n",
      "[[12 13 14]\n",
      " [15 16 17]\n",
      " [18 19 20]\n",
      " [21 22 23]]\n"
     ]
    },
    {
     "data": {
      "text/plain": [
       "array([[12, 14, 16],\n",
       "       [18, 20, 22],\n",
       "       [24, 26, 28],\n",
       "       [30, 32, 34]])"
      ]
     },
     "execution_count": 34,
     "metadata": {},
     "output_type": "execute_result"
    }
   ],
   "source": [
    "X = np.arange(12).reshape(4, 3)\n",
    "#Y = np.ones((4, 3), dtype=int) * 3\n",
    "Y = np.arange(12, 24).reshape(4, 3)\n",
    "print(X)\n",
    "print(Y)\n",
    "\n",
    "X + Y"
   ]
  },
  {
   "cell_type": "markdown",
   "metadata": {},
   "source": [
    "Logical operations work in the same way."
   ]
  },
  {
   "cell_type": "code",
   "execution_count": 35,
   "metadata": {},
   "outputs": [
    {
     "data": {
      "text/plain": [
       "array([False,  True, False])"
      ]
     },
     "execution_count": 35,
     "metadata": {},
     "output_type": "execute_result"
    }
   ],
   "source": [
    "X = np.array([2, 4, 5])\n",
    "Y = np.array([3, 4, 1])\n",
    "\n",
    "X == Y"
   ]
  },
  {
   "cell_type": "code",
   "execution_count": 36,
   "metadata": {},
   "outputs": [
    {
     "data": {
      "text/plain": [
       "array([False, False,  True])"
      ]
     },
     "execution_count": 36,
     "metadata": {},
     "output_type": "execute_result"
    }
   ],
   "source": [
    "X > Y"
   ]
  },
  {
   "cell_type": "code",
   "execution_count": 37,
   "metadata": {},
   "outputs": [
    {
     "data": {
      "text/plain": [
       "array([ True,  True,  True])"
      ]
     },
     "execution_count": 37,
     "metadata": {},
     "output_type": "execute_result"
    }
   ],
   "source": [
    "((X == Y) | (X > Y)) == (X >= Y)"
   ]
  },
  {
   "cell_type": "markdown",
   "metadata": {},
   "source": [
    "The second simplest case of array-array vectorization is when one array has less axes, but it shape is the same as the shape of the $n$ axes of lowest order in the larger array.\n",
    "\n",
    "For instance, assume that array `A` has shape `(5, 2, 3)`.\n",
    "\n",
    "* Assume that `B` has shape `(3,)`. Then, operations between them can be vectorized as `3` in the shape of `B` matches with the last `3` in the shape of `A`.\n",
    "* Assume that `B` has shape `(2, 3)`. Then, operations between them can be vectorized as `(2, 3)` in the shape of `B` matches with the last `2, 3` in the shape of `A`.\n",
    "* Assume that `B` has shape `(2,)`. Then, operations between them **cannot** be vectorized as `2` in the shape of `B` does not match with the last `3` in the shape of `A`.\n",
    "\n",
    "This rules are called the **broadcasting rules**. Broadcasting is very powerful, but it also takes quite a lot of time to really understand it."
   ]
  },
  {
   "cell_type": "code",
   "execution_count": 38,
   "metadata": {},
   "outputs": [
    {
     "name": "stdout",
     "output_type": "stream",
     "text": [
      "(4, 2)\n"
     ]
    },
    {
     "data": {
      "text/plain": [
       "array([[0, 1],\n",
       "       [2, 3],\n",
       "       [4, 5],\n",
       "       [6, 7]])"
      ]
     },
     "execution_count": 38,
     "metadata": {},
     "output_type": "execute_result"
    }
   ],
   "source": [
    "X = np.arange(8).reshape(4, 2)\n",
    "print(X.shape)\n",
    "X"
   ]
  },
  {
   "cell_type": "code",
   "execution_count": 39,
   "metadata": {},
   "outputs": [
    {
     "name": "stdout",
     "output_type": "stream",
     "text": [
      "(2,)\n"
     ]
    },
    {
     "data": {
      "text/plain": [
       "array([3., 4.])"
      ]
     },
     "execution_count": 39,
     "metadata": {},
     "output_type": "execute_result"
    }
   ],
   "source": [
    "# Here we will remove mean values from columns\n",
    "X_mean = X.mean(0)\n",
    "print(X_mean.shape)\n",
    "X_mean"
   ]
  },
  {
   "cell_type": "code",
   "execution_count": 40,
   "metadata": {},
   "outputs": [
    {
     "data": {
      "text/plain": [
       "array([[-3., -3.],\n",
       "       [-1., -1.],\n",
       "       [ 1.,  1.],\n",
       "       [ 3.,  3.]])"
      ]
     },
     "execution_count": 40,
     "metadata": {},
     "output_type": "execute_result"
    }
   ],
   "source": [
    "# Note that shape of `X_mean` matches with the last axis of `X`\n",
    "# Hence, we can vectorize\n",
    "X - X_mean"
   ]
  },
  {
   "cell_type": "code",
   "execution_count": 41,
   "metadata": {},
   "outputs": [
    {
     "data": {
      "text/plain": [
       "array([-3., -3.])"
      ]
     },
     "execution_count": 41,
     "metadata": {},
     "output_type": "execute_result"
    },
    {
     "data": {
      "text/plain": [
       "array([-1., -1.])"
      ]
     },
     "execution_count": 41,
     "metadata": {},
     "output_type": "execute_result"
    },
    {
     "data": {
      "text/plain": [
       "array([1., 1.])"
      ]
     },
     "execution_count": 41,
     "metadata": {},
     "output_type": "execute_result"
    },
    {
     "data": {
      "text/plain": [
       "array([3., 3.])"
      ]
     },
     "execution_count": 41,
     "metadata": {},
     "output_type": "execute_result"
    }
   ],
   "source": [
    "for chunk in X:\n",
    "    chunk - X_mean"
   ]
  },
  {
   "cell_type": "markdown",
   "metadata": {},
   "source": [
    "Can we use the same trick to subtract row means? Let us check."
   ]
  },
  {
   "cell_type": "code",
   "execution_count": 42,
   "metadata": {},
   "outputs": [
    {
     "name": "stdout",
     "output_type": "stream",
     "text": [
      "(4,)\n"
     ]
    },
    {
     "data": {
      "text/plain": [
       "array([0.5, 2.5, 4.5, 6.5])"
      ]
     },
     "execution_count": 42,
     "metadata": {},
     "output_type": "execute_result"
    }
   ],
   "source": [
    "# We compute row means\n",
    "X_mean = X.mean(1)\n",
    "print(X_mean.shape)\n",
    "X_mean"
   ]
  },
  {
   "cell_type": "code",
   "execution_count": 43,
   "metadata": {},
   "outputs": [
    {
     "ename": "ValueError",
     "evalue": "operands could not be broadcast together with shapes (4,2) (4,) ",
     "output_type": "error",
     "traceback": [
      "\u001b[0;31m---------------------------------------------------------------------------\u001b[0m",
      "\u001b[0;31mValueError\u001b[0m                                Traceback (most recent call last)",
      "\u001b[0;32m<ipython-input-43-b03f9edf682a>\u001b[0m in \u001b[0;36m<module>\u001b[0;34m\u001b[0m\n\u001b[1;32m      1\u001b[0m \u001b[0;31m# Note that the shape of `X_mean` does not match with the last axis of `X` this time.\u001b[0m\u001b[0;34m\u001b[0m\u001b[0;34m\u001b[0m\u001b[0;34m\u001b[0m\u001b[0m\n\u001b[1;32m      2\u001b[0m \u001b[0;31m# So we are bound to fail.\u001b[0m\u001b[0;34m\u001b[0m\u001b[0;34m\u001b[0m\u001b[0;34m\u001b[0m\u001b[0m\n\u001b[0;32m----> 3\u001b[0;31m \u001b[0mX\u001b[0m \u001b[0;34m-\u001b[0m \u001b[0mX_mean\u001b[0m\u001b[0;34m\u001b[0m\u001b[0;34m\u001b[0m\u001b[0m\n\u001b[0m",
      "\u001b[0;31mValueError\u001b[0m: operands could not be broadcast together with shapes (4,2) (4,) "
     ]
    }
   ],
   "source": [
    "# Note that the shape of `X_mean` does not match with the last axis of `X` this time.\n",
    "# So we are bound to fail.\n",
    "X - X_mean"
   ]
  },
  {
   "cell_type": "markdown",
   "metadata": {},
   "source": [
    "But do not worry. It can be done, but it will require us to work around the standard broadcasting rules and reshape our arrays, so they can work together.\n",
    "\n",
    "In order to do so, we will use one of the simplest but also most powerful tricks in Numpy. We will start to add dummy axes.\n",
    "\n",
    "What is a dummy axis? It is just an axis with only one element along it. As such, it can be also added to any array, as it does not increase its `size` (the number of elements)."
   ]
  },
  {
   "cell_type": "code",
   "execution_count": 44,
   "metadata": {},
   "outputs": [
    {
     "data": {
      "text/plain": [
       "array([0, 1, 2, 3, 4, 5, 6, 7, 8, 9])"
      ]
     },
     "execution_count": 44,
     "metadata": {},
     "output_type": "execute_result"
    }
   ],
   "source": [
    "# Below we reshape an array by adding dummy axes\n",
    "X = np.arange(10)\n",
    "X"
   ]
  },
  {
   "cell_type": "code",
   "execution_count": 45,
   "metadata": {},
   "outputs": [
    {
     "data": {
      "text/plain": [
       "array([[0],\n",
       "       [1],\n",
       "       [2],\n",
       "       [3],\n",
       "       [4],\n",
       "       [5],\n",
       "       [6],\n",
       "       [7],\n",
       "       [8],\n",
       "       [9]])"
      ]
     },
     "execution_count": 45,
     "metadata": {},
     "output_type": "execute_result"
    }
   ],
   "source": [
    "# We can add one dummy axis\n",
    "X.reshape(10, 1)"
   ]
  },
  {
   "cell_type": "code",
   "execution_count": 46,
   "metadata": {},
   "outputs": [
    {
     "data": {
      "text/plain": [
       "array([[[0, 1, 2, 3, 4, 5, 6, 7, 8, 9]]])"
      ]
     },
     "execution_count": 46,
     "metadata": {},
     "output_type": "execute_result"
    }
   ],
   "source": [
    "# Or as many as we want and wherever we want\n",
    "X.reshape(1, 1, 10)"
   ]
  },
  {
   "cell_type": "code",
   "execution_count": 47,
   "metadata": {},
   "outputs": [
    {
     "data": {
      "text/plain": [
       "True"
      ]
     },
     "execution_count": 47,
     "metadata": {},
     "output_type": "execute_result"
    }
   ],
   "source": [
    "# Note that this of course does not change the size of an array\n",
    "# (also because otherwise the reshape method would throw an error)\n",
    "X.size == X.reshape(10, 1).size == X.reshape(1, 1, 10).size"
   ]
  },
  {
   "cell_type": "markdown",
   "metadata": {},
   "source": [
    "However, reshaping this way is not really convenient as we have to specify the number of elements. Luckily, we have a better syntax for adding dummy axes."
   ]
  },
  {
   "cell_type": "code",
   "execution_count": 48,
   "metadata": {},
   "outputs": [
    {
     "name": "stdout",
     "output_type": "stream",
     "text": [
      "(10,)\n"
     ]
    },
    {
     "data": {
      "text/plain": [
       "array([0, 1, 2, 3, 4, 5, 6, 7, 8, 9])"
      ]
     },
     "execution_count": 48,
     "metadata": {},
     "output_type": "execute_result"
    }
   ],
   "source": [
    "print(X.shape)\n",
    "X"
   ]
  },
  {
   "cell_type": "code",
   "execution_count": 49,
   "metadata": {},
   "outputs": [
    {
     "name": "stdout",
     "output_type": "stream",
     "text": [
      "(10, 1)\n"
     ]
    },
    {
     "data": {
      "text/plain": [
       "array([[0],\n",
       "       [1],\n",
       "       [2],\n",
       "       [3],\n",
       "       [4],\n",
       "       [5],\n",
       "       [6],\n",
       "       [7],\n",
       "       [8],\n",
       "       [9]])"
      ]
     },
     "execution_count": 49,
     "metadata": {},
     "output_type": "execute_result"
    }
   ],
   "source": [
    "print(X[:, None].shape)\n",
    "X[:, None]"
   ]
  },
  {
   "cell_type": "code",
   "execution_count": 50,
   "metadata": {},
   "outputs": [
    {
     "data": {
      "text/plain": [
       "array([[1, 1, 1],\n",
       "       [1, 1, 1],\n",
       "       [1, 1, 1],\n",
       "       [1, 1, 1],\n",
       "       [1, 1, 1]])"
      ]
     },
     "execution_count": 50,
     "metadata": {},
     "output_type": "execute_result"
    }
   ],
   "source": [
    "X = np.ones((5, 3), dtype=int)\n",
    "Y = X[None, :, None, :]\n",
    "Y.base"
   ]
  },
  {
   "cell_type": "code",
   "execution_count": 51,
   "metadata": {},
   "outputs": [
    {
     "data": {
      "text/plain": [
       "(1, 5, 1, 3)"
      ]
     },
     "execution_count": 51,
     "metadata": {},
     "output_type": "execute_result"
    }
   ],
   "source": [
    "X[None, :, None, :].shape"
   ]
  },
  {
   "cell_type": "markdown",
   "metadata": {},
   "source": [
    "Now, we can go back to the problem of removing row means, because we can add dummy axes to reshape our arrays so they can work together. This will also allow us to better understand the rules of broadcasting."
   ]
  },
  {
   "cell_type": "code",
   "execution_count": 52,
   "metadata": {},
   "outputs": [
    {
     "name": "stdout",
     "output_type": "stream",
     "text": [
      "(4, 2)\n"
     ]
    },
    {
     "data": {
      "text/plain": [
       "array([[0, 1],\n",
       "       [2, 3],\n",
       "       [4, 5],\n",
       "       [6, 7]])"
      ]
     },
     "execution_count": 52,
     "metadata": {},
     "output_type": "execute_result"
    }
   ],
   "source": [
    "X = np.arange(8).reshape(4, 2)\n",
    "print(X.shape)\n",
    "X"
   ]
  },
  {
   "cell_type": "code",
   "execution_count": 53,
   "metadata": {},
   "outputs": [
    {
     "name": "stdout",
     "output_type": "stream",
     "text": [
      "(4,)\n"
     ]
    },
    {
     "data": {
      "text/plain": [
       "array([0.5, 2.5, 4.5, 6.5])"
      ]
     },
     "execution_count": 53,
     "metadata": {},
     "output_type": "execute_result"
    }
   ],
   "source": [
    "# Compute row means\n",
    "X_mean = X.mean(1)\n",
    "print(X_mean.shape)\n",
    "X_mean"
   ]
  },
  {
   "cell_type": "markdown",
   "metadata": {},
   "source": [
    "We know that this shape will not do. However, we can add dummy axis to reshape the `X_mean` so it has `(4, 1)` shape."
   ]
  },
  {
   "cell_type": "code",
   "execution_count": 54,
   "metadata": {},
   "outputs": [
    {
     "name": "stdout",
     "output_type": "stream",
     "text": [
      "(4, 1)\n"
     ]
    },
    {
     "data": {
      "text/plain": [
       "array([[0.5],\n",
       "       [2.5],\n",
       "       [4.5],\n",
       "       [6.5]])"
      ]
     },
     "execution_count": 54,
     "metadata": {},
     "output_type": "execute_result"
    }
   ],
   "source": [
    "# Add dummy axis to X_mean\n",
    "X_mean_r = X_mean[:, None]\n",
    "print(X_mean_r.shape)\n",
    "X_mean_r"
   ]
  },
  {
   "cell_type": "code",
   "execution_count": 55,
   "metadata": {},
   "outputs": [
    {
     "name": "stdout",
     "output_type": "stream",
     "text": [
      "[[0 1]\n",
      " [2 3]\n",
      " [4 5]\n",
      " [6 7]]\n"
     ]
    },
    {
     "data": {
      "text/plain": [
       "array([[-0.5,  0.5],\n",
       "       [-0.5,  0.5],\n",
       "       [-0.5,  0.5],\n",
       "       [-0.5,  0.5]])"
      ]
     },
     "execution_count": 55,
     "metadata": {},
     "output_type": "execute_result"
    }
   ],
   "source": [
    "# Now we can carry out the subtraction\n",
    "print(X)\n",
    "X - X_mean_r"
   ]
  },
  {
   "cell_type": "code",
   "execution_count": 56,
   "metadata": {},
   "outputs": [
    {
     "data": {
      "text/plain": [
       "array([-0.5,  0.5])"
      ]
     },
     "execution_count": 56,
     "metadata": {},
     "output_type": "execute_result"
    },
    {
     "data": {
      "text/plain": [
       "array([-0.5,  0.5])"
      ]
     },
     "execution_count": 56,
     "metadata": {},
     "output_type": "execute_result"
    },
    {
     "data": {
      "text/plain": [
       "array([-0.5,  0.5])"
      ]
     },
     "execution_count": 56,
     "metadata": {},
     "output_type": "execute_result"
    },
    {
     "data": {
      "text/plain": [
       "array([-0.5,  0.5])"
      ]
     },
     "execution_count": 56,
     "metadata": {},
     "output_type": "execute_result"
    }
   ],
   "source": [
    "for chunk, colsum in zip(X, X_mean):\n",
    "    chunk - colsum"
   ]
  },
  {
   "cell_type": "markdown",
   "metadata": {},
   "source": [
    "Why did it work? It worked because we can vectorize when:\n",
    "\n",
    "* The lowest axes of a larger array have the same numbers of elements as a smaller array or the smaller array has only 1 element along some of its axes.\n",
    "\n",
    "For instance:\n",
    "\n",
    "* (4, 2) can be vectorized with (2,)\n",
    "* (4, 2) can be vectorized with (4, 1)\n",
    "* (4, 3, 2) can be vectorized with (2,)\n",
    "* (4, 3, 2) can be vectorized with (3, 2)\n",
    "* (4, 3, 2) can be vectorized with (3, 1)\n",
    "* (4, 3, 2) can be vectorized with (4, 3, 1)\n",
    "* (4, 3, 2) can be vectorized with (4, 1, 2)\n",
    "* (4, 3, 2) can be vectorized with (4, 1, 1)\n",
    "* (4, 3, 2) can be vectorized with (1, 1, 1)\n",
    "\n",
    "This fully defines the rules of broadcasting."
   ]
  },
  {
   "cell_type": "code",
   "execution_count": 57,
   "metadata": {},
   "outputs": [
    {
     "data": {
      "text/plain": [
       "array([[0, 1],\n",
       "       [2, 3],\n",
       "       [4, 5],\n",
       "       [6, 7]])"
      ]
     },
     "execution_count": 57,
     "metadata": {},
     "output_type": "execute_result"
    }
   ],
   "source": [
    "# Array with shape (4, 2)\n",
    "X = np.arange(8).reshape(4, 2)\n",
    "X"
   ]
  },
  {
   "cell_type": "code",
   "execution_count": 58,
   "metadata": {},
   "outputs": [
    {
     "name": "stdout",
     "output_type": "stream",
     "text": [
      "(2,)\n"
     ]
    },
    {
     "data": {
      "text/plain": [
       "array([[-1, -1],\n",
       "       [ 1,  1],\n",
       "       [ 3,  3],\n",
       "       [ 5,  5]])"
      ]
     },
     "execution_count": 58,
     "metadata": {},
     "output_type": "execute_result"
    }
   ],
   "source": [
    "# (4, 2) and (2,)\n",
    "Y = np.array([1, 2])\n",
    "print(Y.shape)\n",
    "X - Y"
   ]
  },
  {
   "cell_type": "code",
   "execution_count": 59,
   "metadata": {},
   "outputs": [
    {
     "name": "stdout",
     "output_type": "stream",
     "text": [
      "(4, 1)\n"
     ]
    },
    {
     "data": {
      "text/plain": [
       "array([[-1,  0],\n",
       "       [-3, -2],\n",
       "       [-5, -4],\n",
       "       [-7, -6]])"
      ]
     },
     "execution_count": 59,
     "metadata": {},
     "output_type": "execute_result"
    }
   ],
   "source": [
    "# (4, 2) and (4, 1)\n",
    "Y = X.sum(1)[:, None]\n",
    "print(Y.shape)\n",
    "X - Y"
   ]
  },
  {
   "cell_type": "code",
   "execution_count": 60,
   "metadata": {},
   "outputs": [
    {
     "data": {
      "text/plain": [
       "array([[[ 0,  1],\n",
       "        [ 2,  3],\n",
       "        [ 4,  5]],\n",
       "\n",
       "       [[ 6,  7],\n",
       "        [ 8,  9],\n",
       "        [10, 11]],\n",
       "\n",
       "       [[12, 13],\n",
       "        [14, 15],\n",
       "        [16, 17]],\n",
       "\n",
       "       [[18, 19],\n",
       "        [20, 21],\n",
       "        [22, 23]]])"
      ]
     },
     "execution_count": 60,
     "metadata": {},
     "output_type": "execute_result"
    }
   ],
   "source": [
    "# Array with shape (4, 3, 2)\n",
    "X = np.arange(24).reshape(4, 3, 2)\n",
    "X"
   ]
  },
  {
   "cell_type": "code",
   "execution_count": 61,
   "metadata": {},
   "outputs": [
    {
     "name": "stdout",
     "output_type": "stream",
     "text": [
      "(3, 2)\n"
     ]
    },
    {
     "data": {
      "text/plain": [
       "array([[[-36, -39],\n",
       "        [-42, -45],\n",
       "        [-48, -51]],\n",
       "\n",
       "       [[-30, -33],\n",
       "        [-36, -39],\n",
       "        [-42, -45]],\n",
       "\n",
       "       [[-24, -27],\n",
       "        [-30, -33],\n",
       "        [-36, -39]],\n",
       "\n",
       "       [[-18, -21],\n",
       "        [-24, -27],\n",
       "        [-30, -33]]])"
      ]
     },
     "execution_count": 61,
     "metadata": {},
     "output_type": "execute_result"
    }
   ],
   "source": [
    "# (4, 3, 2) and (3, 2)\n",
    "Y = X.sum(0)\n",
    "print(Y.shape)\n",
    "X - Y"
   ]
  },
  {
   "cell_type": "code",
   "execution_count": 62,
   "metadata": {},
   "outputs": [
    {
     "name": "stdout",
     "output_type": "stream",
     "text": [
      "(3, 1)\n",
      "[[ 76]\n",
      " [ 92]\n",
      " [108]]\n"
     ]
    },
    {
     "data": {
      "text/plain": [
       "array([[[ -76,  -75],\n",
       "        [ -90,  -89],\n",
       "        [-104, -103]],\n",
       "\n",
       "       [[ -70,  -69],\n",
       "        [ -84,  -83],\n",
       "        [ -98,  -97]],\n",
       "\n",
       "       [[ -64,  -63],\n",
       "        [ -78,  -77],\n",
       "        [ -92,  -91]],\n",
       "\n",
       "       [[ -58,  -57],\n",
       "        [ -72,  -71],\n",
       "        [ -86,  -85]]])"
      ]
     },
     "execution_count": 62,
     "metadata": {},
     "output_type": "execute_result"
    }
   ],
   "source": [
    "# (4, 3, 2) and (3, 1)\n",
    "Y = X.sum((0, 2))[:, None]\n",
    "print(Y.shape)\n",
    "print(Y)\n",
    "X - Y"
   ]
  },
  {
   "cell_type": "code",
   "execution_count": 63,
   "metadata": {},
   "outputs": [
    {
     "name": "stdout",
     "output_type": "stream",
     "text": [
      "(4, 3, 1)\n"
     ]
    },
    {
     "data": {
      "text/plain": [
       "array([[[ -1,   0],\n",
       "        [ -3,  -2],\n",
       "        [ -5,  -4]],\n",
       "\n",
       "       [[ -7,  -6],\n",
       "        [ -9,  -8],\n",
       "        [-11, -10]],\n",
       "\n",
       "       [[-13, -12],\n",
       "        [-15, -14],\n",
       "        [-17, -16]],\n",
       "\n",
       "       [[-19, -18],\n",
       "        [-21, -20],\n",
       "        [-23, -22]]])"
      ]
     },
     "execution_count": 63,
     "metadata": {},
     "output_type": "execute_result"
    }
   ],
   "source": [
    "# (4, 3, 2) and (4, 3, 1)\n",
    "Y = X.sum(-1)[:, :, None]\n",
    "print(Y.shape)\n",
    "X - Y"
   ]
  },
  {
   "cell_type": "code",
   "execution_count": 64,
   "metadata": {},
   "outputs": [
    {
     "name": "stdout",
     "output_type": "stream",
     "text": [
      "(4, 1, 2)\n"
     ]
    },
    {
     "data": {
      "text/plain": [
       "array([[[ -6,  -8],\n",
       "        [ -4,  -6],\n",
       "        [ -2,  -4]],\n",
       "\n",
       "       [[-18, -20],\n",
       "        [-16, -18],\n",
       "        [-14, -16]],\n",
       "\n",
       "       [[-30, -32],\n",
       "        [-28, -30],\n",
       "        [-26, -28]],\n",
       "\n",
       "       [[-42, -44],\n",
       "        [-40, -42],\n",
       "        [-38, -40]]])"
      ]
     },
     "execution_count": 64,
     "metadata": {},
     "output_type": "execute_result"
    }
   ],
   "source": [
    "# (4, 3, 2) and (4, 1, 2)\n",
    "Y = X.sum(1)[:, None, :]\n",
    "print(Y.shape)\n",
    "X - Y"
   ]
  },
  {
   "cell_type": "code",
   "execution_count": 65,
   "metadata": {},
   "outputs": [
    {
     "name": "stdout",
     "output_type": "stream",
     "text": [
      "(4, 1, 1)\n"
     ]
    },
    {
     "data": {
      "text/plain": [
       "array([[[ -15,  -14],\n",
       "        [ -13,  -12],\n",
       "        [ -11,  -10]],\n",
       "\n",
       "       [[ -45,  -44],\n",
       "        [ -43,  -42],\n",
       "        [ -41,  -40]],\n",
       "\n",
       "       [[ -75,  -74],\n",
       "        [ -73,  -72],\n",
       "        [ -71,  -70]],\n",
       "\n",
       "       [[-105, -104],\n",
       "        [-103, -102],\n",
       "        [-101, -100]]])"
      ]
     },
     "execution_count": 65,
     "metadata": {},
     "output_type": "execute_result"
    }
   ],
   "source": [
    "# (4, 3, 2) and (4, 1, 1)\n",
    "Y = X.sum((1, 2))[:, None, None]\n",
    "print(Y.shape)\n",
    "X - Y"
   ]
  },
  {
   "cell_type": "markdown",
   "metadata": {},
   "source": [
    "### Exercises, part B: vectorization & broadcasting"
   ]
  },
  {
   "cell_type": "markdown",
   "metadata": {},
   "source": [
    "#### B1.\n",
    "\n",
    "You are provided with three different IQ indicators ($M = 100$; $SD = 15$) for 10 subjects and you need to standardize them so they have mean 0 and standard deviation 1.\n",
    "\n",
    "HINT. Remember about aggregation methods `.mean()` and `.std()`.\n",
    "\n",
    "\n",
    "$X$ is some random variable, and $\\bar{X}$ is sample mean of $X$.\n",
    "Now define $X_c$, a centered version of $X$, $X_c = X - \\bar{X}$.\n",
    "\n",
    "$Z = X_c / s_X$."
   ]
  },
  {
   "cell_type": "code",
   "execution_count": 66,
   "metadata": {},
   "outputs": [
    {
     "data": {
      "text/plain": [
       "array([[140.60274759, 109.42199063, 113.6195417 ],\n",
       "       [107.55738631, 109.76676922,  95.21022933],\n",
       "       [ 87.27884525, 109.08948024,  69.72747634],\n",
       "       [111.10183086, 107.93220241,  91.164992  ],\n",
       "       [102.83042964,  88.61691916,  86.00144176],\n",
       "       [114.32584764, 102.86191484, 129.68135986],\n",
       "       [139.0895092 , 110.25263328, 104.53998173],\n",
       "       [125.40584388,  74.40871104,  82.61320877],\n",
       "       [ 97.97738919, 105.85791764, 102.50356954],\n",
       "       [102.76752789, 112.11558871, 101.09439513]])"
      ]
     },
     "execution_count": 66,
     "metadata": {},
     "output_type": "execute_result"
    },
    {
     "data": {
      "text/plain": [
       "(10, 3)"
      ]
     },
     "execution_count": 66,
     "metadata": {},
     "output_type": "execute_result"
    },
    {
     "data": {
      "text/plain": [
       "(3,)"
      ]
     },
     "execution_count": 66,
     "metadata": {},
     "output_type": "execute_result"
    }
   ],
   "source": [
    "np.random.seed(101)\n",
    "X = np.random.normal(100, 15, (10, 3))"
   ]
  },
  {
   "cell_type": "code",
   "execution_count": 69,
   "metadata": {},
   "outputs": [
    {
     "data": {
      "text/plain": [
       "array([-5.55111512e-17, -4.10782519e-16, -1.52655666e-16])"
      ]
     },
     "execution_count": 69,
     "metadata": {},
     "output_type": "execute_result"
    },
    {
     "data": {
      "text/plain": [
       "array([1., 1., 1.])"
      ]
     },
     "execution_count": 69,
     "metadata": {},
     "output_type": "execute_result"
    }
   ],
   "source": [
    "# Your code\n",
    "Z = (X - X.mean(0)) / X.std(0)\n",
    "\n",
    "# Check results\n",
    "Z.mean(0)\n",
    "Z.std(0)"
   ]
  },
  {
   "cell_type": "markdown",
   "metadata": {},
   "source": [
    "#### B2.\n",
    "\n",
    "You are provided with 5 repeated measurements for 10 subjects. Standardize within-subject measurements so the lowest score for each subject is $0$ and the highest score for each subject is $1$ (this is called min-max scaling)."
   ]
  },
  {
   "cell_type": "code",
   "execution_count": 70,
   "metadata": {},
   "outputs": [],
   "source": [
    "np.random.seed(102)\n",
    "X = np.random.normal(10, 2, (10, 5))"
   ]
  },
  {
   "cell_type": "code",
   "execution_count": 71,
   "metadata": {},
   "outputs": [
    {
     "data": {
      "text/plain": [
       "array([[1.        , 0.71325746, 0.76430621, 0.        , 0.85770407],\n",
       "       [1.        , 0.67267362, 0.51961998, 0.82050214, 0.        ],\n",
       "       [1.        , 0.52106431, 0.29981168, 0.        , 0.26425368],\n",
       "       [1.        , 0.        , 0.67100469, 0.45298642, 0.64009693],\n",
       "       [1.        , 0.61209228, 0.        , 0.05829331, 0.74410704],\n",
       "       [0.82484247, 0.        , 0.90160817, 1.        , 0.78350719],\n",
       "       [0.07175082, 0.22281792, 0.39323828, 1.        , 0.        ],\n",
       "       [0.50232717, 0.        , 1.        , 0.68584151, 0.35534415],\n",
       "       [0.87802735, 0.        , 0.75951478, 0.31977867, 1.        ],\n",
       "       [0.78779121, 0.92783191, 0.4221443 , 0.        , 1.        ]])"
      ]
     },
     "execution_count": 71,
     "metadata": {},
     "output_type": "execute_result"
    }
   ],
   "source": [
    "# Your code\n",
    "X_min = X - X.min(1)[:, None]\n",
    "X_min / X_min.max(1)[:, None]"
   ]
  },
  {
   "cell_type": "markdown",
   "metadata": {},
   "source": [
    "### Fancy indexing\n",
    "\n",
    "Numpy provides also non-standard kinds of indexing which are jointly called _fancy indexing_."
   ]
  },
  {
   "cell_type": "markdown",
   "metadata": {},
   "source": [
    "#### Integer indexing\n",
    "\n",
    "We can index with integer indexes by providing integers specifying positions along given axes.\n",
    "Integer indices may be provided as lists or as numpy arrays, but not as tuples.\n",
    "\n",
    "Tuples can not be used in integer indexing, since tuples are used to pass multiple indexers for standard indexing."
   ]
  },
  {
   "cell_type": "code",
   "execution_count": 72,
   "metadata": {},
   "outputs": [
    {
     "data": {
      "text/plain": [
       "array([12, 17, 10, 17])"
      ]
     },
     "execution_count": 72,
     "metadata": {},
     "output_type": "execute_result"
    }
   ],
   "source": [
    "import numpy as np\n",
    "X = np.arange(10, 20)\n",
    "X[[2, 7, 0, 7]]"
   ]
  },
  {
   "cell_type": "code",
   "execution_count": 73,
   "metadata": {},
   "outputs": [
    {
     "data": {
      "text/plain": [
       "array([11, 15, 10])"
      ]
     },
     "execution_count": 73,
     "metadata": {},
     "output_type": "execute_result"
    }
   ],
   "source": [
    "X[np.array([1, 5, 0])]"
   ]
  },
  {
   "cell_type": "code",
   "execution_count": 74,
   "metadata": {},
   "outputs": [
    {
     "ename": "IndexError",
     "evalue": "too many indices for array",
     "output_type": "error",
     "traceback": [
      "\u001b[0;31m---------------------------------------------------------------------------\u001b[0m",
      "\u001b[0;31mIndexError\u001b[0m                                Traceback (most recent call last)",
      "\u001b[0;32m<ipython-input-74-3b601bc8257f>\u001b[0m in \u001b[0;36m<module>\u001b[0;34m\u001b[0m\n\u001b[0;32m----> 1\u001b[0;31m \u001b[0mX\u001b[0m\u001b[0;34m[\u001b[0m\u001b[0;34m(\u001b[0m\u001b[0;36m1\u001b[0m\u001b[0;34m,\u001b[0m \u001b[0;36m5\u001b[0m\u001b[0;34m,\u001b[0m \u001b[0;36m0\u001b[0m\u001b[0;34m)\u001b[0m\u001b[0;34m]\u001b[0m\u001b[0;34m\u001b[0m\u001b[0;34m\u001b[0m\u001b[0m\n\u001b[0m",
      "\u001b[0;31mIndexError\u001b[0m: too many indices for array"
     ]
    }
   ],
   "source": [
    "X[(1, 5, 0)]"
   ]
  },
  {
   "cell_type": "markdown",
   "metadata": {},
   "source": [
    "In the general (multidimensional) case, integer indexes have to specify _coordinates_ of elements to be extracted."
   ]
  },
  {
   "cell_type": "code",
   "execution_count": 75,
   "metadata": {},
   "outputs": [
    {
     "data": {
      "text/plain": [
       "array([[ 0,  1,  2],\n",
       "       [ 3,  4,  5],\n",
       "       [ 6,  7,  8],\n",
       "       [ 9, 10, 11]])"
      ]
     },
     "execution_count": 75,
     "metadata": {},
     "output_type": "execute_result"
    }
   ],
   "source": [
    "X = np.arange(12).reshape(4, 3)\n",
    "X"
   ]
  },
  {
   "cell_type": "code",
   "execution_count": 76,
   "metadata": {},
   "outputs": [
    {
     "data": {
      "text/plain": [
       "array([0, 7])"
      ]
     },
     "execution_count": 76,
     "metadata": {},
     "output_type": "execute_result"
    }
   ],
   "source": [
    "# Extract elements (0, 0) and (2, 1)\n",
    "X[[0, 2], [0, 1]]"
   ]
  },
  {
   "cell_type": "code",
   "execution_count": 77,
   "metadata": {},
   "outputs": [
    {
     "data": {
      "text/plain": [
       "array([0, 6])"
      ]
     },
     "execution_count": 77,
     "metadata": {},
     "output_type": "execute_result"
    }
   ],
   "source": [
    "# Extract elements (0, 0) and (2, 0)\n",
    "X[[0, 2], 0]"
   ]
  },
  {
   "cell_type": "code",
   "execution_count": 78,
   "metadata": {},
   "outputs": [
    {
     "data": {
      "text/plain": [
       "array([[[ 0,  1],\n",
       "        [ 2,  3]],\n",
       "\n",
       "       [[ 4,  5],\n",
       "        [ 6,  7]],\n",
       "\n",
       "       [[ 8,  9],\n",
       "        [10, 11]]])"
      ]
     },
     "execution_count": 78,
     "metadata": {},
     "output_type": "execute_result"
    }
   ],
   "source": [
    "X = np.arange(12).reshape(3, 2, 2)\n",
    "X"
   ]
  },
  {
   "cell_type": "code",
   "execution_count": 79,
   "metadata": {},
   "outputs": [
    {
     "data": {
      "text/plain": [
       "array([ 1, 11])"
      ]
     },
     "execution_count": 79,
     "metadata": {},
     "output_type": "execute_result"
    },
    {
     "data": {
      "text/plain": [
       "1"
      ]
     },
     "execution_count": 79,
     "metadata": {},
     "output_type": "execute_result"
    },
    {
     "data": {
      "text/plain": [
       "11"
      ]
     },
     "execution_count": 79,
     "metadata": {},
     "output_type": "execute_result"
    }
   ],
   "source": [
    "# Extract elements (0, 0, 1) and (2, 1, 1)\n",
    "X[[0, 2], [0, 1], 1]\n",
    "X[0,0,1]\n",
    "X[2,1,1]"
   ]
  },
  {
   "cell_type": "code",
   "execution_count": 80,
   "metadata": {},
   "outputs": [
    {
     "data": {
      "text/plain": [
       "array([[ 2,  3],\n",
       "       [10, 11]])"
      ]
     },
     "execution_count": 80,
     "metadata": {},
     "output_type": "execute_result"
    }
   ],
   "source": [
    "# Extract elements (0, 2) along the main axis and element 1 along the second axis + all elements along the third axis\n",
    "X[[0, 2], 1]"
   ]
  },
  {
   "cell_type": "markdown",
   "metadata": {},
   "source": [
    "### Boolean indexing\n",
    "\n",
    "The second type of _fancy indexing_ is boolean indexing. The idea is to provide a _boolean mask_ that specify which elements of should be extracted (`True` values) and which should be discarded (`False` values)."
   ]
  },
  {
   "cell_type": "code",
   "execution_count": 81,
   "metadata": {},
   "outputs": [
    {
     "data": {
      "text/plain": [
       "[1, 2, 3]"
      ]
     },
     "execution_count": 81,
     "metadata": {},
     "output_type": "execute_result"
    },
    {
     "data": {
      "text/plain": [
       "[True, False, True]"
      ]
     },
     "execution_count": 81,
     "metadata": {},
     "output_type": "execute_result"
    }
   ],
   "source": [
    "[ 1, 2, 3 ]\n",
    "[ True, False, True ]"
   ]
  },
  {
   "cell_type": "code",
   "execution_count": 82,
   "metadata": {},
   "outputs": [
    {
     "data": {
      "text/plain": [
       "array([[ 0,  1,  2],\n",
       "       [ 3,  4,  5],\n",
       "       [ 6,  7,  8],\n",
       "       [ 9, 10, 11]])"
      ]
     },
     "execution_count": 82,
     "metadata": {},
     "output_type": "execute_result"
    }
   ],
   "source": [
    "X = np.arange(12).reshape(4, 3)\n",
    "X"
   ]
  },
  {
   "cell_type": "code",
   "execution_count": 83,
   "metadata": {},
   "outputs": [
    {
     "data": {
      "text/plain": [
       "array([[0, 1, 2],\n",
       "       [6, 7, 8]])"
      ]
     },
     "execution_count": 83,
     "metadata": {},
     "output_type": "execute_result"
    }
   ],
   "source": [
    "# We can provide a single mask along the main axis\n",
    "X[[True, False, True, False]]"
   ]
  },
  {
   "cell_type": "code",
   "execution_count": 84,
   "metadata": {},
   "outputs": [
    {
     "data": {
      "text/plain": [
       "array([[0],\n",
       "       [3],\n",
       "       [6],\n",
       "       [9]])"
      ]
     },
     "execution_count": 84,
     "metadata": {},
     "output_type": "execute_result"
    }
   ],
   "source": [
    "# We can mix standard indexing and pass boolean mask to a second (or any later) axis\n",
    "X[:, [True, False, False]]"
   ]
  },
  {
   "cell_type": "code",
   "execution_count": 85,
   "metadata": {},
   "outputs": [
    {
     "data": {
      "text/plain": [
       "array([0, 9])"
      ]
     },
     "execution_count": 85,
     "metadata": {},
     "output_type": "execute_result"
    }
   ],
   "source": [
    "# We can use boolean indexing in a similar way as integer indexing\n",
    "# by masking coordinates along particular axes\n",
    "X[[True, False, False, True], [True, False, False]]"
   ]
  },
  {
   "cell_type": "code",
   "execution_count": 86,
   "metadata": {},
   "outputs": [
    {
     "data": {
      "text/plain": [
       "array([[ 0,  1,  2],\n",
       "       [ 3,  4,  5],\n",
       "       [ 6,  7,  8],\n",
       "       [ 9, 10, 11]])"
      ]
     },
     "execution_count": 86,
     "metadata": {},
     "output_type": "execute_result"
    },
    {
     "data": {
      "text/plain": [
       "array([[False, False, False],\n",
       "       [False, False, False],\n",
       "       [False, False,  True],\n",
       "       [ True,  True,  True]])"
      ]
     },
     "execution_count": 86,
     "metadata": {},
     "output_type": "execute_result"
    },
    {
     "data": {
      "text/plain": [
       "array([ 0,  1,  2,  3,  4,  5,  6,  7, 11])"
      ]
     },
     "execution_count": 86,
     "metadata": {},
     "output_type": "execute_result"
    }
   ],
   "source": [
    "# We can also pass a full boolean mask\n",
    "# with the same shape as the original array\n",
    "# in order to extract any elements we want\n",
    "X\n",
    "X > 7\n",
    "X[~((X > 7) & (X < 11))]"
   ]
  },
  {
   "cell_type": "markdown",
   "metadata": {},
   "source": [
    "### Indexing & updating\n",
    "\n",
    "One of the main applications of indexing is to update particular elements of an array.\n",
    "The general syntax for this is based on composition of an indexing operation and an assignment."
   ]
  },
  {
   "cell_type": "code",
   "execution_count": 87,
   "metadata": {},
   "outputs": [
    {
     "data": {
      "text/plain": [
       "array([[ 0,  1],\n",
       "       [ 2,  3],\n",
       "       [ 4,  5],\n",
       "       [ 6,  7],\n",
       "       [ 8,  9],\n",
       "       [10, 11]])"
      ]
     },
     "execution_count": 87,
     "metadata": {},
     "output_type": "execute_result"
    }
   ],
   "source": [
    "X = np.arange(12).reshape(6, 2)\n",
    "X"
   ]
  },
  {
   "cell_type": "code",
   "execution_count": 88,
   "metadata": {},
   "outputs": [
    {
     "data": {
      "text/plain": [
       "array([[7777,  999],\n",
       "       [7777,    3],\n",
       "       [ 555,  555],\n",
       "       [7777,    7],\n",
       "       [7777,    9],\n",
       "       [7777,   11]])"
      ]
     },
     "execution_count": 88,
     "metadata": {},
     "output_type": "execute_result"
    }
   ],
   "source": [
    "# Switch all even numbers to zero\n",
    "X[X % 2 == 0] = 0\n",
    "X[[0, 2], [1, 1]] = 999\n",
    "X[:, [True, False]] = 7777\n",
    "X[2, :] = 555\n",
    "X"
   ]
  },
  {
   "cell_type": "markdown",
   "metadata": {},
   "source": [
    "### Exercises, part C: Indexing"
   ]
  },
  {
   "cell_type": "markdown",
   "metadata": {},
   "source": [
    "#### C1.\n",
    "\n",
    "You have an array of positions of some objects in 3-dimensional space. Moreover, you are provided with a position of a special landmark object.\n",
    "\n",
    "Your task is to create a 1D boolean mask and use it to filter out objects that are farther from the landmark than $0.5$ unit.\n",
    "\n",
    "Remeber that a (Euclidean) distance between two objects is defined as follows:\n",
    "\n",
    "$$d(\\text{object}_i, \\text{object}_j) = \\sqrt{(x_i - x_j)^2 + (y_i - y_j)^2 + (z_i - z_j)^2}$$\n",
    "$$(x_i - x_j), (y_i - y_j), (z_i - z_j)$$\n",
    "\n",
    "HINT. You may want to use `np.sqrt`. Alternatively, remember that square root is equivalent to $x^{1/2}$."
   ]
  },
  {
   "cell_type": "code",
   "execution_count": 89,
   "metadata": {},
   "outputs": [],
   "source": [
    "np.random.seed(103)\n",
    "# Positions\n",
    "P = np.random.uniform(0, 1, (1000, 3))\n",
    "# Position of the landmark\n",
    "landmark = np.array([0, 0, .7])"
   ]
  },
  {
   "cell_type": "code",
   "execution_count": 90,
   "metadata": {},
   "outputs": [
    {
     "data": {
      "text/plain": [
       "(108, 3)"
      ]
     },
     "execution_count": 90,
     "metadata": {},
     "output_type": "execute_result"
    }
   ],
   "source": [
    "# Your code\n",
    "D = np.sqrt(((P - landmark)**2).sum(1))\n",
    "P[D <= 0.5].shape"
   ]
  },
  {
   "cell_type": "markdown",
   "metadata": {},
   "source": [
    "### C2.\n",
    "\n",
    "You have a set of three measurements for 5000 subjects. \n",
    "\n",
    "Your task is to create a boolean mask extracting subjects with at least two measurements either lower than 6 or greater than 14. \n",
    "Use the mask to create a filtered dataset.\n",
    "\n",
    "Count the number of subjects in the filtered dataset.\n",
    "\n",
    "Use the same (or a similar) mask to extract all the values lower than 6 or greater than 14. Find the minimum and the maximum value.\n",
    "\n",
    "HINT. Remember that you can aggregate boolean values. `True` is interpreted as `1` and `False` as `0`."
   ]
  },
  {
   "cell_type": "code",
   "execution_count": 91,
   "metadata": {},
   "outputs": [],
   "source": [
    "np.random.seed(104)\n",
    "X = np.random.normal(10, 2, (5000, 3))"
   ]
  },
  {
   "cell_type": "code",
   "execution_count": 92,
   "metadata": {},
   "outputs": [
    {
     "data": {
      "text/plain": [
       "array([0, 0, 1, ..., 0, 0, 0])"
      ]
     },
     "execution_count": 92,
     "metadata": {},
     "output_type": "execute_result"
    },
    {
     "data": {
      "text/plain": [
       "(24, 3)"
      ]
     },
     "execution_count": 92,
     "metadata": {},
     "output_type": "execute_result"
    }
   ],
   "source": [
    "# Your code\n",
    "extreme = ((X < 6) | (X > 14)).sum(1)\n",
    "extreme\n",
    "X[extreme >= 2].shape"
   ]
  },
  {
   "cell_type": "code",
   "execution_count": 93,
   "metadata": {},
   "outputs": [
    {
     "data": {
      "text/plain": [
       "18.755788670932652"
      ]
     },
     "execution_count": 93,
     "metadata": {},
     "output_type": "execute_result"
    },
    {
     "data": {
      "text/plain": [
       "1.2317588137562616"
      ]
     },
     "execution_count": 93,
     "metadata": {},
     "output_type": "execute_result"
    }
   ],
   "source": [
    "E = X[(X < 6) | (X > 14)]\n",
    "E.max()\n",
    "E.min()"
   ]
  },
  {
   "cell_type": "code",
   "execution_count": null,
   "metadata": {},
   "outputs": [],
   "source": []
  }
 ],
 "metadata": {
  "kernelspec": {
   "display_name": "Python 3",
   "language": "python",
   "name": "python3"
  },
  "language_info": {
   "codemirror_mode": {
    "name": "ipython",
    "version": 3
   },
   "file_extension": ".py",
   "mimetype": "text/x-python",
   "name": "python",
   "nbconvert_exporter": "python",
   "pygments_lexer": "ipython3",
   "version": "3.7.3"
  }
 },
 "nbformat": 4,
 "nbformat_minor": 2
}
