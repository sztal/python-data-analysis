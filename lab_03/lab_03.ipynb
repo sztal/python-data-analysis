{
 "cells": [
  {
   "cell_type": "markdown",
   "metadata": {},
   "source": [
    "## Code style in Pythona\n",
    "\n",
    "    Readability counts.\n",
    "    Special cases aren't special enough to break the rules.\n",
    "\n",
    "Some good style advice can be found in PEP 8 (Python Enhancement Proposal): \n",
    "https://www.python.org/dev/peps/pep-0008/#id4\n",
    "\n",
    "Pylint is one of the available programs for checking style of Python source files.\n",
    "\n",
    "Installation:\n",
    "    \n",
    "```bash\n",
    "pip install --user pylint\n",
    "```\n",
    "\n",
    "Usage:\n",
    "\n",
    "```bash\n",
    "pylint file.py\n",
    "```"
   ]
  },
  {
   "cell_type": "markdown",
   "metadata": {},
   "source": [
    "# Text processing\n",
    "\n",
    "### Szymon Talaga 11.11.2019 | Adapted from: Julian Zubek and Michał Denkiewicz 27.11.2017\n",
    "\n",
    "<hr />"
   ]
  },
  {
   "cell_type": "markdown",
   "metadata": {},
   "source": [
    "## Some of the typical string operations"
   ]
  },
  {
   "cell_type": "markdown",
   "metadata": {},
   "source": [
    "**Reverse a string:**"
   ]
  },
  {
   "cell_type": "code",
   "execution_count": null,
   "metadata": {},
   "outputs": [],
   "source": [
    "L = [1, 2, 3, 4, 5]\n",
    "\n",
    "L[:] == L\n",
    "L[:] is L"
   ]
  },
  {
   "cell_type": "code",
   "execution_count": null,
   "metadata": {},
   "outputs": [],
   "source": [
    "\"abcdefgh\"[::-1]  # this makes a copy\n",
    "\n",
    "# Use `reversed` to iterate over the same string"
   ]
  },
  {
   "cell_type": "markdown",
   "metadata": {},
   "source": [
    "**Splitting text:**"
   ]
  },
  {
   "cell_type": "code",
   "execution_count": null,
   "metadata": {},
   "outputs": [],
   "source": [
    "\"Mouse in the house\".split()"
   ]
  },
  {
   "cell_type": "code",
   "execution_count": null,
   "metadata": {},
   "outputs": [],
   "source": [
    "\"Going up, or maybe down.\".split(\",\")"
   ]
  },
  {
   "cell_type": "markdown",
   "metadata": {},
   "source": [
    "**Join iterable of strings:**"
   ]
  },
  {
   "cell_type": "code",
   "execution_count": null,
   "metadata": {},
   "outputs": [],
   "source": [
    "\" \".join([\"PhD\", \"Jane\", \"Doe\"])"
   ]
  },
  {
   "cell_type": "markdown",
   "metadata": {},
   "source": [
    "**Strip whitespace from sides** "
   ]
  },
  {
   "cell_type": "code",
   "execution_count": null,
   "metadata": {},
   "outputs": [],
   "source": [
    "s = '  something  '\n",
    "# Strip from the left\n",
    "s.lstrip()\n",
    "# Strip from the right\n",
    "s.rstrip()\n",
    "# Strip from both sides\n",
    "s.strip()"
   ]
  },
  {
   "cell_type": "markdown",
   "metadata": {},
   "source": [
    "Whitespace stripping is a standard processing step that should be done almost always."
   ]
  },
  {
   "cell_type": "markdown",
   "metadata": {},
   "source": [
    "**String interpolation**\n",
    "\n",
    "String interpolation is a process of substituting special templates within a string with values. For various reasons Python breaks its own rules and have multiple string interpolation syntaxes/methods instead of just one. We will review only two most modern ones."
   ]
  },
  {
   "cell_type": "code",
   "execution_count": null,
   "metadata": {},
   "outputs": [],
   "source": [
    "from math import pi\n",
    "\n",
    "\"The number π is: {}\".format(pi)\n",
    "\"The number π is: {:.3f}\".format(pi)\n",
    "\n",
    "x = 7\n",
    "y = 8\n",
    "\n",
    "\"{0} + {1} = {2}\".format(x, y, x + y)\n",
    "\"{x} + {y} = {result}\".format(\n",
    "    x=x,\n",
    "    y=y,\n",
    "    result=x+y\n",
    ")"
   ]
  },
  {
   "cell_type": "code",
   "execution_count": null,
   "metadata": {},
   "outputs": [],
   "source": [
    "from math import pi\n",
    "\n",
    "f\"The number π is: {pi}\"\n",
    "f\"The number π is: {pi:.3f}\"\n",
    "\n",
    "x = 7\n",
    "y = 8\n",
    "\n",
    "f\"{x} + {y} = {x + y}\""
   ]
  },
  {
   "cell_type": "markdown",
   "metadata": {},
   "source": [
    "**in, find -- wyszukiwanie podciągu w ciągu:**"
   ]
  },
  {
   "cell_type": "code",
   "execution_count": null,
   "metadata": {},
   "outputs": [],
   "source": [
    "\"Mouse\" in \"Mouse in the house\""
   ]
  },
  {
   "cell_type": "code",
   "execution_count": null,
   "metadata": {},
   "outputs": [],
   "source": [
    "\"Dog\" in \"Mouse in the house\""
   ]
  },
  {
   "cell_type": "code",
   "execution_count": null,
   "metadata": {},
   "outputs": [],
   "source": [
    "\"Mouse in the house\".find(\"house\")"
   ]
  },
  {
   "cell_type": "markdown",
   "metadata": {},
   "source": [
    "**replace -- zamiana podciągu:**"
   ]
  },
  {
   "cell_type": "code",
   "execution_count": null,
   "metadata": {},
   "outputs": [],
   "source": [
    "\"bread: 2 PLN, butter: 10 PLN, eggs: 7 PLN\".replace(\"PLN\", \"EUR\")"
   ]
  },
  {
   "cell_type": "markdown",
   "metadata": {},
   "source": [
    "<hr />\n",
    "\n",
    "## Working with files\n",
    "\n",
    "In Python we interact with external files using special objects representing file handles. We create them with the `open()` built-in fanction and after using we should close the with the `.close()` method defined on a file object.\n",
    "\n",
    "```python\n",
    "f = open(\"file.txt\")\n",
    "... # do something with the file\n",
    "f.close()\n",
    "```\n",
    "\n",
    "However, usually a more elegant solution is the use a context manager using the `with` keyword and work with a file within a context. The advantage of this approach is that we do not have to remember about closing the file.\n",
    "\n",
    "```python\n",
    "with open(\"file.txt\") as f:\n",
    "    ... # do something with the file\n",
    "\n",
    "# We did not have to call `f.close()`\n",
    "```\n",
    "\n",
    "If a file is not too big we can read its all content at once with the `read` method.\n",
    "\n",
    "```python\n",
    "with open(\"file.txt\") as f:\n",
    "    s = f.read()\n",
    "```\n",
    "\n",
    "However, in general the more natural way to process a file is to iterate over its lines. This allows to work with large files, since we iterate over the lines with a generator, so at any given point in time only one line is stored in the memory.\n",
    "\n",
    "```python\n",
    "with open(\"file.txt\") as f:\n",
    "    for line in f:\n",
    "        print(line)\n",
    "```\n",
    "\n",
    "**NOTE:** Loaded lines will always end with the new line sign `\\n`. This one of the reasons why we almost always want to strip the whitespace from lines when reading them in. So a better line reading loop would be:\n",
    "\n",
    "```python\n",
    "with open(\"file.txt\") as f:\n",
    "    for line in f:\n",
    "        line = line.strip()\n",
    "        ... # Do something\n",
    "```\n",
    "\n",
    "Plik można otworzyć do zapisu podając do funkcji `open` dodatkowy parametr `w`. Następnie piszemy do pliku wykorzystując metodę `write`.\n",
    "A file can be opened in a read, write or append mode (in fact there are more options; you can read about them in the documentation of the `open` function).\n",
    "\n",
    "```python\n",
    "# Read from file (default)\n",
    "with open(\"file.txt\", \"r\") as f:\n",
    "    ... # do something\n",
    "```\n",
    "\n",
    "```python\n",
    "# Write to file\n",
    "with open(\"file.txt\", \"w\") as f:\n",
    "    f.write(\"some text\")\n",
    "\n",
    "# NOTE. Write mode deletes any preexisting content of the file before writing\n",
    "\n",
    "# If you want to create a new file each time\n",
    "# and make sure you do not overwrite anything use 'x' symbol\n",
    "with open(\"file.txt\", \"x\") as f:\n",
    "    f.write(\"some text\")\n",
    "\n",
    "# It will create a new file or raise `FileExistsError`.\n",
    "```\n",
    "\n",
    "```python\n",
    "# Append to file (add new lines at the end)\n",
    "with open(\"file.txt\", \"a\") as f:\n",
    "    f.write(\"some text\")\n",
    "```"
   ]
  },
  {
   "cell_type": "markdown",
   "metadata": {},
   "source": [
    "## Excercise 1\n",
    "\n",
    "A file `KIAA0319.seq` containes a amino acid sequence represented as a list of symbols, each at a separate line. Count numbers of occurences of all unique amino acids. The output should be a mapping."
   ]
  },
  {
   "cell_type": "code",
   "execution_count": null,
   "metadata": {},
   "outputs": [],
   "source": [
    "from collections import Counter"
   ]
  },
  {
   "cell_type": "markdown",
   "metadata": {},
   "source": [
    "## Exercise 2\n",
    "\n",
    "1. Group words in `makbet.txt` by length. For now we assume that words are divided with a space and that punctuation marks are included in words' lengths (but not whitespaces).\n",
    "2. Compute distribution of word lengths (output should be a mapping).\n",
    "2. Find the longest word or words."
   ]
  },
  {
   "cell_type": "code",
   "execution_count": null,
   "metadata": {},
   "outputs": [],
   "source": [
    "# Maybe defaultdict will be useful?\n",
    "from collections import defaultdict"
   ]
  },
  {
   "cell_type": "markdown",
   "metadata": {},
   "source": [
    "## Exercise 3\n",
    "\n",
    "**A.** File 'samples.txt' contain data about some samples together with text description. Each sample begins with a line like this:\n",
    "\n",
    "    >>> Sample X\n",
    "    \n",
    "where `X` is the sample number. After the initial line there are few text description lines (their number is not fixed) followed by a matrix of numbers (multiple rows of numbers separated with comas; each line has the same number of elements). Data matrices for different samples can be of different size.\n",
    "\n",
    "Compute average values for all samples. Output should be a list of 2-tuples with the sample id at the first position and the sample average at t\n",
    "\n",
    "HINT 1. While looping through text lines you keep a contextual variable telling you wheter you are currently looping through a header or data matrix.\n",
    "\n",
    "HINT 2. You can use the `sum` function to sum a iterables of numbers.\n",
    "\n",
    "HINT 3. You can use interactive debugger to see what exactly is happening in your code. For instance, you can inspect every step in a loop:\n",
    "\n",
    "```python\n",
    "for x in collection:\n",
    "    import pdb; pdb.set_trace()\n",
    "    # Do something\n",
    "```\n",
    "\n",
    "Within a debugger session you can press `c` to go to the next debug trace, `n` to evaluate current line and move to the next one, `l` to show nearby lines of code and `ll` to show more nearby lines of code.\n",
    "\n",
    "**B.** Modify your code so it creates a new file called `samples_processed.txt` in which data matrices are substituted with average values."
   ]
  },
  {
   "cell_type": "code",
   "execution_count": null,
   "metadata": {},
   "outputs": [],
   "source": [
    "result = []\n",
    "\n",
    "# Write your code here\n",
    "\n",
    "expected = [\n",
    "    (0, 6), (1, 81), (2, 44), (3, 29), (4, 111), (5, 60), (6, 52), (7, 206), (8, 17), (9, 39),\n",
    "    (10, 315), (11, 172), (12, 92), (13, 35), (14, 62), (15, 251), (16, 146), (17, 176), (18, 7), (19, 1),\n",
    "    (20, 128), (21, 36), (22, 19), (23, 32), (24, 259), (25, 275), (26, 15), (27, 315), (28, 98), (29, 306),\n",
    "    (30, 11), (31, 90), (32, 68), (33, 255), (34, 75), (35, 319), (36, 14), (37, 248), (38, 28), (39, 100),\n",
    "    (40, 78), (41, 117), (42, 113), (43, 198), (44, 139), (45, 114), (46, 34), (47, 183), (48, 60), (49, 93),\n",
    "    (50, 88), (51, 112), (52, 64), (53, 60), (54, 7), (55, 252), (56, 82), (57, 27), (58, 159), (59, 162),\n",
    "    (60, 20), (61, 95), (62, 57), (63, 250), (64, 8), (65, 66), (66, 44), (67, 93), (68, 26), (69, 76),\n",
    "    (70, 213), (71, 40), (72, 255), (73, 108), (74, 80), (75, 19), (76, 228), (77, 222), (78, 150), (79, 76),\n",
    "    (80, 60), (81, 11), (82, 208), (83, 23), (84, 227), (85, 16), (86, 183), (87, 13), (88, 250), (89, 10),\n",
    "    (90, 61), (91, 99), (92, 81), (93, 159), (94, 22), (95, 229), (96, 15), (97, 122), (98, 246)\n",
    "]\n",
    "\n",
    "assert result == expected, \"Sorry, your answer is not correct.\" "
   ]
  },
  {
   "cell_type": "markdown",
   "metadata": {},
   "source": [
    "<hr />\n",
    "\n",
    "## Regular expressions\n",
    "\n",
    "<img src=\"//imgs.xkcd.com/comics/regular_expressions.png\" title=\"Wait, forgot to escape a space.  Wheeeeee[taptaptap]eeeeee.\" alt=\"Regular Expressions\">\n",
    "\n",
    "Regular expressions (RegEx) provide a flexible framework for searching for patterns in textual data. The syntax of regular expression is designed to express the patterns in a concise way. However, this also means that regular expression are often quite hard to read. Modern programming language such as Python tend to use an extended version of regular expression that was popularized by Perl language.\n",
    "\n",
    "Applications:\n",
    "\n",
    "   1. Extracting phone numbers or e-mail addresses from text\n",
    "   2. Replacing text.\n",
    "   3. Validating correctness of formal strings such as e-mail addresses."
   ]
  },
  {
   "cell_type": "markdown",
   "metadata": {},
   "source": [
    "In Python regular expressions are implemented in the `re` module available in the standard library."
   ]
  },
  {
   "cell_type": "code",
   "execution_count": null,
   "metadata": {},
   "outputs": [],
   "source": [
    "import re"
   ]
  },
  {
   "cell_type": "markdown",
   "metadata": {},
   "source": [
    "RegEx patterns are defined with strings. However, since RegEx patterns use a lot of special characters it is usually prefered to pass them as **raw strings**."
   ]
  },
  {
   "cell_type": "code",
   "execution_count": null,
   "metadata": {},
   "outputs": [],
   "source": [
    "print(\"\\n\") # standard string\n",
    "print(r\"\\n\") # raw string"
   ]
  },
  {
   "cell_type": "markdown",
   "metadata": {},
   "source": [
    "**Example:** fitting a pattern from the beginning of a string (check if string is a valid e-mail address)"
   ]
  },
  {
   "cell_type": "code",
   "execution_count": null,
   "metadata": {},
   "outputs": [],
   "source": [
    "email_addrs = [\n",
    "    \"abrakadabra@yahoo.com\",\n",
    "    \"A.B.C@D.E\",\n",
    "    \"John Kovalsky\",\n",
    "    \"fredbloggs@fredbloggs.plus.com\",\n",
    "    \"Abc.example.com\",\n",
    "    \"A@b@c@example.com\"\n",
    "]\n",
    "\n",
    "[re.match(r\"(^|(?<=\\s))[^@\\s]+@[^@\\s]+\\.[^.@\\s]+((?=\\s)|$)\", addr) for addr in email_addrs]"
   ]
  },
  {
   "cell_type": "code",
   "execution_count": null,
   "metadata": {},
   "outputs": [],
   "source": [
    "s1 = \"Something\"\n",
    "s2 = \"Here is Something\"\n",
    "\n",
    "re.match(r\"Something\", s1)\n",
    "re.match(r\"Something\", s2)"
   ]
  },
  {
   "cell_type": "markdown",
   "metadata": {},
   "source": [
    "**Example:** find the first occurence of a pattern"
   ]
  },
  {
   "cell_type": "code",
   "execution_count": null,
   "metadata": {},
   "outputs": [],
   "source": [
    "email_addrs = \"\"\"\n",
    "    abrakadabra@yahoo.com A.B.C@D.E\n",
    "    John Kovalsky\n",
    "    fredbloggs@fredbloggs.plus.com\n",
    "    Abc.example.com\n",
    "    A@b@c@example.com\n",
    "\"\"\"\n",
    "\n",
    "re.search(r\"(^|(?<=\\s))[^@\\s]+@[^@\\s]+\\.[^.@\\s]+((?=\\s)|$)\", email_addrs)"
   ]
  },
  {
   "cell_type": "markdown",
   "metadata": {},
   "source": [
    "**Example:** find all occurences of a pattern"
   ]
  },
  {
   "cell_type": "code",
   "execution_count": null,
   "metadata": {},
   "outputs": [],
   "source": [
    "list(re.finditer(r\"(^|(?<=\\s))[^@\\s]+@[^@\\s]+\\.[^.@\\s]+((?=\\s)|$)\", email_addrs))"
   ]
  },
  {
   "cell_type": "markdown",
   "metadata": {},
   "source": [
    "### Overview of the theory of regular expressions\n",
    "\n",
    "Each regular expressions defines a formal _language_ (set of strings that fit the defined pattern). For instance, the expression `\"A?B\"` defines the `{'B', 'AB'}` language."
   ]
  },
  {
   "cell_type": "markdown",
   "metadata": {},
   "source": [
    "Expressions are formed through:"
   ]
  },
  {
   "cell_type": "code",
   "execution_count": null,
   "metadata": {},
   "outputs": [],
   "source": [
    "r\"A|B\"  #  {'A', 'B'}"
   ]
  },
  {
   "cell_type": "markdown",
   "metadata": {},
   "source": [
    "**1) Gluing** (concatenation) of simpler expressions (the simplest one is a single character which defines the simplest possible language):"
   ]
  },
  {
   "cell_type": "code",
   "execution_count": null,
   "metadata": {},
   "outputs": [],
   "source": [
    "print(re.match(r'abc', 'abc'))\n",
    "print(re.match(r'abc', 'dabc'))"
   ]
  },
  {
   "cell_type": "markdown",
   "metadata": {},
   "source": [
    "**2) Alternative (disjunction)** of two expressions:"
   ]
  },
  {
   "cell_type": "code",
   "execution_count": null,
   "metadata": {},
   "outputs": [],
   "source": [
    "r\"ABC|BCA\"  # {'ABC', 'BCA'}\n",
    "\n",
    "r\"AB(C|B)CA\"   # {'ABCCA'. 'ABBCA'}"
   ]
  },
  {
   "cell_type": "code",
   "execution_count": null,
   "metadata": {},
   "outputs": [],
   "source": [
    "print(re.match(r\"ABC|BCA\", \"ABC\"))\n",
    "print(re.match(r\"AB(C|B)CA\", \"ABBCA\"))"
   ]
  },
  {
   "cell_type": "markdown",
   "metadata": {},
   "source": [
    "**3) Class** of characters:"
   ]
  },
  {
   "cell_type": "markdown",
   "metadata": {},
   "source": [
    "\"`[`\" i \"`]`\" określają _klasę znaków_. dopasowany zostanie dowolny znak z tej klasy.\n",
    "\n",
    "Characters in a class can be explicitly listed (order does not matter):"
   ]
  },
  {
   "cell_type": "code",
   "execution_count": null,
   "metadata": {},
   "outputs": [],
   "source": [
    "print(re.match(r'ab[cdX][cdX]', 'abcdX'))"
   ]
  },
  {
   "cell_type": "markdown",
   "metadata": {},
   "source": [
    "Or defined as a range:"
   ]
  },
  {
   "cell_type": "code",
   "execution_count": null,
   "metadata": {},
   "outputs": [],
   "source": [
    "print(re.match(r'[a-eA-E][0-9]', 'c8'))\n",
    "print(re.match(r'[a-e]', 'z'))"
   ]
  },
  {
   "cell_type": "markdown",
   "metadata": {},
   "source": [
    "A definition of a class can be also negative (defined as a complement of a class).\n",
    "We denote negative class definition with additional `^` sign at the first place."
   ]
  },
  {
   "cell_type": "code",
   "execution_count": null,
   "metadata": {},
   "outputs": [],
   "source": [
    "print(re.match(r'[^XY]', 'A'))\n",
    "print(re.match(r'[^XY]', 'B'))\n",
    "print(re.match(r'[^XY]', '&'))\n",
    "print(re.match(r'[^XY]', 'X'))\n",
    "print(re.match(r'[^XY]', 'Y'))"
   ]
  },
  {
   "cell_type": "markdown",
   "metadata": {},
   "source": [
    "There are some useful built-in classes:\n",
    "\n",
    "* **`\\w` (word)** - letters, digits and '\\_' (underscore).\n",
    "* **`\\d` (digit)** - digits\n",
    "* **`\\s` (space)** - whitespace (space, tabs, end of line).\n",
    "\n",
    "Complements of the above built-in classes are denoted with capital letters,\n",
    "e.g. the class of non-digits is `\\D`.\n",
    "\n",
    "There is also a special sign `.` which denote any character except the end of line (`\\n`).\n",
    "\n",
    "`\\A` and `\\Z` match the start and the end of a string.\n",
    "\n",
    "`^` and `$` match the start and the end of a string or a line within a string (delimited with the new line character `\\n`)."
   ]
  },
  {
   "cell_type": "code",
   "execution_count": null,
   "metadata": {},
   "outputs": [],
   "source": [
    "re.match(r\"a+?\", \"aaaaaaaaaaaaaa\")"
   ]
  },
  {
   "cell_type": "markdown",
   "metadata": {},
   "source": [
    "**4) Quantifiers** allow to specify multiplicity of a pattern\n",
    "\n",
    "* `*` - 0 or more\n",
    "* `+` - 1 or more\n",
    "* `?` - 0 or 1\n",
    "* `{n}` - exactly `n`\n",
    "* `{n,m}` - from `n` to `m`\n",
    "* `{n,}` - minimum `n`\n",
    "* `{,m}` - up to `m`\n",
    "\n",
    "By default regular expression behave in a greedy manner. This means that they try to match as long a string as possible. If this is not a behavior you want, you can switch to the lazy mode in which the shortest possible string is matched. Lazy mode can be turned on by appending additional `?` mark to the quantifier.\n",
    "\n",
    "* `*?` - 0 or more (lazy)\n",
    "* `+?` - 1 or more (lazy)\n",
    "* `??` - 0 or 1 (lazy)\n",
    "* `{n}?` - exactly `n` (lazy)\n",
    "* `{n,m}?` - from `n` to `m` (lazy)\n",
    "* `{n,}?` - minimum `n` (lazy)\n",
    "* `{,m}?` - up to `m` (lazy)"
   ]
  },
  {
   "cell_type": "code",
   "execution_count": null,
   "metadata": {},
   "outputs": [],
   "source": [
    "re.match(r\"Something\", \"SoMeThIng\", re.IGNORECASE) "
   ]
  },
  {
   "cell_type": "markdown",
   "metadata": {},
   "source": [
    "## Warmup Exercise\n",
    "\n",
    "Extract all e-mails from the following string."
   ]
  },
  {
   "cell_type": "code",
   "execution_count": null,
   "metadata": {},
   "outputs": [],
   "source": [
    "s = \"Some emails: Martin <martin@google.com>, Jessica <jess@uw.edu.pl>, Anna <anna@uw.edu.pl>.\""
   ]
  },
  {
   "cell_type": "markdown",
   "metadata": {},
   "source": [
    "## Exercise 4\n",
    "\n",
    "Write a regular expression that will validate phone numbers formed according to the following templates:\n",
    "\n",
    "    XXXXXXXXX\n",
    "    XXX XXX XXX\n",
    "    XXX-XXX-XXX\n",
    "    +XXXXXXXXXXX\n",
    "    +XX XXX XXX XXX\n",
    "    +XX-XXX-XXX-XXX\n",
    "    (+XX)XXXXXXXXX\n",
    "    (+XX)XXX XXX XXX\n",
    "    (+XX)XXX-XXX-XXX\n",
    "    (+XX) XXXXXXXXX\n",
    "    (+XX) XXX XXX XXX\n",
    "    (+XX) XXX-XXX-XXX\n",
    "   "
   ]
  },
  {
   "cell_type": "code",
   "execution_count": null,
   "metadata": {},
   "outputs": [],
   "source": [
    "X = [\n",
    "    \"123456789\",\n",
    "    \"123 456 789\",\n",
    "    \"123-456-789\",\n",
    "    \"+00123456789\",\n",
    "    \"+00 123 456 789\",\n",
    "    \"+00-124-456-789\",\n",
    "    \"(+00)123456789\",\n",
    "    \"(+00)123 456 789\",\n",
    "    \"(+00)123-456-789\",\n",
    "    \"(+00) 123456789\",\n",
    "    \"(+00) 123 456 789\",\n",
    "    \"(+00) 123-456-789\",\n",
    "    \"(+00) 123 456-789\",\n",
    "    \"423 432\"\n",
    "]\n",
    "\n",
    "pattern = \"\"\n",
    "\n",
    "rx = re.compile(pattern)\n",
    "\n",
    "for x in X:\n",
    "    print(rx.match(x))"
   ]
  },
  {
   "cell_type": "markdown",
   "metadata": {},
   "source": [
    "## Exercise 5\n",
    "\n",
    "Modify your solution to the exercise 2 so punctuation marks (\"',.:;?!-) are not included in word lengths.\n",
    "\n",
    "HINT. Check out the `re.split` function.\n",
    "\n",
    "#### Exercise 2\n",
    "\n",
    "1. Group words in `makbet.txt` by length. For now we assume that words are divided with a space and that punctuation marks are included in words' lengths (but not whitespaces).\n",
    "2. Compute distribution of word lengths (output should be a mapping).\n",
    "2. Find the longest word or words."
   ]
  },
  {
   "cell_type": "code",
   "execution_count": null,
   "metadata": {},
   "outputs": [],
   "source": [
    "from collections import defaultdict\n",
    "\n",
    "dct = defaultdict(list)\n",
    "\n",
    "with open('makbet.txt', 'r') as f:\n",
    "    pass"
   ]
  },
  {
   "cell_type": "markdown",
   "metadata": {},
   "source": [
    "## Exercise 6\n",
    "\n",
    "Write a regular expression for splitting text into sentences (you can assume that it is reasonably well-formatted). Store it in a compiled form as a object that can be reused anytime you want without having to rewrite the regex again (check `?re.compile`).\n",
    "\n",
    "Then try to improve on the expression by wrapping it in a function that tries deals with special cases. You can test your solution on the text of Wikipedia article about Leonardo da Vinci."
   ]
  },
  {
   "cell_type": "code",
   "execution_count": null,
   "metadata": {},
   "outputs": [],
   "source": [
    "import requests\n",
    "import re\n",
    "# Get text from the Wikipedia API\n",
    "response = requests.get('https://en.wikipedia.org/w/api.php?action=query&prop=cirrusdoc&titles=Leonardo_da_Vinci&format=json')\n",
    "# Parse response body as JSON\n",
    "data = response.json()\n",
    "text = data['query']['pages']['18079']['cirrusdoc'][0]['source']['text']"
   ]
  },
  {
   "cell_type": "code",
   "execution_count": null,
   "metadata": {},
   "outputs": [],
   "source": []
  }
 ],
 "metadata": {
  "kernelspec": {
   "display_name": "Python 3",
   "language": "python",
   "name": "python3"
  },
  "language_info": {
   "codemirror_mode": {
    "name": "ipython",
    "version": 3
   },
   "file_extension": ".py",
   "mimetype": "text/x-python",
   "name": "python",
   "nbconvert_exporter": "python",
   "pygments_lexer": "ipython3",
   "version": "3.8.3"
  }
 },
 "nbformat": 4,
 "nbformat_minor": 4
}
