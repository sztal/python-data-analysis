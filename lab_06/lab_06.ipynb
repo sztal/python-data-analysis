{
 "cells": [
  {
   "cell_type": "markdown",
   "metadata": {},
   "source": [
    "# Pandas | Core concepts, types and methods\n",
    "\n",
    "Szymon Talaga | 08.01.2020\n",
    "\n",
    "<hr>\n",
    "\n",
    "In this notebook we will carefully develop proper and in-depth understanding of core concepts, types (classes) and methods provided by Pandas.\n",
    "They will be discussed with respect to Numpy in order to facilitate understanding of what typical usecases of both packages are as well as what\n",
    "are their strong and weak points.\n",
    "\n",
    "Pandas is focused around two main data structures:\n",
    "\n",
    "* `Series` : a one-dimensional sequence of values with a fixed data type.\n",
    "* `DataFrame` : a two-dimensional rectangular table of values with rows and columns. Each column has to be of fixed data type as it is represented as `Series` objects.\n",
    "\n",
    "In fact, Pandas provides more data structures, but they are useful in rather specific circumstances so we will not discuss them here.\n",
    "\n",
    "<hr>\n",
    "\n",
    "Pandas is internally based on Numpy and its types such as `Series` and `DataFrame` are to a large extent compatible with many Numpy functions.\n",
    "However, there are also very important differences between them.\n",
    "\n",
    "The crucial difference concerns the way axes and their indexes are designed which also means that the notion of broadcasting in Pandas is completely different.\n",
    "\n",
    "In Numpy indexes of axes are defined **implicitly** by the fact that elements are arranged sequentially, so they can be assigned with integer coordinates\n",
    "ranging from $0$ to $n-1$ where $n$ is the number elements along a given axis.\n",
    "\n",
    "In Pandas the way indexes work is entirely different. Here indexes are **explicit**, they exist as separate Python objects, and are defined as sets of labels (or even multilevel hierarchies of labels)\n",
    "for elements along a given axis. Therefore, the rules of broadcasting in Pandas are not determined by conformability of shapes of arrays like in Numpy, but by alignment (congruence) of labels.\n",
    "We will discuss the details of broadcasting and alignment in Pandas while discussing `Series` and `DataFrame` types.\n",
    "\n",
    "<hr>\n",
    "\n",
    "Many great resources about Pandas can be found in the official documentation. In particular, it is recommended to read the following articles:\n",
    "\n",
    "* [10 minutes to Pandas](https://pandas.pydata.org/pandas-docs/stable/getting_started/10min.html)\n",
    "* [Essential basic functionality](https://pandas.pydata.org/pandas-docs/stable/getting_started/basics.html)\n",
    "* [Intro to data structures](https://pandas.pydata.org/pandas-docs/stable/getting_started/dsintro.html)\n",
    "* [Indexing and selecting data](https://pandas.pydata.org/pandas-docs/stable/user_guide/indexing.html#indexing-attribute-access)\n",
    "\n",
    "<hr>"
   ]
  },
  {
   "cell_type": "code",
   "execution_count": 3,
   "metadata": {},
   "outputs": [],
   "source": [
    "import numpy as np\n",
    "import pandas as pd\n",
    "import matplotlib.pyplot as plt\n",
    "%matplotlib inline"
   ]
  },
  {
   "cell_type": "code",
   "execution_count": 4,
   "metadata": {},
   "outputs": [],
   "source": [
    "### Configure IPython shell to show print all outputs generated in a code cell\n",
    "### --------------------------------------------------------------------------\n",
    "from IPython.core.interactiveshell import InteractiveShell\n",
    "InteractiveShell.ast_node_interactivity = \"all\""
   ]
  },
  {
   "cell_type": "markdown",
   "metadata": {},
   "source": [
    "## Series | 1D sequences of values with fixed dtypes\n",
    "\n",
    "The simpler and more basic of the two core types in Pandas is `Series`. Objects of this type are used to store one-dimensional ordered sequences of values of fixed data type\n",
    "(in most cases these are standard Numpy `dtypes`) aligned along an index which is a sequence of labels that identify individual elements. So a series has the following structure:\n",
    "\n",
    "```python\n",
    "Index  |  Value\n",
    "===============\n",
    "  b    |    5\n",
    "  a    |    3\n",
    "  f    |    1\n",
    "  c    |    3\n",
    "===============\n",
    "```\n",
    "\n",
    "Importantly, `Series` objects are both like dictionaries / mappings as well as lists / 1D arrays. In other words, they support both label / key based indexing characteristic for mappings \n",
    "and numerical / positional indexing characteristics for sequences / lists."
   ]
  },
  {
   "cell_type": "markdown",
   "metadata": {},
   "source": [
    "A `Series` object may be created with a type constructor from any object that can be interpreted as 1D array / sequence."
   ]
  },
  {
   "cell_type": "code",
   "execution_count": 5,
   "metadata": {},
   "outputs": [
    {
     "data": {
      "text/plain": [
       "0    5\n",
       "1    3\n",
       "2    1\n",
       "3    3\n",
       "dtype: int64"
      ]
     },
     "execution_count": 5,
     "metadata": {},
     "output_type": "execute_result"
    }
   ],
   "source": [
    "## Sequence-based initialization\n",
    "s = pd.Series([5, 3, 1, 3])\n",
    "s"
   ]
  },
  {
   "cell_type": "markdown",
   "metadata": {},
   "source": [
    "The first column in the print output shows indexes and the second data values. Note, that in this case a default generic index was created (sequence from `0` to `n-1`).\n",
    "However, if we want we may explicitly assign an index composed of any values we want."
   ]
  },
  {
   "cell_type": "code",
   "execution_count": 6,
   "metadata": {},
   "outputs": [
    {
     "data": {
      "text/plain": [
       "b    5\n",
       "a    3\n",
       "f    1\n",
       "c    3\n",
       "dtype: int64"
      ]
     },
     "execution_count": 6,
     "metadata": {},
     "output_type": "execute_result"
    }
   ],
   "source": [
    "## Sequence-based initialization with arbitrary index\n",
    "s = pd.Series([5, 3, 1, 3], index=['b', 'a', 'f', 'c'])\n",
    "s"
   ]
  },
  {
   "cell_type": "markdown",
   "metadata": {},
   "source": [
    "Another very convenient approach is to create a series from dictionary."
   ]
  },
  {
   "cell_type": "code",
   "execution_count": 7,
   "metadata": {},
   "outputs": [
    {
     "data": {
      "text/plain": [
       "b    5\n",
       "a    3\n",
       "f    1\n",
       "c    3\n",
       "dtype: int64"
      ]
     },
     "execution_count": 7,
     "metadata": {},
     "output_type": "execute_result"
    }
   ],
   "source": [
    "## Dictionary-based initialization\n",
    "s = pd.Series({ 'b': 5, 'a': 3, 'f': 1, 'c': 3 })\n",
    "s"
   ]
  },
  {
   "cell_type": "markdown",
   "metadata": {},
   "source": [
    "Look good. But what about order? We discussed the fact that dictionaries in Python are inherently unordered. That stops to be true recently.\n",
    "From the version 3.7 of Python `dict` objects keeps the insertion order (the order in which their keys were provided).\n",
    "Pandas uses this fact when creating `Series` objects. In older version of Python and/or Pandas index is sorted lexicographically when\n",
    "a series is built from a dictionary.\n",
    "\n",
    "If a series is initialized with values of different types it will be upcasted to the most general data type."
   ]
  },
  {
   "cell_type": "code",
   "execution_count": 8,
   "metadata": {},
   "outputs": [
    {
     "data": {
      "text/plain": [
       "0    1.0\n",
       "1    2.0\n",
       "2    3.5\n",
       "dtype: float64"
      ]
     },
     "execution_count": 8,
     "metadata": {},
     "output_type": "execute_result"
    }
   ],
   "source": [
    "# Upcasting of integers to floats\n",
    "pd.Series([1, 2, 3.5])"
   ]
  },
  {
   "cell_type": "code",
   "execution_count": 10,
   "metadata": {},
   "outputs": [
    {
     "data": {
      "text/plain": [
       "0            1\n",
       "1       string\n",
       "2    [1, 2, 3]\n",
       "dtype: object"
      ]
     },
     "execution_count": 10,
     "metadata": {},
     "output_type": "execute_result"
    }
   ],
   "source": [
    "# Upcasting to arbitrary python objects\n",
    "pd.Series([1, 'string', [1,2,3]])"
   ]
  },
  {
   "cell_type": "markdown",
   "metadata": {},
   "source": [
    "A series can be also created from a scalar (single) value. If additionally an index is provided then a series as long as the index is created\n",
    "and it is populated with the constant value."
   ]
  },
  {
   "cell_type": "code",
   "execution_count": 11,
   "metadata": {},
   "outputs": [
    {
     "data": {
      "text/plain": [
       "0    5\n",
       "dtype: int64"
      ]
     },
     "execution_count": 11,
     "metadata": {},
     "output_type": "execute_result"
    }
   ],
   "source": [
    "## Single value series as there is no index\n",
    "pd.Series(5)"
   ]
  },
  {
   "cell_type": "code",
   "execution_count": 12,
   "metadata": {},
   "outputs": [
    {
     "data": {
      "text/plain": [
       "a    5\n",
       "b    5\n",
       "c    5\n",
       "dtype: int64"
      ]
     },
     "execution_count": 12,
     "metadata": {},
     "output_type": "execute_result"
    }
   ],
   "source": [
    "## Series from scalar and index\n",
    "pd.Series(5, index=['a', 'b', 'c'])"
   ]
  },
  {
   "cell_type": "markdown",
   "metadata": {},
   "source": [
    "Index of a series can be retrieved via the `.index` attribute"
   ]
  },
  {
   "cell_type": "code",
   "execution_count": 13,
   "metadata": {},
   "outputs": [
    {
     "data": {
      "text/plain": [
       "Index(['b', 'a', 'f', 'c'], dtype='object')"
      ]
     },
     "execution_count": 13,
     "metadata": {},
     "output_type": "execute_result"
    }
   ],
   "source": [
    "s.index"
   ]
  },
  {
   "cell_type": "code",
   "execution_count": 14,
   "metadata": {},
   "outputs": [
    {
     "data": {
      "text/plain": [
       "array([5, 3, 1, 3])"
      ]
     },
     "execution_count": 14,
     "metadata": {},
     "output_type": "execute_result"
    }
   ],
   "source": [
    "s.values"
   ]
  },
  {
   "cell_type": "markdown",
   "metadata": {},
   "source": [
    "Numpy representation of the underlying data can be retrieved with `.to_numpy()` method."
   ]
  },
  {
   "cell_type": "code",
   "execution_count": 15,
   "metadata": {},
   "outputs": [
    {
     "data": {
      "text/plain": [
       "b    5\n",
       "a    3\n",
       "f    1\n",
       "c    3\n",
       "dtype: int64"
      ]
     },
     "execution_count": 15,
     "metadata": {},
     "output_type": "execute_result"
    }
   ],
   "source": [
    "s"
   ]
  },
  {
   "cell_type": "code",
   "execution_count": 16,
   "metadata": {},
   "outputs": [
    {
     "data": {
      "text/plain": [
       "array([5, 3, 1, 3])"
      ]
     },
     "execution_count": 16,
     "metadata": {},
     "output_type": "execute_result"
    }
   ],
   "source": [
    "s.to_numpy()"
   ]
  },
  {
   "cell_type": "markdown",
   "metadata": {},
   "source": [
    "Moreover, series can be assigned with names. We will see how it can be useful later on when we discuss data frames."
   ]
  },
  {
   "cell_type": "code",
   "execution_count": 18,
   "metadata": {},
   "outputs": [
    {
     "data": {
      "text/plain": [
       "b    5\n",
       "a    3\n",
       "f    1\n",
       "c    3\n",
       "Name: a series, dtype: int64"
      ]
     },
     "execution_count": 18,
     "metadata": {},
     "output_type": "execute_result"
    }
   ],
   "source": [
    "s.name = 'a series'\n",
    "s"
   ]
  },
  {
   "cell_type": "code",
   "execution_count": 19,
   "metadata": {},
   "outputs": [
    {
     "data": {
      "text/plain": [
       "0    1\n",
       "1    2\n",
       "2    3\n",
       "Name: name, dtype: int64"
      ]
     },
     "execution_count": 19,
     "metadata": {},
     "output_type": "execute_result"
    }
   ],
   "source": [
    "pd.Series([1, 2, 3], name='name')"
   ]
  },
  {
   "cell_type": "markdown",
   "metadata": {},
   "source": [
    "### Series | Indexing & slicing\n",
    "\n",
    "Similarily to data frames series support three main types of indexing."
   ]
  },
  {
   "cell_type": "markdown",
   "metadata": {},
   "source": [
    "#### Standard dictionary syntax (aka _getitem_)\n",
    "\n",
    "It is convenient as it allows to use both label-based and position-based indexing and slicing. However, due to its flexibility it can be\n",
    "confusing as it has to guess what is the intent of the user based on the type of indexer.\n",
    "\n",
    "That is why it is usually better to use more explicit `.loc` and `.iloc` indexers."
   ]
  },
  {
   "cell_type": "code",
   "execution_count": 20,
   "metadata": {},
   "outputs": [
    {
     "data": {
      "text/plain": [
       "b    5\n",
       "a    3\n",
       "f    1\n",
       "c    3\n",
       "Name: a series, dtype: int64"
      ]
     },
     "execution_count": 20,
     "metadata": {},
     "output_type": "execute_result"
    }
   ],
   "source": [
    "s"
   ]
  },
  {
   "cell_type": "code",
   "execution_count": 21,
   "metadata": {},
   "outputs": [
    {
     "data": {
      "text/plain": [
       "1"
      ]
     },
     "execution_count": 21,
     "metadata": {},
     "output_type": "execute_result"
    }
   ],
   "source": [
    "# Label-based index\n",
    "s['f']"
   ]
  },
  {
   "cell_type": "code",
   "execution_count": 23,
   "metadata": {},
   "outputs": [
    {
     "data": {
      "text/plain": [
       "[1, 2]"
      ]
     },
     "execution_count": 23,
     "metadata": {},
     "output_type": "execute_result"
    }
   ],
   "source": [
    "L = [0, 1, 2, 3, 4]\n",
    "L[1:3]"
   ]
  },
  {
   "cell_type": "code",
   "execution_count": 24,
   "metadata": {},
   "outputs": [
    {
     "data": {
      "text/plain": [
       "a    3\n",
       "f    1\n",
       "c    3\n",
       "Name: a series, dtype: int64"
      ]
     },
     "execution_count": 24,
     "metadata": {},
     "output_type": "execute_result"
    }
   ],
   "source": [
    "# Label-based slice\n",
    "s['a':'c']"
   ]
  },
  {
   "cell_type": "code",
   "execution_count": 25,
   "metadata": {},
   "outputs": [
    {
     "data": {
      "text/plain": [
       "a    3\n",
       "f    1\n",
       "Name: a series, dtype: int64"
      ]
     },
     "execution_count": 25,
     "metadata": {},
     "output_type": "execute_result"
    }
   ],
   "source": [
    "# List of labels\n",
    "s[['a', 'f']]"
   ]
  },
  {
   "cell_type": "code",
   "execution_count": 26,
   "metadata": {},
   "outputs": [
    {
     "data": {
      "text/plain": [
       "1"
      ]
     },
     "execution_count": 26,
     "metadata": {},
     "output_type": "execute_result"
    }
   ],
   "source": [
    "# Position-based (integer) index\n",
    "s[2]"
   ]
  },
  {
   "cell_type": "code",
   "execution_count": 28,
   "metadata": {},
   "outputs": [
    {
     "data": {
      "text/plain": [
       "b    5\n",
       "a    3\n",
       "f    1\n",
       "c    3\n",
       "Name: a series, dtype: int64"
      ]
     },
     "execution_count": 28,
     "metadata": {},
     "output_type": "execute_result"
    },
    {
     "data": {
      "text/plain": [
       "a    3\n",
       "f    1\n",
       "Name: a series, dtype: int64"
      ]
     },
     "execution_count": 28,
     "metadata": {},
     "output_type": "execute_result"
    }
   ],
   "source": [
    "# Position based (integer) slice\n",
    "s\n",
    "s[1:3]"
   ]
  },
  {
   "cell_type": "code",
   "execution_count": 29,
   "metadata": {},
   "outputs": [
    {
     "data": {
      "text/plain": [
       "b    5\n",
       "f    1\n",
       "Name: a series, dtype: int64"
      ]
     },
     "execution_count": 29,
     "metadata": {},
     "output_type": "execute_result"
    }
   ],
   "source": [
    "# List of (integer) positions\n",
    "s[[0, 2]]"
   ]
  },
  {
   "cell_type": "code",
   "execution_count": 30,
   "metadata": {},
   "outputs": [
    {
     "data": {
      "text/plain": [
       "2    2\n",
       "0    3\n",
       "3    4\n",
       "1    5\n",
       "dtype: int64"
      ]
     },
     "execution_count": 30,
     "metadata": {},
     "output_type": "execute_result"
    }
   ],
   "source": [
    "x = pd.Series([2, 3, 4, 5], index=[2, 0, 3, 1])\n",
    "x"
   ]
  },
  {
   "cell_type": "code",
   "execution_count": 35,
   "metadata": {},
   "outputs": [
    {
     "data": {
      "text/plain": [
       "3"
      ]
     },
     "execution_count": 35,
     "metadata": {},
     "output_type": "execute_result"
    },
    {
     "data": {
      "text/plain": [
       "2    2\n",
       "0    3\n",
       "dtype: int64"
      ]
     },
     "execution_count": 35,
     "metadata": {},
     "output_type": "execute_result"
    }
   ],
   "source": [
    "x[0]\n",
    "x[0:2]"
   ]
  },
  {
   "cell_type": "markdown",
   "metadata": {},
   "source": [
    "This is all nice. However, this is possible because integer indexers are also interpreted as positional indexers.\n",
    "This means that with this method we **can not** perform label indexing for series with integer labels."
   ]
  },
  {
   "cell_type": "markdown",
   "metadata": {},
   "source": [
    "#### Label-based indexing (aka `.loc` indexing)\n",
    "\n",
    "The `.loc` attribute is defined on every `Series` (as well as `DataFrame`) object and it returns the special indexer object that allows\n",
    "to query our data based on the explicit index labels, even if they are integers.\n",
    "\n",
    "NOTE. Slices in `.loc` indexer always return ranges **including** the rightmost element."
   ]
  },
  {
   "cell_type": "code",
   "execution_count": 36,
   "metadata": {},
   "outputs": [
    {
     "data": {
      "text/plain": [
       "b    5\n",
       "a    3\n",
       "f    1\n",
       "c    3\n",
       "Name: a series, dtype: int64"
      ]
     },
     "execution_count": 36,
     "metadata": {},
     "output_type": "execute_result"
    }
   ],
   "source": [
    "s"
   ]
  },
  {
   "cell_type": "code",
   "execution_count": 38,
   "metadata": {},
   "outputs": [
    {
     "data": {
      "text/plain": [
       "<pandas.core.indexing._LocIndexer at 0x7fdb002a6860>"
      ]
     },
     "execution_count": 38,
     "metadata": {},
     "output_type": "execute_result"
    }
   ],
   "source": [
    "s.loc"
   ]
  },
  {
   "cell_type": "code",
   "execution_count": 39,
   "metadata": {},
   "outputs": [
    {
     "data": {
      "text/plain": [
       "3"
      ]
     },
     "execution_count": 39,
     "metadata": {},
     "output_type": "execute_result"
    }
   ],
   "source": [
    "s.loc['a']"
   ]
  },
  {
   "cell_type": "code",
   "execution_count": 40,
   "metadata": {},
   "outputs": [
    {
     "data": {
      "text/plain": [
       "a    3\n",
       "f    1\n",
       "Name: a series, dtype: int64"
      ]
     },
     "execution_count": 40,
     "metadata": {},
     "output_type": "execute_result"
    }
   ],
   "source": [
    "s.loc['a':'f']"
   ]
  },
  {
   "cell_type": "markdown",
   "metadata": {},
   "source": [
    "Label `.loc` indexing can also use lists of labels."
   ]
  },
  {
   "cell_type": "code",
   "execution_count": 2,
   "metadata": {},
   "outputs": [
    {
     "ename": "NameError",
     "evalue": "name 's' is not defined",
     "output_type": "error",
     "traceback": [
      "\u001b[0;31m---------------------------------------------------------------------------\u001b[0m",
      "\u001b[0;31mNameError\u001b[0m                                 Traceback (most recent call last)",
      "\u001b[0;32m<ipython-input-2-aa9c920b41e4>\u001b[0m in \u001b[0;36m<module>\u001b[0;34m\u001b[0m\n\u001b[0;32m----> 1\u001b[0;31m \u001b[0ms\u001b[0m\u001b[0;34m.\u001b[0m\u001b[0mloc\u001b[0m\u001b[0;34m[\u001b[0m\u001b[0;34m[\u001b[0m\u001b[0;34m'a'\u001b[0m\u001b[0;34m,\u001b[0m \u001b[0;34m'f'\u001b[0m\u001b[0;34m]\u001b[0m\u001b[0;34m]\u001b[0m\u001b[0;34m\u001b[0m\u001b[0;34m\u001b[0m\u001b[0m\n\u001b[0m",
      "\u001b[0;31mNameError\u001b[0m: name 's' is not defined"
     ]
    }
   ],
   "source": [
    "s.loc[['a', 'f']]"
   ]
  },
  {
   "cell_type": "code",
   "execution_count": 41,
   "metadata": {},
   "outputs": [
    {
     "data": {
      "text/plain": [
       "2    1\n",
       "0    2\n",
       "1    3\n",
       "dtype: int64"
      ]
     },
     "execution_count": 41,
     "metadata": {},
     "output_type": "execute_result"
    }
   ],
   "source": [
    "# Works with integers labels too\n",
    "x = pd.Series([1, 2, 3], index=[2, 0, 1])\n",
    "x"
   ]
  },
  {
   "cell_type": "code",
   "execution_count": 1,
   "metadata": {},
   "outputs": [
    {
     "ename": "NameError",
     "evalue": "name 'x' is not defined",
     "output_type": "error",
     "traceback": [
      "\u001b[0;31m---------------------------------------------------------------------------\u001b[0m",
      "\u001b[0;31mNameError\u001b[0m                                 Traceback (most recent call last)",
      "\u001b[0;32m<ipython-input-1-2f755f117ac9>\u001b[0m in \u001b[0;36m<module>\u001b[0;34m\u001b[0m\n\u001b[0;32m----> 1\u001b[0;31m \u001b[0mx\u001b[0m\u001b[0;34m[\u001b[0m\u001b[0;36m0\u001b[0m\u001b[0;34m]\u001b[0m\u001b[0;34m\u001b[0m\u001b[0;34m\u001b[0m\u001b[0m\n\u001b[0m",
      "\u001b[0;31mNameError\u001b[0m: name 'x' is not defined"
     ]
    }
   ],
   "source": [
    "x.loc[0]"
   ]
  },
  {
   "cell_type": "code",
   "execution_count": 44,
   "metadata": {},
   "outputs": [
    {
     "data": {
      "text/plain": [
       "0    2\n",
       "1    3\n",
       "dtype: int64"
      ]
     },
     "execution_count": 44,
     "metadata": {},
     "output_type": "execute_result"
    }
   ],
   "source": [
    "x.loc[0:1]"
   ]
  },
  {
   "cell_type": "markdown",
   "metadata": {},
   "source": [
    "#### Positional indexing (aka `.iloc` indexing)\n",
    "\n",
    "The `.iloc` attribute returns a specialized indexer object that allows to query our data with positional (integer) indexes.\n",
    "\n",
    "NOTE. Slices in `.iloc` follows standard Python semantics and **do not** include the rightmost element."
   ]
  },
  {
   "cell_type": "code",
   "execution_count": 46,
   "metadata": {},
   "outputs": [
    {
     "data": {
      "text/plain": [
       "2    1\n",
       "0    2\n",
       "1    3\n",
       "dtype: int64"
      ]
     },
     "execution_count": 46,
     "metadata": {},
     "output_type": "execute_result"
    }
   ],
   "source": [
    "x"
   ]
  },
  {
   "cell_type": "code",
   "execution_count": 47,
   "metadata": {},
   "outputs": [
    {
     "data": {
      "text/plain": [
       "1"
      ]
     },
     "execution_count": 47,
     "metadata": {},
     "output_type": "execute_result"
    }
   ],
   "source": [
    "x.iloc[0]"
   ]
  },
  {
   "cell_type": "code",
   "execution_count": 48,
   "metadata": {},
   "outputs": [
    {
     "data": {
      "text/plain": [
       "2    1\n",
       "0    2\n",
       "dtype: int64"
      ]
     },
     "execution_count": 48,
     "metadata": {},
     "output_type": "execute_result"
    }
   ],
   "source": [
    "x.iloc[0:2]"
   ]
  },
  {
   "cell_type": "markdown",
   "metadata": {},
   "source": [
    "Positional `.iloc` indexing can be also used like integer indexing in Numpy."
   ]
  },
  {
   "cell_type": "code",
   "execution_count": 49,
   "metadata": {},
   "outputs": [
    {
     "data": {
      "text/plain": [
       "b    5\n",
       "f    1\n",
       "Name: a series, dtype: int64"
      ]
     },
     "execution_count": 49,
     "metadata": {},
     "output_type": "execute_result"
    }
   ],
   "source": [
    "s.iloc[[0, 2]]"
   ]
  },
  {
   "cell_type": "markdown",
   "metadata": {},
   "source": [
    "#### Boolean indexing\n",
    "\n",
    "There is also the fourth type of indexing that can be performed equally well with _getitem_, `.loc` and `.iloc` indexers.\n",
    "It is of course boolean indexing, which works the same as in Numpy."
   ]
  },
  {
   "cell_type": "code",
   "execution_count": 51,
   "metadata": {},
   "outputs": [],
   "source": [
    "mask = [True, False, False, True]\n",
    "\n",
    "# getitem\n",
    "s[mask]"
   ]
  },
  {
   "cell_type": "code",
   "execution_count": 51,
   "metadata": {},
   "outputs": [],
   "source": [
    "# .loc\n",
    "s.loc[mask]"
   ]
  },
  {
   "cell_type": "code",
   "execution_count": 51,
   "metadata": {},
   "outputs": [
    {
     "name": "stdout",
     "output_type": "stream",
     "text": [
      "b    5\n",
      "c    3\n",
      "Name: a series, dtype: int64\n",
      "b    5\n",
      "c    3\n",
      "Name: a series, dtype: int64\n",
      "b    5\n",
      "c    3\n",
      "Name: a series, dtype: int64\n"
     ]
    }
   ],
   "source": [
    "# .iloc\n",
    "s.iloc[mask]"
   ]
  },
  {
   "cell_type": "markdown",
   "metadata": {},
   "source": [
    "## Series | setting values\n",
    "\n",
    "All types of indexing discussed above can be used to set new values to a series, including creating new entries with new labels."
   ]
  },
  {
   "cell_type": "code",
   "execution_count": 53,
   "metadata": {},
   "outputs": [
    {
     "name": "stdout",
     "output_type": "stream",
     "text": [
      "\n",
      " Alice    10\n",
      "Bob      11\n",
      "dtype: int64\n"
     ]
    }
   ],
   "source": [
    "x = pd.Series({ 'Alice': 10, 'Bob': 11 })\n",
    "print(\"\\n\", x)"
   ]
  },
  {
   "cell_type": "code",
   "execution_count": 54,
   "metadata": {},
   "outputs": [
    {
     "name": "stdout",
     "output_type": "stream",
     "text": [
      "\n",
      " Alice     9\n",
      "Bob      11\n",
      "dtype: int64\n"
     ]
    }
   ],
   "source": [
    "x['Alice'] = 9\n",
    "print(\"\\n\", x)"
   ]
  },
  {
   "cell_type": "code",
   "execution_count": 55,
   "metadata": {},
   "outputs": [
    {
     "name": "stdout",
     "output_type": "stream",
     "text": [
      "\n",
      " Alice    9\n",
      "Bob      0\n",
      "dtype: int64\n"
     ]
    }
   ],
   "source": [
    "x.loc['Bob'] = 0\n",
    "print(\"\\n\", x)"
   ]
  },
  {
   "cell_type": "code",
   "execution_count": 56,
   "metadata": {},
   "outputs": [
    {
     "name": "stdout",
     "output_type": "stream",
     "text": [
      "\n",
      " Alice    100\n",
      "Bob        0\n",
      "dtype: int64\n"
     ]
    }
   ],
   "source": [
    "x.iloc[0] = 100\n",
    "print(\"\\n\", x)"
   ]
  },
  {
   "cell_type": "code",
   "execution_count": 57,
   "metadata": {},
   "outputs": [
    {
     "name": "stdout",
     "output_type": "stream",
     "text": [
      "\n",
      " Alice    1\n",
      "Bob      1\n",
      "dtype: int64\n"
     ]
    }
   ],
   "source": [
    "x.loc[['Alice', 'Bob']] = 1\n",
    "print(\"\\n\", x)"
   ]
  },
  {
   "cell_type": "code",
   "execution_count": 59,
   "metadata": {},
   "outputs": [
    {
     "data": {
      "text/plain": [
       "Alice      1\n",
       "Bob        1\n",
       "Mark     777\n",
       "dtype: int64"
      ]
     },
     "execution_count": 59,
     "metadata": {},
     "output_type": "execute_result"
    }
   ],
   "source": [
    "x.loc['Mark'] = 777\n",
    "x"
   ]
  },
  {
   "cell_type": "markdown",
   "metadata": {},
   "source": [
    "### Series | vectorization between series and scalars\n",
    "\n",
    "Vectorization between series and scalars in Pandas is as simple and trivial as in Numpy."
   ]
  },
  {
   "cell_type": "code",
   "execution_count": 61,
   "metadata": {},
   "outputs": [
    {
     "name": "stdout",
     "output_type": "stream",
     "text": [
      "b    5\n",
      "a    3\n",
      "f    1\n",
      "c    3\n",
      "Name: a series, dtype: int64\n"
     ]
    }
   ],
   "source": [
    "s"
   ]
  },
  {
   "cell_type": "code",
   "execution_count": 62,
   "metadata": {},
   "outputs": [
    {
     "name": "stdout",
     "output_type": "stream",
     "text": [
      "b    7\n",
      "a    5\n",
      "f    3\n",
      "c    5\n",
      "Name: a series, dtype: int64\n"
     ]
    }
   ],
   "source": [
    "## Addition\n",
    "s + 2"
   ]
  },
  {
   "cell_type": "code",
   "execution_count": 63,
   "metadata": {},
   "outputs": [
    {
     "name": "stdout",
     "output_type": "stream",
     "text": [
      "b    3\n",
      "a    1\n",
      "f   -1\n",
      "c    1\n",
      "Name: a series, dtype: int64\n"
     ]
    }
   ],
   "source": [
    "## Subtraction\n",
    "s - 2"
   ]
  },
  {
   "cell_type": "code",
   "execution_count": 64,
   "metadata": {},
   "outputs": [
    {
     "name": "stdout",
     "output_type": "stream",
     "text": [
      "b    10\n",
      "a     6\n",
      "f     2\n",
      "c     6\n",
      "Name: a series, dtype: int64\n"
     ]
    }
   ],
   "source": [
    "## Multiplication\n",
    "s * 2"
   ]
  },
  {
   "cell_type": "code",
   "execution_count": 65,
   "metadata": {},
   "outputs": [
    {
     "name": "stdout",
     "output_type": "stream",
     "text": [
      "b    2.5\n",
      "a    1.5\n",
      "f    0.5\n",
      "c    1.5\n",
      "Name: a series, dtype: float64\n"
     ]
    }
   ],
   "source": [
    "## Division\n",
    "s / 2"
   ]
  },
  {
   "cell_type": "code",
   "execution_count": 66,
   "metadata": {},
   "outputs": [
    {
     "name": "stdout",
     "output_type": "stream",
     "text": [
      "b    2\n",
      "a    1\n",
      "f    0\n",
      "c    1\n",
      "Name: a series, dtype: int64\n"
     ]
    }
   ],
   "source": [
    "## Integer division\n",
    "s // 2"
   ]
  },
  {
   "cell_type": "code",
   "execution_count": 67,
   "metadata": {},
   "outputs": [
    {
     "name": "stdout",
     "output_type": "stream",
     "text": [
      "b    1\n",
      "a    1\n",
      "f    1\n",
      "c    1\n",
      "Name: a series, dtype: int64\n"
     ]
    }
   ],
   "source": [
    "## Modulo\n",
    "s % 2"
   ]
  },
  {
   "cell_type": "code",
   "execution_count": 68,
   "metadata": {},
   "outputs": [
    {
     "name": "stdout",
     "output_type": "stream",
     "text": [
      "b    25\n",
      "a     9\n",
      "f     1\n",
      "c     9\n",
      "Name: a series, dtype: int64\n"
     ]
    }
   ],
   "source": [
    "## Raising to power\n",
    "s ** 2"
   ]
  },
  {
   "cell_type": "code",
   "execution_count": 69,
   "metadata": {},
   "outputs": [
    {
     "data": {
      "text/plain": [
       "b    148.413159\n",
       "a     20.085537\n",
       "f      2.718282\n",
       "c     20.085537\n",
       "Name: a series, dtype: float64"
      ]
     },
     "execution_count": 69,
     "metadata": {},
     "output_type": "execute_result"
    }
   ],
   "source": [
    "## Mathematical functions from Numpy\n",
    "np.exp(s)"
   ]
  },
  {
   "cell_type": "markdown",
   "metadata": {},
   "source": [
    "The same applies of course logical operators such as equality or negation.\n",
    "Vectorization of logical expressions is very useful for creating masks for boolean indexing."
   ]
  },
  {
   "cell_type": "code",
   "execution_count": 73,
   "metadata": {},
   "outputs": [
    {
     "data": {
      "text/plain": [
       "0   -1.435156\n",
       "1    2.182012\n",
       "2    1.116737\n",
       "3    1.115684\n",
       "4    0.420821\n",
       "5   -0.332657\n",
       "6    0.756088\n",
       "7    0.860299\n",
       "8    0.907646\n",
       "9   -0.932923\n",
       "dtype: float64"
      ]
     },
     "execution_count": 73,
     "metadata": {},
     "output_type": "execute_result"
    },
    {
     "data": {
      "text/plain": [
       "1    2.182012\n",
       "2    1.116737\n",
       "3    1.115684\n",
       "4    0.420821\n",
       "6    0.756088\n",
       "7    0.860299\n",
       "8    0.907646\n",
       "dtype: float64"
      ]
     },
     "execution_count": 73,
     "metadata": {},
     "output_type": "execute_result"
    }
   ],
   "source": [
    "x = pd.Series(np.random.normal(0, 1, (10,)))\n",
    "x\n",
    "\n",
    "#x > 0\n",
    "x[x > 0]"
   ]
  },
  {
   "cell_type": "code",
   "execution_count": 74,
   "metadata": {},
   "outputs": [
    {
     "name": "stdout",
     "output_type": "stream",
     "text": [
      "b    5\n",
      "a    3\n",
      "f    1\n",
      "c    3\n",
      "Name: a series, dtype: int64\n"
     ]
    }
   ],
   "source": [
    "s"
   ]
  },
  {
   "cell_type": "code",
   "execution_count": 75,
   "metadata": {},
   "outputs": [
    {
     "name": "stdout",
     "output_type": "stream",
     "text": [
      "b    False\n",
      "a     True\n",
      "f    False\n",
      "c     True\n",
      "Name: a series, dtype: bool\n"
     ]
    }
   ],
   "source": [
    "## Equality\n",
    "s == 3"
   ]
  },
  {
   "cell_type": "code",
   "execution_count": null,
   "metadata": {},
   "outputs": [],
   "source": [
    "## Negation of boolean expression\n",
    "print(~(s == 3))\n",
    "## If course equivalent to\n",
    "print(s != 3)"
   ]
  },
  {
   "cell_type": "markdown",
   "metadata": {},
   "source": [
    "Similarly, most of the standard Numpy mathematical functions vectorize properly over Pandas series as long as they are of numeric `dtype`."
   ]
  },
  {
   "cell_type": "code",
   "execution_count": 76,
   "metadata": {},
   "outputs": [],
   "source": [
    "## Exponentiation\n",
    "np.exp(s)"
   ]
  },
  {
   "cell_type": "code",
   "execution_count": 76,
   "metadata": {},
   "outputs": [],
   "source": [
    "## Natural logarithm\n",
    "np.log(s)"
   ]
  },
  {
   "cell_type": "code",
   "execution_count": 76,
   "metadata": {},
   "outputs": [
    {
     "name": "stdout",
     "output_type": "stream",
     "text": [
      "b    148.413159\n",
      "a     20.085537\n",
      "f      2.718282\n",
      "c     20.085537\n",
      "Name: a series, dtype: float64\n",
      "b    1.609438\n",
      "a    1.098612\n",
      "f    0.000000\n",
      "c    1.098612\n",
      "Name: a series, dtype: float64\n",
      "b   -0.958924\n",
      "a    0.141120\n",
      "f    0.841471\n",
      "c    0.141120\n",
      "Name: a series, dtype: float64\n"
     ]
    }
   ],
   "source": [
    "## Trigonometric functions (e.g. sine)\n",
    "np.sin(s)"
   ]
  },
  {
   "cell_type": "markdown",
   "metadata": {},
   "source": [
    "### Series | broadcasting & alignment\n",
    "\n",
    "As it was already mentioned, broadcasting in Pandas is very different than in Numpy as it is organized around the idea of _labels alignment_.\n",
    "Luckily, this also means that the rules of broadcasting are somewhat simpler in Pandas.\n",
    "\n",
    "Alignment of labels is based on the notion of union of sets. If we have two sets $A = \\{x,y\\}$ and $B = \\{y,z\\}$ then their union is defined as:\n",
    "\n",
    "$$A \\cup B = \\{x, y, z\\}$$\n",
    "\n",
    "In other words a union is a set of all unique elements together.\n",
    "\n",
    "In Pandas any operation between two or more series (we will extend this discussion for data frames later on) is preceeded by the axes alignment\n",
    "stage in which axes of both series are transformed to the union of the two axes. We can see this in action in the chunk below."
   ]
  },
  {
   "cell_type": "code",
   "execution_count": 77,
   "metadata": {},
   "outputs": [
    {
     "name": "stdout",
     "output_type": "stream",
     "text": [
      "a    1\n",
      "b    2\n",
      "dtype: int64\n",
      "a    3\n",
      "c    4\n",
      "dtype: int64\n"
     ]
    },
    {
     "data": {
      "text/plain": [
       "a    4.0\n",
       "b    NaN\n",
       "c    NaN\n",
       "dtype: float64"
      ]
     },
     "execution_count": 77,
     "metadata": {},
     "output_type": "execute_result"
    }
   ],
   "source": [
    "s1 = pd.Series([1, 2], index=['a', 'b'])\n",
    "s2 = pd.Series([3, 4], index=['a', 'c'])\n",
    "\n",
    "print(s1)\n",
    "print(s2)\n",
    "\n",
    "s1 + s2"
   ]
  },
  {
   "cell_type": "markdown",
   "metadata": {},
   "source": [
    "What happened? To see what is going on step-by-step we will have to replicate the axes alignment stage ourselves. To do so we will have to\n",
    "use a few methods of the index objects. For now we show them without much commentary as we will discuss index type later on."
   ]
  },
  {
   "cell_type": "code",
   "execution_count": 81,
   "metadata": {},
   "outputs": [
    {
     "data": {
      "text/plain": [
       "Index(['a', 'b', 'c'], dtype='object')"
      ]
     },
     "execution_count": 81,
     "metadata": {},
     "output_type": "execute_result"
    }
   ],
   "source": [
    "# The first step is to compute index union\n",
    "index_union = s1.index.union(s2.index)\n",
    "index_union = s2.index.union(s1.index)\n",
    "index_union"
   ]
  },
  {
   "cell_type": "code",
   "execution_count": 82,
   "metadata": {},
   "outputs": [
    {
     "data": {
      "text/plain": [
       "a    1.0\n",
       "b    2.0\n",
       "c    NaN\n",
       "dtype: float64"
      ]
     },
     "execution_count": 82,
     "metadata": {},
     "output_type": "execute_result"
    }
   ],
   "source": [
    "# The second step is to reindex the first series\n",
    "s1 = s1.reindex(index_union)\n",
    "s1"
   ]
  },
  {
   "cell_type": "code",
   "execution_count": 83,
   "metadata": {},
   "outputs": [
    {
     "data": {
      "text/plain": [
       "a    3.0\n",
       "b    NaN\n",
       "c    4.0\n",
       "dtype: float64"
      ]
     },
     "execution_count": 83,
     "metadata": {},
     "output_type": "execute_result"
    }
   ],
   "source": [
    "# The third step is to reindex the second series\n",
    "s2 = s2.reindex(index_union)\n",
    "s2"
   ]
  },
  {
   "cell_type": "code",
   "execution_count": 84,
   "metadata": {},
   "outputs": [
    {
     "data": {
      "text/plain": [
       "a    4.0\n",
       "b    NaN\n",
       "c    NaN\n",
       "dtype: float64"
      ]
     },
     "execution_count": 84,
     "metadata": {},
     "output_type": "execute_result"
    }
   ],
   "source": [
    "# The fourth and the last step is to perform the actual addition\n",
    "s1 + s2"
   ]
  },
  {
   "cell_type": "code",
   "execution_count": 86,
   "metadata": {},
   "outputs": [
    {
     "name": "stdout",
     "output_type": "stream",
     "text": [
      "a    1\n",
      "b    2\n",
      "dtype: int64\n",
      "b    10\n",
      "a    20\n",
      "dtype: int64\n"
     ]
    },
    {
     "data": {
      "text/plain": [
       "a    21\n",
       "b    12\n",
       "dtype: int64"
      ]
     },
     "execution_count": 86,
     "metadata": {},
     "output_type": "execute_result"
    }
   ],
   "source": [
    "x1 = pd.Series([1, 2], index=['a', 'b'])\n",
    "x2 = pd.Series([10, 20], index=['b', 'a'])\n",
    "\n",
    "print(x1)\n",
    "print(x2)\n",
    "\n",
    "x1 + x2"
   ]
  },
  {
   "cell_type": "markdown",
   "metadata": {},
   "source": [
    "We get two NaN values as we have two NaNs at different positions in two series and as we know NaN values destroy any computation they appear in."
   ]
  },
  {
   "cell_type": "markdown",
   "metadata": {},
   "source": [
    "The above example shows that NaN value can pop up frequently in Pandas as a byproduct of the axes alignment process.\n",
    "\n",
    "Thus, it is very important to understand how they work."
   ]
  },
  {
   "cell_type": "markdown",
   "metadata": {},
   "source": [
    "## Series | NaN values\n",
    "\n",
    "**THIS DISCUSSION GENERALIZES TO DATA FRAMES**\n",
    "\n",
    "In general Pandas NaNs are just standard numpy `np.nan` objects, so we already know their mechanics.\n",
    "However, they way they are handled in Pandas objects such as `Series` is slightly different.\n",
    "\n",
    "Perhaps the most important difference is the fact that aggregating methods in Pandas such as `.sum()` or `.mean()` (discussed in the next section) skip NaN values by default. Moreover, standard Python `None` values are also treated as NaN in Pandas."
   ]
  },
  {
   "cell_type": "code",
   "execution_count": 87,
   "metadata": {},
   "outputs": [
    {
     "data": {
      "text/plain": [
       "a    4.0\n",
       "b    NaN\n",
       "c    NaN\n",
       "dtype: float64"
      ]
     },
     "execution_count": 87,
     "metadata": {},
     "output_type": "execute_result"
    }
   ],
   "source": [
    "s12 = s1 + s2\n",
    "s12"
   ]
  },
  {
   "cell_type": "code",
   "execution_count": 88,
   "metadata": {},
   "outputs": [
    {
     "data": {
      "text/plain": [
       "4.0"
      ]
     },
     "execution_count": 88,
     "metadata": {},
     "output_type": "execute_result"
    }
   ],
   "source": [
    "# Discard NaNs (default behavior)\n",
    "s12.sum()"
   ]
  },
  {
   "cell_type": "code",
   "execution_count": 89,
   "metadata": {},
   "outputs": [
    {
     "data": {
      "text/plain": [
       "nan"
      ]
     },
     "execution_count": 89,
     "metadata": {},
     "output_type": "execute_result"
    }
   ],
   "source": [
    "# Do not discard NaNs\n",
    "s12.sum(skipna=False)"
   ]
  },
  {
   "cell_type": "markdown",
   "metadata": {},
   "source": [
    "The other main difference is the thing that we already observed. NaN values are created in Pandas when new cells are created during axes alignment."
   ]
  },
  {
   "cell_type": "markdown",
   "metadata": {},
   "source": [
    "We can easily remove NaN values from a series with `.dropna` method."
   ]
  },
  {
   "cell_type": "code",
   "execution_count": 90,
   "metadata": {},
   "outputs": [
    {
     "name": "stdout",
     "output_type": "stream",
     "text": [
      "0    1.0\n",
      "1    2.0\n",
      "2    NaN\n",
      "3    4.0\n",
      "dtype: float64\n"
     ]
    },
    {
     "data": {
      "text/plain": [
       "0    1.0\n",
       "1    2.0\n",
       "3    4.0\n",
       "dtype: float64"
      ]
     },
     "execution_count": 90,
     "metadata": {},
     "output_type": "execute_result"
    }
   ],
   "source": [
    "x = pd.Series([1, 2, np.nan, 4])\n",
    "print(x)\n",
    "x.dropna()"
   ]
  },
  {
   "cell_type": "code",
   "execution_count": 91,
   "metadata": {},
   "outputs": [
    {
     "data": {
      "text/plain": [
       "0    False\n",
       "1    False\n",
       "2     True\n",
       "3    False\n",
       "dtype: bool"
      ]
     },
     "execution_count": 91,
     "metadata": {},
     "output_type": "execute_result"
    }
   ],
   "source": [
    "x.isna()"
   ]
  },
  {
   "cell_type": "code",
   "execution_count": 93,
   "metadata": {},
   "outputs": [
    {
     "data": {
      "text/plain": [
       "2   NaN\n",
       "dtype: float64"
      ]
     },
     "execution_count": 93,
     "metadata": {},
     "output_type": "execute_result"
    }
   ],
   "source": [
    "x[x.isna()]"
   ]
  },
  {
   "cell_type": "code",
   "execution_count": 94,
   "metadata": {},
   "outputs": [
    {
     "data": {
      "text/plain": [
       "0    1.0\n",
       "1    2.0\n",
       "3    4.0\n",
       "dtype: float64"
      ]
     },
     "execution_count": 94,
     "metadata": {},
     "output_type": "execute_result"
    },
    {
     "data": {
      "text/plain": [
       "0    1.0\n",
       "1    2.0\n",
       "3    4.0\n",
       "dtype: float64"
      ]
     },
     "execution_count": 94,
     "metadata": {},
     "output_type": "execute_result"
    }
   ],
   "source": [
    "# The above is equivalent to\n",
    "x[~x.isna()]\n",
    "x.dropna()"
   ]
  },
  {
   "cell_type": "code",
   "execution_count": 96,
   "metadata": {},
   "outputs": [],
   "source": [
    "# Both `np.nan` and `None` are treated as NaN in Pandas\n",
    "x = pd.Series([1, np.nan, None])\n",
    "x\n",
    "\n",
    "x.isna()"
   ]
  },
  {
   "cell_type": "code",
   "execution_count": 96,
   "metadata": {},
   "outputs": [
    {
     "data": {
      "text/plain": [
       "0    1.0\n",
       "1    NaN\n",
       "2    NaN\n",
       "dtype: float64"
      ]
     },
     "execution_count": 96,
     "metadata": {},
     "output_type": "execute_result"
    },
    {
     "name": "stdout",
     "output_type": "stream",
     "text": [
      "0    False\n",
      "1     True\n",
      "2     True\n",
      "dtype: bool\n",
      "0    False\n",
      "1     True\n",
      "2     True\n",
      "dtype: bool\n"
     ]
    }
   ],
   "source": [
    "# Alias method\n",
    "x.isnull()"
   ]
  },
  {
   "cell_type": "markdown",
   "metadata": {},
   "source": [
    "It is also possible to fillin value in place of NaNs."
   ]
  },
  {
   "cell_type": "code",
   "execution_count": 101,
   "metadata": {},
   "outputs": [
    {
     "name": "stdout",
     "output_type": "stream",
     "text": [
      "a    1.0\n",
      "b    2.0\n",
      "c    NaN\n",
      "d    NaN\n",
      "e    5.0\n",
      "dtype: float64\n"
     ]
    },
    {
     "data": {
      "text/plain": [
       "a     1.0\n",
       "b     2.0\n",
       "c    99.0\n",
       "d    99.0\n",
       "e     5.0\n",
       "dtype: float64"
      ]
     },
     "execution_count": 101,
     "metadata": {},
     "output_type": "execute_result"
    },
    {
     "data": {
      "text/plain": [
       "a    1.000000\n",
       "b    2.000000\n",
       "c    2.666667\n",
       "d    2.666667\n",
       "e    5.000000\n",
       "dtype: float64"
      ]
     },
     "execution_count": 101,
     "metadata": {},
     "output_type": "execute_result"
    }
   ],
   "source": [
    "x = pd.Series([1, 2, np.nan, np.nan, 5], index=['a', 'b', 'c', 'd', 'e'])\n",
    "print(x)\n",
    "\n",
    "x.fillna(99)\n",
    "\n",
    "x.fillna(x.mean())"
   ]
  },
  {
   "cell_type": "code",
   "execution_count": 103,
   "metadata": {},
   "outputs": [
    {
     "data": {
      "text/plain": [
       "a    1.000000\n",
       "b    2.000000\n",
       "c    2.666667\n",
       "d    2.666667\n",
       "e    5.000000\n",
       "dtype: float64"
      ]
     },
     "execution_count": 103,
     "metadata": {},
     "output_type": "execute_result"
    },
    {
     "data": {
      "text/plain": [
       "a    1.0\n",
       "b    2.0\n",
       "c    NaN\n",
       "d    NaN\n",
       "e    5.0\n",
       "dtype: float64"
      ]
     },
     "execution_count": 103,
     "metadata": {},
     "output_type": "execute_result"
    }
   ],
   "source": [
    "x.fillna(x.mean())\n",
    "\n",
    "x"
   ]
  },
  {
   "cell_type": "code",
   "execution_count": 99,
   "metadata": {},
   "outputs": [
    {
     "data": {
      "text/plain": [
       "a    1.000000\n",
       "b    2.000000\n",
       "c    2.666667\n",
       "d    2.666667\n",
       "e    5.000000\n",
       "dtype: float64"
      ]
     },
     "execution_count": 99,
     "metadata": {},
     "output_type": "execute_result"
    }
   ],
   "source": [
    "# The above is equivalent to\n",
    "x[x.isna()] = x.mean()\n",
    "x"
   ]
  },
  {
   "cell_type": "code",
   "execution_count": 106,
   "metadata": {},
   "outputs": [
    {
     "data": {
      "text/plain": [
       "a    1.0\n",
       "b    2.0\n",
       "c    NaN\n",
       "d    NaN\n",
       "e    5.0\n",
       "dtype: float64"
      ]
     },
     "execution_count": 106,
     "metadata": {},
     "output_type": "execute_result"
    },
    {
     "data": {
      "text/plain": [
       "a    1.0\n",
       "b    2.0\n",
       "c    3.0\n",
       "d    4.0\n",
       "e    5.0\n",
       "dtype: float64"
      ]
     },
     "execution_count": 106,
     "metadata": {},
     "output_type": "execute_result"
    }
   ],
   "source": [
    "x = pd.Series([1, 2, np.nan, np.nan, 5], index=['a', 'b', 'c', 'd', 'e'])\n",
    "x\n",
    "# It is possible to fill different values for different labels\n",
    "x.fillna({ 'c': 3, 'd': 4})"
   ]
  },
  {
   "cell_type": "code",
   "execution_count": null,
   "metadata": {},
   "outputs": [],
   "source": [
    "# The above is equivalent to\n",
    "x[x.isna()] = [3, 4]\n",
    "x"
   ]
  },
  {
   "cell_type": "markdown",
   "metadata": {},
   "source": [
    "## Series | Aggregation\n",
    "\n",
    "**The same methods are available also for data frames**\n",
    "\n",
    "Pandas objects such as `Series` and `DataFrame`s support aggregation methods known from numpy. Below we list some of them.\n",
    "\n",
    "In the case of series there is no much to aggregation as it always leads to a single number.\n",
    "However, in the case of data frames we can choose axes we want to aggregato over as it we can in Numpy. We discuss this issue later on."
   ]
  },
  {
   "cell_type": "code",
   "execution_count": 107,
   "metadata": {},
   "outputs": [
    {
     "data": {
      "text/plain": [
       "12"
      ]
     },
     "execution_count": 107,
     "metadata": {},
     "output_type": "execute_result"
    },
    {
     "data": {
      "text/plain": [
       "3.0"
      ]
     },
     "execution_count": 107,
     "metadata": {},
     "output_type": "execute_result"
    },
    {
     "data": {
      "text/plain": [
       "2.6666666666666665"
      ]
     },
     "execution_count": 107,
     "metadata": {},
     "output_type": "execute_result"
    },
    {
     "data": {
      "text/plain": [
       "1.632993161855452"
      ]
     },
     "execution_count": 107,
     "metadata": {},
     "output_type": "execute_result"
    },
    {
     "data": {
      "text/plain": [
       "1"
      ]
     },
     "execution_count": 107,
     "metadata": {},
     "output_type": "execute_result"
    },
    {
     "data": {
      "text/plain": [
       "5"
      ]
     },
     "execution_count": 107,
     "metadata": {},
     "output_type": "execute_result"
    }
   ],
   "source": [
    "# Sum\n",
    "s.sum()\n",
    "# Mean\n",
    "s.mean()\n",
    "# Variance\n",
    "s.var()\n",
    "# Standard deviation\n",
    "s.std()\n",
    "# Minimum\n",
    "s.min()\n",
    "# Maximum\n",
    "s.max()"
   ]
  },
  {
   "cell_type": "markdown",
   "metadata": {},
   "source": [
    "We can also ask for labels of maximum and minimum elements."
   ]
  },
  {
   "cell_type": "code",
   "execution_count": 108,
   "metadata": {},
   "outputs": [
    {
     "name": "stdout",
     "output_type": "stream",
     "text": [
      "b    5\n",
      "a    3\n",
      "f    1\n",
      "c    3\n",
      "Name: a series, dtype: int64\n",
      "b\n",
      "f\n"
     ]
    }
   ],
   "source": [
    "print(s)\n",
    "print(s.idxmax())\n",
    "print(s.idxmin())"
   ]
  },
  {
   "cell_type": "markdown",
   "metadata": {},
   "source": [
    "Moreover, we can use standard boolean aggregators."
   ]
  },
  {
   "cell_type": "code",
   "execution_count": 109,
   "metadata": {},
   "outputs": [
    {
     "name": "stdout",
     "output_type": "stream",
     "text": [
      "b    5\n",
      "a    3\n",
      "f    1\n",
      "c    3\n",
      "Name: a series, dtype: int64\n",
      "False\n",
      "True\n"
     ]
    }
   ],
   "source": [
    "print(s)\n",
    "\n",
    "print((s == 3).all())\n",
    "print((s == 3).any())"
   ]
  },
  {
   "cell_type": "markdown",
   "metadata": {},
   "source": [
    "## Series | Testing membership\n",
    "\n",
    "A very useful feature of Pandas series is the fact that they provide easy-to-use and efficient method to test whether values\n",
    "in a series are in some set of values. Below we extract from a series of positive integers only those that are prime numbers lower than $10$."
   ]
  },
  {
   "cell_type": "code",
   "execution_count": 110,
   "metadata": {},
   "outputs": [
    {
     "data": {
      "text/plain": [
       "0      2\n",
       "1      9\n",
       "2     18\n",
       "3      2\n",
       "4      1\n",
       "5     15\n",
       "6     11\n",
       "7     11\n",
       "8     13\n",
       "9     19\n",
       "10     2\n",
       "11     4\n",
       "12    12\n",
       "13     6\n",
       "14     7\n",
       "15    10\n",
       "16    17\n",
       "17    18\n",
       "18     9\n",
       "19    14\n",
       "20     2\n",
       "21    14\n",
       "22    13\n",
       "23    19\n",
       "24     9\n",
       "25     5\n",
       "26     4\n",
       "27     1\n",
       "28    11\n",
       "29    17\n",
       "dtype: int64"
      ]
     },
     "execution_count": 110,
     "metadata": {},
     "output_type": "execute_result"
    }
   ],
   "source": [
    "np.random.seed(9)\n",
    "\n",
    "x = pd.Series(np.random.randint(1, 20, size=(30,)))\n",
    "x"
   ]
  },
  {
   "cell_type": "code",
   "execution_count": 111,
   "metadata": {},
   "outputs": [
    {
     "data": {
      "text/plain": [
       "0     2\n",
       "3     2\n",
       "10    2\n",
       "14    7\n",
       "20    2\n",
       "25    5\n",
       "dtype: int64"
      ]
     },
     "execution_count": 111,
     "metadata": {},
     "output_type": "execute_result"
    }
   ],
   "source": [
    "primes = [2, 3, 5, 7]\n",
    "\n",
    "x[x.isin(primes)]"
   ]
  },
  {
   "cell_type": "markdown",
   "metadata": {},
   "source": [
    "### Series | Exercise 1.\n",
    "\n",
    "Change values for lowest and highest elements to -111."
   ]
  },
  {
   "cell_type": "code",
   "execution_count": 113,
   "metadata": {},
   "outputs": [
    {
     "data": {
      "text/plain": [
       "0    95\n",
       "1    11\n",
       "2    81\n",
       "3    70\n",
       "4    63\n",
       "dtype: int64"
      ]
     },
     "execution_count": 113,
     "metadata": {},
     "output_type": "execute_result"
    }
   ],
   "source": [
    "np.random.seed(101)\n",
    "\n",
    "s = pd.Series(np.random.randint(0, 100, (30,)))\n",
    "s[:5]"
   ]
  },
  {
   "cell_type": "code",
   "execution_count": 115,
   "metadata": {},
   "outputs": [
    {
     "data": {
      "text/plain": [
       "0    -111\n",
       "1      11\n",
       "2      81\n",
       "3      70\n",
       "4      63\n",
       "5      87\n",
       "6      75\n",
       "7       9\n",
       "8      77\n",
       "9      40\n",
       "10   -111\n",
       "11     63\n",
       "12     40\n",
       "13     60\n",
       "14     92\n",
       "15     64\n",
       "16      5\n",
       "17     12\n",
       "18   -111\n",
       "19     40\n",
       "20     49\n",
       "21     83\n",
       "22      8\n",
       "23     29\n",
       "24     59\n",
       "25     34\n",
       "26     44\n",
       "27     72\n",
       "28     19\n",
       "29     10\n",
       "dtype: int64"
      ]
     },
     "execution_count": 115,
     "metadata": {},
     "output_type": "execute_result"
    }
   ],
   "source": [
    "# Your solution"
   ]
  },
  {
   "cell_type": "markdown",
   "metadata": {},
   "source": [
    "### Series | Exercise 2.\n",
    "\n",
    "Create two series with three numeric elements and use them to create a series with six elements filled with NaNs.\n",
    "When creating the 6-elements series you can use only arithmetic operations.\n",
    "\n",
    "HINT. Remember about the rules of alignment."
   ]
  },
  {
   "cell_type": "code",
   "execution_count": 123,
   "metadata": {},
   "outputs": [
    {
     "data": {
      "text/plain": [
       "a   NaN\n",
       "b   NaN\n",
       "c   NaN\n",
       "d   NaN\n",
       "e   NaN\n",
       "f   NaN\n",
       "dtype: float64"
      ]
     },
     "execution_count": 123,
     "metadata": {},
     "output_type": "execute_result"
    }
   ],
   "source": [
    "# Your solution"
   ]
  },
  {
   "cell_type": "markdown",
   "metadata": {},
   "source": [
    "### Series | Iteration\n",
    "\n",
    "The behavior of Pandas series in standard Python for-loop iteration is of course obvious. We iterate over values."
   ]
  },
  {
   "cell_type": "code",
   "execution_count": 124,
   "metadata": {},
   "outputs": [
    {
     "name": "stdout",
     "output_type": "stream",
     "text": [
      "1\n",
      "2\n",
      "3\n",
      "4\n",
      "5\n"
     ]
    }
   ],
   "source": [
    "x = pd.Series([1, 2, 3, 4, 5])\n",
    "\n",
    "for i in x:\n",
    "    print(i)"
   ]
  },
  {
   "cell_type": "markdown",
   "metadata": {},
   "source": [
    "However, since a series is also a kind of a `dict` we can also iterato over index values and data values in parallel\n",
    "using the `.items()` method that we know from standard dictionaries."
   ]
  },
  {
   "cell_type": "code",
   "execution_count": 126,
   "metadata": {},
   "outputs": [
    {
     "data": {
      "text/plain": [
       "0    1\n",
       "1    2\n",
       "2    3\n",
       "3    4\n",
       "4    5\n",
       "dtype: int64"
      ]
     },
     "execution_count": 126,
     "metadata": {},
     "output_type": "execute_result"
    },
    {
     "name": "stdout",
     "output_type": "stream",
     "text": [
      "0 => 1\n",
      "1 => 2\n",
      "2 => 3\n",
      "3 => 4\n",
      "4 => 5\n"
     ]
    }
   ],
   "source": [
    "x\n",
    "for idx, val in x.items():\n",
    "    print(idx, \"=>\", val)"
   ]
  },
  {
   "cell_type": "markdown",
   "metadata": {},
   "source": [
    "In general, iterating over series should be avoided as it will be almost always slow. We should use the fact that internally\n",
    "series store their data in Numpy-like arrays, so we should use vectorized operations.\n",
    "\n",
    "However, sometimes this is not possible and we may want to apply some function elementwise to a series.\n",
    "To do that we can use `.map()` method definded on series objects.\n",
    "\n",
    "It can be used to apply a function element-wise or to map elements of a series to new values based on a dictionary or other series."
   ]
  },
  {
   "cell_type": "code",
   "execution_count": 127,
   "metadata": {},
   "outputs": [
    {
     "data": {
      "text/plain": [
       "0     d\n",
       "1     d\n",
       "2     a\n",
       "3     a\n",
       "4     d\n",
       "5     b\n",
       "6     a\n",
       "7     d\n",
       "8     a\n",
       "9     b\n",
       "10    d\n",
       "11    b\n",
       "12    a\n",
       "13    d\n",
       "14    a\n",
       "15    d\n",
       "16    c\n",
       "17    a\n",
       "18    c\n",
       "19    a\n",
       "dtype: object"
      ]
     },
     "execution_count": 127,
     "metadata": {},
     "output_type": "execute_result"
    }
   ],
   "source": [
    "np.random.seed(77)\n",
    "\n",
    "x = pd.Series(np.random.choice(['a', 'b', 'c', 'd'], size=(20,)))\n",
    "x"
   ]
  },
  {
   "cell_type": "code",
   "execution_count": 131,
   "metadata": {},
   "outputs": [
    {
     "data": {
      "text/plain": [
       "0     44\n",
       "1     44\n",
       "2     11\n",
       "3     11\n",
       "4     44\n",
       "5     22\n",
       "6     11\n",
       "7     44\n",
       "8     11\n",
       "9     22\n",
       "10    44\n",
       "11    22\n",
       "12    11\n",
       "13    44\n",
       "14    11\n",
       "15    44\n",
       "16    33\n",
       "17    11\n",
       "18    33\n",
       "19    11\n",
       "dtype: int64"
      ]
     },
     "execution_count": 131,
     "metadata": {},
     "output_type": "execute_result"
    }
   ],
   "source": [
    "# Now we will recode the values\n",
    "value_map = {\n",
    "    'a': 11,\n",
    "    'b': 22,\n",
    "    'c': 33,\n",
    "    'd': 44\n",
    "}\n",
    "x.map(value_map)"
   ]
  },
  {
   "cell_type": "code",
   "execution_count": 132,
   "metadata": {},
   "outputs": [
    {
     "data": {
      "text/plain": [
       "0     44\n",
       "1     44\n",
       "2     11\n",
       "3     11\n",
       "4     44\n",
       "5     22\n",
       "6     11\n",
       "7     44\n",
       "8     11\n",
       "9     22\n",
       "10    44\n",
       "11    22\n",
       "12    11\n",
       "13    44\n",
       "14    11\n",
       "15    44\n",
       "16    33\n",
       "17    11\n",
       "18    33\n",
       "19    11\n",
       "dtype: int64"
      ]
     },
     "execution_count": 132,
     "metadata": {},
     "output_type": "execute_result"
    }
   ],
   "source": [
    "# We can do the same with a function\n",
    "def value_map(x):\n",
    "    if x == 'a':\n",
    "        return 11\n",
    "    if x == 'b':\n",
    "        return 22\n",
    "    if x == 'c':\n",
    "        return 33\n",
    "    if x == 'd':\n",
    "        return 44\n",
    "    return np.nan\n",
    "\n",
    "x.map(value_map)"
   ]
  },
  {
   "cell_type": "markdown",
   "metadata": {},
   "source": [
    "## Series | Exercise 3.\n",
    "\n",
    "You are provided with a set of random codes composed of ASCII letters. Your task is to convert them to shorter codes according\n",
    "to the following rules:\n",
    "\n",
    "1. The shorter code should start with 1 if the longer code starts with A, with 2 if the longer starts with B, with 3 if the longer starts with C\n",
    "and with 0 if the longer starts with any other letter.\n",
    "2. Then append uppercase # (hash sign).\n",
    "3. Then the length of the longer code should be appended.\n",
    "\n",
    "**Example**\n",
    "\n",
    "Long code: BACFTYSBFTYSGC\n",
    "\n",
    "Short code: 2#14"
   ]
  },
  {
   "cell_type": "code",
   "execution_count": 133,
   "metadata": {},
   "outputs": [
    {
     "data": {
      "text/plain": [
       "0                            CZEMDJYSOAYHXVTULCGOHGCN\n",
       "1                           PLCXVYBBCPGVZUMNLYACGWTUE\n",
       "2                                HPGGGLIKESQZHUXXEAJP\n",
       "3                                   BTTHUZIECRSAMCZHE\n",
       "4       AHRSZGUKBGRPBMREOYDLDKAYHKMCSPALYJZGVFAUCTVDW\n",
       "5                                         DGKJCEBOMPG\n",
       "6                               BMJIXPGJIOICAJPKHLACW\n",
       "7                         OMKRQLSKUQYJBKDDTVKZKSJBZOH\n",
       "8                                    TJYHSQKSYRHZZLYB\n",
       "9                      PSTQDRWGIDHFNHWFBWPGYWCCTLIRIR\n",
       "10    TQVBGEEMOZZWPVLGXYYSGCGYOFTEMEFGSPDCXLOCFHJHAJQ\n",
       "11        GNAMVXSXVLPOPWMZDMQUAEHZBULUWTGBLMBZVTTFVFF\n",
       "12                                        BBQQNBRZBCO\n",
       "13                                     FRSCLJRIPZABBQ\n",
       "14            UGKJISBTVFXMVODLOURUGVHCFNMSNASKCIBMYHH\n",
       "15             DLBWFKTBAFXSHJPHPBTVGSWENSBYLEVWTKVJZQ\n",
       "16                                         EWWTKXEDAE\n",
       "17             LTKGTFJMSYYRWJCIPFOWQPVEPGRLKSVXWYROCS\n",
       "18                OMLVMNAWPXPWBLJOWAUWULPPJKZZAZNVVSV\n",
       "19    DWQNIZCFJHDOHUFGOPFYEPHMVASLBDXWJAJSZQQGZDHFYEI\n",
       "20                              SDUFNVWWFKCSWDKDCQSPX\n",
       "21                                      LHQPZVRGCMCDL\n",
       "22                       RQKSMGHUGVKRLXMZKNHGUFKOAOMS\n",
       "23     XOUAYQCLMXSFIKYOJLXDPMBNATFLTTBCWRTNVEUAYAACEX\n",
       "24                    EFYZWUBOAVKGQYBZRNQTRKLCMOIALAG\n",
       "25                   SCBNXSGXCNBOCYDNYXPLPCFLVLYFUIFM\n",
       "26                           WEIQCOOVDFMASIOBCGAAHESV\n",
       "27    ERYWRHEMXPRJEEYSRJZNQYPFSMMNVSTROMAWPPXUFWLNOSK\n",
       "28               HFNPDRDPPPEIZPSKGYWMCXEUDEPBMVUUZUIV\n",
       "29                        IDUYLNXYHDMUBXRKPESDENCOQZT\n",
       "dtype: object"
      ]
     },
     "execution_count": 133,
     "metadata": {},
     "output_type": "execute_result"
    }
   ],
   "source": [
    "from string import ascii_uppercase\n",
    "long_codes = pd.Series(\"\".join(np.random.choice(list(ascii_uppercase), size=(i,))) for i in np.random.randint(10, 50, (30,)))\n",
    "long_codes"
   ]
  },
  {
   "cell_type": "code",
   "execution_count": 135,
   "metadata": {},
   "outputs": [
    {
     "data": {
      "text/plain": [
       "0     3#24\n",
       "1     0#25\n",
       "2     0#20\n",
       "3     2#17\n",
       "4     1#45\n",
       "5     0#11\n",
       "6     2#21\n",
       "7     0#27\n",
       "8     0#16\n",
       "9     0#30\n",
       "10    0#47\n",
       "11    0#43\n",
       "12    2#11\n",
       "13    0#14\n",
       "14    0#39\n",
       "15    0#38\n",
       "16    0#10\n",
       "17    0#38\n",
       "18    0#35\n",
       "19    0#47\n",
       "20    0#21\n",
       "21    0#13\n",
       "22    0#28\n",
       "23    0#46\n",
       "24    0#31\n",
       "25    0#32\n",
       "26    0#24\n",
       "27    0#47\n",
       "28    0#36\n",
       "29    0#27\n",
       "dtype: object"
      ]
     },
     "execution_count": 135,
     "metadata": {},
     "output_type": "execute_result"
    }
   ],
   "source": [
    "## Your solution"
   ]
  },
  {
   "cell_type": "markdown",
   "metadata": {},
   "source": [
    "## Index | Explicit labeling for axes\n",
    "\n",
    "As we already discussed index object is an integral element of every series (and as we will see later also data frame).\n",
    "It provides explicit labeling for an axis along which elements of a series are aligned.\n",
    "In Numpy indexes were implicit and derived just from ordering of elements. In Pandas they are full-fledged Python objects\n",
    "with a lot of their functionalities, so it is important that we understand their mechanics before discussing the most\n",
    "important and most complex type in Pandas, that is, `DataFrame`.\n",
    "\n",
    "Indexes may be created with a constructor in a similar as way as series. Like series, they can also be assigned with names."
   ]
  },
  {
   "cell_type": "code",
   "execution_count": 136,
   "metadata": {},
   "outputs": [],
   "source": [
    "import pandas as pd"
   ]
  },
  {
   "cell_type": "code",
   "execution_count": 142,
   "metadata": {},
   "outputs": [
    {
     "data": {
      "text/plain": [
       "Index(['a', 'b', 'c'], dtype='object')"
      ]
     },
     "execution_count": 142,
     "metadata": {},
     "output_type": "execute_result"
    }
   ],
   "source": [
    "pd.Series([1,2,3], index=('a', 'b', 'c')).index"
   ]
  },
  {
   "cell_type": "code",
   "execution_count": 138,
   "metadata": {},
   "outputs": [
    {
     "data": {
      "text/plain": [
       "Index(['a', 'b', 'c'], dtype='object')"
      ]
     },
     "execution_count": 138,
     "metadata": {},
     "output_type": "execute_result"
    }
   ],
   "source": [
    "idx = pd.Index(['a', 'b', 'c'])\n",
    "idx"
   ]
  },
  {
   "cell_type": "code",
   "execution_count": 143,
   "metadata": {},
   "outputs": [
    {
     "data": {
      "text/plain": [
       "Index(['a', 'b', 'c'], dtype='object', name='an index')"
      ]
     },
     "execution_count": 143,
     "metadata": {},
     "output_type": "execute_result"
    }
   ],
   "source": [
    "# Named index\n",
    "idx = pd.Index(['a', 'b', 'c'], name='an index')\n",
    "idx"
   ]
  },
  {
   "cell_type": "markdown",
   "metadata": {},
   "source": [
    "Indexes can be used passed to series constructors."
   ]
  },
  {
   "cell_type": "code",
   "execution_count": 144,
   "metadata": {},
   "outputs": [
    {
     "data": {
      "text/plain": [
       "an index\n",
       "a     1\n",
       "b    11\n",
       "c    22\n",
       "dtype: int64"
      ]
     },
     "execution_count": 144,
     "metadata": {},
     "output_type": "execute_result"
    }
   ],
   "source": [
    "pd.Series([1, 11, 22], index=idx)\n",
    "# Note that the name of the index is printed"
   ]
  },
  {
   "cell_type": "markdown",
   "metadata": {},
   "source": [
    "In general, indexes behave like multisets and they may contain duplicate labels. However, this situation should be usually avoided\n",
    "as some procedures in Pandas are not implemented for this case and will raise an error. Moreover, this kind of ambiguity\n",
    "will sooner or later lead to problems and/or errors in computations."
   ]
  },
  {
   "cell_type": "code",
   "execution_count": 145,
   "metadata": {},
   "outputs": [
    {
     "data": {
      "text/plain": [
       "a    1\n",
       "b    2\n",
       "a    3\n",
       "c    4\n",
       "dtype: int64"
      ]
     },
     "execution_count": 145,
     "metadata": {},
     "output_type": "execute_result"
    }
   ],
   "source": [
    "# Duplicate labels are problematic\n",
    "s = pd.Series([1, 2, 3, 4], index=['a', 'b', 'a', 'c'])\n",
    "s"
   ]
  },
  {
   "cell_type": "code",
   "execution_count": 148,
   "metadata": {},
   "outputs": [
    {
     "data": {
      "text/plain": [
       "a    1\n",
       "a    3\n",
       "dtype: int64"
      ]
     },
     "execution_count": 148,
     "metadata": {},
     "output_type": "execute_result"
    }
   ],
   "source": [
    "s['a']"
   ]
  },
  {
   "cell_type": "markdown",
   "metadata": {},
   "source": [
    "But they may be also useful in some cases. We will discuss this issue later."
   ]
  },
  {
   "cell_type": "markdown",
   "metadata": {},
   "source": [
    "Indexes and labels in Pandas can be very powerful, but sometimes they can be annoying and stand in our way. A typical example of situation\n",
    "like that is when we have two series of the same length which we want to add together, but they come from different sources and may have\n",
    "different indexes, so in the alignment stage NaN values will be produced.\n",
    "\n",
    "Luckily, indexes can be reset and changed to generic integer indexes (similar to implicit Numpy indexes) at any moment.\n",
    "We illustrate this below."
   ]
  },
  {
   "cell_type": "code",
   "execution_count": 150,
   "metadata": {},
   "outputs": [
    {
     "data": {
      "text/plain": [
       "0   NaN\n",
       "1   NaN\n",
       "2   NaN\n",
       "a   NaN\n",
       "b   NaN\n",
       "c   NaN\n",
       "dtype: float64"
      ]
     },
     "execution_count": 150,
     "metadata": {},
     "output_type": "execute_result"
    }
   ],
   "source": [
    "s1 = pd.Series([1, 2, 3])\n",
    "s2 = pd.Series([4, 5, 6], index=['a', 'b', 'c'])\n",
    "\n",
    "s1 + s2"
   ]
  },
  {
   "cell_type": "markdown",
   "metadata": {},
   "source": [
    "This did not work becuase labels are completely different between the series. The first one has generic integer labels, but the second\n",
    "one has string labels. To solve this problem we can reset index of the second series."
   ]
  },
  {
   "cell_type": "code",
   "execution_count": 153,
   "metadata": {},
   "outputs": [
    {
     "data": {
      "text/plain": [
       "a    4\n",
       "b    5\n",
       "c    6\n",
       "dtype: int64"
      ]
     },
     "execution_count": 153,
     "metadata": {},
     "output_type": "execute_result"
    },
    {
     "data": {
      "text/plain": [
       "0    4\n",
       "1    5\n",
       "2    6\n",
       "dtype: int64"
      ]
     },
     "execution_count": 153,
     "metadata": {},
     "output_type": "execute_result"
    }
   ],
   "source": [
    "s2\n",
    "s2.reset_index(drop=True)"
   ]
  },
  {
   "cell_type": "code",
   "execution_count": 154,
   "metadata": {},
   "outputs": [
    {
     "data": {
      "text/plain": [
       "0    5\n",
       "1    7\n",
       "2    9\n",
       "dtype: int64"
      ]
     },
     "execution_count": 154,
     "metadata": {},
     "output_type": "execute_result"
    }
   ],
   "source": [
    "s1.reset_index(drop=True) + s2.reset_index(drop=True)"
   ]
  },
  {
   "cell_type": "code",
   "execution_count": 155,
   "metadata": {},
   "outputs": [
    {
     "data": {
      "text/html": [
       "<div>\n",
       "<style scoped>\n",
       "    .dataframe tbody tr th:only-of-type {\n",
       "        vertical-align: middle;\n",
       "    }\n",
       "\n",
       "    .dataframe tbody tr th {\n",
       "        vertical-align: top;\n",
       "    }\n",
       "\n",
       "    .dataframe thead th {\n",
       "        text-align: right;\n",
       "    }\n",
       "</style>\n",
       "<table border=\"1\" class=\"dataframe\">\n",
       "  <thead>\n",
       "    <tr style=\"text-align: right;\">\n",
       "      <th></th>\n",
       "      <th>index</th>\n",
       "      <th>0</th>\n",
       "    </tr>\n",
       "  </thead>\n",
       "  <tbody>\n",
       "    <tr>\n",
       "      <th>0</th>\n",
       "      <td>0</td>\n",
       "      <td>1</td>\n",
       "    </tr>\n",
       "    <tr>\n",
       "      <th>1</th>\n",
       "      <td>1</td>\n",
       "      <td>2</td>\n",
       "    </tr>\n",
       "    <tr>\n",
       "      <th>2</th>\n",
       "      <td>2</td>\n",
       "      <td>3</td>\n",
       "    </tr>\n",
       "  </tbody>\n",
       "</table>\n",
       "</div>"
      ],
      "text/plain": [
       "   index  0\n",
       "0      0  1\n",
       "1      1  2\n",
       "2      2  3"
      ]
     },
     "execution_count": 155,
     "metadata": {},
     "output_type": "execute_result"
    }
   ],
   "source": [
    "s1.reset_index(drop=False)"
   ]
  },
  {
   "cell_type": "code",
   "execution_count": 156,
   "metadata": {},
   "outputs": [
    {
     "data": {
      "text/plain": [
       "An Index\n",
       "a    4\n",
       "b    5\n",
       "c    6\n",
       "Name: Some Series, dtype: int64"
      ]
     },
     "execution_count": 156,
     "metadata": {},
     "output_type": "execute_result"
    },
    {
     "data": {
      "text/html": [
       "<div>\n",
       "<style scoped>\n",
       "    .dataframe tbody tr th:only-of-type {\n",
       "        vertical-align: middle;\n",
       "    }\n",
       "\n",
       "    .dataframe tbody tr th {\n",
       "        vertical-align: top;\n",
       "    }\n",
       "\n",
       "    .dataframe thead th {\n",
       "        text-align: right;\n",
       "    }\n",
       "</style>\n",
       "<table border=\"1\" class=\"dataframe\">\n",
       "  <thead>\n",
       "    <tr style=\"text-align: right;\">\n",
       "      <th></th>\n",
       "      <th>An Index</th>\n",
       "      <th>Some Series</th>\n",
       "    </tr>\n",
       "  </thead>\n",
       "  <tbody>\n",
       "    <tr>\n",
       "      <th>0</th>\n",
       "      <td>a</td>\n",
       "      <td>4</td>\n",
       "    </tr>\n",
       "    <tr>\n",
       "      <th>1</th>\n",
       "      <td>b</td>\n",
       "      <td>5</td>\n",
       "    </tr>\n",
       "    <tr>\n",
       "      <th>2</th>\n",
       "      <td>c</td>\n",
       "      <td>6</td>\n",
       "    </tr>\n",
       "  </tbody>\n",
       "</table>\n",
       "</div>"
      ],
      "text/plain": [
       "  An Index  Some Series\n",
       "0        a            4\n",
       "1        b            5\n",
       "2        c            6"
      ]
     },
     "execution_count": 156,
     "metadata": {},
     "output_type": "execute_result"
    }
   ],
   "source": [
    "s2.name = 'Some Series'\n",
    "s2.index.name = 'An Index'\n",
    "s2\n",
    "s2.reset_index(drop=False)"
   ]
  },
  {
   "cell_type": "markdown",
   "metadata": {},
   "source": [
    "A new index can added to a series by assigning to the `.index` attribute."
   ]
  },
  {
   "cell_type": "code",
   "execution_count": 157,
   "metadata": {},
   "outputs": [
    {
     "data": {
      "text/plain": [
       "0    1\n",
       "1    2\n",
       "2    3\n",
       "dtype: int64"
      ]
     },
     "execution_count": 157,
     "metadata": {},
     "output_type": "execute_result"
    },
    {
     "data": {
      "text/plain": [
       "a    1\n",
       "b    2\n",
       "c    3\n",
       "dtype: int64"
      ]
     },
     "execution_count": 157,
     "metadata": {},
     "output_type": "execute_result"
    }
   ],
   "source": [
    "s = pd.Series([1, 2, 3])\n",
    "s\n",
    "idx = pd.Index(['a', 'b', 'c'])\n",
    "s.index = idx\n",
    "s"
   ]
  },
  {
   "cell_type": "code",
   "execution_count": 160,
   "metadata": {},
   "outputs": [
    {
     "data": {
      "text/plain": [
       "Index(['a', 'b', 'c'], dtype='object')"
      ]
     },
     "execution_count": 160,
     "metadata": {},
     "output_type": "execute_result"
    }
   ],
   "source": [
    "# The above is equivalent to\n",
    "s = pd.Series([1, 2, 3])\n",
    "s.index = ['a', 'b', 'c']\n",
    "s.index"
   ]
  },
  {
   "cell_type": "markdown",
   "metadata": {},
   "source": [
    "However, if we try to assign an index that is longer (or shorter) than our data series we will get an error."
   ]
  },
  {
   "cell_type": "code",
   "execution_count": 164,
   "metadata": {},
   "outputs": [
    {
     "ename": "ValueError",
     "evalue": "Length mismatch: Expected axis has 3 elements, new values have 4 elements",
     "output_type": "error",
     "traceback": [
      "\u001b[0;31m---------------------------------------------------------------------------\u001b[0m",
      "\u001b[0;31mValueError\u001b[0m                                Traceback (most recent call last)",
      "\u001b[0;32m<ipython-input-164-d7aae64d0b90>\u001b[0m in \u001b[0;36m<module>\u001b[0;34m\u001b[0m\n\u001b[1;32m      1\u001b[0m \u001b[0ms\u001b[0m \u001b[0;34m=\u001b[0m \u001b[0mpd\u001b[0m\u001b[0;34m.\u001b[0m\u001b[0mSeries\u001b[0m\u001b[0;34m(\u001b[0m\u001b[0;34m[\u001b[0m\u001b[0;36m1\u001b[0m\u001b[0;34m,\u001b[0m \u001b[0;36m2\u001b[0m\u001b[0;34m,\u001b[0m \u001b[0;36m3\u001b[0m\u001b[0;34m]\u001b[0m\u001b[0;34m)\u001b[0m\u001b[0;34m\u001b[0m\u001b[0;34m\u001b[0m\u001b[0m\n\u001b[0;32m----> 2\u001b[0;31m \u001b[0ms\u001b[0m\u001b[0;34m.\u001b[0m\u001b[0mindex\u001b[0m \u001b[0;34m=\u001b[0m \u001b[0;34m[\u001b[0m\u001b[0;34m'a'\u001b[0m\u001b[0;34m,\u001b[0m \u001b[0;34m'b'\u001b[0m\u001b[0;34m,\u001b[0m \u001b[0;34m'c'\u001b[0m\u001b[0;34m,\u001b[0m \u001b[0;34m'd'\u001b[0m\u001b[0;34m]\u001b[0m\u001b[0;34m\u001b[0m\u001b[0;34m\u001b[0m\u001b[0m\n\u001b[0m",
      "\u001b[0;32m~/anaconda3/lib/python3.8/site-packages/pandas/core/generic.py\u001b[0m in \u001b[0;36m__setattr__\u001b[0;34m(self, name, value)\u001b[0m\n\u001b[1;32m   5141\u001b[0m         \u001b[0;32mtry\u001b[0m\u001b[0;34m:\u001b[0m\u001b[0;34m\u001b[0m\u001b[0;34m\u001b[0m\u001b[0m\n\u001b[1;32m   5142\u001b[0m             \u001b[0mobject\u001b[0m\u001b[0;34m.\u001b[0m\u001b[0m__getattribute__\u001b[0m\u001b[0;34m(\u001b[0m\u001b[0mself\u001b[0m\u001b[0;34m,\u001b[0m \u001b[0mname\u001b[0m\u001b[0;34m)\u001b[0m\u001b[0;34m\u001b[0m\u001b[0;34m\u001b[0m\u001b[0m\n\u001b[0;32m-> 5143\u001b[0;31m             \u001b[0;32mreturn\u001b[0m \u001b[0mobject\u001b[0m\u001b[0;34m.\u001b[0m\u001b[0m__setattr__\u001b[0m\u001b[0;34m(\u001b[0m\u001b[0mself\u001b[0m\u001b[0;34m,\u001b[0m \u001b[0mname\u001b[0m\u001b[0;34m,\u001b[0m \u001b[0mvalue\u001b[0m\u001b[0;34m)\u001b[0m\u001b[0;34m\u001b[0m\u001b[0;34m\u001b[0m\u001b[0m\n\u001b[0m\u001b[1;32m   5144\u001b[0m         \u001b[0;32mexcept\u001b[0m \u001b[0mAttributeError\u001b[0m\u001b[0;34m:\u001b[0m\u001b[0;34m\u001b[0m\u001b[0;34m\u001b[0m\u001b[0m\n\u001b[1;32m   5145\u001b[0m             \u001b[0;32mpass\u001b[0m\u001b[0;34m\u001b[0m\u001b[0;34m\u001b[0m\u001b[0m\n",
      "\u001b[0;32mpandas/_libs/properties.pyx\u001b[0m in \u001b[0;36mpandas._libs.properties.AxisProperty.__set__\u001b[0;34m()\u001b[0m\n",
      "\u001b[0;32m~/anaconda3/lib/python3.8/site-packages/pandas/core/series.py\u001b[0m in \u001b[0;36m_set_axis\u001b[0;34m(self, axis, labels, fastpath)\u001b[0m\n\u001b[1;32m    422\u001b[0m         \u001b[0;32mif\u001b[0m \u001b[0;32mnot\u001b[0m \u001b[0mfastpath\u001b[0m\u001b[0;34m:\u001b[0m\u001b[0;34m\u001b[0m\u001b[0;34m\u001b[0m\u001b[0m\n\u001b[1;32m    423\u001b[0m             \u001b[0;31m# The ensure_index call above ensures we have an Index object\u001b[0m\u001b[0;34m\u001b[0m\u001b[0;34m\u001b[0m\u001b[0;34m\u001b[0m\u001b[0m\n\u001b[0;32m--> 424\u001b[0;31m             \u001b[0mself\u001b[0m\u001b[0;34m.\u001b[0m\u001b[0m_mgr\u001b[0m\u001b[0;34m.\u001b[0m\u001b[0mset_axis\u001b[0m\u001b[0;34m(\u001b[0m\u001b[0maxis\u001b[0m\u001b[0;34m,\u001b[0m \u001b[0mlabels\u001b[0m\u001b[0;34m)\u001b[0m\u001b[0;34m\u001b[0m\u001b[0;34m\u001b[0m\u001b[0m\n\u001b[0m\u001b[1;32m    425\u001b[0m \u001b[0;34m\u001b[0m\u001b[0m\n\u001b[1;32m    426\u001b[0m     \u001b[0;31m# ndarray compatibility\u001b[0m\u001b[0;34m\u001b[0m\u001b[0;34m\u001b[0m\u001b[0;34m\u001b[0m\u001b[0m\n",
      "\u001b[0;32m~/anaconda3/lib/python3.8/site-packages/pandas/core/internals/managers.py\u001b[0m in \u001b[0;36mset_axis\u001b[0;34m(self, axis, new_labels)\u001b[0m\n\u001b[1;32m    214\u001b[0m \u001b[0;34m\u001b[0m\u001b[0m\n\u001b[1;32m    215\u001b[0m         \u001b[0;32mif\u001b[0m \u001b[0mnew_len\u001b[0m \u001b[0;34m!=\u001b[0m \u001b[0mold_len\u001b[0m\u001b[0;34m:\u001b[0m\u001b[0;34m\u001b[0m\u001b[0;34m\u001b[0m\u001b[0m\n\u001b[0;32m--> 216\u001b[0;31m             raise ValueError(\n\u001b[0m\u001b[1;32m    217\u001b[0m                 \u001b[0;34mf\"Length mismatch: Expected axis has {old_len} elements, new \"\u001b[0m\u001b[0;34m\u001b[0m\u001b[0;34m\u001b[0m\u001b[0m\n\u001b[1;32m    218\u001b[0m                 \u001b[0;34mf\"values have {new_len} elements\"\u001b[0m\u001b[0;34m\u001b[0m\u001b[0;34m\u001b[0m\u001b[0m\n",
      "\u001b[0;31mValueError\u001b[0m: Length mismatch: Expected axis has 3 elements, new values have 4 elements"
     ]
    }
   ],
   "source": [
    "s = pd.Series([1, 2, 3])\n",
    "s.index = ['a', 'b', 'c', 'd']"
   ]
  },
  {
   "cell_type": "markdown",
   "metadata": {},
   "source": [
    "In order to reshape an index of an existing series we have to use `.reindex()` method. This method can be also used to reorder labels\n",
    "of a series (and its values as well). New labels are assigned with NaN values."
   ]
  },
  {
   "cell_type": "code",
   "execution_count": 166,
   "metadata": {},
   "outputs": [
    {
     "data": {
      "text/plain": [
       "a    1\n",
       "b    2\n",
       "c    3\n",
       "d    4\n",
       "e    5\n",
       "dtype: int64"
      ]
     },
     "execution_count": 166,
     "metadata": {},
     "output_type": "execute_result"
    }
   ],
   "source": [
    "s = pd.Series([1, 2, 3, 4, 5], index=['a', 'b', 'c', 'd', 'e'])\n",
    "s"
   ]
  },
  {
   "cell_type": "code",
   "execution_count": 169,
   "metadata": {},
   "outputs": [
    {
     "data": {
      "text/plain": [
       "a    1.0\n",
       "f    NaN\n",
       "b    2.0\n",
       "d    4.0\n",
       "dtype: float64"
      ]
     },
     "execution_count": 169,
     "metadata": {},
     "output_type": "execute_result"
    }
   ],
   "source": [
    "#s.reindex(['a', 'd', 'e'])\n",
    "s.reindex(['a', 'f', 'b', 'd'])"
   ]
  },
  {
   "cell_type": "markdown",
   "metadata": {},
   "source": [
    "A very important kind of operation one can perform on indexes is to combine them in various ways.\n",
    "In general indexes are treated as sets, so we can define basic set operations between them such as union and intersection.\n",
    "\n",
    "As we already discussed, the alignment of labels (Pandas broadcasting) involves creation of a union of indexes of two series.\n",
    "However, in some cases we may want think of different combinations of indexes. Below we study some possibilities."
   ]
  },
  {
   "cell_type": "code",
   "execution_count": 172,
   "metadata": {},
   "outputs": [
    {
     "data": {
      "text/plain": [
       "0    0\n",
       "1    1\n",
       "2    2\n",
       "3    3\n",
       "4    4\n",
       "5    5\n",
       "6    6\n",
       "7    7\n",
       "8    8\n",
       "9    9\n",
       "dtype: int64"
      ]
     },
     "execution_count": 172,
     "metadata": {},
     "output_type": "execute_result"
    },
    {
     "data": {
      "text/plain": [
       "5     10\n",
       "6     11\n",
       "7     12\n",
       "8     13\n",
       "9     14\n",
       "10    15\n",
       "11    16\n",
       "12    17\n",
       "13    18\n",
       "14    19\n",
       "dtype: int64"
      ]
     },
     "execution_count": 172,
     "metadata": {},
     "output_type": "execute_result"
    }
   ],
   "source": [
    "s1 = pd.Series(range(10), index=range(10))\n",
    "s2 = pd.Series(range(10, 20), index=range(5, 15))\n",
    "s1\n",
    "s2"
   ]
  },
  {
   "cell_type": "code",
   "execution_count": 173,
   "metadata": {},
   "outputs": [
    {
     "data": {
      "text/plain": [
       "0      NaN\n",
       "1      NaN\n",
       "2      NaN\n",
       "3      NaN\n",
       "4      NaN\n",
       "5     15.0\n",
       "6     17.0\n",
       "7     19.0\n",
       "8     21.0\n",
       "9     23.0\n",
       "10     NaN\n",
       "11     NaN\n",
       "12     NaN\n",
       "13     NaN\n",
       "14     NaN\n",
       "dtype: float64"
      ]
     },
     "execution_count": 173,
     "metadata": {},
     "output_type": "execute_result"
    }
   ],
   "source": [
    "s1 + s2"
   ]
  },
  {
   "cell_type": "markdown",
   "metadata": {},
   "source": [
    "We can use union of the indexes for instance to combine the two series in such a way that they are added together where possible\n",
    "and existing values are used where one series is missing."
   ]
  },
  {
   "cell_type": "code",
   "execution_count": 174,
   "metadata": {},
   "outputs": [
    {
     "data": {
      "text/plain": [
       "RangeIndex(start=0, stop=15, step=1)"
      ]
     },
     "execution_count": 174,
     "metadata": {},
     "output_type": "execute_result"
    }
   ],
   "source": [
    "idx_union = s1.index.union(s2.index)\n",
    "idx_union"
   ]
  },
  {
   "cell_type": "code",
   "execution_count": 175,
   "metadata": {},
   "outputs": [
    {
     "data": {
      "text/plain": [
       "0      0.0\n",
       "1      1.0\n",
       "2      2.0\n",
       "3      3.0\n",
       "4      4.0\n",
       "5     15.0\n",
       "6     17.0\n",
       "7     19.0\n",
       "8     21.0\n",
       "9     23.0\n",
       "10    15.0\n",
       "11    16.0\n",
       "12    17.0\n",
       "13    18.0\n",
       "14    19.0\n",
       "dtype: float64"
      ]
     },
     "execution_count": 175,
     "metadata": {},
     "output_type": "execute_result"
    }
   ],
   "source": [
    "s1.reindex(idx_union).fillna(0) + s2.reindex(idx_union).fillna(0)"
   ]
  },
  {
   "cell_type": "markdown",
   "metadata": {},
   "source": [
    "Similarly we can use intersection of indexes to limit our results only to those cases for which we have full information."
   ]
  },
  {
   "cell_type": "code",
   "execution_count": 176,
   "metadata": {},
   "outputs": [
    {
     "data": {
      "text/plain": [
       "5    15.0\n",
       "6    17.0\n",
       "7    19.0\n",
       "8    21.0\n",
       "9    23.0\n",
       "dtype: float64"
      ]
     },
     "execution_count": 176,
     "metadata": {},
     "output_type": "execute_result"
    }
   ],
   "source": [
    "idx_intersect = s1.index.intersection(s2.index)\n",
    "\n",
    "(s1 + s2).reindex(idx_intersect)"
   ]
  },
  {
   "cell_type": "code",
   "execution_count": 177,
   "metadata": {},
   "outputs": [
    {
     "data": {
      "text/plain": [
       "Int64Index([1, 2], dtype='int64')"
      ]
     },
     "execution_count": 177,
     "metadata": {},
     "output_type": "execute_result"
    }
   ],
   "source": [
    "idx1 = pd.Index([1, 2, 3, 4])\n",
    "idx2 = pd.Index([3, 4, 5, 6])\n",
    "\n",
    "idx1.difference(idx2)"
   ]
  },
  {
   "cell_type": "code",
   "execution_count": 180,
   "metadata": {},
   "outputs": [
    {
     "data": {
      "text/plain": [
       "Int64Index([1, 2, 3, 4], dtype='int64')"
      ]
     },
     "execution_count": 180,
     "metadata": {},
     "output_type": "execute_result"
    },
    {
     "data": {
      "text/plain": [
       "Int64Index([3, 4, 5, 6], dtype='int64')"
      ]
     },
     "execution_count": 180,
     "metadata": {},
     "output_type": "execute_result"
    },
    {
     "data": {
      "text/plain": [
       "Int64Index([1, 2], dtype='int64')"
      ]
     },
     "execution_count": 180,
     "metadata": {},
     "output_type": "execute_result"
    },
    {
     "data": {
      "text/plain": [
       "Int64Index([5, 6], dtype='int64')"
      ]
     },
     "execution_count": 180,
     "metadata": {},
     "output_type": "execute_result"
    }
   ],
   "source": [
    "idx1\n",
    "idx2\n",
    "\n",
    "idx1.difference(idx2)\n",
    "idx2.difference(idx1)"
   ]
  },
  {
   "cell_type": "code",
   "execution_count": 181,
   "metadata": {},
   "outputs": [
    {
     "data": {
      "text/plain": [
       "Int64Index([1, 2, 5, 6], dtype='int64')"
      ]
     },
     "execution_count": 181,
     "metadata": {},
     "output_type": "execute_result"
    }
   ],
   "source": [
    "idx1 = pd.Index([1, 2, 3, 4])\n",
    "idx2 = pd.Index([3, 4, 5, 6])\n",
    "\n",
    "idx1.symmetric_difference(idx2)"
   ]
  },
  {
   "cell_type": "markdown",
   "metadata": {},
   "source": [
    "In the same fashion we can use symmetric difference (labels in one of the index but not in both)."
   ]
  },
  {
   "cell_type": "code",
   "execution_count": 182,
   "metadata": {},
   "outputs": [],
   "source": [
    "idx_symmetric = s1.index.symmetric_difference(s2.index)"
   ]
  },
  {
   "cell_type": "code",
   "execution_count": 183,
   "metadata": {},
   "outputs": [
    {
     "data": {
      "text/plain": [
       "0     0.0\n",
       "1     1.0\n",
       "2     2.0\n",
       "3     3.0\n",
       "4     4.0\n",
       "10    NaN\n",
       "11    NaN\n",
       "12    NaN\n",
       "13    NaN\n",
       "14    NaN\n",
       "dtype: float64"
      ]
     },
     "execution_count": 183,
     "metadata": {},
     "output_type": "execute_result"
    }
   ],
   "source": [
    "s1.reindex(idx_symmetric)"
   ]
  },
  {
   "cell_type": "code",
   "execution_count": 184,
   "metadata": {},
   "outputs": [
    {
     "data": {
      "text/plain": [
       "0      NaN\n",
       "1      NaN\n",
       "2      NaN\n",
       "3      NaN\n",
       "4      NaN\n",
       "10    15.0\n",
       "11    16.0\n",
       "12    17.0\n",
       "13    18.0\n",
       "14    19.0\n",
       "dtype: float64"
      ]
     },
     "execution_count": 184,
     "metadata": {},
     "output_type": "execute_result"
    }
   ],
   "source": [
    "s2.reindex(idx_symmetric)"
   ]
  },
  {
   "cell_type": "code",
   "execution_count": 187,
   "metadata": {},
   "outputs": [
    {
     "data": {
      "text/plain": [
       "0      NaN\n",
       "1      NaN\n",
       "2      NaN\n",
       "3      NaN\n",
       "4      NaN\n",
       "5     15.0\n",
       "6     17.0\n",
       "7     19.0\n",
       "8     21.0\n",
       "9     23.0\n",
       "10     NaN\n",
       "11     NaN\n",
       "12     NaN\n",
       "13     NaN\n",
       "14     NaN\n",
       "dtype: float64"
      ]
     },
     "execution_count": 187,
     "metadata": {},
     "output_type": "execute_result"
    },
    {
     "data": {
      "text/plain": [
       "0      0.0\n",
       "1      1.0\n",
       "2      2.0\n",
       "3      3.0\n",
       "4      4.0\n",
       "10    15.0\n",
       "11    16.0\n",
       "12    17.0\n",
       "13    18.0\n",
       "14    19.0\n",
       "dtype: float64"
      ]
     },
     "execution_count": 187,
     "metadata": {},
     "output_type": "execute_result"
    }
   ],
   "source": [
    "s1 + s2\n",
    "s1.reindex(idx_symmetric).fillna(0) + s2.reindex(idx_symmetric).fillna(0)"
   ]
  },
  {
   "cell_type": "markdown",
   "metadata": {},
   "source": [
    "### Index | Exercise 1.\n",
    "\n",
    "You are provided with two data series with measurements for subjects identified with integer indexes. The first series corresponds to the first\n",
    "trial and second one to the second trial. However, some subjects participated only in one of the trials.\n",
    "\n",
    "You have to execute the following tasks:\n",
    "\n",
    "1. Compute a series with sums of scores for all subjects.\n",
    "2. Compute a series with average scores for all subjects.\n",
    "3. Find ids (labels) for subjects with highest and lowest average score.\n",
    "4. Compute average score among subjects who participated in both trials.\n",
    "5. Compute average score among subjects who participated in only one of the trials."
   ]
  },
  {
   "cell_type": "code",
   "execution_count": 211,
   "metadata": {},
   "outputs": [],
   "source": [
    "import numpy as np\n",
    "np.random.seed(101)\n",
    "\n",
    "ids = np.arange(25)\n",
    "trial1 = pd.Series(np.random.normal(100, 15, (22,)), index=np.random.choice(ids, size=(22,), replace=False))\n",
    "trial2 = pd.Series(np.random.normal(115, 30, (13,)), index=np.random.choice(ids, size=(13,), replace=False))"
   ]
  },
  {
   "cell_type": "code",
   "execution_count": null,
   "metadata": {},
   "outputs": [],
   "source": [
    "# Your solution"
   ]
  }
 ],
 "metadata": {
  "kernelspec": {
   "display_name": "Python 3",
   "language": "python",
   "name": "python3"
  },
  "language_info": {
   "codemirror_mode": {
    "name": "ipython",
    "version": 3
   },
   "file_extension": ".py",
   "mimetype": "text/x-python",
   "name": "python",
   "nbconvert_exporter": "python",
   "pygments_lexer": "ipython3",
   "version": "3.8.3"
  }
 },
 "nbformat": 4,
 "nbformat_minor": 4
}
