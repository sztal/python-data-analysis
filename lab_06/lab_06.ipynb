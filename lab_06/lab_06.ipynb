{
 "cells": [
  {
   "cell_type": "markdown",
   "metadata": {},
   "source": [
    "# Pandas | Core concepts, types and methods\n",
    "\n",
    "Szymon Talaga | 08.01.2020\n",
    "\n",
    "<hr>\n",
    "\n",
    "In this notebook we will carefully develop proper and in-depth understanding of core concepts, types (classes) and methods provided by Pandas.\n",
    "They will be discussed with respect to Numpy in order to facilitate understanding of what typical usecases of both packages are as well as what\n",
    "are their strong and weak points.\n",
    "\n",
    "Pandas is focused around two main data structures:\n",
    "\n",
    "* `Series` : a one-dimensional sequence of values with a fixed data type.\n",
    "* `DataFrame` : a two-dimensional rectangular table of values with rows and columns. Each column has to be of fixed data type as it is represented as `Series` objects.\n",
    "\n",
    "In fact, Pandas provides more data structures, but they are useful in rather specific circumstances so we will not discuss them here.\n",
    "\n",
    "<hr>\n",
    "\n",
    "Pandas is internally based on Numpy and its types such as `Series` and `DataFrame` are to a large extent compatible with many Numpy functions.\n",
    "However, there are also very important differences between them.\n",
    "\n",
    "The crucial difference concerns the way axes and their indexes are designed which also means that the notion of broadcasting in Pandas is completely different.\n",
    "\n",
    "In Numpy indexes of axes are defined **implicitly** by the fact that elements are arranged sequentially, so they can be assigned with integer coordinates\n",
    "ranging from $0$ to $n-1$ where $n$ is the number elements along a given axis.\n",
    "\n",
    "In Pandas the way indexes work is entirely different. Here indexes are **explicit**, they exist as separate Python objects, and are defined as sets of labels (or even multilevel hierarchies of labels)\n",
    "for elements along a given axis. Therefore, the rules of broadcasting in Pandas are not determined by conformability of shapes of arrays like in Numpy, but by alignment (congruence) of labels.\n",
    "We will discuss the details of broadcasting and alignment in Pandas while discussing `Series` and `DataFrame` types.\n",
    "\n",
    "<hr>\n",
    "\n",
    "Many great resources about Pandas can be found in the official documentation. In particular, it is recommended to read the following articles:\n",
    "\n",
    "* [10 minutes to Pandas](https://pandas.pydata.org/pandas-docs/stable/user_guide/10min.html)\n",
    "* [Essential basic functionality](https://pandas.pydata.org/pandas-docs/stable/user_guide/basics.html)\n",
    "* [Intro to data structures](https://pandas.pydata.org/pandas-docs/stable/user_guide/dsintro.html)\n",
    "* [Indexing and selecting data](https://pandas.pydata.org/pandas-docs/stable/user_guide/indexing.html)\n",
    "\n",
    "<hr>"
   ]
  },
  {
   "cell_type": "code",
   "execution_count": null,
   "metadata": {},
   "outputs": [],
   "source": [
    "import numpy as np\n",
    "import pandas as pd\n",
    "import matplotlib.pyplot as plt\n",
    "%matplotlib inline"
   ]
  },
  {
   "cell_type": "code",
   "execution_count": null,
   "metadata": {},
   "outputs": [],
   "source": [
    "### Configure IPython shell to show print all outputs generated in a code cell\n",
    "### --------------------------------------------------------------------------\n",
    "from IPython.core.interactiveshell import InteractiveShell\n",
    "InteractiveShell.ast_node_interactivity = \"all\""
   ]
  },
  {
   "cell_type": "markdown",
   "metadata": {},
   "source": [
    "## Series | 1D sequences of values with fixed dtypes\n",
    "\n",
    "The simpler and more basic of the two core types in Pandas is `Series`. Objects of this type are used to store one-dimensional ordered sequences of values of fixed data type\n",
    "(in most cases these are standard Numpy `dtypes`) aligned along an index which is a sequence of labels that identify individual elements. So a series has the following structure:\n",
    "\n",
    "```python\n",
    "Index  |  Value\n",
    "===============\n",
    "  b    |    5\n",
    "  a    |    3\n",
    "  f    |    1\n",
    "  c    |    3\n",
    "===============\n",
    "```\n",
    "\n",
    "Importantly, `Series` objects are both like dictionaries / mappings as well as lists / 1D arrays. In other words, they support both label / key based indexing characteristic for mappings \n",
    "and numerical / positional indexing characteristics for sequences / lists."
   ]
  },
  {
   "cell_type": "markdown",
   "metadata": {},
   "source": [
    "A `Series` object may be created with a type constructor from any object that can be interpreted as 1D array / sequence."
   ]
  },
  {
   "cell_type": "code",
   "execution_count": null,
   "metadata": {},
   "outputs": [],
   "source": [
    "## Sequence-based initialization\n",
    "s = pd.Series([5, 3, 1, 3])\n",
    "s"
   ]
  },
  {
   "cell_type": "markdown",
   "metadata": {},
   "source": [
    "The first column in the print output shows indexes and the second data values. Note, that in this case a default generic index was created (sequence from `0` to `n-1`).\n",
    "However, if we want we may explicitly assign an index composed of any values we want."
   ]
  },
  {
   "cell_type": "code",
   "execution_count": null,
   "metadata": {},
   "outputs": [],
   "source": [
    "## Sequence-based initialization with arbitrary index\n",
    "s = pd.Series([5, 3, 1, 3], index=['b', 'a', 'f', 'c'])\n",
    "s"
   ]
  },
  {
   "cell_type": "markdown",
   "metadata": {},
   "source": [
    "Another very convenient approach is to create a series from dictionary."
   ]
  },
  {
   "cell_type": "code",
   "execution_count": null,
   "metadata": {},
   "outputs": [],
   "source": [
    "## Dictionary-based initialization\n",
    "s = pd.Series({ 'b': 5, 'a': 3, 'f': 1, 'c': 3 })\n",
    "s"
   ]
  },
  {
   "cell_type": "markdown",
   "metadata": {},
   "source": [
    "Look good. But what about order? We discussed the fact that dictionaries in Python are inherently unordered. That stops to be true recently.\n",
    "From the version 3.7 of Python `dict` objects keeps the insertion order (the order in which their keys were provided).\n",
    "Pandas uses this fact when creating `Series` objects. In older version of Python and/or Pandas index is sorted lexicographically when\n",
    "a series is built from a dictionary.\n",
    "\n",
    "If a series is initialized with values of different types it will be upcasted to the most general data type."
   ]
  },
  {
   "cell_type": "code",
   "execution_count": null,
   "metadata": {},
   "outputs": [],
   "source": [
    "# Upcasting of integers to floats\n",
    "pd.Series([1, 2, 3.5])"
   ]
  },
  {
   "cell_type": "code",
   "execution_count": null,
   "metadata": {},
   "outputs": [],
   "source": [
    "# Upcasting to arbitrary python objects\n",
    "pd.Series([1, 'string', [1,2,3]])"
   ]
  },
  {
   "cell_type": "markdown",
   "metadata": {},
   "source": [
    "A series can be also created from a scalar (single) value. If additionally an index is provided then a series as long as the index is created\n",
    "and it is populated with the constant value."
   ]
  },
  {
   "cell_type": "code",
   "execution_count": null,
   "metadata": {},
   "outputs": [],
   "source": [
    "## Single value series as there is no index\n",
    "pd.Series(5)"
   ]
  },
  {
   "cell_type": "code",
   "execution_count": null,
   "metadata": {},
   "outputs": [],
   "source": [
    "## Series from scalar and index\n",
    "pd.Series(5, index=['a', 'b', 'c'])"
   ]
  },
  {
   "cell_type": "markdown",
   "metadata": {},
   "source": [
    "Index of a series can be retrieved via the `.index` attribute"
   ]
  },
  {
   "cell_type": "code",
   "execution_count": null,
   "metadata": {},
   "outputs": [],
   "source": [
    "s.index"
   ]
  },
  {
   "cell_type": "code",
   "execution_count": null,
   "metadata": {},
   "outputs": [],
   "source": [
    "s.values"
   ]
  },
  {
   "cell_type": "markdown",
   "metadata": {},
   "source": [
    "Numpy representation of the underlying data can be retrieved with `.to_numpy()` method."
   ]
  },
  {
   "cell_type": "code",
   "execution_count": null,
   "metadata": {},
   "outputs": [],
   "source": [
    "s"
   ]
  },
  {
   "cell_type": "code",
   "execution_count": null,
   "metadata": {},
   "outputs": [],
   "source": [
    "s.to_numpy()"
   ]
  },
  {
   "cell_type": "markdown",
   "metadata": {},
   "source": [
    "Moreover, series can be assigned with names. We will see how it can be useful later on when we discuss data frames."
   ]
  },
  {
   "cell_type": "code",
   "execution_count": null,
   "metadata": {},
   "outputs": [],
   "source": [
    "s.name = 'a series'\n",
    "s"
   ]
  },
  {
   "cell_type": "code",
   "execution_count": null,
   "metadata": {},
   "outputs": [],
   "source": [
    "pd.Series([1, 2, 3], name='name')"
   ]
  },
  {
   "cell_type": "markdown",
   "metadata": {},
   "source": [
    "### Series | Indexing & slicing\n",
    "\n",
    "Similarily to data frames series support three main types of indexing."
   ]
  },
  {
   "cell_type": "markdown",
   "metadata": {},
   "source": [
    "#### Standard dictionary syntax (aka _getitem_)\n",
    "\n",
    "It is convenient as it allows to use both label-based and position-based indexing and slicing. However, due to its flexibility it can be\n",
    "confusing as it has to guess what is the intent of the user based on the type of indexer.\n",
    "\n",
    "That is why it is usually better to use more explicit `.loc` and `.iloc` indexers."
   ]
  },
  {
   "cell_type": "code",
   "execution_count": null,
   "metadata": {},
   "outputs": [],
   "source": [
    "s"
   ]
  },
  {
   "cell_type": "code",
   "execution_count": null,
   "metadata": {},
   "outputs": [],
   "source": [
    "# Label-based index\n",
    "s['f']"
   ]
  },
  {
   "cell_type": "code",
   "execution_count": null,
   "metadata": {},
   "outputs": [],
   "source": [
    "# Label-based slice\n",
    "s['a':'c']"
   ]
  },
  {
   "cell_type": "code",
   "execution_count": null,
   "metadata": {},
   "outputs": [],
   "source": [
    "# List of labels\n",
    "s[['a', 'f']]"
   ]
  },
  {
   "cell_type": "code",
   "execution_count": null,
   "metadata": {},
   "outputs": [],
   "source": [
    "# Position-based (integer) index\n",
    "s[2]"
   ]
  },
  {
   "cell_type": "code",
   "execution_count": null,
   "metadata": {},
   "outputs": [],
   "source": [
    "# Position based (integer) slice\n",
    "s[1:3]"
   ]
  },
  {
   "cell_type": "code",
   "execution_count": null,
   "metadata": {},
   "outputs": [],
   "source": [
    "# List of (integer) positions\n",
    "s[[0, 2]]"
   ]
  },
  {
   "cell_type": "code",
   "execution_count": null,
   "metadata": {},
   "outputs": [],
   "source": [
    "x = pd.Series([2, 3, 4, 5], index=[2, 0, 3, 1])\n",
    "x"
   ]
  },
  {
   "cell_type": "code",
   "execution_count": null,
   "metadata": {},
   "outputs": [],
   "source": [
    "x[0]\n",
    "x[0:2]"
   ]
  },
  {
   "cell_type": "markdown",
   "metadata": {},
   "source": [
    "This is all nice. However, this is possible because integer indexers are also interpreted as positional indexers.\n",
    "This means that with this method we **can not** perform label indexing for series with integer labels."
   ]
  },
  {
   "cell_type": "markdown",
   "metadata": {},
   "source": [
    "#### Label-based indexing (aka `.loc` indexing)\n",
    "\n",
    "The `.loc` attribute is defined on every `Series` (as well as `DataFrame`) object and it returns the special indexer object that allows\n",
    "to query our data based on the explicit index labels, even if they are integers.\n",
    "\n",
    "NOTE. Slices in `.loc` indexer always return ranges **including** the rightmost element."
   ]
  },
  {
   "cell_type": "code",
   "execution_count": null,
   "metadata": {},
   "outputs": [],
   "source": [
    "s"
   ]
  },
  {
   "cell_type": "code",
   "execution_count": null,
   "metadata": {},
   "outputs": [],
   "source": [
    "s.loc"
   ]
  },
  {
   "cell_type": "code",
   "execution_count": null,
   "metadata": {},
   "outputs": [],
   "source": [
    "s.loc['a']"
   ]
  },
  {
   "cell_type": "code",
   "execution_count": null,
   "metadata": {},
   "outputs": [],
   "source": [
    "s.loc['a':'f']"
   ]
  },
  {
   "cell_type": "markdown",
   "metadata": {},
   "source": [
    "Label `.loc` indexing can also use lists of labels."
   ]
  },
  {
   "cell_type": "code",
   "execution_count": null,
   "metadata": {},
   "outputs": [],
   "source": [
    "s.loc[['a', 'f']]"
   ]
  },
  {
   "cell_type": "code",
   "execution_count": null,
   "metadata": {},
   "outputs": [],
   "source": [
    "# Works with integers labels too\n",
    "x = pd.Series([1, 2, 3], index=[2, 0, 1])\n",
    "x"
   ]
  },
  {
   "cell_type": "code",
   "execution_count": null,
   "metadata": {},
   "outputs": [],
   "source": [
    "x.loc[0]"
   ]
  },
  {
   "cell_type": "code",
   "execution_count": null,
   "metadata": {},
   "outputs": [],
   "source": [
    "x.loc[0:1]"
   ]
  },
  {
   "cell_type": "markdown",
   "metadata": {},
   "source": [
    "#### Positional indexing (aka `.iloc` indexing)\n",
    "\n",
    "The `.iloc` attribute returns a specialized indexer object that allows to query our data with positional (integer) indexes.\n",
    "\n",
    "NOTE. Slices in `.iloc` follows standard Python semantics and **do not** include the rightmost element."
   ]
  },
  {
   "cell_type": "code",
   "execution_count": null,
   "metadata": {},
   "outputs": [],
   "source": [
    "x"
   ]
  },
  {
   "cell_type": "code",
   "execution_count": null,
   "metadata": {},
   "outputs": [],
   "source": [
    "x.iloc[0]"
   ]
  },
  {
   "cell_type": "code",
   "execution_count": null,
   "metadata": {},
   "outputs": [],
   "source": [
    "x.iloc[0:2]"
   ]
  },
  {
   "cell_type": "markdown",
   "metadata": {},
   "source": [
    "Positional `.iloc` indexing can be also used like integer indexing in Numpy."
   ]
  },
  {
   "cell_type": "code",
   "execution_count": null,
   "metadata": {},
   "outputs": [],
   "source": [
    "s.iloc[[0, 2]]"
   ]
  },
  {
   "cell_type": "markdown",
   "metadata": {},
   "source": [
    "#### Boolean indexing\n",
    "\n",
    "There is also the fourth type of indexing that can be performed equally well with _getitem_, `.loc` and `.iloc` indexers.\n",
    "It is of course boolean indexing, which works the same as in Numpy."
   ]
  },
  {
   "cell_type": "code",
   "execution_count": null,
   "metadata": {},
   "outputs": [],
   "source": [
    "mask = [True, False, False, True]\n",
    "\n",
    "# getitem\n",
    "s[mask]"
   ]
  },
  {
   "cell_type": "code",
   "execution_count": null,
   "metadata": {},
   "outputs": [],
   "source": [
    "# .loc\n",
    "s.loc[mask]"
   ]
  },
  {
   "cell_type": "code",
   "execution_count": null,
   "metadata": {},
   "outputs": [],
   "source": [
    "# .iloc\n",
    "s.iloc[mask]"
   ]
  },
  {
   "cell_type": "markdown",
   "metadata": {},
   "source": [
    "## Series | setting values\n",
    "\n",
    "All types of indexing discussed above can be used to set new values to a series, including creating new entries with new labels."
   ]
  },
  {
   "cell_type": "code",
   "execution_count": null,
   "metadata": {},
   "outputs": [],
   "source": [
    "x = pd.Series({ 'Alice': 10, 'Bob': 11 })\n",
    "print(\"\\n\", x)"
   ]
  },
  {
   "cell_type": "code",
   "execution_count": null,
   "metadata": {},
   "outputs": [],
   "source": [
    "x['Alice'] = 9\n",
    "x"
   ]
  },
  {
   "cell_type": "code",
   "execution_count": null,
   "metadata": {},
   "outputs": [],
   "source": [
    "x.loc['Bob'] = 0\n",
    "x"
   ]
  },
  {
   "cell_type": "code",
   "execution_count": null,
   "metadata": {},
   "outputs": [],
   "source": [
    "x.iloc[0] = 100\n",
    "x"
   ]
  },
  {
   "cell_type": "code",
   "execution_count": null,
   "metadata": {},
   "outputs": [],
   "source": [
    "x.loc[['Alice', 'Bob']] = 1\n",
    "x"
   ]
  },
  {
   "cell_type": "code",
   "execution_count": null,
   "metadata": {},
   "outputs": [],
   "source": [
    "x.loc[['Alice', 'Bob']] = [1, 2]\n",
    "x"
   ]
  },
  {
   "cell_type": "code",
   "execution_count": null,
   "metadata": {},
   "outputs": [],
   "source": [
    "x.loc['Mark'] = 777\n",
    "x"
   ]
  },
  {
   "cell_type": "markdown",
   "metadata": {},
   "source": [
    "### Series | vectorization between series and scalars\n",
    "\n",
    "Vectorization between series and scalars in Pandas is as simple and trivial as in Numpy."
   ]
  },
  {
   "cell_type": "code",
   "execution_count": null,
   "metadata": {},
   "outputs": [],
   "source": [
    "s"
   ]
  },
  {
   "cell_type": "code",
   "execution_count": null,
   "metadata": {},
   "outputs": [],
   "source": [
    "## Addition\n",
    "s + 2"
   ]
  },
  {
   "cell_type": "code",
   "execution_count": null,
   "metadata": {},
   "outputs": [],
   "source": [
    "## Subtraction\n",
    "s - 2"
   ]
  },
  {
   "cell_type": "code",
   "execution_count": null,
   "metadata": {},
   "outputs": [],
   "source": [
    "## Multiplication\n",
    "s * 2"
   ]
  },
  {
   "cell_type": "code",
   "execution_count": null,
   "metadata": {},
   "outputs": [],
   "source": [
    "## Division\n",
    "s / 2"
   ]
  },
  {
   "cell_type": "code",
   "execution_count": null,
   "metadata": {},
   "outputs": [],
   "source": [
    "## Integer division\n",
    "s // 2"
   ]
  },
  {
   "cell_type": "code",
   "execution_count": null,
   "metadata": {},
   "outputs": [],
   "source": [
    "## Modulo\n",
    "s % 2"
   ]
  },
  {
   "cell_type": "code",
   "execution_count": null,
   "metadata": {},
   "outputs": [],
   "source": [
    "## Raising to power\n",
    "s ** 2"
   ]
  },
  {
   "cell_type": "code",
   "execution_count": null,
   "metadata": {},
   "outputs": [],
   "source": [
    "## Mathematical functions from Numpy\n",
    "np.exp(s)"
   ]
  },
  {
   "cell_type": "markdown",
   "metadata": {},
   "source": [
    "The same applies of course logical operators such as equality or negation.\n",
    "Vectorization of logical expressions is very useful for creating masks for boolean indexing."
   ]
  },
  {
   "cell_type": "code",
   "execution_count": null,
   "metadata": {},
   "outputs": [],
   "source": [
    "x = pd.Series(np.random.normal(0, 1, (10,)))\n",
    "x\n",
    "\n",
    "#x > 0\n",
    "x[x > 0]"
   ]
  },
  {
   "cell_type": "code",
   "execution_count": null,
   "metadata": {},
   "outputs": [],
   "source": [
    "s"
   ]
  },
  {
   "cell_type": "code",
   "execution_count": null,
   "metadata": {},
   "outputs": [],
   "source": [
    "## Equality\n",
    "s == 3"
   ]
  },
  {
   "cell_type": "code",
   "execution_count": null,
   "metadata": {},
   "outputs": [],
   "source": [
    "## Negation of boolean expression\n",
    "~(s == 3)\n",
    "## If course equivalent to\n",
    "s != 3"
   ]
  },
  {
   "cell_type": "markdown",
   "metadata": {},
   "source": [
    "Similarly, most of the standard Numpy mathematical functions vectorize properly over Pandas series as long as they are of numeric `dtype`."
   ]
  },
  {
   "cell_type": "code",
   "execution_count": null,
   "metadata": {},
   "outputs": [],
   "source": [
    "## Exponentiation\n",
    "np.exp(s)"
   ]
  },
  {
   "cell_type": "code",
   "execution_count": null,
   "metadata": {},
   "outputs": [],
   "source": [
    "## Natural logarithm\n",
    "np.log(s)"
   ]
  },
  {
   "cell_type": "code",
   "execution_count": null,
   "metadata": {},
   "outputs": [],
   "source": [
    "## Trigonometric functions (e.g. sine)\n",
    "np.sin(s)"
   ]
  },
  {
   "cell_type": "markdown",
   "metadata": {},
   "source": [
    "### Series | broadcasting & alignment\n",
    "\n",
    "As it was already mentioned, broadcasting in Pandas is very different than in Numpy as it is organized around the idea of _labels alignment_.\n",
    "Luckily, this also means that the rules of broadcasting are somewhat simpler in Pandas.\n",
    "\n",
    "Alignment of labels is based on the notion of union of sets. If we have two sets $A = \\{x,y\\}$ and $B = \\{y,z\\}$ then their union is defined as:\n",
    "\n",
    "$$A \\cup B = \\{x, y, z\\}$$\n",
    "\n",
    "In other words a union is a set of all unique elements together.\n",
    "\n",
    "In Pandas any operation between two or more series (we will extend this discussion for data frames later on) is preceeded by the axes alignment\n",
    "stage in which axes of both series are transformed to the union of the two axes. We can see this in action in the chunk below."
   ]
  },
  {
   "cell_type": "code",
   "execution_count": null,
   "metadata": {},
   "outputs": [],
   "source": [
    "s1 = pd.Series([1, 2], index=['a', 'b'])\n",
    "s2 = pd.Series([3, 4], index=['a', 'c'])\n",
    "\n",
    "print(s1)\n",
    "print(s2)\n",
    "\n",
    "s1 + s2"
   ]
  },
  {
   "cell_type": "markdown",
   "metadata": {},
   "source": [
    "What happened? To see what is going on step-by-step we will have to replicate the axes alignment stage ourselves. To do so we will have to\n",
    "use a few methods of the index objects. For now we show them without much commentary as we will discuss index type later on."
   ]
  },
  {
   "cell_type": "code",
   "execution_count": null,
   "metadata": {},
   "outputs": [],
   "source": [
    "# The first step is to compute index union\n",
    "#index_union = s1.index.union(s2.index)\n",
    "index_union = s2.index.union(s1.index)\n",
    "index_union"
   ]
  },
  {
   "cell_type": "code",
   "execution_count": null,
   "metadata": {},
   "outputs": [],
   "source": [
    "# The second step is to reindex the first series\n",
    "s1 = s1.reindex(index_union)\n",
    "s1"
   ]
  },
  {
   "cell_type": "code",
   "execution_count": null,
   "metadata": {},
   "outputs": [],
   "source": [
    "# The third step is to reindex the second series\n",
    "s2 = s2.reindex(index_union)\n",
    "s2"
   ]
  },
  {
   "cell_type": "code",
   "execution_count": null,
   "metadata": {},
   "outputs": [],
   "source": [
    "# The fourth and the last step is to perform the actual addition\n",
    "s1 + s2"
   ]
  },
  {
   "cell_type": "code",
   "execution_count": null,
   "metadata": {},
   "outputs": [],
   "source": [
    "x1 = pd.Series([1, 2], index=['a', 'b'])\n",
    "x2 = pd.Series([10, 20], index=['b', 'a'])\n",
    "\n",
    "x1\n",
    "x2"
   ]
  },
  {
   "cell_type": "code",
   "execution_count": null,
   "metadata": {},
   "outputs": [],
   "source": [
    "x1 + x2"
   ]
  },
  {
   "cell_type": "code",
   "execution_count": null,
   "metadata": {},
   "outputs": [],
   "source": [
    "x2 + x1"
   ]
  },
  {
   "cell_type": "markdown",
   "metadata": {},
   "source": [
    "We get two NaN values as we have two NaNs at different positions in two series and as we know NaN values destroy any computation they appear in."
   ]
  },
  {
   "cell_type": "markdown",
   "metadata": {},
   "source": [
    "The above example shows that NaN value can pop up frequently in Pandas as a byproduct of the axes alignment process.\n",
    "\n",
    "Thus, it is very important to understand how they work."
   ]
  },
  {
   "cell_type": "markdown",
   "metadata": {},
   "source": [
    "## Series | NaN values\n",
    "\n",
    "**THIS DISCUSSION GENERALIZES TO DATA FRAMES**\n",
    "\n",
    "In general Pandas NaNs are just standard numpy `np.nan` objects, so we already know their mechanics.\n",
    "However, they way they are handled in Pandas objects such as `Series` is slightly different.\n",
    "\n",
    "Perhaps the most important difference is the fact that aggregating methods in Pandas such as `.sum()` or `.mean()` (discussed in the next section) skip NaN values by default. Moreover, standard Python `None` values are also treated as NaN in Pandas."
   ]
  },
  {
   "cell_type": "code",
   "execution_count": null,
   "metadata": {},
   "outputs": [],
   "source": [
    "s12 = s1 + s2\n",
    "s12"
   ]
  },
  {
   "cell_type": "code",
   "execution_count": null,
   "metadata": {},
   "outputs": [],
   "source": [
    "# Discard NaNs (default behavior)\n",
    "s12.sum()"
   ]
  },
  {
   "cell_type": "code",
   "execution_count": null,
   "metadata": {},
   "outputs": [],
   "source": [
    "# Do not discard NaNs\n",
    "s12.sum(skipna=False)"
   ]
  },
  {
   "cell_type": "markdown",
   "metadata": {},
   "source": [
    "The other main difference is the thing that we already observed. NaN values are created in Pandas when new cells are created during axes alignment."
   ]
  },
  {
   "cell_type": "markdown",
   "metadata": {},
   "source": [
    "We can easily remove NaN values from a series with `.dropna` method."
   ]
  },
  {
   "cell_type": "code",
   "execution_count": null,
   "metadata": {},
   "outputs": [],
   "source": [
    "x = pd.Series([1, 2, np.nan, 4])\n",
    "print(x)\n",
    "x.dropna()"
   ]
  },
  {
   "cell_type": "code",
   "execution_count": null,
   "metadata": {},
   "outputs": [],
   "source": [
    "x.isna()"
   ]
  },
  {
   "cell_type": "code",
   "execution_count": null,
   "metadata": {},
   "outputs": [],
   "source": [
    "x[x.isna()]"
   ]
  },
  {
   "cell_type": "code",
   "execution_count": null,
   "metadata": {},
   "outputs": [],
   "source": [
    "# The above is equivalent to\n",
    "x[~x.isna()]\n",
    "x.dropna()"
   ]
  },
  {
   "cell_type": "code",
   "execution_count": null,
   "metadata": {},
   "outputs": [],
   "source": [
    "# Both `np.nan` and `None` are treated as NaN in Pandas\n",
    "x = pd.Series([1, np.nan, None])\n",
    "x\n",
    "\n",
    "x.isna()"
   ]
  },
  {
   "cell_type": "code",
   "execution_count": null,
   "metadata": {},
   "outputs": [],
   "source": [
    "# Alias method\n",
    "x.isnull()"
   ]
  },
  {
   "cell_type": "markdown",
   "metadata": {},
   "source": [
    "It is also possible to fillin value in place of NaNs."
   ]
  },
  {
   "cell_type": "code",
   "execution_count": null,
   "metadata": {},
   "outputs": [],
   "source": [
    "x = pd.Series([1, 2, np.nan, np.nan, 5], index=['a', 'b', 'c', 'd', 'e'])\n",
    "x"
   ]
  },
  {
   "cell_type": "code",
   "execution_count": null,
   "metadata": {},
   "outputs": [],
   "source": [
    "x.fillna(99)\n",
    "x.fillna(x.mean())"
   ]
  },
  {
   "cell_type": "code",
   "execution_count": null,
   "metadata": {},
   "outputs": [],
   "source": [
    "x.fillna(x.mean())\n",
    "x"
   ]
  },
  {
   "cell_type": "code",
   "execution_count": null,
   "metadata": {},
   "outputs": [],
   "source": [
    "# The above is equivalent to\n",
    "x[x.isna()] = x.mean()\n",
    "x"
   ]
  },
  {
   "cell_type": "code",
   "execution_count": null,
   "metadata": {},
   "outputs": [],
   "source": [
    "x = pd.Series([1, 2, np.nan, np.nan, 5], index=['a', 'b', 'c', 'd', 'e'])\n",
    "x\n",
    "# It is possible to fill different values for different labels\n",
    "x.fillna({ 'c': 3, 'd': 4})"
   ]
  },
  {
   "cell_type": "code",
   "execution_count": null,
   "metadata": {},
   "outputs": [],
   "source": [
    "# The above is equivalent to\n",
    "x[x.isna()] = [3, 4]\n",
    "x"
   ]
  },
  {
   "cell_type": "markdown",
   "metadata": {},
   "source": [
    "## Series | Aggregation\n",
    "\n",
    "**The same methods are available also for data frames**\n",
    "\n",
    "Pandas objects such as `Series` and `DataFrame`s support aggregation methods known from numpy. Below we list some of them.\n",
    "\n",
    "In the case of series there is no much to aggregation as it always leads to a single number.\n",
    "However, in the case of data frames we can choose axes we want to aggregato over as it we can in Numpy. We discuss this issue later on."
   ]
  },
  {
   "cell_type": "code",
   "execution_count": null,
   "metadata": {},
   "outputs": [],
   "source": [
    "# Sum\n",
    "s.sum()\n",
    "# Mean\n",
    "s.mean()\n",
    "# Variance\n",
    "s.var()\n",
    "# Standard deviation\n",
    "s.std()\n",
    "# Minimum\n",
    "s.min()\n",
    "# Maximum\n",
    "s.max()"
   ]
  },
  {
   "cell_type": "markdown",
   "metadata": {},
   "source": [
    "We can also ask for labels of maximum and minimum elements."
   ]
  },
  {
   "cell_type": "code",
   "execution_count": null,
   "metadata": {},
   "outputs": [],
   "source": [
    "s\n",
    "s.idxmax()\n",
    "s.idxmin()"
   ]
  },
  {
   "cell_type": "markdown",
   "metadata": {},
   "source": [
    "Moreover, we can use standard boolean aggregators."
   ]
  },
  {
   "cell_type": "code",
   "execution_count": null,
   "metadata": {},
   "outputs": [],
   "source": [
    "s\n",
    "(s == 3).all()\n",
    "(s == 3).any()"
   ]
  },
  {
   "cell_type": "markdown",
   "metadata": {},
   "source": [
    "## Series | Testing membership\n",
    "\n",
    "A very useful feature of Pandas series is the fact that they provide easy-to-use and efficient method to test whether values\n",
    "in a series are in some set of values. Below we extract from a series of positive integers only those that are prime numbers lower than $10$."
   ]
  },
  {
   "cell_type": "code",
   "execution_count": null,
   "metadata": {},
   "outputs": [],
   "source": [
    "np.random.seed(9)\n",
    "\n",
    "x = pd.Series(np.random.randint(1, 20, size=(30,)))\n",
    "x"
   ]
  },
  {
   "cell_type": "code",
   "execution_count": null,
   "metadata": {},
   "outputs": [],
   "source": [
    "primes = [2, 3, 5, 7]\n",
    "\n",
    "x[x.isin(primes)]"
   ]
  },
  {
   "cell_type": "markdown",
   "metadata": {},
   "source": [
    "### Series | Exercise 1.\n",
    "\n",
    "Change values for lowest and highest elements to -111."
   ]
  },
  {
   "cell_type": "code",
   "execution_count": null,
   "metadata": {},
   "outputs": [],
   "source": [
    "np.random.seed(101)\n",
    "\n",
    "s = pd.Series(np.random.randint(0, 100, (30,)))\n",
    "s[:5]"
   ]
  },
  {
   "cell_type": "code",
   "execution_count": null,
   "metadata": {},
   "outputs": [],
   "source": [
    "# Your solution"
   ]
  },
  {
   "cell_type": "markdown",
   "metadata": {},
   "source": [
    "### Series | Exercise 2.\n",
    "\n",
    "Create two series with three numeric elements and use them to create a series with six elements filled with NaNs.\n",
    "When creating the 6-elements series you can use only arithmetic operations.\n",
    "\n",
    "HINT. Remember about the rules of alignment."
   ]
  },
  {
   "cell_type": "code",
   "execution_count": null,
   "metadata": {},
   "outputs": [],
   "source": [
    "# Your solution"
   ]
  },
  {
   "cell_type": "markdown",
   "metadata": {},
   "source": [
    "### Series | Iteration\n",
    "\n",
    "The behavior of Pandas series in standard Python for-loop iteration is of course obvious. We iterate over values."
   ]
  },
  {
   "cell_type": "code",
   "execution_count": null,
   "metadata": {},
   "outputs": [],
   "source": [
    "x = pd.Series([1, 2, 3, 4, 5])\n",
    "\n",
    "for i in x:\n",
    "    print(i)"
   ]
  },
  {
   "cell_type": "markdown",
   "metadata": {},
   "source": [
    "However, since a series is also a kind of a `dict` we can also iterate over index values and data values in parallel\n",
    "using the `.items()` method that we know from standard dictionaries."
   ]
  },
  {
   "cell_type": "code",
   "execution_count": null,
   "metadata": {},
   "outputs": [],
   "source": [
    "x\n",
    "for idx, val in x.items():\n",
    "    print(idx, \"=>\", val)"
   ]
  },
  {
   "cell_type": "markdown",
   "metadata": {},
   "source": [
    "In general, iterating over series should be avoided as it will be almost always slow. We should use the fact that internally\n",
    "series store their data in Numpy-like arrays, so we should use vectorized operations.\n",
    "\n",
    "However, sometimes this is not possible and we may want to apply some function elementwise to a series.\n",
    "To do that we can use `.map()` method definded on series objects.\n",
    "\n",
    "It can be used to apply a function element-wise or to map elements of a series to new values based on a dictionary or other series."
   ]
  },
  {
   "cell_type": "code",
   "execution_count": null,
   "metadata": {},
   "outputs": [],
   "source": [
    "np.random.seed(77)\n",
    "\n",
    "x = pd.Series(np.random.choice(['a', 'b', 'c', 'd'], size=(20,)))\n",
    "x"
   ]
  },
  {
   "cell_type": "code",
   "execution_count": null,
   "metadata": {},
   "outputs": [],
   "source": [
    "# Now we will recode the values\n",
    "value_map = {\n",
    "    'a': 11,\n",
    "    'b': 22,\n",
    "    'c': 33,\n",
    "    'd': 44\n",
    "}\n",
    "x.map(value_map)"
   ]
  },
  {
   "cell_type": "code",
   "execution_count": null,
   "metadata": {},
   "outputs": [],
   "source": [
    "# We can do the same with a function\n",
    "def value_map(x):\n",
    "    if x == 'a':\n",
    "        return 11\n",
    "    if x == 'b':\n",
    "        return 22\n",
    "    if x == 'c':\n",
    "        return 33\n",
    "    if x == 'd':\n",
    "        return 44\n",
    "    return np.nan\n",
    "\n",
    "x.map(value_map)"
   ]
  },
  {
   "cell_type": "markdown",
   "metadata": {},
   "source": [
    "## Series | Exercise 3.\n",
    "\n",
    "You are provided with a set of random codes composed of ASCII letters. Your task is to convert them to shorter codes according\n",
    "to the following rules:\n",
    "\n",
    "1. The shorter code should start with 1 if the longer code starts with A, with 2 if the longer starts with B, with 3 if the longer starts with C\n",
    "and with 0 if the longer starts with any other letter.\n",
    "2. Then append uppercase # (hash sign).\n",
    "3. Then the length of the longer code should be appended.\n",
    "\n",
    "**Example**\n",
    "\n",
    "Long code: BACFTYSBFTYSGC\n",
    "\n",
    "Short code: 2#14"
   ]
  },
  {
   "cell_type": "code",
   "execution_count": null,
   "metadata": {},
   "outputs": [],
   "source": [
    "from string import ascii_uppercase\n",
    "long_codes = pd.Series(\"\".join(np.random.choice(list(ascii_uppercase), size=(i,))) for i in np.random.randint(10, 50, (30,)))\n",
    "long_codes"
   ]
  },
  {
   "cell_type": "code",
   "execution_count": null,
   "metadata": {},
   "outputs": [],
   "source": [
    "## Your solution"
   ]
  },
  {
   "cell_type": "markdown",
   "metadata": {},
   "source": [
    "## Index | Explicit labeling for axes\n",
    "\n",
    "As we already discussed index object is an integral element of every series (and as we will see later also data frame).\n",
    "It provides explicit labeling for an axis along which elements of a series are aligned.\n",
    "In Numpy indexes were implicit and derived just from ordering of elements. In Pandas they are full-fledged Python objects\n",
    "with a lot of their functionalities, so it is important that we understand their mechanics before discussing the most\n",
    "important and most complex type in Pandas, that is, `DataFrame`.\n",
    "\n",
    "Indexes may be created with a constructor in a similar as way as series. Like series, they can also be assigned with names."
   ]
  },
  {
   "cell_type": "code",
   "execution_count": null,
   "metadata": {},
   "outputs": [],
   "source": [
    "import pandas as pd"
   ]
  },
  {
   "cell_type": "code",
   "execution_count": null,
   "metadata": {},
   "outputs": [],
   "source": [
    "idx = pd.Index(['a', 'b', 'c'])\n",
    "idx"
   ]
  },
  {
   "cell_type": "code",
   "execution_count": null,
   "metadata": {},
   "outputs": [],
   "source": [
    "# Named index\n",
    "idx = pd.Index(['a', 'b', 'c'], name='an index')\n",
    "idx"
   ]
  },
  {
   "cell_type": "markdown",
   "metadata": {},
   "source": [
    "Indexes can be used passed to series constructors."
   ]
  },
  {
   "cell_type": "code",
   "execution_count": null,
   "metadata": {},
   "outputs": [],
   "source": [
    "pd.Series([1, 11, 22], index=idx)\n",
    "# Note that the name of the index is printed"
   ]
  },
  {
   "cell_type": "code",
   "execution_count": null,
   "metadata": {},
   "outputs": [],
   "source": [
    "pd.Series([1, 11, 22], index=['a', 'b', 'c']).index"
   ]
  },
  {
   "cell_type": "markdown",
   "metadata": {},
   "source": [
    "In general, indexes behave like multisets and they may contain duplicate labels. However, this situation should be usually avoided\n",
    "as some procedures in Pandas are not implemented for this case and will raise an error. Moreover, this kind of ambiguity\n",
    "will sooner or later lead to problems and/or errors in computations."
   ]
  },
  {
   "cell_type": "code",
   "execution_count": null,
   "metadata": {},
   "outputs": [],
   "source": [
    "# Duplicate labels are problematic\n",
    "s = pd.Series([1, 2, 3, 4], index=['a', 'b', 'a', 'c'])\n",
    "s"
   ]
  },
  {
   "cell_type": "code",
   "execution_count": null,
   "metadata": {},
   "outputs": [],
   "source": [
    "s['a']"
   ]
  },
  {
   "cell_type": "markdown",
   "metadata": {},
   "source": [
    "But they may be also useful in some cases. We will discuss this issue later."
   ]
  },
  {
   "cell_type": "markdown",
   "metadata": {},
   "source": [
    "Indexes and labels in Pandas can be very powerful, but sometimes they can be annoying and stand in our way. A typical example of situation\n",
    "like that is when we have two series of the same length which we want to add together, but they come from different sources and may have\n",
    "different indexes, so in the alignment stage NaN values will be produced.\n",
    "\n",
    "Luckily, indexes can be reset and changed to generic integer indexes (similar to implicit Numpy indexes) at any moment.\n",
    "We illustrate this below."
   ]
  },
  {
   "cell_type": "code",
   "execution_count": null,
   "metadata": {},
   "outputs": [],
   "source": [
    "s1 = pd.Series([1, 2, 3])\n",
    "s2 = pd.Series([4, 5, 6], index=['a', 'b', 'c'])\n",
    "\n",
    "s1\n",
    "s2"
   ]
  },
  {
   "cell_type": "code",
   "execution_count": null,
   "metadata": {},
   "outputs": [],
   "source": [
    "s1 + s2"
   ]
  },
  {
   "cell_type": "markdown",
   "metadata": {},
   "source": [
    "This did not work becuase labels are completely different between the series. The first one has generic integer labels, but the second\n",
    "one has string labels. To solve this problem we can reset index of the second series."
   ]
  },
  {
   "cell_type": "code",
   "execution_count": null,
   "metadata": {},
   "outputs": [],
   "source": [
    "s2\n",
    "s2.reset_index(drop=True)"
   ]
  },
  {
   "cell_type": "code",
   "execution_count": null,
   "metadata": {},
   "outputs": [],
   "source": [
    "s1.reset_index(drop=True) + s2.reset_index(drop=True)"
   ]
  },
  {
   "cell_type": "code",
   "execution_count": null,
   "metadata": {},
   "outputs": [],
   "source": [
    "s1.reset_index(drop=False)"
   ]
  },
  {
   "cell_type": "code",
   "execution_count": null,
   "metadata": {},
   "outputs": [],
   "source": [
    "s2.name = 'Some Series'\n",
    "s2.index.name = 'An Index'\n",
    "s2\n",
    "s2.reset_index(drop=False)"
   ]
  },
  {
   "cell_type": "markdown",
   "metadata": {},
   "source": [
    "A new index can added to a series by assigning to the `.index` attribute."
   ]
  },
  {
   "cell_type": "code",
   "execution_count": null,
   "metadata": {},
   "outputs": [],
   "source": [
    "s = pd.Series([1, 2, 3])\n",
    "s\n",
    "idx = pd.Index(['a', 'b', 'c'])\n",
    "s.index = idx\n",
    "s"
   ]
  },
  {
   "cell_type": "code",
   "execution_count": null,
   "metadata": {},
   "outputs": [],
   "source": [
    "# The above is equivalent to\n",
    "s = pd.Series([1, 2, 3])\n",
    "s.index = ['a', 'b', 'c']\n",
    "s.index"
   ]
  },
  {
   "cell_type": "markdown",
   "metadata": {},
   "source": [
    "However, if we try to assign an index that is longer (or shorter) than our data series we will get an error."
   ]
  },
  {
   "cell_type": "code",
   "execution_count": null,
   "metadata": {},
   "outputs": [],
   "source": [
    "s = pd.Series([1, 2, 3])\n",
    "s.index = ['a', 'b', 'c', 'd']"
   ]
  },
  {
   "cell_type": "markdown",
   "metadata": {},
   "source": [
    "In order to reshape an index of an existing series we have to use `.reindex()` method. This method can be also used to reorder labels\n",
    "of a series (and its values as well). New labels are assigned with NaN values."
   ]
  },
  {
   "cell_type": "code",
   "execution_count": null,
   "metadata": {},
   "outputs": [],
   "source": [
    "s = pd.Series([1, 2, 3, 4, 5], index=['a', 'b', 'c', 'd', 'e'])\n",
    "s"
   ]
  },
  {
   "cell_type": "markdown",
   "metadata": {},
   "source": [
    "A very important kind of operation one can perform on indexes is to combine them in various ways.\n",
    "In general indexes are treated as sets, so we can define basic set operations between them such as union and intersection.\n",
    "\n",
    "As we already discussed, the alignment of labels (Pandas broadcasting) involves creation of a union of indexes of two series.\n",
    "However, in some cases we may want think of different combinations of indexes. Below we study some possibilities."
   ]
  },
  {
   "cell_type": "code",
   "execution_count": null,
   "metadata": {},
   "outputs": [],
   "source": [
    "s1 = pd.Series(range(10), index=range(10))\n",
    "s2 = pd.Series(range(10, 20), index=range(5, 15))\n",
    "s1\n",
    "s2"
   ]
  },
  {
   "cell_type": "code",
   "execution_count": null,
   "metadata": {},
   "outputs": [],
   "source": [
    "s1 + s2"
   ]
  },
  {
   "cell_type": "markdown",
   "metadata": {},
   "source": [
    "We can use union of the indexes for instance to combine the two series in such a way that they are added together where possible\n",
    "and existing values are used where one series is missing."
   ]
  },
  {
   "cell_type": "code",
   "execution_count": null,
   "metadata": {},
   "outputs": [],
   "source": [
    "idx_union = s1.index.union(s2.index)\n",
    "idx_union"
   ]
  },
  {
   "cell_type": "code",
   "execution_count": null,
   "metadata": {},
   "outputs": [],
   "source": [
    "s1.reindex(idx_union).fillna(0) + s2.reindex(idx_union).fillna(0)"
   ]
  },
  {
   "cell_type": "code",
   "execution_count": null,
   "metadata": {},
   "outputs": [],
   "source": [
    "s1.reindex(idx_union).fillna(1) * s2.reindex(idx_union).fillna(1)"
   ]
  },
  {
   "cell_type": "markdown",
   "metadata": {},
   "source": [
    "Similarly we can use intersection of indexes to limit our results only to those cases for which we have full information."
   ]
  },
  {
   "cell_type": "code",
   "execution_count": null,
   "metadata": {},
   "outputs": [],
   "source": [
    "idx_intersect = s1.index.intersection(s2.index)\n",
    "idx_intersect"
   ]
  },
  {
   "cell_type": "code",
   "execution_count": null,
   "metadata": {},
   "outputs": [],
   "source": [
    "(s1 + s2).reindex(idx_intersect)"
   ]
  },
  {
   "cell_type": "code",
   "execution_count": null,
   "metadata": {},
   "outputs": [],
   "source": [
    "s1.reindex(idx_intersect) + s2.reindex(idx_intersect)"
   ]
  },
  {
   "cell_type": "code",
   "execution_count": null,
   "metadata": {},
   "outputs": [],
   "source": [
    "idx1 = pd.Index([1, 2, 3, 4])\n",
    "idx2 = pd.Index([3, 4, 5, 6])\n",
    "\n",
    "idx1.difference(idx2)"
   ]
  },
  {
   "cell_type": "code",
   "execution_count": null,
   "metadata": {},
   "outputs": [],
   "source": [
    "idx1\n",
    "idx2\n",
    "\n",
    "idx1.difference(idx2)\n",
    "idx2.difference(idx1)"
   ]
  },
  {
   "cell_type": "code",
   "execution_count": null,
   "metadata": {},
   "outputs": [],
   "source": [
    "idx1 = pd.Index([1, 2, 3, 4])\n",
    "idx2 = pd.Index([3, 4, 5, 6])\n",
    "\n",
    "idx1.symmetric_difference(idx2)"
   ]
  },
  {
   "cell_type": "code",
   "execution_count": null,
   "metadata": {},
   "outputs": [],
   "source": [
    "idx1.difference(idx2).union(idx2.difference(idx1))"
   ]
  },
  {
   "cell_type": "markdown",
   "metadata": {},
   "source": [
    "In the same fashion we can use symmetric difference (labels in one of the index but not in both)."
   ]
  },
  {
   "cell_type": "code",
   "execution_count": null,
   "metadata": {},
   "outputs": [],
   "source": [
    "idx_symmetric = s1.index.symmetric_difference(s2.index)"
   ]
  },
  {
   "cell_type": "code",
   "execution_count": null,
   "metadata": {},
   "outputs": [],
   "source": [
    "s1.reindex(idx_symmetric)"
   ]
  },
  {
   "cell_type": "code",
   "execution_count": null,
   "metadata": {},
   "outputs": [],
   "source": [
    "s2.reindex(idx_symmetric)"
   ]
  },
  {
   "cell_type": "code",
   "execution_count": null,
   "metadata": {},
   "outputs": [],
   "source": [
    "s1.reindex(idx_symmetric).fillna(0) + s2.reindex(idx_symmetric).fillna(0)"
   ]
  },
  {
   "cell_type": "markdown",
   "metadata": {},
   "source": [
    "### Index | Exercise 1.\n",
    "\n",
    "You are provided with two data series with measurements for subjects identified with integer indexes. The first series corresponds to the first\n",
    "trial and second one to the second trial. However, some subjects participated only in one of the trials.\n",
    "\n",
    "You have to execute the following tasks:\n",
    "\n",
    "1. Compute a series with sums of scores for all subjects.\n",
    "2. Compute a series with average scores for all subjects.\n",
    "3. Find ids (labels) for subjects with highest and lowest average score.\n",
    "4. Compute average score among subjects who participated in both trials.\n",
    "5. Compute average score among subjects who participated in only one of the trials."
   ]
  },
  {
   "cell_type": "code",
   "execution_count": null,
   "metadata": {},
   "outputs": [],
   "source": [
    "import numpy as np\n",
    "np.random.seed(101)\n",
    "\n",
    "ids = np.arange(25)\n",
    "trial1 = pd.Series(np.random.normal(100, 15, (22,)), index=np.random.choice(ids, size=(22,), replace=False))\n",
    "trial2 = pd.Series(np.random.normal(115, 30, (13,)), index=np.random.choice(ids, size=(13,), replace=False))"
   ]
  },
  {
   "cell_type": "code",
   "execution_count": null,
   "metadata": {},
   "outputs": [],
   "source": [
    "# Your solution"
   ]
  }
 ],
 "metadata": {
  "kernelspec": {
   "display_name": "Python 3",
   "language": "python",
   "name": "python3"
  },
  "language_info": {
   "codemirror_mode": {
    "name": "ipython",
    "version": 3
   },
   "file_extension": ".py",
   "mimetype": "text/x-python",
   "name": "python",
   "nbconvert_exporter": "python",
   "pygments_lexer": "ipython3",
   "version": "3.8.3"
  }
 },
 "nbformat": 4,
 "nbformat_minor": 4
}
