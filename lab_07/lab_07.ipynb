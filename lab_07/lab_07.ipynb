{
 "cells": [
  {
   "cell_type": "markdown",
   "metadata": {},
   "source": [
    "# Pandas | Core concepts, types and methods (part II)\n",
    "\n",
    "Szymon Talaga 10.01.2020\n",
    "\n",
    "<hr>"
   ]
  },
  {
   "cell_type": "markdown",
   "metadata": {},
   "source": [
    "In this notebook we continue our quest for developing solid, in-depth understanding of Pandas data structures and their relations to Numpy.\n",
    "\n",
    "Here we will focus on the most important type which is `DataFrame`. In the later part we will also consider `MultiIndex` type\n",
    "and advanced methods for indexing hierarchical data structures. In the first part of the notebook we will focus on flat indexes\n",
    "with only one level (i.e. standard `Index` objects).\n",
    "\n",
    "Data frame in Pandas is a two dimensional collection of values arranged as a rectangular grid of rows and columns.\n",
    "It is primarily oriented column-wise as the columns are represented as `Series` objects. This means that any single column of a `DataFrame` has to be\n",
    "of a fixed `dtype`, but different columns may have different `dtypes`. This is a primary reason why (usually) row-wise operations in Pandas\n",
    "are less efficient and in general more difficult to carry out.\n",
    "\n",
    "Data frames use also a more complex indexing architecture. All `Series` defining columns have to share the same index. This allows to have a well-defined\n",
    "row index. Additionally, a data frame has also a horizontal index which defines columns (and possibly also groups of columns etc.).\n",
    "\n",
    "Summing up, data frames can be viewed as a collection of columns represented as `Series` which are mapped to column names organized as an `Index` \n",
    "(or `MultiIndex`) object combined with another `Index` (or `MultiIndex`) object that define row indexes and which is shared by all column `Series`.\n",
    "\n",
    "Although the abovementioned view is not 100% veridical with respect to the true internal data model used by Pandas it rather captures the general\n",
    "design of Pandas data frames. It also correctly points to the strong and weak points of Pandas data model in terms of what kinds of operations\n",
    "are easy and hard to perform (in terms of computational efficiency).\n",
    "\n",
    "```python\n",
    "=====================================================\n",
    "|       | column 1    column 2   . . .     column m |\n",
    "=====================================================\n",
    "| row 1 |    x           x                    x     |\n",
    "| row 2 |    x           x                    x     |\n",
    "|   .   |                                           |\n",
    "|   .   |                                           |\n",
    "|   .   |                                           |\n",
    "| row n |    x           x                    x     |\n",
    "=====================================================\n",
    "```\n",
    "\n",
    "<hr>\n",
    "\n",
    "Many great resources about Pandas can be found in the official documentation. In particular, it is recommended to read the following articles:\n",
    "\n",
    "* [10 minutes to Pandas](https://pandas.pydata.org/pandas-docs/stable/getting_started/10min.html)\n",
    "* [Essential basic functionality](https://pandas.pydata.org/pandas-docs/stable/getting_started/basics.html)\n",
    "* [Intro to data structures](https://pandas.pydata.org/pandas-docs/stable/getting_started/dsintro.html)\n",
    "* [Indexing and selecting data](https://pandas.pydata.org/pandas-docs/stable/user_guide/indexing.html#indexing-attribute-access)\n",
    "\n",
    "<hr>"
   ]
  },
  {
   "cell_type": "code",
   "execution_count": 1,
   "metadata": {},
   "outputs": [],
   "source": [
    "import numpy as np\n",
    "import pandas as pd\n",
    "import matplotlib.pyplot as plt\n",
    "%matplotlib inline\n",
    "# Helper package to load example datasets\n",
    "import seaborn as sbn"
   ]
  },
  {
   "cell_type": "markdown",
   "metadata": {},
   "source": [
    "## `DataFrame` | 2D rectangular dataset organized as a collection of named `Series`"
   ]
  },
  {
   "cell_type": "markdown",
   "metadata": {},
   "source": [
    "In this section we will review most important ways in which one can initialize a `DataFrame` object. \n",
    "This will provide not only a practical exercise but also important insights into the ways in which we can think about data frames."
   ]
  },
  {
   "cell_type": "markdown",
   "metadata": {},
   "source": [
    "Perhaps the most natural, although not necessarily the best, way to think about a data frame is to think about it\n",
    "in terms of a list of rows defining a rectangular table.\n",
    "\n",
    "In this spirit, we can build a data frame from a list of lists defining rows."
   ]
  },
  {
   "cell_type": "code",
   "execution_count": null,
   "metadata": {},
   "outputs": [],
   "source": [
    "pd.DataFrame([\n",
    "    [1, 2, 3],\n",
    "    [4, 5, 6, 4],\n",
    "    [7, 8, 9],\n",
    "    [10, 11, 12]\n",
    "])"
   ]
  },
  {
   "cell_type": "markdown",
   "metadata": {},
   "source": [
    "This way we will not get any column or row names by default. However, this can be changed by using `columns` and `index` arugments.\n",
    "\n",
    "Note that we do not have to pass type homogeneous data. Below we create a data frame of which third column is of `object` type\n",
    "(it contains strings) while the first two ones are integer."
   ]
  },
  {
   "cell_type": "code",
   "execution_count": null,
   "metadata": {},
   "outputs": [],
   "source": [
    "df = pd.DataFrame([\n",
    "    [1, 2, 'a string 1'],\n",
    "    [4, 5, 'a string 2'],\n",
    "    [7, 8, 'a string 3'],\n",
    "    [10, 11, 'a string 4']\n",
    "], columns=['a', 'b', 'c'], index=['p', 'r', 's', 't'])\n",
    "df"
   ]
  },
  {
   "cell_type": "markdown",
   "metadata": {},
   "source": [
    "We can check types using `.dtypes` attribute of a data frame."
   ]
  },
  {
   "cell_type": "code",
   "execution_count": null,
   "metadata": {},
   "outputs": [],
   "source": [
    "df.dtypes"
   ]
  },
  {
   "cell_type": "markdown",
   "metadata": {},
   "source": [
    "Similarly we can look at row and column indexes."
   ]
  },
  {
   "cell_type": "code",
   "execution_count": null,
   "metadata": {},
   "outputs": [],
   "source": [
    "print(df.index)    # row index\n",
    "print(df.columns)  # column index"
   ]
  },
  {
   "cell_type": "markdown",
   "metadata": {},
   "source": [
    "A similar approach is to create a data frame from a sequence of dictionaries. This way we can specify column names in data.\n",
    "However, if we want to have non-generic row labels we still need to provide them separately through `index` argument.\n",
    "\n",
    "NOTE. The ordering of columns is defined by the ordering of keys in the first dictionary."
   ]
  },
  {
   "cell_type": "code",
   "execution_count": null,
   "metadata": {},
   "outputs": [],
   "source": [
    "pd.DataFrame([\n",
    "    {'b': 'string', 'a': 2, 'c': 11111},\n",
    "    {'a': 1, 'b': 'another string'},\n",
    "], index=['s1', 's2'])"
   ]
  },
  {
   "cell_type": "markdown",
   "metadata": {},
   "source": [
    "We can fully define data and both indexes in a row-wise fashion if we define a data frame based on a list of named `Series`\n",
    "which are interpreted as rows in this case."
   ]
  },
  {
   "cell_type": "code",
   "execution_count": null,
   "metadata": {},
   "outputs": [],
   "source": [
    "pd.DataFrame([\n",
    "    pd.Series({'a': 1, 'b': 2}, name='subject 1'),\n",
    "    pd.Series({'a': 2, 'b': 3}, name='subject 2')\n",
    "])"
   ]
  },
  {
   "cell_type": "markdown",
   "metadata": {},
   "source": [
    "From the column perspective we can define a data frame as a named collection (a mapping) of columns."
   ]
  },
  {
   "cell_type": "code",
   "execution_count": null,
   "metadata": {},
   "outputs": [],
   "source": [
    "pd.DataFrame({\n",
    "    'a': [1, 2, 3],\n",
    "    'b': [4, 5, 6],\n",
    "    'c': ['x', 'y', 'z']\n",
    "}, index=['s1', 's2', 's3'])"
   ]
  },
  {
   "cell_type": "markdown",
   "metadata": {},
   "source": [
    "In order to see that pandes really enforces equal length of columns as well as identical indexes, we can check what happens\n",
    "if try to create data frame from a collection non-conformable series."
   ]
  },
  {
   "cell_type": "code",
   "execution_count": null,
   "metadata": {},
   "outputs": [],
   "source": [
    "# Unequal lengths\n",
    "pd.DataFrame({\n",
    "    'a': [1, 2, 3, 999],\n",
    "    'b': [4, 5, 6],\n",
    "    'c': ['x', 'y', 'z']\n",
    "})"
   ]
  },
  {
   "cell_type": "markdown",
   "metadata": {},
   "source": [
    "When we pass series with different indexes we do not get an error. Instead we obtain a data frame partially filled with NaNs,\n",
    "which is of course the result of the rules of labels alignment in Pandas."
   ]
  },
  {
   "cell_type": "code",
   "execution_count": null,
   "metadata": {},
   "outputs": [],
   "source": [
    "# Unequal indexes\n",
    "pd.DataFrame({\n",
    "    'a': pd.Series([1, 2, 3]),\n",
    "    'b': pd.Series([4, 5, 6]),\n",
    "    'c': pd.Series(['x', 'y', 'z'], index=['uu', 'vv', 'ww'])\n",
    "})"
   ]
  },
  {
   "cell_type": "markdown",
   "metadata": {},
   "source": [
    "# `DataFrame` | Indexing and slicing\n",
    "\n",
    "`DataFrame` objects provide the same three syntaxes and three kinds of indexing. The main difference is that data frames\n",
    "have two separate axes (rows and columns)."
   ]
  },
  {
   "cell_type": "code",
   "execution_count": null,
   "metadata": {},
   "outputs": [],
   "source": [
    "df = pd.DataFrame([\n",
    "    pd.Series({'a': 1, 'b': 2, 'c': 'foo'}, name='s1'),\n",
    "    pd.Series({'a': 11, 'b': 22, 'c': 'bar'}, name='s2'),\n",
    "    pd.Series({'a': 20, 'b': 30, 'c': 'xoxo'}, name='s3'),\n",
    "    pd.Series({'a': 7, 'b': 15, 'c': 'yoyo'}, name='s4'),\n",
    "    pd.Series({'a': 50, 'b': 1, 'c': 'howdy'}, name='s5')\n",
    "])\n",
    "df"
   ]
  },
  {
   "cell_type": "markdown",
   "metadata": {},
   "source": [
    "### _getitem_ syntax\n",
    "\n",
    "It can be used to select columns (single or multiple)."
   ]
  },
  {
   "cell_type": "code",
   "execution_count": null,
   "metadata": {},
   "outputs": [],
   "source": [
    "# Get single column\n",
    "# Output is a series\n",
    "df['b']"
   ]
  },
  {
   "cell_type": "code",
   "execution_count": null,
   "metadata": {},
   "outputs": [],
   "source": [
    "# Get multiple columns\n",
    "# Output is a data frame\n",
    "df[['a', 'c']]"
   ]
  },
  {
   "cell_type": "code",
   "execution_count": null,
   "metadata": {},
   "outputs": [],
   "source": [
    "# Get single column as a data frame\n",
    "df[['b']]"
   ]
  },
  {
   "cell_type": "markdown",
   "metadata": {},
   "source": [
    "However, if we provide a slice in _getitem_ indexing it will be interpreted as slice over row labels\n",
    "or positions if it is an integer slice. Thus, in this case we have a similar problem with ambiguity of the _getitem_ syntax\n",
    "as in the case of `Series`."
   ]
  },
  {
   "cell_type": "code",
   "execution_count": null,
   "metadata": {},
   "outputs": [],
   "source": [
    "# Get slice of rows by label\n",
    "df['s2':'s4']"
   ]
  },
  {
   "cell_type": "code",
   "execution_count": null,
   "metadata": {},
   "outputs": [],
   "source": [
    "# Get slice of rows by integer positions\n",
    "df[1:4]"
   ]
  },
  {
   "cell_type": "code",
   "execution_count": null,
   "metadata": {},
   "outputs": [],
   "source": [
    "# Ambiguous case of data frame with integer labels\n",
    "df2 = df.set_index(pd.Index([2, 3, 1, 4, 0]))\n",
    "df2"
   ]
  },
  {
   "cell_type": "code",
   "execution_count": null,
   "metadata": {},
   "outputs": [],
   "source": [
    "# Get rows by integer slice\n",
    "# They are interpreted as positions and not labels\n",
    "df2[2:4]"
   ]
  },
  {
   "cell_type": "markdown",
   "metadata": {},
   "source": [
    "### `DataFrame` | `.loc` indexing\n",
    "\n",
    "It provides label-based indexing for both rows and columns."
   ]
  },
  {
   "cell_type": "code",
   "execution_count": null,
   "metadata": {},
   "outputs": [],
   "source": [
    "df"
   ]
  },
  {
   "cell_type": "code",
   "execution_count": null,
   "metadata": {},
   "outputs": [],
   "source": [
    "# Get row (as a Series)\n",
    "df.loc['s2', :]"
   ]
  },
  {
   "cell_type": "code",
   "execution_count": null,
   "metadata": {},
   "outputs": [],
   "source": [
    "# Get column (as a Series)\n",
    "df.loc[:, 'b']"
   ]
  },
  {
   "cell_type": "code",
   "execution_count": null,
   "metadata": {},
   "outputs": [],
   "source": [
    "# Get column (as a DataFrame)\n",
    "df.loc[:, ['b']]"
   ]
  },
  {
   "cell_type": "code",
   "execution_count": null,
   "metadata": {},
   "outputs": [],
   "source": [
    "# Get multiple columns and rows\n",
    "df.loc[['s2', 's4'], ['a', 'c']]"
   ]
  },
  {
   "cell_type": "code",
   "execution_count": null,
   "metadata": {},
   "outputs": [],
   "source": [
    "# Get slices of rows and columns\n",
    "df.loc['s2':, :'b']"
   ]
  },
  {
   "cell_type": "markdown",
   "metadata": {},
   "source": [
    "### `DataFrame` | `.iloc` indexing\n",
    "\n",
    "It provides position-based indexing for both rows and columns."
   ]
  },
  {
   "cell_type": "code",
   "execution_count": null,
   "metadata": {},
   "outputs": [],
   "source": [
    "df"
   ]
  },
  {
   "cell_type": "code",
   "execution_count": null,
   "metadata": {},
   "outputs": [],
   "source": [
    "# Single element\n",
    "df.iloc[2, 2]"
   ]
  },
  {
   "cell_type": "code",
   "execution_count": null,
   "metadata": {},
   "outputs": [],
   "source": [
    "# Single row (as Series)\n",
    "df.iloc[-1, :]"
   ]
  },
  {
   "cell_type": "code",
   "execution_count": null,
   "metadata": {},
   "outputs": [],
   "source": [
    "# Single row (as DataFrame)\n",
    "df.iloc[[-1], :]"
   ]
  },
  {
   "cell_type": "code",
   "execution_count": null,
   "metadata": {},
   "outputs": [],
   "source": [
    "# Multiple rows and columns\n",
    "df.iloc[[1, -1], [0, -1]]"
   ]
  },
  {
   "cell_type": "code",
   "execution_count": null,
   "metadata": {},
   "outputs": [],
   "source": [
    "# Slices\n",
    "df.iloc[:3, 1:]"
   ]
  },
  {
   "cell_type": "markdown",
   "metadata": {},
   "source": [
    "### `DataFrame` | Boolean indexing\n",
    "\n",
    "As in the case of `Series` we can provide 1D boolean masks to filer rows and/or columns.\n",
    "What is important is the fact that with data frames we may mix boolean masks with other types of indexing.\n",
    "For instance, we can have a boolean mask on columns and label-based or positional index on rows."
   ]
  },
  {
   "cell_type": "code",
   "execution_count": null,
   "metadata": {},
   "outputs": [],
   "source": [
    "df"
   ]
  },
  {
   "cell_type": "code",
   "execution_count": null,
   "metadata": {},
   "outputs": [],
   "source": [
    "df.columns\n",
    "df.columns.isin(['a', 'c'])"
   ]
  },
  {
   "cell_type": "code",
   "execution_count": null,
   "metadata": {},
   "outputs": [],
   "source": [
    "df.iloc[2:, df.columns.isin(['a', 'c'])]"
   ]
  },
  {
   "cell_type": "code",
   "execution_count": null,
   "metadata": {},
   "outputs": [],
   "source": [
    "df['a'] > 10"
   ]
  },
  {
   "cell_type": "code",
   "execution_count": null,
   "metadata": {},
   "outputs": [],
   "source": [
    "df.loc[df['a'] > 10, ['c', 'a']]"
   ]
  },
  {
   "cell_type": "markdown",
   "metadata": {},
   "source": [
    "A new feature is that we can also provide a full boolean mask over entire data frame to mask particular values\n",
    "abd turn them into NaNs."
   ]
  },
  {
   "cell_type": "code",
   "execution_count": null,
   "metadata": {},
   "outputs": [],
   "source": [
    "X = np.random.uniform(-1, 1, (10, 5, 3, 2))\n",
    "X[X > 0].shape"
   ]
  },
  {
   "cell_type": "code",
   "execution_count": null,
   "metadata": {},
   "outputs": [],
   "source": [
    "np.random.seed(101010)\n",
    "\n",
    "num = pd.DataFrame(np.random.normal(0, 1, (10, 3)), columns=['x', 'y', 'z'])\n",
    "num"
   ]
  },
  {
   "cell_type": "code",
   "execution_count": null,
   "metadata": {},
   "outputs": [],
   "source": [
    "num >= 0"
   ]
  },
  {
   "cell_type": "code",
   "execution_count": null,
   "metadata": {},
   "outputs": [],
   "source": [
    "# Mask negative values\n",
    "num[num >= 0].sum(0, skipna=False)"
   ]
  },
  {
   "cell_type": "markdown",
   "metadata": {},
   "source": [
    "## `DataFrame` | Basic attributes and descriptions"
   ]
  },
  {
   "cell_type": "code",
   "execution_count": null,
   "metadata": {},
   "outputs": [],
   "source": [
    "## .columns\n",
    "## Column index\n",
    "df.columns"
   ]
  },
  {
   "cell_type": "code",
   "execution_count": null,
   "metadata": {},
   "outputs": [],
   "source": [
    "## .index\n",
    "## Row index\n",
    "df.index"
   ]
  },
  {
   "cell_type": "code",
   "execution_count": null,
   "metadata": {},
   "outputs": [],
   "source": [
    "## .dtypes\n",
    "## Column names and their dtypes\n",
    "df.dtypes"
   ]
  },
  {
   "cell_type": "code",
   "execution_count": null,
   "metadata": {},
   "outputs": [],
   "source": [
    "## len()\n",
    "## Number of rows\n",
    "len(df)"
   ]
  },
  {
   "cell_type": "code",
   "execution_count": null,
   "metadata": {},
   "outputs": [],
   "source": [
    "## .shape\n",
    "## Tuple with number of rows and columns\n",
    "df.shape"
   ]
  },
  {
   "cell_type": "code",
   "execution_count": null,
   "metadata": {},
   "outputs": [],
   "source": [
    "## .info()\n",
    "## Show basic information about a data frame\n",
    "df.info()"
   ]
  },
  {
   "cell_type": "code",
   "execution_count": null,
   "metadata": {},
   "outputs": [],
   "source": [
    "## .describe()\n",
    "## Basic numeric summary of data\n",
    "## Categorical columns are ommited by default if there are any numeric columns\n",
    "df.describe()"
   ]
  },
  {
   "cell_type": "code",
   "execution_count": null,
   "metadata": {},
   "outputs": [],
   "source": [
    "df['c'].describe()"
   ]
  },
  {
   "cell_type": "code",
   "execution_count": null,
   "metadata": {},
   "outputs": [],
   "source": [
    "## .to_numpy()\n",
    "## Numpy representation\n",
    "df.to_numpy()"
   ]
  },
  {
   "cell_type": "code",
   "execution_count": null,
   "metadata": {},
   "outputs": [],
   "source": [
    "df.head()\n",
    "df.tail()"
   ]
  },
  {
   "cell_type": "markdown",
   "metadata": {},
   "source": [
    "## `DataFrame` | Broadcasting and labels alignment\n",
    "\n",
    "Here we review the broadcasting and labels alignment rules for data frames.\n",
    "In general they are the same as for `Series` objects. However, in this case we have two axes instead\n",
    "of one, so this induces some additional complications.\n",
    "\n",
    "The main rule is that we do labels alignment for both row and column indexes."
   ]
  },
  {
   "cell_type": "code",
   "execution_count": null,
   "metadata": {},
   "outputs": [],
   "source": [
    "# Two simple data frames\n",
    "df1 = pd.DataFrame(np.arange(4).reshape(2, 2), columns=['a', 'b'], index=[3, 7])\n",
    "df1"
   ]
  },
  {
   "cell_type": "code",
   "execution_count": null,
   "metadata": {},
   "outputs": [],
   "source": [
    "df2 = pd.DataFrame(np.arange(4, 8).reshape(2, 2), columns=['b', 'a'], index=[7, 3])\n",
    "df2"
   ]
  },
  {
   "cell_type": "code",
   "execution_count": null,
   "metadata": {},
   "outputs": [],
   "source": [
    "# Add them together\n",
    "df2 + df1"
   ]
  },
  {
   "cell_type": "code",
   "execution_count": null,
   "metadata": {},
   "outputs": [],
   "source": [
    "# What happened step by step\n",
    "row_union = df1.index.union(df2.index)\n",
    "row_union"
   ]
  },
  {
   "cell_type": "code",
   "execution_count": null,
   "metadata": {},
   "outputs": [],
   "source": [
    "col_union = df1.columns.union(df2.columns)\n",
    "col_union"
   ]
  },
  {
   "cell_type": "code",
   "execution_count": null,
   "metadata": {},
   "outputs": [],
   "source": [
    "#df1 = df1.reindex(index=row_union).reindex(columns=col_union)\n",
    "df1 = df1.reindex(index=row_union).reindex(columns=col_union)\n",
    "df1"
   ]
  },
  {
   "cell_type": "code",
   "execution_count": null,
   "metadata": {},
   "outputs": [],
   "source": [
    "df2 = df2.reindex(index=row_union).reindex(columns=col_union)\n",
    "df2"
   ]
  },
  {
   "cell_type": "code",
   "execution_count": null,
   "metadata": {},
   "outputs": [],
   "source": [
    "# Final operation\n",
    "df1 + df2"
   ]
  },
  {
   "cell_type": "markdown",
   "metadata": {},
   "source": [
    "Now let us see what happens if axes can not be perfecly aligned (they are at least partially non-overlapping)."
   ]
  },
  {
   "cell_type": "code",
   "execution_count": null,
   "metadata": {},
   "outputs": [],
   "source": [
    "df1 = pd.DataFrame(np.arange(8).reshape(4, 2), index=[2, 4, 6, 8], columns=['a', 'b'])\n",
    "df1"
   ]
  },
  {
   "cell_type": "code",
   "execution_count": null,
   "metadata": {},
   "outputs": [],
   "source": [
    "df2 = pd.DataFrame(np.arange(8).reshape(4, 2), index=[2, 3, 4, 5], columns=['b', 'c'])\n",
    "df2"
   ]
  },
  {
   "cell_type": "code",
   "execution_count": null,
   "metadata": {},
   "outputs": [],
   "source": [
    "df1 + df2"
   ]
  },
  {
   "cell_type": "code",
   "execution_count": null,
   "metadata": {},
   "outputs": [],
   "source": [
    "# What happened step by step\n",
    "row_union = df1.index.union(df2.index)\n",
    "row_union"
   ]
  },
  {
   "cell_type": "code",
   "execution_count": null,
   "metadata": {},
   "outputs": [],
   "source": [
    "col_union = df1.columns.union(df2.columns)\n",
    "col_union"
   ]
  },
  {
   "cell_type": "code",
   "execution_count": null,
   "metadata": {},
   "outputs": [],
   "source": [
    "df1 = df1.reindex(index=row_union, columns=col_union)\n",
    "df1"
   ]
  },
  {
   "cell_type": "code",
   "execution_count": null,
   "metadata": {},
   "outputs": [],
   "source": [
    "df2 = df2.reindex(index=row_union, columns=col_union)\n",
    "df2"
   ]
  },
  {
   "cell_type": "code",
   "execution_count": null,
   "metadata": {},
   "outputs": [],
   "source": [
    "# Final operation\n",
    "df1 + df2"
   ]
  },
  {
   "cell_type": "markdown",
   "metadata": {},
   "source": [
    "But how are aligned operations between series and data frames? The rule is that index labels of a series are matched\n",
    "with column labels of a data frame. It makes it easy to define operations based on columns and their aggregate\n",
    "values such as centering."
   ]
  },
  {
   "cell_type": "code",
   "execution_count": null,
   "metadata": {},
   "outputs": [],
   "source": [
    "# Center columns of numeric data frame\n",
    "df = pd.DataFrame(np.random.normal(100, 15, (10, 3)), columns=['x', 'y', 'z'])\n",
    "df"
   ]
  },
  {
   "cell_type": "code",
   "execution_count": null,
   "metadata": {},
   "outputs": [],
   "source": [
    "# Column means\n",
    "# Mean computed over columns\n",
    "df.mean(axis=0)"
   ]
  },
  {
   "cell_type": "code",
   "execution_count": null,
   "metadata": {},
   "outputs": [],
   "source": [
    "df_c = df - df.mean(axis=0)"
   ]
  },
  {
   "cell_type": "code",
   "execution_count": null,
   "metadata": {},
   "outputs": [],
   "source": [
    "# Check if it is really centered\n",
    "df_c.mean(0)"
   ]
  },
  {
   "cell_type": "markdown",
   "metadata": {},
   "source": [
    "Is it as easy carry out operations row-wise? Nope. But it can be done, although it requires some additional tricks.\n",
    "However, first let us see and understand what is going on, when we try to broadcast between data frame and \n",
    "a series representing row-aggregated values (i.e. row centering)."
   ]
  },
  {
   "cell_type": "code",
   "execution_count": null,
   "metadata": {},
   "outputs": [],
   "source": [
    "df"
   ]
  },
  {
   "cell_type": "code",
   "execution_count": null,
   "metadata": {},
   "outputs": [],
   "source": [
    "# row means\n",
    "df.mean(axis=1)"
   ]
  },
  {
   "cell_type": "code",
   "execution_count": null,
   "metadata": {},
   "outputs": [],
   "source": [
    "# Remove means from rows\n",
    "df_c = df - df.mean(axis=1)\n",
    "df_c"
   ]
  },
  {
   "cell_type": "markdown",
   "metadata": {},
   "source": [
    "Total disaster! Do you understand what happened?"
   ]
  },
  {
   "cell_type": "markdown",
   "metadata": {},
   "source": [
    "One way, although a little convoluted and not really the best one, to deal with this is to use transposition.\n",
    "Data frames are inherently two-dimensional (they have rows and columns) like matrices. So we can easily\n",
    "define a transpose of a data frame. Below is the transpose of our original data frame."
   ]
  },
  {
   "cell_type": "code",
   "execution_count": null,
   "metadata": {},
   "outputs": [],
   "source": [
    "df.T"
   ]
  },
  {
   "cell_type": "markdown",
   "metadata": {},
   "source": [
    "With this trick in our hands now we can reexpress our row-oriented problem as column oriented problem\n",
    "and convert the result back to the original orientation with yet another transpose."
   ]
  },
  {
   "cell_type": "code",
   "execution_count": null,
   "metadata": {},
   "outputs": [],
   "source": [
    "df.T.mean(0)"
   ]
  },
  {
   "cell_type": "code",
   "execution_count": null,
   "metadata": {},
   "outputs": [],
   "source": [
    "df_c = (df.T - df.mean(1)).T\n",
    "df_c"
   ]
  },
  {
   "cell_type": "code",
   "execution_count": null,
   "metadata": {},
   "outputs": [],
   "source": [
    "# Check that it worked\n",
    "df_c.mean(1)"
   ]
  },
  {
   "cell_type": "code",
   "execution_count": null,
   "metadata": {},
   "outputs": [],
   "source": [
    "df = pd.DataFrame({\n",
    "    'x': [1, 2, 3],\n",
    "    'y': [1., 2., 3.]\n",
    "})\n",
    "df.dtypes"
   ]
  },
  {
   "cell_type": "code",
   "execution_count": null,
   "metadata": {},
   "outputs": [],
   "source": [
    "df.T.T.dtypes"
   ]
  },
  {
   "cell_type": "markdown",
   "metadata": {},
   "source": [
    "### `DataFrame` | Exercise 1.\n",
    "\n",
    "You are provided with a simple numeric data frame. Standardize it both column and row-wise.\n",
    "In other words both column and row means should be $0$ and standard deviations (and variances) should be $1$.\n",
    "\n",
    "Remember that the formula for standardization is the following:\n",
    "\n",
    "$$X_{\\text{standardized}} = \\frac{X - \\text{Mean}(X)}{\\text{Std}(X)}$$"
   ]
  },
  {
   "cell_type": "code",
   "execution_count": null,
   "metadata": {},
   "outputs": [],
   "source": [
    "np.random.seed(101)\n",
    "\n",
    "df = pd.DataFrame(np.random.normal(100, 15, (10, 3)), columns=['x', 'y', 'z'])\n",
    "df"
   ]
  },
  {
   "cell_type": "code",
   "execution_count": null,
   "metadata": {},
   "outputs": [],
   "source": [
    "# Your solution\n",
    "\n",
    "# Columnwise\n",
    "df_c = ((df - df.mean(0)) / df.std(0))\n",
    "df_c"
   ]
  },
  {
   "cell_type": "code",
   "execution_count": null,
   "metadata": {},
   "outputs": [],
   "source": [
    "df_r = df.T\n",
    "df_r = (df_r - df_r.mean(0)) / df_r.std(0)\n",
    "df_r = df_r.T\n",
    "\n",
    "df_r = ((df.T - df.mean(1)) / df.std(1)).T\n",
    "        \n",
    "df_r.mean(1)\n",
    "df_r.std(1)"
   ]
  },
  {
   "cell_type": "markdown",
   "metadata": {},
   "source": [
    "## Flexible operations (arithmetic, logical etc.)\n",
    "\n",
    "We managed to implement row-wise operation with some smart use of transposition. However, this seems rather hacky\n",
    "and we would like to have some better tools for doing just that. Happily Pandas provides us with such tools.\n",
    "\n",
    "`DataFrame` and `Series` objects in Pandas implements special methods called _flexible operations_ which are\n",
    "just standard arithmetic and logical operation, but such that can be explicitly applied along a given axis.\n",
    "Moreover, they can also automatically substitute NaNs which are created during labels alignment.\n",
    "\n",
    "**Flexible arithmetic binary operations**\n",
    "\n",
    "1. `add`\n",
    "2. `sub`\n",
    "3. `div`\n",
    "4. `mul`\n",
    "5. `pow`\n",
    "\n",
    "**Flexible logical binary operations**\n",
    "\n",
    "1. `eq` (equal)\n",
    "2. `ne` (not equal)\n",
    "3. `lt` (lower than)\n",
    "4. `gt` (greater than)\n",
    "5. `le` (lower or equal)\n",
    "6. `ge` (greater or equal)"
   ]
  },
  {
   "cell_type": "code",
   "execution_count": null,
   "metadata": {},
   "outputs": [],
   "source": [
    "df = pd.DataFrame(np.random.normal(100, 15, (10, 2)), columns=['x', 'y'])\n",
    "df"
   ]
  },
  {
   "cell_type": "code",
   "execution_count": null,
   "metadata": {},
   "outputs": [],
   "source": [
    "df - df.mean(0)"
   ]
  },
  {
   "cell_type": "code",
   "execution_count": null,
   "metadata": {},
   "outputs": [],
   "source": [
    "df.sub(df.mean(0), axis=1)"
   ]
  },
  {
   "cell_type": "code",
   "execution_count": null,
   "metadata": {},
   "outputs": [],
   "source": [
    "df.sub(df.mean(1), axis=0)"
   ]
  },
  {
   "cell_type": "code",
   "execution_count": null,
   "metadata": {},
   "outputs": [],
   "source": [
    "# Adding partially matching series with automatic substitution of NaNs\n",
    "s1 = pd.Series([1, 2, np.nan], index=['a', 'b', 'c'])\n",
    "s1"
   ]
  },
  {
   "cell_type": "code",
   "execution_count": null,
   "metadata": {},
   "outputs": [],
   "source": [
    "s2 = pd.Series([6, 4, 7, 8], index=['a', 'd', 'f', 'b'])\n",
    "s2"
   ]
  },
  {
   "cell_type": "code",
   "execution_count": null,
   "metadata": {},
   "outputs": [],
   "source": [
    "s1 + s2"
   ]
  },
  {
   "cell_type": "code",
   "execution_count": null,
   "metadata": {},
   "outputs": [],
   "source": [
    "index_union = s1.index.union(s2.index)\n",
    "s1.reindex(index_union).fillna(0) + s2.reindex(index_union).fillna(0)"
   ]
  },
  {
   "cell_type": "code",
   "execution_count": null,
   "metadata": {},
   "outputs": [],
   "source": [
    "s1.add(s2, fill_value=0)"
   ]
  },
  {
   "cell_type": "code",
   "execution_count": null,
   "metadata": {},
   "outputs": [],
   "source": [
    "# What happened step by step\n",
    "# Step 1. Index union.\n",
    "index_union = s1.index.union(s2.index)\n",
    "index_union"
   ]
  },
  {
   "cell_type": "code",
   "execution_count": null,
   "metadata": {},
   "outputs": [],
   "source": [
    "# Step 2. Reindex series\n",
    "s1 = s1.reindex(index_union)\n",
    "s1"
   ]
  },
  {
   "cell_type": "code",
   "execution_count": null,
   "metadata": {},
   "outputs": [],
   "source": [
    "s2 = s2.reindex(index_union)\n",
    "s2"
   ]
  },
  {
   "cell_type": "code",
   "execution_count": null,
   "metadata": {},
   "outputs": [],
   "source": [
    "# Step 3. Check where both series have NaNs\n",
    "nan_both = s1.isna() & s2.isna()\n",
    "nan_both"
   ]
  },
  {
   "cell_type": "code",
   "execution_count": null,
   "metadata": {},
   "outputs": [],
   "source": [
    "# Step 4. Fill NaNs where only one series have missing data\n",
    "s1[~nan_both] = s1[~nan_both].fillna(0)\n",
    "s1"
   ]
  },
  {
   "cell_type": "code",
   "execution_count": null,
   "metadata": {},
   "outputs": [],
   "source": [
    "s2[~nan_both] = s2[~nan_both].fillna(0)\n",
    "s2"
   ]
  },
  {
   "cell_type": "code",
   "execution_count": null,
   "metadata": {},
   "outputs": [],
   "source": [
    "# Step 5. Carry out the operation\n",
    "s1 + s2"
   ]
  },
  {
   "cell_type": "markdown",
   "metadata": {},
   "source": [
    "### `DataFrame` | Exercise 2.\n",
    "\n",
    "You are provided with simple numeric data frame (again!). Normalize it by rows and column with the Min-Max scaling.\n",
    "The lowest value should be $0$ and highest should be $1$.\n",
    "\n",
    "$$\\frac{X - \\text{Min}(X)}{\\text{Max}(X) - \\text{Min}(X)}$$\n",
    "\n",
    "Do it separately two times. Once normalize columns and then normalize rows. Do not normalize both rows and columns\n",
    "at the same time as with Min-Max scaling such operation does not make any sense! If you are curious you\n",
    "can do this and check how the data frame looks like in this case."
   ]
  },
  {
   "cell_type": "code",
   "execution_count": null,
   "metadata": {},
   "outputs": [],
   "source": [
    "np.random.seed(101)\n",
    "\n",
    "df = pd.DataFrame(np.random.normal(100, 15, (10, 3)), columns=['x', 'y', 'z'])\n",
    "df"
   ]
  },
  {
   "cell_type": "code",
   "execution_count": null,
   "metadata": {},
   "outputs": [],
   "source": [
    "# Your solution\n",
    "\n",
    "df_c = (df - df.min(0)) / (df.max(0) - df.min(0))\n",
    "\n",
    "# Columns\n",
    "df_c = df.sub(df.min(0), axis=1).div(df.max(0) - df.min(0), axis=1)\n",
    "df_c.min(0)\n",
    "df_c.max(0)\n",
    "\n",
    "# Rows\n",
    "df_c = df.sub(df.min(1), axis=0).div(df.max(1) - df.min(1), axis=0)\n",
    "df_c.min(1)\n",
    "df_c.max(1)"
   ]
  },
  {
   "cell_type": "markdown",
   "metadata": {},
   "source": [
    "### `DataFrame` | Exercise 3.\n",
    "\n",
    "You are provided with a list of subject ids and two sets of measurements for those subjects from an experiment\n",
    "with two trials. However, some subjects may have participated in only one or even none of the trials.\n",
    "\n",
    "Your task is to compute average scores. For subjects with only one score the available score should be presented.\n",
    "Subjects with no data should be assigned with $-999$.\n",
    "\n",
    "HINT. You may want to use `.reindex()` method."
   ]
  },
  {
   "cell_type": "code",
   "execution_count": 2,
   "metadata": {},
   "outputs": [],
   "source": [
    "np.random.seed(303)\n",
    "\n",
    "subj = pd.Index(range(30)) # List of subject ids\n",
    "x1 = pd.Series(np.random.normal(90, 10, (25,)), index=np.random.choice(subj, size=(25,), replace=False))\n",
    "x2 = pd.Series(np.random.normal(100, 15, (20,)), index=np.random.choice(subj, size=(20,), replace=False))"
   ]
  },
  {
   "cell_type": "code",
   "execution_count": 8,
   "metadata": {},
   "outputs": [
    {
     "data": {
      "text/plain": [
       "Int64Index([26, 12, 4, 5, 25, 14, 21, 8, 28, 9, 20, 0, 1, 6, 17, 18], dtype='int64')"
      ]
     },
     "execution_count": 8,
     "metadata": {},
     "output_type": "execute_result"
    }
   ],
   "source": [
    "# Solution one\n",
    "index_intersection = x1.index.intersection(x2.index)\n",
    "index_intersection"
   ]
  },
  {
   "cell_type": "code",
   "execution_count": 10,
   "metadata": {},
   "outputs": [
    {
     "data": {
      "text/plain": [
       "30"
      ]
     },
     "execution_count": 10,
     "metadata": {},
     "output_type": "execute_result"
    },
    {
     "data": {
      "text/plain": [
       "30"
      ]
     },
     "execution_count": 10,
     "metadata": {},
     "output_type": "execute_result"
    }
   ],
   "source": [
    "x1 = x1.reindex(subj)\n",
    "x2 = x2.reindex(subj)\n",
    "x1.size\n",
    "x2.size"
   ]
  },
  {
   "cell_type": "code",
   "execution_count": 11,
   "metadata": {},
   "outputs": [
    {
     "data": {
      "text/plain": [
       "0     221.652299\n",
       "1     182.768420\n",
       "2      84.990160\n",
       "3      93.407508\n",
       "4     178.775451\n",
       "5     186.499329\n",
       "6     171.873288\n",
       "7      80.915094\n",
       "8     181.998174\n",
       "9     176.121783\n",
       "10     91.999743\n",
       "11           NaN\n",
       "12    185.222161\n",
       "13     81.584400\n",
       "14    185.908081\n",
       "15     64.362858\n",
       "16     92.615038\n",
       "17    182.076839\n",
       "18    209.408118\n",
       "19     96.786868\n",
       "20    182.116109\n",
       "21    188.068242\n",
       "22     87.684813\n",
       "23     78.804619\n",
       "24    117.747469\n",
       "25    208.276604\n",
       "26    199.923466\n",
       "27     77.451740\n",
       "28    183.711559\n",
       "29    109.880340\n",
       "dtype: float64"
      ]
     },
     "execution_count": 11,
     "metadata": {},
     "output_type": "execute_result"
    }
   ],
   "source": [
    "sums = x1.add(x2, fill_value=0)\n",
    "sums"
   ]
  },
  {
   "cell_type": "code",
   "execution_count": 13,
   "metadata": {},
   "outputs": [
    {
     "data": {
      "text/plain": [
       "0     110.826149\n",
       "1      91.384210\n",
       "2      84.990160\n",
       "3      93.407508\n",
       "4      89.387726\n",
       "5      93.249664\n",
       "6      85.936644\n",
       "7      80.915094\n",
       "8      90.999087\n",
       "9      88.060891\n",
       "10     91.999743\n",
       "11   -999.000000\n",
       "12     92.611081\n",
       "13     81.584400\n",
       "14     92.954041\n",
       "15     64.362858\n",
       "16     92.615038\n",
       "17     91.038419\n",
       "18    104.704059\n",
       "19     96.786868\n",
       "20     91.058055\n",
       "21     94.034121\n",
       "22     87.684813\n",
       "23     78.804619\n",
       "24    117.747469\n",
       "25    104.138302\n",
       "26     99.961733\n",
       "27     77.451740\n",
       "28     91.855780\n",
       "29    109.880340\n",
       "dtype: float64"
      ]
     },
     "execution_count": 13,
     "metadata": {},
     "output_type": "execute_result"
    }
   ],
   "source": [
    "# Divide by 2 values where two measurements were available\n",
    "sums[index_intersection] /= 2\n",
    "sums = sums.fillna(-999)\n",
    "sums"
   ]
  },
  {
   "cell_type": "code",
   "execution_count": 18,
   "metadata": {},
   "outputs": [
    {
     "data": {
      "text/plain": [
       "0     110.826149\n",
       "1      91.384210\n",
       "2      84.990160\n",
       "3      93.407508\n",
       "4      89.387726\n",
       "5      93.249664\n",
       "6      85.936644\n",
       "7      80.915094\n",
       "8      90.999087\n",
       "9      88.060891\n",
       "10     91.999743\n",
       "11   -999.000000\n",
       "12     92.611081\n",
       "13     81.584400\n",
       "14     92.954041\n",
       "15     64.362858\n",
       "16     92.615038\n",
       "17     91.038419\n",
       "18    104.704059\n",
       "19     96.786868\n",
       "20     91.058055\n",
       "21     94.034121\n",
       "22     87.684813\n",
       "23     78.804619\n",
       "24    117.747469\n",
       "25    104.138302\n",
       "26     99.961733\n",
       "27     77.451740\n",
       "28     91.855780\n",
       "29    109.880340\n",
       "dtype: float64"
      ]
     },
     "execution_count": 18,
     "metadata": {},
     "output_type": "execute_result"
    }
   ],
   "source": [
    "# Solution two (simpler one)\n",
    "pd.DataFrame({\n",
    "    'x1': x1.reindex(subj),\n",
    "    'x2': x2.reindex(subj)\n",
    "}).mean(axis=1).fillna(-999)"
   ]
  },
  {
   "cell_type": "markdown",
   "metadata": {},
   "source": [
    "## `DataFrame` | Column and row-wise operations aka _apply_\n",
    "\n",
    "We can do a lot with vectorization and labels alignment. However, sometimes we may want to apply arbitrary\n",
    "functions to columns or rows. For this we can use `.apply()` method.\n",
    "\n",
    "Apply is a sort of map-like statement in which one specifies a function that will be applied to every item\n",
    "(in this context items are rows or columns). Below is a simple example."
   ]
  },
  {
   "cell_type": "code",
   "execution_count": 21,
   "metadata": {},
   "outputs": [
    {
     "data": {
      "text/html": [
       "<div>\n",
       "<style scoped>\n",
       "    .dataframe tbody tr th:only-of-type {\n",
       "        vertical-align: middle;\n",
       "    }\n",
       "\n",
       "    .dataframe tbody tr th {\n",
       "        vertical-align: top;\n",
       "    }\n",
       "\n",
       "    .dataframe thead th {\n",
       "        text-align: right;\n",
       "    }\n",
       "</style>\n",
       "<table border=\"1\" class=\"dataframe\">\n",
       "  <thead>\n",
       "    <tr style=\"text-align: right;\">\n",
       "      <th></th>\n",
       "      <th>x</th>\n",
       "      <th>y</th>\n",
       "      <th>z</th>\n",
       "    </tr>\n",
       "  </thead>\n",
       "  <tbody>\n",
       "    <tr>\n",
       "      <td>0</td>\n",
       "      <td>140.602748</td>\n",
       "      <td>109.421991</td>\n",
       "      <td>113.619542</td>\n",
       "    </tr>\n",
       "    <tr>\n",
       "      <td>1</td>\n",
       "      <td>107.557386</td>\n",
       "      <td>109.766769</td>\n",
       "      <td>95.210229</td>\n",
       "    </tr>\n",
       "    <tr>\n",
       "      <td>2</td>\n",
       "      <td>87.278845</td>\n",
       "      <td>109.089480</td>\n",
       "      <td>69.727476</td>\n",
       "    </tr>\n",
       "    <tr>\n",
       "      <td>3</td>\n",
       "      <td>111.101831</td>\n",
       "      <td>107.932202</td>\n",
       "      <td>91.164992</td>\n",
       "    </tr>\n",
       "    <tr>\n",
       "      <td>4</td>\n",
       "      <td>102.830430</td>\n",
       "      <td>88.616919</td>\n",
       "      <td>86.001442</td>\n",
       "    </tr>\n",
       "    <tr>\n",
       "      <td>5</td>\n",
       "      <td>114.325848</td>\n",
       "      <td>102.861915</td>\n",
       "      <td>129.681360</td>\n",
       "    </tr>\n",
       "    <tr>\n",
       "      <td>6</td>\n",
       "      <td>139.089509</td>\n",
       "      <td>110.252633</td>\n",
       "      <td>104.539982</td>\n",
       "    </tr>\n",
       "    <tr>\n",
       "      <td>7</td>\n",
       "      <td>125.405844</td>\n",
       "      <td>74.408711</td>\n",
       "      <td>82.613209</td>\n",
       "    </tr>\n",
       "    <tr>\n",
       "      <td>8</td>\n",
       "      <td>97.977389</td>\n",
       "      <td>105.857918</td>\n",
       "      <td>102.503570</td>\n",
       "    </tr>\n",
       "    <tr>\n",
       "      <td>9</td>\n",
       "      <td>102.767528</td>\n",
       "      <td>112.115589</td>\n",
       "      <td>101.094395</td>\n",
       "    </tr>\n",
       "  </tbody>\n",
       "</table>\n",
       "</div>"
      ],
      "text/plain": [
       "            x           y           z\n",
       "0  140.602748  109.421991  113.619542\n",
       "1  107.557386  109.766769   95.210229\n",
       "2   87.278845  109.089480   69.727476\n",
       "3  111.101831  107.932202   91.164992\n",
       "4  102.830430   88.616919   86.001442\n",
       "5  114.325848  102.861915  129.681360\n",
       "6  139.089509  110.252633  104.539982\n",
       "7  125.405844   74.408711   82.613209\n",
       "8   97.977389  105.857918  102.503570\n",
       "9  102.767528  112.115589  101.094395"
      ]
     },
     "execution_count": 21,
     "metadata": {},
     "output_type": "execute_result"
    }
   ],
   "source": [
    "np.random.seed(101)\n",
    "\n",
    "df = pd.DataFrame(np.random.normal(100, 15, (10, 3)), columns=['x', 'y', 'z'])\n",
    "df"
   ]
  },
  {
   "cell_type": "code",
   "execution_count": 20,
   "metadata": {},
   "outputs": [
    {
     "data": {
      "text/html": [
       "<div>\n",
       "<style scoped>\n",
       "    .dataframe tbody tr th:only-of-type {\n",
       "        vertical-align: middle;\n",
       "    }\n",
       "\n",
       "    .dataframe tbody tr th {\n",
       "        vertical-align: top;\n",
       "    }\n",
       "\n",
       "    .dataframe thead th {\n",
       "        text-align: right;\n",
       "    }\n",
       "</style>\n",
       "<table border=\"1\" class=\"dataframe\">\n",
       "  <thead>\n",
       "    <tr style=\"text-align: right;\">\n",
       "      <th></th>\n",
       "      <th>x</th>\n",
       "      <th>y</th>\n",
       "      <th>z</th>\n",
       "    </tr>\n",
       "  </thead>\n",
       "  <tbody>\n",
       "    <tr>\n",
       "      <td>0</td>\n",
       "      <td>4.945939</td>\n",
       "      <td>4.695212</td>\n",
       "      <td>4.732856</td>\n",
       "    </tr>\n",
       "    <tr>\n",
       "      <td>1</td>\n",
       "      <td>4.678025</td>\n",
       "      <td>4.698358</td>\n",
       "      <td>4.556087</td>\n",
       "    </tr>\n",
       "    <tr>\n",
       "      <td>2</td>\n",
       "      <td>4.469108</td>\n",
       "      <td>4.692168</td>\n",
       "      <td>4.244594</td>\n",
       "    </tr>\n",
       "    <tr>\n",
       "      <td>3</td>\n",
       "      <td>4.710447</td>\n",
       "      <td>4.681503</td>\n",
       "      <td>4.512671</td>\n",
       "    </tr>\n",
       "    <tr>\n",
       "      <td>4</td>\n",
       "      <td>4.633081</td>\n",
       "      <td>4.484323</td>\n",
       "      <td>4.454364</td>\n",
       "    </tr>\n",
       "    <tr>\n",
       "      <td>5</td>\n",
       "      <td>4.739053</td>\n",
       "      <td>4.633387</td>\n",
       "      <td>4.865080</td>\n",
       "    </tr>\n",
       "    <tr>\n",
       "      <td>6</td>\n",
       "      <td>4.935118</td>\n",
       "      <td>4.702774</td>\n",
       "      <td>4.649570</td>\n",
       "    </tr>\n",
       "    <tr>\n",
       "      <td>7</td>\n",
       "      <td>4.831555</td>\n",
       "      <td>4.309573</td>\n",
       "      <td>4.414170</td>\n",
       "    </tr>\n",
       "    <tr>\n",
       "      <td>8</td>\n",
       "      <td>4.584737</td>\n",
       "      <td>4.662098</td>\n",
       "      <td>4.629898</td>\n",
       "    </tr>\n",
       "    <tr>\n",
       "      <td>9</td>\n",
       "      <td>4.632469</td>\n",
       "      <td>4.719530</td>\n",
       "      <td>4.616055</td>\n",
       "    </tr>\n",
       "  </tbody>\n",
       "</table>\n",
       "</div>"
      ],
      "text/plain": [
       "          x         y         z\n",
       "0  4.945939  4.695212  4.732856\n",
       "1  4.678025  4.698358  4.556087\n",
       "2  4.469108  4.692168  4.244594\n",
       "3  4.710447  4.681503  4.512671\n",
       "4  4.633081  4.484323  4.454364\n",
       "5  4.739053  4.633387  4.865080\n",
       "6  4.935118  4.702774  4.649570\n",
       "7  4.831555  4.309573  4.414170\n",
       "8  4.584737  4.662098  4.629898\n",
       "9  4.632469  4.719530  4.616055"
      ]
     },
     "execution_count": 20,
     "metadata": {},
     "output_type": "execute_result"
    }
   ],
   "source": [
    "np.log(df)"
   ]
  },
  {
   "cell_type": "code",
   "execution_count": 22,
   "metadata": {},
   "outputs": [
    {
     "data": {
      "text/html": [
       "<div>\n",
       "<style scoped>\n",
       "    .dataframe tbody tr th:only-of-type {\n",
       "        vertical-align: middle;\n",
       "    }\n",
       "\n",
       "    .dataframe tbody tr th {\n",
       "        vertical-align: top;\n",
       "    }\n",
       "\n",
       "    .dataframe thead th {\n",
       "        text-align: right;\n",
       "    }\n",
       "</style>\n",
       "<table border=\"1\" class=\"dataframe\">\n",
       "  <thead>\n",
       "    <tr style=\"text-align: right;\">\n",
       "      <th></th>\n",
       "      <th>x</th>\n",
       "      <th>y</th>\n",
       "      <th>z</th>\n",
       "    </tr>\n",
       "  </thead>\n",
       "  <tbody>\n",
       "    <tr>\n",
       "      <td>0</td>\n",
       "      <td>4.945939</td>\n",
       "      <td>4.695212</td>\n",
       "      <td>4.732856</td>\n",
       "    </tr>\n",
       "    <tr>\n",
       "      <td>1</td>\n",
       "      <td>4.678025</td>\n",
       "      <td>4.698358</td>\n",
       "      <td>4.556087</td>\n",
       "    </tr>\n",
       "    <tr>\n",
       "      <td>2</td>\n",
       "      <td>4.469108</td>\n",
       "      <td>4.692168</td>\n",
       "      <td>4.244594</td>\n",
       "    </tr>\n",
       "    <tr>\n",
       "      <td>3</td>\n",
       "      <td>4.710447</td>\n",
       "      <td>4.681503</td>\n",
       "      <td>4.512671</td>\n",
       "    </tr>\n",
       "    <tr>\n",
       "      <td>4</td>\n",
       "      <td>4.633081</td>\n",
       "      <td>4.484323</td>\n",
       "      <td>4.454364</td>\n",
       "    </tr>\n",
       "    <tr>\n",
       "      <td>5</td>\n",
       "      <td>4.739053</td>\n",
       "      <td>4.633387</td>\n",
       "      <td>4.865080</td>\n",
       "    </tr>\n",
       "    <tr>\n",
       "      <td>6</td>\n",
       "      <td>4.935118</td>\n",
       "      <td>4.702774</td>\n",
       "      <td>4.649570</td>\n",
       "    </tr>\n",
       "    <tr>\n",
       "      <td>7</td>\n",
       "      <td>4.831555</td>\n",
       "      <td>4.309573</td>\n",
       "      <td>4.414170</td>\n",
       "    </tr>\n",
       "    <tr>\n",
       "      <td>8</td>\n",
       "      <td>4.584737</td>\n",
       "      <td>4.662098</td>\n",
       "      <td>4.629898</td>\n",
       "    </tr>\n",
       "    <tr>\n",
       "      <td>9</td>\n",
       "      <td>4.632469</td>\n",
       "      <td>4.719530</td>\n",
       "      <td>4.616055</td>\n",
       "    </tr>\n",
       "  </tbody>\n",
       "</table>\n",
       "</div>"
      ],
      "text/plain": [
       "          x         y         z\n",
       "0  4.945939  4.695212  4.732856\n",
       "1  4.678025  4.698358  4.556087\n",
       "2  4.469108  4.692168  4.244594\n",
       "3  4.710447  4.681503  4.512671\n",
       "4  4.633081  4.484323  4.454364\n",
       "5  4.739053  4.633387  4.865080\n",
       "6  4.935118  4.702774  4.649570\n",
       "7  4.831555  4.309573  4.414170\n",
       "8  4.584737  4.662098  4.629898\n",
       "9  4.632469  4.719530  4.616055"
      ]
     },
     "execution_count": 22,
     "metadata": {},
     "output_type": "execute_result"
    }
   ],
   "source": [
    "# Apply logarithm to columns\n",
    "df.apply(np.log)"
   ]
  },
  {
   "cell_type": "code",
   "execution_count": 23,
   "metadata": {},
   "outputs": [
    {
     "data": {
      "text/plain": [
       "10"
      ]
     },
     "execution_count": 23,
     "metadata": {},
     "output_type": "execute_result"
    }
   ],
   "source": [
    "len(df)"
   ]
  },
  {
   "cell_type": "code",
   "execution_count": 26,
   "metadata": {},
   "outputs": [
    {
     "data": {
      "text/plain": [
       "0    3\n",
       "1    3\n",
       "2    3\n",
       "3    3\n",
       "4    3\n",
       "5    3\n",
       "6    3\n",
       "7    3\n",
       "8    3\n",
       "9    3\n",
       "dtype: int64"
      ]
     },
     "execution_count": 26,
     "metadata": {},
     "output_type": "execute_result"
    }
   ],
   "source": [
    "df.apply(len, axis=1)"
   ]
  },
  {
   "cell_type": "code",
   "execution_count": null,
   "metadata": {},
   "outputs": [],
   "source": [
    "df.sum()"
   ]
  },
  {
   "cell_type": "code",
   "execution_count": null,
   "metadata": {},
   "outputs": [],
   "source": [
    "# Apply sum to columns\n",
    "df.apply(np.sum)"
   ]
  },
  {
   "cell_type": "code",
   "execution_count": 28,
   "metadata": {},
   "outputs": [
    {
     "data": {
      "text/html": [
       "<div>\n",
       "<style scoped>\n",
       "    .dataframe tbody tr th:only-of-type {\n",
       "        vertical-align: middle;\n",
       "    }\n",
       "\n",
       "    .dataframe tbody tr th {\n",
       "        vertical-align: top;\n",
       "    }\n",
       "\n",
       "    .dataframe thead th {\n",
       "        text-align: right;\n",
       "    }\n",
       "</style>\n",
       "<table border=\"1\" class=\"dataframe\">\n",
       "  <thead>\n",
       "    <tr style=\"text-align: right;\">\n",
       "      <th></th>\n",
       "      <th>x</th>\n",
       "      <th>y</th>\n",
       "      <th>z</th>\n",
       "    </tr>\n",
       "  </thead>\n",
       "  <tbody>\n",
       "    <tr>\n",
       "      <td>0</td>\n",
       "      <td>140.602748</td>\n",
       "      <td>109.421991</td>\n",
       "      <td>113.619542</td>\n",
       "    </tr>\n",
       "    <tr>\n",
       "      <td>1</td>\n",
       "      <td>107.557386</td>\n",
       "      <td>109.766769</td>\n",
       "      <td>NaN</td>\n",
       "    </tr>\n",
       "    <tr>\n",
       "      <td>2</td>\n",
       "      <td>NaN</td>\n",
       "      <td>109.089480</td>\n",
       "      <td>NaN</td>\n",
       "    </tr>\n",
       "    <tr>\n",
       "      <td>3</td>\n",
       "      <td>111.101831</td>\n",
       "      <td>107.932202</td>\n",
       "      <td>NaN</td>\n",
       "    </tr>\n",
       "    <tr>\n",
       "      <td>4</td>\n",
       "      <td>102.830430</td>\n",
       "      <td>NaN</td>\n",
       "      <td>NaN</td>\n",
       "    </tr>\n",
       "    <tr>\n",
       "      <td>5</td>\n",
       "      <td>114.325848</td>\n",
       "      <td>102.861915</td>\n",
       "      <td>129.681360</td>\n",
       "    </tr>\n",
       "    <tr>\n",
       "      <td>6</td>\n",
       "      <td>139.089509</td>\n",
       "      <td>110.252633</td>\n",
       "      <td>104.539982</td>\n",
       "    </tr>\n",
       "    <tr>\n",
       "      <td>7</td>\n",
       "      <td>125.405844</td>\n",
       "      <td>NaN</td>\n",
       "      <td>NaN</td>\n",
       "    </tr>\n",
       "    <tr>\n",
       "      <td>8</td>\n",
       "      <td>NaN</td>\n",
       "      <td>105.857918</td>\n",
       "      <td>102.503570</td>\n",
       "    </tr>\n",
       "    <tr>\n",
       "      <td>9</td>\n",
       "      <td>102.767528</td>\n",
       "      <td>112.115589</td>\n",
       "      <td>101.094395</td>\n",
       "    </tr>\n",
       "  </tbody>\n",
       "</table>\n",
       "</div>"
      ],
      "text/plain": [
       "            x           y           z\n",
       "0  140.602748  109.421991  113.619542\n",
       "1  107.557386  109.766769         NaN\n",
       "2         NaN  109.089480         NaN\n",
       "3  111.101831  107.932202         NaN\n",
       "4  102.830430         NaN         NaN\n",
       "5  114.325848  102.861915  129.681360\n",
       "6  139.089509  110.252633  104.539982\n",
       "7  125.405844         NaN         NaN\n",
       "8         NaN  105.857918  102.503570\n",
       "9  102.767528  112.115589  101.094395"
      ]
     },
     "execution_count": 28,
     "metadata": {},
     "output_type": "execute_result"
    }
   ],
   "source": [
    "# Apply as column filter\n",
    "df.apply(lambda x: x[x > 100])"
   ]
  },
  {
   "cell_type": "code",
   "execution_count": 29,
   "metadata": {},
   "outputs": [
    {
     "data": {
      "text/html": [
       "<div>\n",
       "<style scoped>\n",
       "    .dataframe tbody tr th:only-of-type {\n",
       "        vertical-align: middle;\n",
       "    }\n",
       "\n",
       "    .dataframe tbody tr th {\n",
       "        vertical-align: top;\n",
       "    }\n",
       "\n",
       "    .dataframe thead th {\n",
       "        text-align: right;\n",
       "    }\n",
       "</style>\n",
       "<table border=\"1\" class=\"dataframe\">\n",
       "  <thead>\n",
       "    <tr style=\"text-align: right;\">\n",
       "      <th></th>\n",
       "      <th>x</th>\n",
       "      <th>y</th>\n",
       "      <th>z</th>\n",
       "    </tr>\n",
       "  </thead>\n",
       "  <tbody>\n",
       "    <tr>\n",
       "      <td>0</td>\n",
       "      <td>140.602748</td>\n",
       "      <td>109.421991</td>\n",
       "      <td>113.619542</td>\n",
       "    </tr>\n",
       "    <tr>\n",
       "      <td>1</td>\n",
       "      <td>107.557386</td>\n",
       "      <td>109.766769</td>\n",
       "      <td>NaN</td>\n",
       "    </tr>\n",
       "    <tr>\n",
       "      <td>2</td>\n",
       "      <td>NaN</td>\n",
       "      <td>109.089480</td>\n",
       "      <td>NaN</td>\n",
       "    </tr>\n",
       "    <tr>\n",
       "      <td>3</td>\n",
       "      <td>111.101831</td>\n",
       "      <td>107.932202</td>\n",
       "      <td>NaN</td>\n",
       "    </tr>\n",
       "    <tr>\n",
       "      <td>4</td>\n",
       "      <td>102.830430</td>\n",
       "      <td>NaN</td>\n",
       "      <td>NaN</td>\n",
       "    </tr>\n",
       "    <tr>\n",
       "      <td>5</td>\n",
       "      <td>114.325848</td>\n",
       "      <td>102.861915</td>\n",
       "      <td>129.681360</td>\n",
       "    </tr>\n",
       "    <tr>\n",
       "      <td>6</td>\n",
       "      <td>139.089509</td>\n",
       "      <td>110.252633</td>\n",
       "      <td>104.539982</td>\n",
       "    </tr>\n",
       "    <tr>\n",
       "      <td>7</td>\n",
       "      <td>125.405844</td>\n",
       "      <td>NaN</td>\n",
       "      <td>NaN</td>\n",
       "    </tr>\n",
       "    <tr>\n",
       "      <td>8</td>\n",
       "      <td>NaN</td>\n",
       "      <td>105.857918</td>\n",
       "      <td>102.503570</td>\n",
       "    </tr>\n",
       "    <tr>\n",
       "      <td>9</td>\n",
       "      <td>102.767528</td>\n",
       "      <td>112.115589</td>\n",
       "      <td>101.094395</td>\n",
       "    </tr>\n",
       "  </tbody>\n",
       "</table>\n",
       "</div>"
      ],
      "text/plain": [
       "            x           y           z\n",
       "0  140.602748  109.421991  113.619542\n",
       "1  107.557386  109.766769         NaN\n",
       "2         NaN  109.089480         NaN\n",
       "3  111.101831  107.932202         NaN\n",
       "4  102.830430         NaN         NaN\n",
       "5  114.325848  102.861915  129.681360\n",
       "6  139.089509  110.252633  104.539982\n",
       "7  125.405844         NaN         NaN\n",
       "8         NaN  105.857918  102.503570\n",
       "9  102.767528  112.115589  101.094395"
      ]
     },
     "execution_count": 29,
     "metadata": {},
     "output_type": "execute_result"
    }
   ],
   "source": [
    "df[df > 100]"
   ]
  },
  {
   "cell_type": "code",
   "execution_count": 31,
   "metadata": {},
   "outputs": [
    {
     "data": {
      "text/plain": [
       "x    19.852591\n",
       "y     6.069659\n",
       "z    16.738549\n",
       "dtype: float64"
      ]
     },
     "execution_count": 31,
     "metadata": {},
     "output_type": "execute_result"
    }
   ],
   "source": [
    "# Non-trivial apply\n",
    "# Interquartile range per column\n",
    "df.apply(lambda x: x.quantile(.75) - x.quantile(.25))"
   ]
  },
  {
   "cell_type": "markdown",
   "metadata": {},
   "source": [
    "We can also apply function to rows. To do that we use additional `axis` argument."
   ]
  },
  {
   "cell_type": "code",
   "execution_count": 32,
   "metadata": {},
   "outputs": [
    {
     "data": {
      "text/plain": [
       "0    31.180757\n",
       "1    14.556540\n",
       "2    39.362004\n",
       "3    19.936839\n",
       "4    16.828988\n",
       "5    26.819445\n",
       "6    34.549527\n",
       "7    50.997133\n",
       "8     7.880528\n",
       "9    11.021194\n",
       "dtype: float64"
      ]
     },
     "execution_count": 32,
     "metadata": {},
     "output_type": "execute_result"
    }
   ],
   "source": [
    "# Compute row ranges\n",
    "df.apply(lambda x: x.max() - x.min(), axis=1)"
   ]
  },
  {
   "cell_type": "markdown",
   "metadata": {},
   "source": [
    "When we work with `.apply()` on columns the situation is simple as we can expect that our function will be applied to\n",
    "`Series` objects which are guaranteed to have fixed data types, so operations should be rather efficient.\n",
    "\n",
    "On the hand, it is not entirely clear what the representation of rows should be as they may contain values of\n",
    "different type. In general rows will also be represented as `Series` objects just such that are upcasted to an\n",
    "appropriate `dtype` that can store all the values. However, this means that row-wise apply will be very often\n",
    "much slower.\n",
    "\n",
    "We can see representation of a single item during apply by simply passing a function that prints items."
   ]
  },
  {
   "cell_type": "code",
   "execution_count": 33,
   "metadata": {},
   "outputs": [
    {
     "name": "stdout",
     "output_type": "stream",
     "text": [
      "0    140.602748\n",
      "1    107.557386\n",
      "2     87.278845\n",
      "3    111.101831\n",
      "4    102.830430\n",
      "5    114.325848\n",
      "6    139.089509\n",
      "7    125.405844\n",
      "8     97.977389\n",
      "9    102.767528\n",
      "Name: x, dtype: float64\n",
      "0    109.421991\n",
      "1    109.766769\n",
      "2    109.089480\n",
      "3    107.932202\n",
      "4     88.616919\n",
      "5    102.861915\n",
      "6    110.252633\n",
      "7     74.408711\n",
      "8    105.857918\n",
      "9    112.115589\n",
      "Name: y, dtype: float64\n",
      "0    113.619542\n",
      "1     95.210229\n",
      "2     69.727476\n",
      "3     91.164992\n",
      "4     86.001442\n",
      "5    129.681360\n",
      "6    104.539982\n",
      "7     82.613209\n",
      "8    102.503570\n",
      "9    101.094395\n",
      "Name: z, dtype: float64\n"
     ]
    }
   ],
   "source": [
    "# Representation of columns\n",
    "_ = df.apply(print)"
   ]
  },
  {
   "cell_type": "code",
   "execution_count": 34,
   "metadata": {},
   "outputs": [
    {
     "name": "stdout",
     "output_type": "stream",
     "text": [
      "x    140.602748\n",
      "y    109.421991\n",
      "z    113.619542\n",
      "Name: 0, dtype: float64\n",
      "x    107.557386\n",
      "y    109.766769\n",
      "z     95.210229\n",
      "Name: 1, dtype: float64\n",
      "x     87.278845\n",
      "y    109.089480\n",
      "z     69.727476\n",
      "Name: 2, dtype: float64\n",
      "x    111.101831\n",
      "y    107.932202\n",
      "z     91.164992\n",
      "Name: 3, dtype: float64\n",
      "x    102.830430\n",
      "y     88.616919\n",
      "z     86.001442\n",
      "Name: 4, dtype: float64\n",
      "x    114.325848\n",
      "y    102.861915\n",
      "z    129.681360\n",
      "Name: 5, dtype: float64\n",
      "x    139.089509\n",
      "y    110.252633\n",
      "z    104.539982\n",
      "Name: 6, dtype: float64\n",
      "x    125.405844\n",
      "y     74.408711\n",
      "z     82.613209\n",
      "Name: 7, dtype: float64\n",
      "x     97.977389\n",
      "y    105.857918\n",
      "z    102.503570\n",
      "Name: 8, dtype: float64\n",
      "x    102.767528\n",
      "y    112.115589\n",
      "z    101.094395\n",
      "Name: 9, dtype: float64\n"
     ]
    }
   ],
   "source": [
    "# Representation of rows\n",
    "_ = df.apply(print, axis=1)"
   ]
  },
  {
   "cell_type": "markdown",
   "metadata": {},
   "source": [
    "In both cases these are series with nice fixed dtype `float64`. But this is so only because the data frame we use\n",
    "is simple and contain only floating point numbers. See what happens when we really have mixed types."
   ]
  },
  {
   "cell_type": "code",
   "execution_count": 36,
   "metadata": {},
   "outputs": [
    {
     "data": {
      "text/html": [
       "<div>\n",
       "<style scoped>\n",
       "    .dataframe tbody tr th:only-of-type {\n",
       "        vertical-align: middle;\n",
       "    }\n",
       "\n",
       "    .dataframe tbody tr th {\n",
       "        vertical-align: top;\n",
       "    }\n",
       "\n",
       "    .dataframe thead th {\n",
       "        text-align: right;\n",
       "    }\n",
       "</style>\n",
       "<table border=\"1\" class=\"dataframe\">\n",
       "  <thead>\n",
       "    <tr style=\"text-align: right;\">\n",
       "      <th></th>\n",
       "      <th>sepal_length</th>\n",
       "      <th>sepal_width</th>\n",
       "      <th>petal_length</th>\n",
       "      <th>petal_width</th>\n",
       "      <th>species</th>\n",
       "    </tr>\n",
       "  </thead>\n",
       "  <tbody>\n",
       "    <tr>\n",
       "      <td>0</td>\n",
       "      <td>5.1</td>\n",
       "      <td>3.5</td>\n",
       "      <td>1.4</td>\n",
       "      <td>0.2</td>\n",
       "      <td>setosa</td>\n",
       "    </tr>\n",
       "    <tr>\n",
       "      <td>1</td>\n",
       "      <td>4.9</td>\n",
       "      <td>3.0</td>\n",
       "      <td>1.4</td>\n",
       "      <td>0.2</td>\n",
       "      <td>setosa</td>\n",
       "    </tr>\n",
       "    <tr>\n",
       "      <td>2</td>\n",
       "      <td>4.7</td>\n",
       "      <td>3.2</td>\n",
       "      <td>1.3</td>\n",
       "      <td>0.2</td>\n",
       "      <td>setosa</td>\n",
       "    </tr>\n",
       "    <tr>\n",
       "      <td>3</td>\n",
       "      <td>4.6</td>\n",
       "      <td>3.1</td>\n",
       "      <td>1.5</td>\n",
       "      <td>0.2</td>\n",
       "      <td>setosa</td>\n",
       "    </tr>\n",
       "    <tr>\n",
       "      <td>4</td>\n",
       "      <td>5.0</td>\n",
       "      <td>3.6</td>\n",
       "      <td>1.4</td>\n",
       "      <td>0.2</td>\n",
       "      <td>setosa</td>\n",
       "    </tr>\n",
       "  </tbody>\n",
       "</table>\n",
       "</div>"
      ],
      "text/plain": [
       "   sepal_length  sepal_width  petal_length  petal_width species\n",
       "0           5.1          3.5           1.4          0.2  setosa\n",
       "1           4.9          3.0           1.4          0.2  setosa\n",
       "2           4.7          3.2           1.3          0.2  setosa\n",
       "3           4.6          3.1           1.5          0.2  setosa\n",
       "4           5.0          3.6           1.4          0.2  setosa"
      ]
     },
     "execution_count": 36,
     "metadata": {},
     "output_type": "execute_result"
    }
   ],
   "source": [
    "import seaborn as sbn\n",
    "\n",
    "iris = sbn.load_dataset('iris')\n",
    "\n",
    "iris.head()"
   ]
  },
  {
   "cell_type": "code",
   "execution_count": 37,
   "metadata": {},
   "outputs": [
    {
     "name": "stdout",
     "output_type": "stream",
     "text": [
      "sepal_length       5.1\n",
      "sepal_width        3.5\n",
      "petal_length       1.4\n",
      "petal_width        0.2\n",
      "species         setosa\n",
      "Name: 0, dtype: object\n",
      "sepal_length       4.9\n",
      "sepal_width          3\n",
      "petal_length       1.4\n",
      "petal_width        0.2\n",
      "species         setosa\n",
      "Name: 1, dtype: object\n",
      "sepal_length       4.7\n",
      "sepal_width        3.2\n",
      "petal_length       1.3\n",
      "petal_width        0.2\n",
      "species         setosa\n",
      "Name: 2, dtype: object\n",
      "sepal_length       4.6\n",
      "sepal_width        3.1\n",
      "petal_length       1.5\n",
      "petal_width        0.2\n",
      "species         setosa\n",
      "Name: 3, dtype: object\n",
      "sepal_length         5\n",
      "sepal_width        3.6\n",
      "petal_length       1.4\n",
      "petal_width        0.2\n",
      "species         setosa\n",
      "Name: 4, dtype: object\n"
     ]
    }
   ],
   "source": [
    "# Print row items\n",
    "_ = iris.head().apply(print, axis=1)"
   ]
  },
  {
   "cell_type": "markdown",
   "metadata": {},
   "source": [
    "We are forced to work with `object` series. This will usually negatively impact efficiency of our computations.\n",
    "That is the reason why row apply is often slower."
   ]
  },
  {
   "cell_type": "markdown",
   "metadata": {},
   "source": [
    "If `Series` are returned by function used in apply they will be combined to form a data frame.\n",
    "\n",
    "Below we show this with a non-trivial function that computes series with different fields for rows\n",
    "of the iris dataset based on the value of species."
   ]
  },
  {
   "cell_type": "code",
   "execution_count": 38,
   "metadata": {},
   "outputs": [
    {
     "data": {
      "text/html": [
       "<div>\n",
       "<style scoped>\n",
       "    .dataframe tbody tr th:only-of-type {\n",
       "        vertical-align: middle;\n",
       "    }\n",
       "\n",
       "    .dataframe tbody tr th {\n",
       "        vertical-align: top;\n",
       "    }\n",
       "\n",
       "    .dataframe thead th {\n",
       "        text-align: right;\n",
       "    }\n",
       "</style>\n",
       "<table border=\"1\" class=\"dataframe\">\n",
       "  <thead>\n",
       "    <tr style=\"text-align: right;\">\n",
       "      <th></th>\n",
       "      <th>sepal_length</th>\n",
       "      <th>sepal_width</th>\n",
       "      <th>petal_length</th>\n",
       "      <th>petal_width</th>\n",
       "      <th>species</th>\n",
       "    </tr>\n",
       "  </thead>\n",
       "  <tbody>\n",
       "    <tr>\n",
       "      <td>0</td>\n",
       "      <td>5.1</td>\n",
       "      <td>3.5</td>\n",
       "      <td>1.4</td>\n",
       "      <td>0.2</td>\n",
       "      <td>setosa</td>\n",
       "    </tr>\n",
       "    <tr>\n",
       "      <td>1</td>\n",
       "      <td>4.9</td>\n",
       "      <td>3.0</td>\n",
       "      <td>1.4</td>\n",
       "      <td>0.2</td>\n",
       "      <td>setosa</td>\n",
       "    </tr>\n",
       "    <tr>\n",
       "      <td>2</td>\n",
       "      <td>4.7</td>\n",
       "      <td>3.2</td>\n",
       "      <td>1.3</td>\n",
       "      <td>0.2</td>\n",
       "      <td>setosa</td>\n",
       "    </tr>\n",
       "    <tr>\n",
       "      <td>3</td>\n",
       "      <td>4.6</td>\n",
       "      <td>3.1</td>\n",
       "      <td>1.5</td>\n",
       "      <td>0.2</td>\n",
       "      <td>setosa</td>\n",
       "    </tr>\n",
       "    <tr>\n",
       "      <td>4</td>\n",
       "      <td>5.0</td>\n",
       "      <td>3.6</td>\n",
       "      <td>1.4</td>\n",
       "      <td>0.2</td>\n",
       "      <td>setosa</td>\n",
       "    </tr>\n",
       "  </tbody>\n",
       "</table>\n",
       "</div>"
      ],
      "text/plain": [
       "   sepal_length  sepal_width  petal_length  petal_width species\n",
       "0           5.1          3.5           1.4          0.2  setosa\n",
       "1           4.9          3.0           1.4          0.2  setosa\n",
       "2           4.7          3.2           1.3          0.2  setosa\n",
       "3           4.6          3.1           1.5          0.2  setosa\n",
       "4           5.0          3.6           1.4          0.2  setosa"
      ]
     },
     "execution_count": 38,
     "metadata": {},
     "output_type": "execute_result"
    }
   ],
   "source": [
    "iris.head()"
   ]
  },
  {
   "cell_type": "code",
   "execution_count": 39,
   "metadata": {},
   "outputs": [
    {
     "data": {
      "text/html": [
       "<div>\n",
       "<style scoped>\n",
       "    .dataframe tbody tr th:only-of-type {\n",
       "        vertical-align: middle;\n",
       "    }\n",
       "\n",
       "    .dataframe tbody tr th {\n",
       "        vertical-align: top;\n",
       "    }\n",
       "\n",
       "    .dataframe thead th {\n",
       "        text-align: right;\n",
       "    }\n",
       "</style>\n",
       "<table border=\"1\" class=\"dataframe\">\n",
       "  <thead>\n",
       "    <tr style=\"text-align: right;\">\n",
       "      <th></th>\n",
       "      <th>petal</th>\n",
       "      <th>sepal</th>\n",
       "    </tr>\n",
       "  </thead>\n",
       "  <tbody>\n",
       "    <tr>\n",
       "      <td>0</td>\n",
       "      <td>NaN</td>\n",
       "      <td>1.457143</td>\n",
       "    </tr>\n",
       "    <tr>\n",
       "      <td>1</td>\n",
       "      <td>NaN</td>\n",
       "      <td>1.633333</td>\n",
       "    </tr>\n",
       "    <tr>\n",
       "      <td>2</td>\n",
       "      <td>NaN</td>\n",
       "      <td>1.468750</td>\n",
       "    </tr>\n",
       "    <tr>\n",
       "      <td>3</td>\n",
       "      <td>NaN</td>\n",
       "      <td>1.483871</td>\n",
       "    </tr>\n",
       "    <tr>\n",
       "      <td>4</td>\n",
       "      <td>NaN</td>\n",
       "      <td>1.388889</td>\n",
       "    </tr>\n",
       "    <tr>\n",
       "      <td>...</td>\n",
       "      <td>...</td>\n",
       "      <td>...</td>\n",
       "    </tr>\n",
       "    <tr>\n",
       "      <td>145</td>\n",
       "      <td>2.260870</td>\n",
       "      <td>NaN</td>\n",
       "    </tr>\n",
       "    <tr>\n",
       "      <td>146</td>\n",
       "      <td>2.631579</td>\n",
       "      <td>NaN</td>\n",
       "    </tr>\n",
       "    <tr>\n",
       "      <td>147</td>\n",
       "      <td>2.600000</td>\n",
       "      <td>NaN</td>\n",
       "    </tr>\n",
       "    <tr>\n",
       "      <td>148</td>\n",
       "      <td>2.347826</td>\n",
       "      <td>NaN</td>\n",
       "    </tr>\n",
       "    <tr>\n",
       "      <td>149</td>\n",
       "      <td>2.833333</td>\n",
       "      <td>NaN</td>\n",
       "    </tr>\n",
       "  </tbody>\n",
       "</table>\n",
       "<p>150 rows × 2 columns</p>\n",
       "</div>"
      ],
      "text/plain": [
       "        petal     sepal\n",
       "0         NaN  1.457143\n",
       "1         NaN  1.633333\n",
       "2         NaN  1.468750\n",
       "3         NaN  1.483871\n",
       "4         NaN  1.388889\n",
       "..        ...       ...\n",
       "145  2.260870       NaN\n",
       "146  2.631579       NaN\n",
       "147  2.600000       NaN\n",
       "148  2.347826       NaN\n",
       "149  2.833333       NaN\n",
       "\n",
       "[150 rows x 2 columns]"
      ]
     },
     "execution_count": 39,
     "metadata": {},
     "output_type": "execute_result"
    }
   ],
   "source": [
    "def row_func(row):\n",
    "    if row['species'] == 'setosa':\n",
    "        return pd.Series({'sepal': row['sepal_length'] / row['sepal_width']})\n",
    "    return pd.Series({'petal': row['petal_length'] / row['petal_width']})\n",
    "\n",
    "iris.apply(row_func, axis=1)"
   ]
  },
  {
   "cell_type": "markdown",
   "metadata": {},
   "source": [
    "Data frames also define `.applymap()` method that applies a function element-wise.\n",
    "\n",
    "Below we use the method to find all the prime numbers in a data frame with non-negative integers.\n",
    "\n",
    "CAUTION. The implementation of the test for primality we use here is SUPER BAD."
   ]
  },
  {
   "cell_type": "code",
   "execution_count": 40,
   "metadata": {},
   "outputs": [
    {
     "data": {
      "text/html": [
       "<div>\n",
       "<style scoped>\n",
       "    .dataframe tbody tr th:only-of-type {\n",
       "        vertical-align: middle;\n",
       "    }\n",
       "\n",
       "    .dataframe tbody tr th {\n",
       "        vertical-align: top;\n",
       "    }\n",
       "\n",
       "    .dataframe thead th {\n",
       "        text-align: right;\n",
       "    }\n",
       "</style>\n",
       "<table border=\"1\" class=\"dataframe\">\n",
       "  <thead>\n",
       "    <tr style=\"text-align: right;\">\n",
       "      <th></th>\n",
       "      <th>0</th>\n",
       "      <th>1</th>\n",
       "      <th>2</th>\n",
       "      <th>3</th>\n",
       "      <th>4</th>\n",
       "      <th>5</th>\n",
       "      <th>6</th>\n",
       "      <th>7</th>\n",
       "      <th>8</th>\n",
       "      <th>9</th>\n",
       "      <th>10</th>\n",
       "      <th>11</th>\n",
       "      <th>12</th>\n",
       "      <th>13</th>\n",
       "      <th>14</th>\n",
       "      <th>15</th>\n",
       "      <th>16</th>\n",
       "      <th>17</th>\n",
       "      <th>18</th>\n",
       "      <th>19</th>\n",
       "    </tr>\n",
       "  </thead>\n",
       "  <tbody>\n",
       "    <tr>\n",
       "      <td>0</td>\n",
       "      <td>97</td>\n",
       "      <td>93</td>\n",
       "      <td>24</td>\n",
       "      <td>36</td>\n",
       "      <td>63</td>\n",
       "      <td>19</td>\n",
       "      <td>35</td>\n",
       "      <td>30</td>\n",
       "      <td>10</td>\n",
       "      <td>60</td>\n",
       "      <td>20</td>\n",
       "      <td>27</td>\n",
       "      <td>8</td>\n",
       "      <td>86</td>\n",
       "      <td>26</td>\n",
       "      <td>87</td>\n",
       "      <td>46</td>\n",
       "      <td>47</td>\n",
       "      <td>54</td>\n",
       "      <td>86</td>\n",
       "    </tr>\n",
       "    <tr>\n",
       "      <td>1</td>\n",
       "      <td>9</td>\n",
       "      <td>45</td>\n",
       "      <td>2</td>\n",
       "      <td>18</td>\n",
       "      <td>58</td>\n",
       "      <td>92</td>\n",
       "      <td>11</td>\n",
       "      <td>10</td>\n",
       "      <td>94</td>\n",
       "      <td>35</td>\n",
       "      <td>28</td>\n",
       "      <td>3</td>\n",
       "      <td>83</td>\n",
       "      <td>84</td>\n",
       "      <td>47</td>\n",
       "      <td>14</td>\n",
       "      <td>69</td>\n",
       "      <td>60</td>\n",
       "      <td>69</td>\n",
       "      <td>51</td>\n",
       "    </tr>\n",
       "    <tr>\n",
       "      <td>2</td>\n",
       "      <td>6</td>\n",
       "      <td>88</td>\n",
       "      <td>71</td>\n",
       "      <td>68</td>\n",
       "      <td>23</td>\n",
       "      <td>35</td>\n",
       "      <td>79</td>\n",
       "      <td>98</td>\n",
       "      <td>67</td>\n",
       "      <td>82</td>\n",
       "      <td>57</td>\n",
       "      <td>77</td>\n",
       "      <td>46</td>\n",
       "      <td>3</td>\n",
       "      <td>46</td>\n",
       "      <td>29</td>\n",
       "      <td>86</td>\n",
       "      <td>21</td>\n",
       "      <td>21</td>\n",
       "      <td>81</td>\n",
       "    </tr>\n",
       "    <tr>\n",
       "      <td>3</td>\n",
       "      <td>23</td>\n",
       "      <td>94</td>\n",
       "      <td>71</td>\n",
       "      <td>20</td>\n",
       "      <td>27</td>\n",
       "      <td>75</td>\n",
       "      <td>5</td>\n",
       "      <td>49</td>\n",
       "      <td>86</td>\n",
       "      <td>89</td>\n",
       "      <td>63</td>\n",
       "      <td>82</td>\n",
       "      <td>77</td>\n",
       "      <td>3</td>\n",
       "      <td>56</td>\n",
       "      <td>14</td>\n",
       "      <td>49</td>\n",
       "      <td>87</td>\n",
       "      <td>52</td>\n",
       "      <td>13</td>\n",
       "    </tr>\n",
       "    <tr>\n",
       "      <td>4</td>\n",
       "      <td>47</td>\n",
       "      <td>49</td>\n",
       "      <td>24</td>\n",
       "      <td>20</td>\n",
       "      <td>64</td>\n",
       "      <td>52</td>\n",
       "      <td>60</td>\n",
       "      <td>47</td>\n",
       "      <td>29</td>\n",
       "      <td>60</td>\n",
       "      <td>53</td>\n",
       "      <td>11</td>\n",
       "      <td>40</td>\n",
       "      <td>91</td>\n",
       "      <td>45</td>\n",
       "      <td>97</td>\n",
       "      <td>24</td>\n",
       "      <td>36</td>\n",
       "      <td>38</td>\n",
       "      <td>9</td>\n",
       "    </tr>\n",
       "    <tr>\n",
       "      <td>5</td>\n",
       "      <td>52</td>\n",
       "      <td>67</td>\n",
       "      <td>43</td>\n",
       "      <td>1</td>\n",
       "      <td>79</td>\n",
       "      <td>68</td>\n",
       "      <td>68</td>\n",
       "      <td>61</td>\n",
       "      <td>18</td>\n",
       "      <td>51</td>\n",
       "      <td>14</td>\n",
       "      <td>28</td>\n",
       "      <td>17</td>\n",
       "      <td>87</td>\n",
       "      <td>46</td>\n",
       "      <td>52</td>\n",
       "      <td>16</td>\n",
       "      <td>70</td>\n",
       "      <td>71</td>\n",
       "      <td>84</td>\n",
       "    </tr>\n",
       "    <tr>\n",
       "      <td>6</td>\n",
       "      <td>10</td>\n",
       "      <td>62</td>\n",
       "      <td>96</td>\n",
       "      <td>57</td>\n",
       "      <td>23</td>\n",
       "      <td>86</td>\n",
       "      <td>85</td>\n",
       "      <td>26</td>\n",
       "      <td>76</td>\n",
       "      <td>66</td>\n",
       "      <td>54</td>\n",
       "      <td>17</td>\n",
       "      <td>65</td>\n",
       "      <td>57</td>\n",
       "      <td>89</td>\n",
       "      <td>2</td>\n",
       "      <td>80</td>\n",
       "      <td>50</td>\n",
       "      <td>66</td>\n",
       "      <td>88</td>\n",
       "    </tr>\n",
       "    <tr>\n",
       "      <td>7</td>\n",
       "      <td>79</td>\n",
       "      <td>93</td>\n",
       "      <td>6</td>\n",
       "      <td>92</td>\n",
       "      <td>42</td>\n",
       "      <td>22</td>\n",
       "      <td>20</td>\n",
       "      <td>25</td>\n",
       "      <td>97</td>\n",
       "      <td>54</td>\n",
       "      <td>71</td>\n",
       "      <td>72</td>\n",
       "      <td>80</td>\n",
       "      <td>93</td>\n",
       "      <td>64</td>\n",
       "      <td>63</td>\n",
       "      <td>80</td>\n",
       "      <td>38</td>\n",
       "      <td>45</td>\n",
       "      <td>35</td>\n",
       "    </tr>\n",
       "    <tr>\n",
       "      <td>8</td>\n",
       "      <td>25</td>\n",
       "      <td>95</td>\n",
       "      <td>75</td>\n",
       "      <td>72</td>\n",
       "      <td>11</td>\n",
       "      <td>76</td>\n",
       "      <td>79</td>\n",
       "      <td>50</td>\n",
       "      <td>22</td>\n",
       "      <td>59</td>\n",
       "      <td>66</td>\n",
       "      <td>1</td>\n",
       "      <td>34</td>\n",
       "      <td>37</td>\n",
       "      <td>57</td>\n",
       "      <td>35</td>\n",
       "      <td>42</td>\n",
       "      <td>44</td>\n",
       "      <td>49</td>\n",
       "      <td>31</td>\n",
       "    </tr>\n",
       "    <tr>\n",
       "      <td>9</td>\n",
       "      <td>79</td>\n",
       "      <td>85</td>\n",
       "      <td>3</td>\n",
       "      <td>55</td>\n",
       "      <td>73</td>\n",
       "      <td>93</td>\n",
       "      <td>94</td>\n",
       "      <td>99</td>\n",
       "      <td>40</td>\n",
       "      <td>54</td>\n",
       "      <td>88</td>\n",
       "      <td>94</td>\n",
       "      <td>86</td>\n",
       "      <td>17</td>\n",
       "      <td>68</td>\n",
       "      <td>17</td>\n",
       "      <td>18</td>\n",
       "      <td>60</td>\n",
       "      <td>83</td>\n",
       "      <td>82</td>\n",
       "    </tr>\n",
       "  </tbody>\n",
       "</table>\n",
       "</div>"
      ],
      "text/plain": [
       "    0   1   2   3   4   5   6   7   8   9  10  11  12  13  14  15  16  17  18  \\\n",
       "0  97  93  24  36  63  19  35  30  10  60  20  27   8  86  26  87  46  47  54   \n",
       "1   9  45   2  18  58  92  11  10  94  35  28   3  83  84  47  14  69  60  69   \n",
       "2   6  88  71  68  23  35  79  98  67  82  57  77  46   3  46  29  86  21  21   \n",
       "3  23  94  71  20  27  75   5  49  86  89  63  82  77   3  56  14  49  87  52   \n",
       "4  47  49  24  20  64  52  60  47  29  60  53  11  40  91  45  97  24  36  38   \n",
       "5  52  67  43   1  79  68  68  61  18  51  14  28  17  87  46  52  16  70  71   \n",
       "6  10  62  96  57  23  86  85  26  76  66  54  17  65  57  89   2  80  50  66   \n",
       "7  79  93   6  92  42  22  20  25  97  54  71  72  80  93  64  63  80  38  45   \n",
       "8  25  95  75  72  11  76  79  50  22  59  66   1  34  37  57  35  42  44  49   \n",
       "9  79  85   3  55  73  93  94  99  40  54  88  94  86  17  68  17  18  60  83   \n",
       "\n",
       "   19  \n",
       "0  86  \n",
       "1  51  \n",
       "2  81  \n",
       "3  13  \n",
       "4   9  \n",
       "5  84  \n",
       "6  88  \n",
       "7  35  \n",
       "8  31  \n",
       "9  82  "
      ]
     },
     "execution_count": 40,
     "metadata": {},
     "output_type": "execute_result"
    }
   ],
   "source": [
    "def is_prime(x):\n",
    "    if x < 2:\n",
    "        return False\n",
    "    for i in range(2, x):\n",
    "        if x % i == 0:\n",
    "            return False\n",
    "    return True\n",
    "\n",
    "idf = pd.DataFrame(np.random.randint(0, 100, (10, 20)))\n",
    "idf"
   ]
  },
  {
   "cell_type": "code",
   "execution_count": 42,
   "metadata": {},
   "outputs": [
    {
     "data": {
      "text/html": [
       "<div>\n",
       "<style scoped>\n",
       "    .dataframe tbody tr th:only-of-type {\n",
       "        vertical-align: middle;\n",
       "    }\n",
       "\n",
       "    .dataframe tbody tr th {\n",
       "        vertical-align: top;\n",
       "    }\n",
       "\n",
       "    .dataframe thead th {\n",
       "        text-align: right;\n",
       "    }\n",
       "</style>\n",
       "<table border=\"1\" class=\"dataframe\">\n",
       "  <thead>\n",
       "    <tr style=\"text-align: right;\">\n",
       "      <th></th>\n",
       "      <th>0</th>\n",
       "      <th>1</th>\n",
       "      <th>2</th>\n",
       "      <th>3</th>\n",
       "      <th>4</th>\n",
       "      <th>5</th>\n",
       "      <th>6</th>\n",
       "      <th>7</th>\n",
       "      <th>8</th>\n",
       "      <th>9</th>\n",
       "      <th>10</th>\n",
       "      <th>11</th>\n",
       "      <th>12</th>\n",
       "      <th>13</th>\n",
       "      <th>14</th>\n",
       "      <th>15</th>\n",
       "      <th>16</th>\n",
       "      <th>17</th>\n",
       "      <th>18</th>\n",
       "      <th>19</th>\n",
       "    </tr>\n",
       "  </thead>\n",
       "  <tbody>\n",
       "    <tr>\n",
       "      <td>0</td>\n",
       "      <td>True</td>\n",
       "      <td>False</td>\n",
       "      <td>False</td>\n",
       "      <td>False</td>\n",
       "      <td>False</td>\n",
       "      <td>True</td>\n",
       "      <td>False</td>\n",
       "      <td>False</td>\n",
       "      <td>False</td>\n",
       "      <td>False</td>\n",
       "      <td>False</td>\n",
       "      <td>False</td>\n",
       "      <td>False</td>\n",
       "      <td>False</td>\n",
       "      <td>False</td>\n",
       "      <td>False</td>\n",
       "      <td>False</td>\n",
       "      <td>True</td>\n",
       "      <td>False</td>\n",
       "      <td>False</td>\n",
       "    </tr>\n",
       "    <tr>\n",
       "      <td>1</td>\n",
       "      <td>False</td>\n",
       "      <td>False</td>\n",
       "      <td>True</td>\n",
       "      <td>False</td>\n",
       "      <td>False</td>\n",
       "      <td>False</td>\n",
       "      <td>True</td>\n",
       "      <td>False</td>\n",
       "      <td>False</td>\n",
       "      <td>False</td>\n",
       "      <td>False</td>\n",
       "      <td>True</td>\n",
       "      <td>True</td>\n",
       "      <td>False</td>\n",
       "      <td>True</td>\n",
       "      <td>False</td>\n",
       "      <td>False</td>\n",
       "      <td>False</td>\n",
       "      <td>False</td>\n",
       "      <td>False</td>\n",
       "    </tr>\n",
       "    <tr>\n",
       "      <td>2</td>\n",
       "      <td>False</td>\n",
       "      <td>False</td>\n",
       "      <td>True</td>\n",
       "      <td>False</td>\n",
       "      <td>True</td>\n",
       "      <td>False</td>\n",
       "      <td>True</td>\n",
       "      <td>False</td>\n",
       "      <td>True</td>\n",
       "      <td>False</td>\n",
       "      <td>False</td>\n",
       "      <td>False</td>\n",
       "      <td>False</td>\n",
       "      <td>True</td>\n",
       "      <td>False</td>\n",
       "      <td>True</td>\n",
       "      <td>False</td>\n",
       "      <td>False</td>\n",
       "      <td>False</td>\n",
       "      <td>False</td>\n",
       "    </tr>\n",
       "    <tr>\n",
       "      <td>3</td>\n",
       "      <td>True</td>\n",
       "      <td>False</td>\n",
       "      <td>True</td>\n",
       "      <td>False</td>\n",
       "      <td>False</td>\n",
       "      <td>False</td>\n",
       "      <td>True</td>\n",
       "      <td>False</td>\n",
       "      <td>False</td>\n",
       "      <td>True</td>\n",
       "      <td>False</td>\n",
       "      <td>False</td>\n",
       "      <td>False</td>\n",
       "      <td>True</td>\n",
       "      <td>False</td>\n",
       "      <td>False</td>\n",
       "      <td>False</td>\n",
       "      <td>False</td>\n",
       "      <td>False</td>\n",
       "      <td>True</td>\n",
       "    </tr>\n",
       "    <tr>\n",
       "      <td>4</td>\n",
       "      <td>True</td>\n",
       "      <td>False</td>\n",
       "      <td>False</td>\n",
       "      <td>False</td>\n",
       "      <td>False</td>\n",
       "      <td>False</td>\n",
       "      <td>False</td>\n",
       "      <td>True</td>\n",
       "      <td>True</td>\n",
       "      <td>False</td>\n",
       "      <td>True</td>\n",
       "      <td>True</td>\n",
       "      <td>False</td>\n",
       "      <td>False</td>\n",
       "      <td>False</td>\n",
       "      <td>True</td>\n",
       "      <td>False</td>\n",
       "      <td>False</td>\n",
       "      <td>False</td>\n",
       "      <td>False</td>\n",
       "    </tr>\n",
       "    <tr>\n",
       "      <td>5</td>\n",
       "      <td>False</td>\n",
       "      <td>True</td>\n",
       "      <td>True</td>\n",
       "      <td>False</td>\n",
       "      <td>True</td>\n",
       "      <td>False</td>\n",
       "      <td>False</td>\n",
       "      <td>True</td>\n",
       "      <td>False</td>\n",
       "      <td>False</td>\n",
       "      <td>False</td>\n",
       "      <td>False</td>\n",
       "      <td>True</td>\n",
       "      <td>False</td>\n",
       "      <td>False</td>\n",
       "      <td>False</td>\n",
       "      <td>False</td>\n",
       "      <td>False</td>\n",
       "      <td>True</td>\n",
       "      <td>False</td>\n",
       "    </tr>\n",
       "    <tr>\n",
       "      <td>6</td>\n",
       "      <td>False</td>\n",
       "      <td>False</td>\n",
       "      <td>False</td>\n",
       "      <td>False</td>\n",
       "      <td>True</td>\n",
       "      <td>False</td>\n",
       "      <td>False</td>\n",
       "      <td>False</td>\n",
       "      <td>False</td>\n",
       "      <td>False</td>\n",
       "      <td>False</td>\n",
       "      <td>True</td>\n",
       "      <td>False</td>\n",
       "      <td>False</td>\n",
       "      <td>True</td>\n",
       "      <td>True</td>\n",
       "      <td>False</td>\n",
       "      <td>False</td>\n",
       "      <td>False</td>\n",
       "      <td>False</td>\n",
       "    </tr>\n",
       "    <tr>\n",
       "      <td>7</td>\n",
       "      <td>True</td>\n",
       "      <td>False</td>\n",
       "      <td>False</td>\n",
       "      <td>False</td>\n",
       "      <td>False</td>\n",
       "      <td>False</td>\n",
       "      <td>False</td>\n",
       "      <td>False</td>\n",
       "      <td>True</td>\n",
       "      <td>False</td>\n",
       "      <td>True</td>\n",
       "      <td>False</td>\n",
       "      <td>False</td>\n",
       "      <td>False</td>\n",
       "      <td>False</td>\n",
       "      <td>False</td>\n",
       "      <td>False</td>\n",
       "      <td>False</td>\n",
       "      <td>False</td>\n",
       "      <td>False</td>\n",
       "    </tr>\n",
       "    <tr>\n",
       "      <td>8</td>\n",
       "      <td>False</td>\n",
       "      <td>False</td>\n",
       "      <td>False</td>\n",
       "      <td>False</td>\n",
       "      <td>True</td>\n",
       "      <td>False</td>\n",
       "      <td>True</td>\n",
       "      <td>False</td>\n",
       "      <td>False</td>\n",
       "      <td>True</td>\n",
       "      <td>False</td>\n",
       "      <td>False</td>\n",
       "      <td>False</td>\n",
       "      <td>True</td>\n",
       "      <td>False</td>\n",
       "      <td>False</td>\n",
       "      <td>False</td>\n",
       "      <td>False</td>\n",
       "      <td>False</td>\n",
       "      <td>True</td>\n",
       "    </tr>\n",
       "    <tr>\n",
       "      <td>9</td>\n",
       "      <td>True</td>\n",
       "      <td>False</td>\n",
       "      <td>True</td>\n",
       "      <td>False</td>\n",
       "      <td>True</td>\n",
       "      <td>False</td>\n",
       "      <td>False</td>\n",
       "      <td>False</td>\n",
       "      <td>False</td>\n",
       "      <td>False</td>\n",
       "      <td>False</td>\n",
       "      <td>False</td>\n",
       "      <td>False</td>\n",
       "      <td>True</td>\n",
       "      <td>False</td>\n",
       "      <td>True</td>\n",
       "      <td>False</td>\n",
       "      <td>False</td>\n",
       "      <td>True</td>\n",
       "      <td>False</td>\n",
       "    </tr>\n",
       "  </tbody>\n",
       "</table>\n",
       "</div>"
      ],
      "text/plain": [
       "       0      1      2      3      4      5      6      7      8      9  \\\n",
       "0   True  False  False  False  False   True  False  False  False  False   \n",
       "1  False  False   True  False  False  False   True  False  False  False   \n",
       "2  False  False   True  False   True  False   True  False   True  False   \n",
       "3   True  False   True  False  False  False   True  False  False   True   \n",
       "4   True  False  False  False  False  False  False   True   True  False   \n",
       "5  False   True   True  False   True  False  False   True  False  False   \n",
       "6  False  False  False  False   True  False  False  False  False  False   \n",
       "7   True  False  False  False  False  False  False  False   True  False   \n",
       "8  False  False  False  False   True  False   True  False  False   True   \n",
       "9   True  False   True  False   True  False  False  False  False  False   \n",
       "\n",
       "      10     11     12     13     14     15     16     17     18     19  \n",
       "0  False  False  False  False  False  False  False   True  False  False  \n",
       "1  False   True   True  False   True  False  False  False  False  False  \n",
       "2  False  False  False   True  False   True  False  False  False  False  \n",
       "3  False  False  False   True  False  False  False  False  False   True  \n",
       "4   True   True  False  False  False   True  False  False  False  False  \n",
       "5  False  False   True  False  False  False  False  False   True  False  \n",
       "6  False   True  False  False   True   True  False  False  False  False  \n",
       "7   True  False  False  False  False  False  False  False  False  False  \n",
       "8  False  False  False   True  False  False  False  False  False   True  \n",
       "9  False  False  False   True  False   True  False  False   True  False  "
      ]
     },
     "execution_count": 42,
     "metadata": {},
     "output_type": "execute_result"
    }
   ],
   "source": [
    "idf.applymap(is_prime)"
   ]
  },
  {
   "cell_type": "code",
   "execution_count": 44,
   "metadata": {},
   "outputs": [
    {
     "data": {
      "text/html": [
       "<div>\n",
       "<style scoped>\n",
       "    .dataframe tbody tr th:only-of-type {\n",
       "        vertical-align: middle;\n",
       "    }\n",
       "\n",
       "    .dataframe tbody tr th {\n",
       "        vertical-align: top;\n",
       "    }\n",
       "\n",
       "    .dataframe thead th {\n",
       "        text-align: right;\n",
       "    }\n",
       "</style>\n",
       "<table border=\"1\" class=\"dataframe\">\n",
       "  <thead>\n",
       "    <tr style=\"text-align: right;\">\n",
       "      <th></th>\n",
       "      <th>0</th>\n",
       "      <th>1</th>\n",
       "      <th>2</th>\n",
       "      <th>3</th>\n",
       "      <th>4</th>\n",
       "      <th>5</th>\n",
       "      <th>6</th>\n",
       "      <th>7</th>\n",
       "      <th>8</th>\n",
       "      <th>9</th>\n",
       "      <th>10</th>\n",
       "      <th>11</th>\n",
       "      <th>12</th>\n",
       "      <th>13</th>\n",
       "      <th>14</th>\n",
       "      <th>15</th>\n",
       "      <th>16</th>\n",
       "      <th>17</th>\n",
       "      <th>18</th>\n",
       "      <th>19</th>\n",
       "    </tr>\n",
       "  </thead>\n",
       "  <tbody>\n",
       "    <tr>\n",
       "      <td>0</td>\n",
       "      <td>97</td>\n",
       "      <td></td>\n",
       "      <td></td>\n",
       "      <td></td>\n",
       "      <td></td>\n",
       "      <td>19</td>\n",
       "      <td></td>\n",
       "      <td></td>\n",
       "      <td></td>\n",
       "      <td></td>\n",
       "      <td></td>\n",
       "      <td></td>\n",
       "      <td></td>\n",
       "      <td></td>\n",
       "      <td></td>\n",
       "      <td></td>\n",
       "      <td></td>\n",
       "      <td>47</td>\n",
       "      <td></td>\n",
       "      <td></td>\n",
       "    </tr>\n",
       "    <tr>\n",
       "      <td>1</td>\n",
       "      <td></td>\n",
       "      <td></td>\n",
       "      <td>2</td>\n",
       "      <td></td>\n",
       "      <td></td>\n",
       "      <td></td>\n",
       "      <td>11</td>\n",
       "      <td></td>\n",
       "      <td></td>\n",
       "      <td></td>\n",
       "      <td></td>\n",
       "      <td>3</td>\n",
       "      <td>83</td>\n",
       "      <td></td>\n",
       "      <td>47</td>\n",
       "      <td></td>\n",
       "      <td></td>\n",
       "      <td></td>\n",
       "      <td></td>\n",
       "      <td></td>\n",
       "    </tr>\n",
       "    <tr>\n",
       "      <td>2</td>\n",
       "      <td></td>\n",
       "      <td></td>\n",
       "      <td>71</td>\n",
       "      <td></td>\n",
       "      <td>23</td>\n",
       "      <td></td>\n",
       "      <td>79</td>\n",
       "      <td></td>\n",
       "      <td>67</td>\n",
       "      <td></td>\n",
       "      <td></td>\n",
       "      <td></td>\n",
       "      <td></td>\n",
       "      <td>3</td>\n",
       "      <td></td>\n",
       "      <td>29</td>\n",
       "      <td></td>\n",
       "      <td></td>\n",
       "      <td></td>\n",
       "      <td></td>\n",
       "    </tr>\n",
       "    <tr>\n",
       "      <td>3</td>\n",
       "      <td>23</td>\n",
       "      <td></td>\n",
       "      <td>71</td>\n",
       "      <td></td>\n",
       "      <td></td>\n",
       "      <td></td>\n",
       "      <td>5</td>\n",
       "      <td></td>\n",
       "      <td></td>\n",
       "      <td>89</td>\n",
       "      <td></td>\n",
       "      <td></td>\n",
       "      <td></td>\n",
       "      <td>3</td>\n",
       "      <td></td>\n",
       "      <td></td>\n",
       "      <td></td>\n",
       "      <td></td>\n",
       "      <td></td>\n",
       "      <td>13</td>\n",
       "    </tr>\n",
       "    <tr>\n",
       "      <td>4</td>\n",
       "      <td>47</td>\n",
       "      <td></td>\n",
       "      <td></td>\n",
       "      <td></td>\n",
       "      <td></td>\n",
       "      <td></td>\n",
       "      <td></td>\n",
       "      <td>47</td>\n",
       "      <td>29</td>\n",
       "      <td></td>\n",
       "      <td>53</td>\n",
       "      <td>11</td>\n",
       "      <td></td>\n",
       "      <td></td>\n",
       "      <td></td>\n",
       "      <td>97</td>\n",
       "      <td></td>\n",
       "      <td></td>\n",
       "      <td></td>\n",
       "      <td></td>\n",
       "    </tr>\n",
       "    <tr>\n",
       "      <td>5</td>\n",
       "      <td></td>\n",
       "      <td>67</td>\n",
       "      <td>43</td>\n",
       "      <td></td>\n",
       "      <td>79</td>\n",
       "      <td></td>\n",
       "      <td></td>\n",
       "      <td>61</td>\n",
       "      <td></td>\n",
       "      <td></td>\n",
       "      <td></td>\n",
       "      <td></td>\n",
       "      <td>17</td>\n",
       "      <td></td>\n",
       "      <td></td>\n",
       "      <td></td>\n",
       "      <td></td>\n",
       "      <td></td>\n",
       "      <td>71</td>\n",
       "      <td></td>\n",
       "    </tr>\n",
       "    <tr>\n",
       "      <td>6</td>\n",
       "      <td></td>\n",
       "      <td></td>\n",
       "      <td></td>\n",
       "      <td></td>\n",
       "      <td>23</td>\n",
       "      <td></td>\n",
       "      <td></td>\n",
       "      <td></td>\n",
       "      <td></td>\n",
       "      <td></td>\n",
       "      <td></td>\n",
       "      <td>17</td>\n",
       "      <td></td>\n",
       "      <td></td>\n",
       "      <td>89</td>\n",
       "      <td>2</td>\n",
       "      <td></td>\n",
       "      <td></td>\n",
       "      <td></td>\n",
       "      <td></td>\n",
       "    </tr>\n",
       "    <tr>\n",
       "      <td>7</td>\n",
       "      <td>79</td>\n",
       "      <td></td>\n",
       "      <td></td>\n",
       "      <td></td>\n",
       "      <td></td>\n",
       "      <td></td>\n",
       "      <td></td>\n",
       "      <td></td>\n",
       "      <td>97</td>\n",
       "      <td></td>\n",
       "      <td>71</td>\n",
       "      <td></td>\n",
       "      <td></td>\n",
       "      <td></td>\n",
       "      <td></td>\n",
       "      <td></td>\n",
       "      <td></td>\n",
       "      <td></td>\n",
       "      <td></td>\n",
       "      <td></td>\n",
       "    </tr>\n",
       "    <tr>\n",
       "      <td>8</td>\n",
       "      <td></td>\n",
       "      <td></td>\n",
       "      <td></td>\n",
       "      <td></td>\n",
       "      <td>11</td>\n",
       "      <td></td>\n",
       "      <td>79</td>\n",
       "      <td></td>\n",
       "      <td></td>\n",
       "      <td>59</td>\n",
       "      <td></td>\n",
       "      <td></td>\n",
       "      <td></td>\n",
       "      <td>37</td>\n",
       "      <td></td>\n",
       "      <td></td>\n",
       "      <td></td>\n",
       "      <td></td>\n",
       "      <td></td>\n",
       "      <td>31</td>\n",
       "    </tr>\n",
       "    <tr>\n",
       "      <td>9</td>\n",
       "      <td>79</td>\n",
       "      <td></td>\n",
       "      <td>3</td>\n",
       "      <td></td>\n",
       "      <td>73</td>\n",
       "      <td></td>\n",
       "      <td></td>\n",
       "      <td></td>\n",
       "      <td></td>\n",
       "      <td></td>\n",
       "      <td></td>\n",
       "      <td></td>\n",
       "      <td></td>\n",
       "      <td>17</td>\n",
       "      <td></td>\n",
       "      <td>17</td>\n",
       "      <td></td>\n",
       "      <td></td>\n",
       "      <td>83</td>\n",
       "      <td></td>\n",
       "    </tr>\n",
       "  </tbody>\n",
       "</table>\n",
       "</div>"
      ],
      "text/plain": [
       "    0   1   2 3   4   5   6   7   8   9  10  11  12  13  14  15 16  17  18  19\n",
       "0  97                19                                             47        \n",
       "1           2            11                   3  83      47                   \n",
       "2          71    23      79      67                   3      29               \n",
       "3  23      71             5          89               3                     13\n",
       "4  47                        47  29      53  11              97               \n",
       "5      67  43    79          61                  17                     71    \n",
       "6                23                          17          89   2               \n",
       "7  79                            97      71                                   \n",
       "8                11      79          59              37                     31\n",
       "9  79       3    73                                  17      17         83    "
      ]
     },
     "execution_count": 44,
     "metadata": {},
     "output_type": "execute_result"
    }
   ],
   "source": [
    "idf[idf.applymap(is_prime)].fillna('')"
   ]
  },
  {
   "cell_type": "markdown",
   "metadata": {},
   "source": [
    "### `DataFrame` | Exercise 4.\n",
    "\n",
    "You are provided with a data frame of exam scores of students. Each student have three exam scores ranging from 0 to 100.\n",
    "You have to convert scores to grades according to the grading scale below and compute average grades of students.\n",
    "\n",
    "**Grading scale**\n",
    "\n",
    "If score is:\n",
    "\n",
    "* $< 60 \\rightarrow 2$\n",
    "* $< 80 \\rightarrow 3$\n",
    "* $< 90 \\rightarrow 4$\n",
    "* $\\geq 90 \\rightarrow 5$"
   ]
  },
  {
   "cell_type": "code",
   "execution_count": 45,
   "metadata": {},
   "outputs": [
    {
     "data": {
      "text/html": [
       "<div>\n",
       "<style scoped>\n",
       "    .dataframe tbody tr th:only-of-type {\n",
       "        vertical-align: middle;\n",
       "    }\n",
       "\n",
       "    .dataframe tbody tr th {\n",
       "        vertical-align: top;\n",
       "    }\n",
       "\n",
       "    .dataframe thead th {\n",
       "        text-align: right;\n",
       "    }\n",
       "</style>\n",
       "<table border=\"1\" class=\"dataframe\">\n",
       "  <thead>\n",
       "    <tr style=\"text-align: right;\">\n",
       "      <th></th>\n",
       "      <th>0</th>\n",
       "      <th>1</th>\n",
       "      <th>2</th>\n",
       "    </tr>\n",
       "  </thead>\n",
       "  <tbody>\n",
       "    <tr>\n",
       "      <td>Alice</td>\n",
       "      <td>61</td>\n",
       "      <td>70</td>\n",
       "      <td>90</td>\n",
       "    </tr>\n",
       "    <tr>\n",
       "      <td>Bob</td>\n",
       "      <td>50</td>\n",
       "      <td>80</td>\n",
       "      <td>91</td>\n",
       "    </tr>\n",
       "    <tr>\n",
       "      <td>Freya</td>\n",
       "      <td>80</td>\n",
       "      <td>90</td>\n",
       "      <td>82</td>\n",
       "    </tr>\n",
       "    <tr>\n",
       "      <td>Merlin</td>\n",
       "      <td>90</td>\n",
       "      <td>100</td>\n",
       "      <td>92</td>\n",
       "    </tr>\n",
       "  </tbody>\n",
       "</table>\n",
       "</div>"
      ],
      "text/plain": [
       "         0    1   2\n",
       "Alice   61   70  90\n",
       "Bob     50   80  91\n",
       "Freya   80   90  82\n",
       "Merlin  90  100  92"
      ]
     },
     "execution_count": 45,
     "metadata": {},
     "output_type": "execute_result"
    }
   ],
   "source": [
    "df = pd.DataFrame([\n",
    "    pd.Series([61, 70, 90], name='Alice'),\n",
    "    pd.Series([50, 80, 91], name='Bob'),\n",
    "    pd.Series([80, 90, 82], name='Freya'),\n",
    "    pd.Series([90, 100, 92], name='Merlin')\n",
    "])\n",
    "df"
   ]
  },
  {
   "cell_type": "code",
   "execution_count": 46,
   "metadata": {},
   "outputs": [
    {
     "data": {
      "text/plain": [
       "Alice     3.666667\n",
       "Bob       3.666667\n",
       "Freya     4.333333\n",
       "Merlin    5.000000\n",
       "dtype: float64"
      ]
     },
     "execution_count": 46,
     "metadata": {},
     "output_type": "execute_result"
    }
   ],
   "source": [
    "# Your solution\n",
    "def score_to_grade(x):\n",
    "    if x < 60:\n",
    "        return 2\n",
    "    if x < 80:\n",
    "        return 3\n",
    "    if x < 90:\n",
    "        return 4\n",
    "    return 5\n",
    "\n",
    "df.applymap(score_to_grade).mean(axis=1)"
   ]
  },
  {
   "cell_type": "markdown",
   "metadata": {},
   "source": [
    "### `DataFrame` | Exercise 5.\n",
    "\n",
    "Your are provided with a set of exam scores for $10$ students (in a form of a `dict`).\n",
    "Your task is to build a data frame in which row index values are student names,\n",
    "the first column stores exam scores and the second column stores grade according to the following rule:\n",
    "\n",
    "If score is:\n",
    "\n",
    "* $< 60 \\rightarrow 2$\n",
    "* $< 80 \\rightarrow 3$\n",
    "* $< 90 \\rightarrow 4$\n",
    "* $\\geq 90 \\rightarrow 5$\n",
    "\n",
    "HINT. You may want to convert the `dict` to a `Series` first. Then you can use `.apply()` or `.map()`\n",
    "to apply some computations to every element of the series."
   ]
  },
  {
   "cell_type": "code",
   "execution_count": 48,
   "metadata": {},
   "outputs": [],
   "source": [
    "scores = {\n",
    "    'Alice': 75,\n",
    "    'Bob': 80,\n",
    "    'Kate': 82,\n",
    "    'Dog': 99,\n",
    "    'Han Solo': 55,\n",
    "    'Rick': 100,\n",
    "    'Morty': 82,\n",
    "    'Santa': 62,\n",
    "    'Curie': 92,\n",
    "    'Isabelle': 88,\n",
    "    'Stan': 71,\n",
    "    'Kyle': 81,\n",
    "    'Kenny': 90,\n",
    "    'Cartman': 30\n",
    "}"
   ]
  },
  {
   "cell_type": "code",
   "execution_count": 54,
   "metadata": {},
   "outputs": [
    {
     "data": {
      "text/plain": [
       "{'a': 1, 'b': 2, 'c': 111}"
      ]
     },
     "execution_count": 54,
     "metadata": {},
     "output_type": "execute_result"
    }
   ],
   "source": [
    "dct"
   ]
  },
  {
   "cell_type": "code",
   "execution_count": 60,
   "metadata": {},
   "outputs": [
    {
     "data": {
      "text/html": [
       "<div>\n",
       "<style scoped>\n",
       "    .dataframe tbody tr th:only-of-type {\n",
       "        vertical-align: middle;\n",
       "    }\n",
       "\n",
       "    .dataframe tbody tr th {\n",
       "        vertical-align: top;\n",
       "    }\n",
       "\n",
       "    .dataframe thead th {\n",
       "        text-align: right;\n",
       "    }\n",
       "</style>\n",
       "<table border=\"1\" class=\"dataframe\">\n",
       "  <thead>\n",
       "    <tr style=\"text-align: right;\">\n",
       "      <th></th>\n",
       "      <th>score</th>\n",
       "      <th>grade</th>\n",
       "    </tr>\n",
       "  </thead>\n",
       "  <tbody>\n",
       "    <tr>\n",
       "      <td>Alice</td>\n",
       "      <td>75</td>\n",
       "      <td>3</td>\n",
       "    </tr>\n",
       "    <tr>\n",
       "      <td>Bob</td>\n",
       "      <td>80</td>\n",
       "      <td>4</td>\n",
       "    </tr>\n",
       "    <tr>\n",
       "      <td>Kate</td>\n",
       "      <td>82</td>\n",
       "      <td>4</td>\n",
       "    </tr>\n",
       "    <tr>\n",
       "      <td>Dog</td>\n",
       "      <td>99</td>\n",
       "      <td>5</td>\n",
       "    </tr>\n",
       "    <tr>\n",
       "      <td>Han Solo</td>\n",
       "      <td>55</td>\n",
       "      <td>2</td>\n",
       "    </tr>\n",
       "    <tr>\n",
       "      <td>Rick</td>\n",
       "      <td>100</td>\n",
       "      <td>5</td>\n",
       "    </tr>\n",
       "    <tr>\n",
       "      <td>Morty</td>\n",
       "      <td>82</td>\n",
       "      <td>4</td>\n",
       "    </tr>\n",
       "    <tr>\n",
       "      <td>Santa</td>\n",
       "      <td>62</td>\n",
       "      <td>3</td>\n",
       "    </tr>\n",
       "    <tr>\n",
       "      <td>Curie</td>\n",
       "      <td>92</td>\n",
       "      <td>5</td>\n",
       "    </tr>\n",
       "    <tr>\n",
       "      <td>Isabelle</td>\n",
       "      <td>88</td>\n",
       "      <td>4</td>\n",
       "    </tr>\n",
       "    <tr>\n",
       "      <td>Stan</td>\n",
       "      <td>71</td>\n",
       "      <td>3</td>\n",
       "    </tr>\n",
       "    <tr>\n",
       "      <td>Kyle</td>\n",
       "      <td>81</td>\n",
       "      <td>4</td>\n",
       "    </tr>\n",
       "    <tr>\n",
       "      <td>Kenny</td>\n",
       "      <td>90</td>\n",
       "      <td>5</td>\n",
       "    </tr>\n",
       "    <tr>\n",
       "      <td>Cartman</td>\n",
       "      <td>30</td>\n",
       "      <td>2</td>\n",
       "    </tr>\n",
       "  </tbody>\n",
       "</table>\n",
       "</div>"
      ],
      "text/plain": [
       "          score  grade\n",
       "Alice        75      3\n",
       "Bob          80      4\n",
       "Kate         82      4\n",
       "Dog          99      5\n",
       "Han Solo     55      2\n",
       "Rick        100      5\n",
       "Morty        82      4\n",
       "Santa        62      3\n",
       "Curie        92      5\n",
       "Isabelle     88      4\n",
       "Stan         71      3\n",
       "Kyle         81      4\n",
       "Kenny        90      5\n",
       "Cartman      30      2"
      ]
     },
     "execution_count": 60,
     "metadata": {},
     "output_type": "execute_result"
    }
   ],
   "source": [
    "# Your solution\n",
    "df = pd.DataFrame({\n",
    "    'score': list(scores.values())\n",
    "}, index=scores.keys())\n",
    "\n",
    "df['grade'] = df['score'].apply(score_to_grade)\n",
    "df"
   ]
  },
  {
   "cell_type": "markdown",
   "metadata": {},
   "source": [
    "## `DataFrame` | Aggregation\n",
    "\n",
    "Data frames in Pandas offer a quite convenient interface for computing multiple aggregate quantities in one go."
   ]
  },
  {
   "cell_type": "code",
   "execution_count": 65,
   "metadata": {},
   "outputs": [],
   "source": [
    "import numpy as np\n",
    "import pandas as pd\n",
    "import seaborn as sbn\n",
    "\n",
    "iris = sbn.load_dataset('iris')"
   ]
  },
  {
   "cell_type": "code",
   "execution_count": 66,
   "metadata": {},
   "outputs": [
    {
     "data": {
      "text/html": [
       "<div>\n",
       "<style scoped>\n",
       "    .dataframe tbody tr th:only-of-type {\n",
       "        vertical-align: middle;\n",
       "    }\n",
       "\n",
       "    .dataframe tbody tr th {\n",
       "        vertical-align: top;\n",
       "    }\n",
       "\n",
       "    .dataframe thead th {\n",
       "        text-align: right;\n",
       "    }\n",
       "</style>\n",
       "<table border=\"1\" class=\"dataframe\">\n",
       "  <thead>\n",
       "    <tr style=\"text-align: right;\">\n",
       "      <th></th>\n",
       "      <th>sepal_length</th>\n",
       "      <th>sepal_width</th>\n",
       "      <th>petal_length</th>\n",
       "      <th>petal_width</th>\n",
       "      <th>species</th>\n",
       "    </tr>\n",
       "  </thead>\n",
       "  <tbody>\n",
       "    <tr>\n",
       "      <td>0</td>\n",
       "      <td>5.1</td>\n",
       "      <td>3.5</td>\n",
       "      <td>1.4</td>\n",
       "      <td>0.2</td>\n",
       "      <td>setosa</td>\n",
       "    </tr>\n",
       "    <tr>\n",
       "      <td>1</td>\n",
       "      <td>4.9</td>\n",
       "      <td>3.0</td>\n",
       "      <td>1.4</td>\n",
       "      <td>0.2</td>\n",
       "      <td>setosa</td>\n",
       "    </tr>\n",
       "    <tr>\n",
       "      <td>2</td>\n",
       "      <td>4.7</td>\n",
       "      <td>3.2</td>\n",
       "      <td>1.3</td>\n",
       "      <td>0.2</td>\n",
       "      <td>setosa</td>\n",
       "    </tr>\n",
       "    <tr>\n",
       "      <td>3</td>\n",
       "      <td>4.6</td>\n",
       "      <td>3.1</td>\n",
       "      <td>1.5</td>\n",
       "      <td>0.2</td>\n",
       "      <td>setosa</td>\n",
       "    </tr>\n",
       "    <tr>\n",
       "      <td>4</td>\n",
       "      <td>5.0</td>\n",
       "      <td>3.6</td>\n",
       "      <td>1.4</td>\n",
       "      <td>0.2</td>\n",
       "      <td>setosa</td>\n",
       "    </tr>\n",
       "  </tbody>\n",
       "</table>\n",
       "</div>"
      ],
      "text/plain": [
       "   sepal_length  sepal_width  petal_length  petal_width species\n",
       "0           5.1          3.5           1.4          0.2  setosa\n",
       "1           4.9          3.0           1.4          0.2  setosa\n",
       "2           4.7          3.2           1.3          0.2  setosa\n",
       "3           4.6          3.1           1.5          0.2  setosa\n",
       "4           5.0          3.6           1.4          0.2  setosa"
      ]
     },
     "execution_count": 66,
     "metadata": {},
     "output_type": "execute_result"
    }
   ],
   "source": [
    "iris.head()"
   ]
  },
  {
   "cell_type": "code",
   "execution_count": 67,
   "metadata": {},
   "outputs": [
    {
     "data": {
      "text/html": [
       "<div>\n",
       "<style scoped>\n",
       "    .dataframe tbody tr th:only-of-type {\n",
       "        vertical-align: middle;\n",
       "    }\n",
       "\n",
       "    .dataframe tbody tr th {\n",
       "        vertical-align: top;\n",
       "    }\n",
       "\n",
       "    .dataframe thead th {\n",
       "        text-align: right;\n",
       "    }\n",
       "</style>\n",
       "<table border=\"1\" class=\"dataframe\">\n",
       "  <thead>\n",
       "    <tr style=\"text-align: right;\">\n",
       "      <th></th>\n",
       "      <th>sepal_length</th>\n",
       "      <th>sepal_width</th>\n",
       "      <th>petal_length</th>\n",
       "      <th>petal_width</th>\n",
       "    </tr>\n",
       "  </thead>\n",
       "  <tbody>\n",
       "    <tr>\n",
       "      <td>mean</td>\n",
       "      <td>5.843333</td>\n",
       "      <td>3.057333</td>\n",
       "      <td>3.758000</td>\n",
       "      <td>1.199333</td>\n",
       "    </tr>\n",
       "    <tr>\n",
       "      <td>std</td>\n",
       "      <td>0.828066</td>\n",
       "      <td>0.435866</td>\n",
       "      <td>1.765298</td>\n",
       "      <td>0.762238</td>\n",
       "    </tr>\n",
       "  </tbody>\n",
       "</table>\n",
       "</div>"
      ],
      "text/plain": [
       "      sepal_length  sepal_width  petal_length  petal_width\n",
       "mean      5.843333     3.057333      3.758000     1.199333\n",
       "std       0.828066     0.435866      1.765298     0.762238"
      ]
     },
     "execution_count": 67,
     "metadata": {},
     "output_type": "execute_result"
    }
   ],
   "source": [
    "iris.loc[:, 'sepal_length':'petal_width'].agg([np.mean, np.std])"
   ]
  },
  {
   "cell_type": "code",
   "execution_count": null,
   "metadata": {},
   "outputs": [],
   "source": [
    "iris['species'].nunique()"
   ]
  },
  {
   "cell_type": "code",
   "execution_count": 72,
   "metadata": {},
   "outputs": [
    {
     "data": {
      "text/plain": [
       "True"
      ]
     },
     "execution_count": 72,
     "metadata": {},
     "output_type": "execute_result"
    }
   ],
   "source": [
    "'nunique' in dir(iris['species'])"
   ]
  },
  {
   "cell_type": "code",
   "execution_count": 81,
   "metadata": {},
   "outputs": [
    {
     "data": {
      "text/html": [
       "<div>\n",
       "<style scoped>\n",
       "    .dataframe tbody tr th:only-of-type {\n",
       "        vertical-align: middle;\n",
       "    }\n",
       "\n",
       "    .dataframe tbody tr th {\n",
       "        vertical-align: top;\n",
       "    }\n",
       "\n",
       "    .dataframe thead th {\n",
       "        text-align: right;\n",
       "    }\n",
       "</style>\n",
       "<table border=\"1\" class=\"dataframe\">\n",
       "  <thead>\n",
       "    <tr style=\"text-align: right;\">\n",
       "      <th></th>\n",
       "      <th>sepal_length</th>\n",
       "      <th>species</th>\n",
       "    </tr>\n",
       "  </thead>\n",
       "  <tbody>\n",
       "    <tr>\n",
       "      <td>mean</td>\n",
       "      <td>5.843333</td>\n",
       "      <td>NaN</td>\n",
       "    </tr>\n",
       "    <tr>\n",
       "      <td>nunique</td>\n",
       "      <td>NaN</td>\n",
       "      <td>3.0</td>\n",
       "    </tr>\n",
       "    <tr>\n",
       "      <td>std</td>\n",
       "      <td>0.828066</td>\n",
       "      <td>NaN</td>\n",
       "    </tr>\n",
       "  </tbody>\n",
       "</table>\n",
       "</div>"
      ],
      "text/plain": [
       "         sepal_length  species\n",
       "mean         5.843333      NaN\n",
       "nunique           NaN      3.0\n",
       "std          0.828066      NaN"
      ]
     },
     "execution_count": 81,
     "metadata": {},
     "output_type": "execute_result"
    }
   ],
   "source": [
    "iris.aggregate({\n",
    "    'sepal_length': [np.mean, np.std],\n",
    "    'species': 'nunique'\n",
    "})"
   ]
  },
  {
   "cell_type": "markdown",
   "metadata": {},
   "source": [
    "## Split-apply-combine and `.groupby()`\n",
    "\n",
    "Split-apply-combine is a powerful strategy used frequently in data science, statistics and scientific computing.\n",
    "The main idea is that we can decompose even very complicate computations in a sequence of the three steps:\n",
    "\n",
    "* **Split.** In this step we split our dataset into smaller datasets based on some criterion, for instance based\n",
    "on value of some categorical variables.\n",
    "* **Apply.** In this stage a function or a set of functions is applied to datasets. In this step we often aggregate\n",
    "subdatasets into single values or perform some other processing (i.e. filtering).\n",
    "* **Combine.** In the end we combine splitted datasets back to one data frame.\n",
    "\n",
    "One of the typical usecases of this approach is computation of descriptive statistics for groups (i.e. group means)."
   ]
  },
  {
   "cell_type": "markdown",
   "metadata": {},
   "source": [
    "Grouped operations in Pandas are defined via the `.groupby()` method. It returnes a special object\n",
    "that stores a dataset parts divided by a given criterion (usually by values of a column or columns).\n",
    "It can be used to iterate over the dataset parts but also to apply different functions to them.\n",
    "After a function is applied the grouped object will return results combined back to a single data frame.\n",
    "This is how _split-apply-combine_ strategy is implemented in Pandas."
   ]
  },
  {
   "cell_type": "code",
   "execution_count": 2,
   "metadata": {},
   "outputs": [
    {
     "data": {
      "text/html": [
       "<div>\n",
       "<style scoped>\n",
       "    .dataframe tbody tr th:only-of-type {\n",
       "        vertical-align: middle;\n",
       "    }\n",
       "\n",
       "    .dataframe tbody tr th {\n",
       "        vertical-align: top;\n",
       "    }\n",
       "\n",
       "    .dataframe thead th {\n",
       "        text-align: right;\n",
       "    }\n",
       "</style>\n",
       "<table border=\"1\" class=\"dataframe\">\n",
       "  <thead>\n",
       "    <tr style=\"text-align: right;\">\n",
       "      <th></th>\n",
       "      <th>sepal_length</th>\n",
       "      <th>sepal_width</th>\n",
       "      <th>petal_length</th>\n",
       "      <th>petal_width</th>\n",
       "      <th>species</th>\n",
       "    </tr>\n",
       "  </thead>\n",
       "  <tbody>\n",
       "    <tr>\n",
       "      <td>0</td>\n",
       "      <td>5.1</td>\n",
       "      <td>3.5</td>\n",
       "      <td>1.4</td>\n",
       "      <td>0.2</td>\n",
       "      <td>setosa</td>\n",
       "    </tr>\n",
       "    <tr>\n",
       "      <td>1</td>\n",
       "      <td>4.9</td>\n",
       "      <td>3.0</td>\n",
       "      <td>1.4</td>\n",
       "      <td>0.2</td>\n",
       "      <td>setosa</td>\n",
       "    </tr>\n",
       "    <tr>\n",
       "      <td>2</td>\n",
       "      <td>4.7</td>\n",
       "      <td>3.2</td>\n",
       "      <td>1.3</td>\n",
       "      <td>0.2</td>\n",
       "      <td>setosa</td>\n",
       "    </tr>\n",
       "    <tr>\n",
       "      <td>3</td>\n",
       "      <td>4.6</td>\n",
       "      <td>3.1</td>\n",
       "      <td>1.5</td>\n",
       "      <td>0.2</td>\n",
       "      <td>setosa</td>\n",
       "    </tr>\n",
       "    <tr>\n",
       "      <td>4</td>\n",
       "      <td>5.0</td>\n",
       "      <td>3.6</td>\n",
       "      <td>1.4</td>\n",
       "      <td>0.2</td>\n",
       "      <td>setosa</td>\n",
       "    </tr>\n",
       "  </tbody>\n",
       "</table>\n",
       "</div>"
      ],
      "text/plain": [
       "   sepal_length  sepal_width  petal_length  petal_width species\n",
       "0           5.1          3.5           1.4          0.2  setosa\n",
       "1           4.9          3.0           1.4          0.2  setosa\n",
       "2           4.7          3.2           1.3          0.2  setosa\n",
       "3           4.6          3.1           1.5          0.2  setosa\n",
       "4           5.0          3.6           1.4          0.2  setosa"
      ]
     },
     "execution_count": 2,
     "metadata": {},
     "output_type": "execute_result"
    }
   ],
   "source": [
    "iris = sbn.load_dataset('iris')\n",
    "iris.head()"
   ]
  },
  {
   "cell_type": "code",
   "execution_count": 3,
   "metadata": {},
   "outputs": [
    {
     "data": {
      "text/plain": [
       "<pandas.core.groupby.generic.DataFrameGroupBy object at 0x7fa3522fd0d0>"
      ]
     },
     "execution_count": 3,
     "metadata": {},
     "output_type": "execute_result"
    }
   ],
   "source": [
    "# Group iris data by species\n",
    "iris_g = iris.groupby(['species'])\n",
    "iris_g"
   ]
  },
  {
   "cell_type": "code",
   "execution_count": 4,
   "metadata": {},
   "outputs": [
    {
     "name": "stdout",
     "output_type": "stream",
     "text": [
      "setosa \n",
      "=========\n",
      "    sepal_length  sepal_width  petal_length  petal_width species\n",
      "0           5.1          3.5           1.4          0.2  setosa\n",
      "1           4.9          3.0           1.4          0.2  setosa\n",
      "2           4.7          3.2           1.3          0.2  setosa\n",
      "3           4.6          3.1           1.5          0.2  setosa\n",
      "4           5.0          3.6           1.4          0.2  setosa\n",
      "versicolor \n",
      "=========\n",
      "     sepal_length  sepal_width  petal_length  petal_width     species\n",
      "50           7.0          3.2           4.7          1.4  versicolor\n",
      "51           6.4          3.2           4.5          1.5  versicolor\n",
      "52           6.9          3.1           4.9          1.5  versicolor\n",
      "53           5.5          2.3           4.0          1.3  versicolor\n",
      "54           6.5          2.8           4.6          1.5  versicolor\n",
      "virginica \n",
      "=========\n",
      "      sepal_length  sepal_width  petal_length  petal_width    species\n",
      "100           6.3          3.3           6.0          2.5  virginica\n",
      "101           5.8          2.7           5.1          1.9  virginica\n",
      "102           7.1          3.0           5.9          2.1  virginica\n",
      "103           6.3          2.9           5.6          1.8  virginica\n",
      "104           6.5          3.0           5.8          2.2  virginica\n"
     ]
    }
   ],
   "source": [
    "# Iterate over groups and their names (criterion values)\n",
    "for name, group in iris_g:\n",
    "    print(name, \"\\n=========\\n\", group.head())"
   ]
  },
  {
   "cell_type": "code",
   "execution_count": 7,
   "metadata": {},
   "outputs": [
    {
     "data": {
      "text/html": [
       "<div>\n",
       "<style scoped>\n",
       "    .dataframe tbody tr th:only-of-type {\n",
       "        vertical-align: middle;\n",
       "    }\n",
       "\n",
       "    .dataframe tbody tr th {\n",
       "        vertical-align: top;\n",
       "    }\n",
       "\n",
       "    .dataframe thead th {\n",
       "        text-align: right;\n",
       "    }\n",
       "</style>\n",
       "<table border=\"1\" class=\"dataframe\">\n",
       "  <thead>\n",
       "    <tr style=\"text-align: right;\">\n",
       "      <th></th>\n",
       "      <th>sepal_length</th>\n",
       "      <th>sepal_width</th>\n",
       "    </tr>\n",
       "    <tr>\n",
       "      <th>species</th>\n",
       "      <th></th>\n",
       "      <th></th>\n",
       "    </tr>\n",
       "  </thead>\n",
       "  <tbody>\n",
       "    <tr>\n",
       "      <td>setosa</td>\n",
       "      <td>5.006</td>\n",
       "      <td>3.428</td>\n",
       "    </tr>\n",
       "    <tr>\n",
       "      <td>versicolor</td>\n",
       "      <td>5.936</td>\n",
       "      <td>2.770</td>\n",
       "    </tr>\n",
       "    <tr>\n",
       "      <td>virginica</td>\n",
       "      <td>6.588</td>\n",
       "      <td>2.974</td>\n",
       "    </tr>\n",
       "  </tbody>\n",
       "</table>\n",
       "</div>"
      ],
      "text/plain": [
       "            sepal_length  sepal_width\n",
       "species                              \n",
       "setosa             5.006        3.428\n",
       "versicolor         5.936        2.770\n",
       "virginica          6.588        2.974"
      ]
     },
     "execution_count": 7,
     "metadata": {},
     "output_type": "execute_result"
    }
   ],
   "source": [
    "# Compute group means\n",
    "iris.groupby('species')[['sepal_length', 'sepal_width']].mean()"
   ]
  },
  {
   "cell_type": "code",
   "execution_count": 8,
   "metadata": {},
   "outputs": [
    {
     "data": {
      "text/html": [
       "<div>\n",
       "<style scoped>\n",
       "    .dataframe tbody tr th:only-of-type {\n",
       "        vertical-align: middle;\n",
       "    }\n",
       "\n",
       "    .dataframe tbody tr th {\n",
       "        vertical-align: top;\n",
       "    }\n",
       "\n",
       "    .dataframe thead th {\n",
       "        text-align: right;\n",
       "    }\n",
       "</style>\n",
       "<table border=\"1\" class=\"dataframe\">\n",
       "  <thead>\n",
       "    <tr style=\"text-align: right;\">\n",
       "      <th></th>\n",
       "      <th>sepal_length</th>\n",
       "      <th>sepal_width</th>\n",
       "      <th>petal_length</th>\n",
       "      <th>petal_width</th>\n",
       "    </tr>\n",
       "    <tr>\n",
       "      <th>species</th>\n",
       "      <th></th>\n",
       "      <th></th>\n",
       "      <th></th>\n",
       "      <th></th>\n",
       "    </tr>\n",
       "  </thead>\n",
       "  <tbody>\n",
       "    <tr>\n",
       "      <td>setosa</td>\n",
       "      <td>5.006</td>\n",
       "      <td>3.428</td>\n",
       "      <td>1.462</td>\n",
       "      <td>0.246</td>\n",
       "    </tr>\n",
       "    <tr>\n",
       "      <td>versicolor</td>\n",
       "      <td>5.936</td>\n",
       "      <td>2.770</td>\n",
       "      <td>4.260</td>\n",
       "      <td>1.326</td>\n",
       "    </tr>\n",
       "    <tr>\n",
       "      <td>virginica</td>\n",
       "      <td>6.588</td>\n",
       "      <td>2.974</td>\n",
       "      <td>5.552</td>\n",
       "      <td>2.026</td>\n",
       "    </tr>\n",
       "  </tbody>\n",
       "</table>\n",
       "</div>"
      ],
      "text/plain": [
       "            sepal_length  sepal_width  petal_length  petal_width\n",
       "species                                                         \n",
       "setosa             5.006        3.428         1.462        0.246\n",
       "versicolor         5.936        2.770         4.260        1.326\n",
       "virginica          6.588        2.974         5.552        2.026"
      ]
     },
     "execution_count": 8,
     "metadata": {},
     "output_type": "execute_result"
    },
    {
     "data": {
      "text/html": [
       "<div>\n",
       "<style scoped>\n",
       "    .dataframe tbody tr th:only-of-type {\n",
       "        vertical-align: middle;\n",
       "    }\n",
       "\n",
       "    .dataframe tbody tr th {\n",
       "        vertical-align: top;\n",
       "    }\n",
       "\n",
       "    .dataframe thead th {\n",
       "        text-align: right;\n",
       "    }\n",
       "</style>\n",
       "<table border=\"1\" class=\"dataframe\">\n",
       "  <thead>\n",
       "    <tr style=\"text-align: right;\">\n",
       "      <th></th>\n",
       "      <th>sepal_length</th>\n",
       "      <th>sepal_width</th>\n",
       "      <th>petal_length</th>\n",
       "      <th>petal_width</th>\n",
       "    </tr>\n",
       "    <tr>\n",
       "      <th>species</th>\n",
       "      <th></th>\n",
       "      <th></th>\n",
       "      <th></th>\n",
       "      <th></th>\n",
       "    </tr>\n",
       "  </thead>\n",
       "  <tbody>\n",
       "    <tr>\n",
       "      <td>setosa</td>\n",
       "      <td>5.006</td>\n",
       "      <td>3.428</td>\n",
       "      <td>1.462</td>\n",
       "      <td>0.246</td>\n",
       "    </tr>\n",
       "    <tr>\n",
       "      <td>versicolor</td>\n",
       "      <td>5.936</td>\n",
       "      <td>2.770</td>\n",
       "      <td>4.260</td>\n",
       "      <td>1.326</td>\n",
       "    </tr>\n",
       "    <tr>\n",
       "      <td>virginica</td>\n",
       "      <td>6.588</td>\n",
       "      <td>2.974</td>\n",
       "      <td>5.552</td>\n",
       "      <td>2.026</td>\n",
       "    </tr>\n",
       "  </tbody>\n",
       "</table>\n",
       "</div>"
      ],
      "text/plain": [
       "            sepal_length  sepal_width  petal_length  petal_width\n",
       "species                                                         \n",
       "setosa             5.006        3.428         1.462        0.246\n",
       "versicolor         5.936        2.770         4.260        1.326\n",
       "virginica          6.588        2.974         5.552        2.026"
      ]
     },
     "execution_count": 8,
     "metadata": {},
     "output_type": "execute_result"
    }
   ],
   "source": [
    "# Standard functions like mean can be used with even simpler syntax\n",
    "iris.groupby('species').apply(np.mean)\n",
    "iris.groupby('species').mean()"
   ]
  },
  {
   "cell_type": "code",
   "execution_count": 9,
   "metadata": {},
   "outputs": [
    {
     "data": {
      "text/html": [
       "<div>\n",
       "<style scoped>\n",
       "    .dataframe tbody tr th:only-of-type {\n",
       "        vertical-align: middle;\n",
       "    }\n",
       "\n",
       "    .dataframe tbody tr th {\n",
       "        vertical-align: top;\n",
       "    }\n",
       "\n",
       "    .dataframe thead th {\n",
       "        text-align: right;\n",
       "    }\n",
       "</style>\n",
       "<table border=\"1\" class=\"dataframe\">\n",
       "  <thead>\n",
       "    <tr style=\"text-align: right;\">\n",
       "      <th></th>\n",
       "      <th>0</th>\n",
       "      <th>1</th>\n",
       "    </tr>\n",
       "  </thead>\n",
       "  <tbody>\n",
       "    <tr>\n",
       "      <td>0</td>\n",
       "      <td>0.562355</td>\n",
       "      <td>1.282140</td>\n",
       "    </tr>\n",
       "    <tr>\n",
       "      <td>1</td>\n",
       "      <td>0.637496</td>\n",
       "      <td>0.420877</td>\n",
       "    </tr>\n",
       "    <tr>\n",
       "      <td>2</td>\n",
       "      <td>0.421389</td>\n",
       "      <td>0.069464</td>\n",
       "    </tr>\n",
       "    <tr>\n",
       "      <td>3</td>\n",
       "      <td>-1.731148</td>\n",
       "      <td>-0.741192</td>\n",
       "    </tr>\n",
       "    <tr>\n",
       "      <td>4</td>\n",
       "      <td>0.744750</td>\n",
       "      <td>1.247917</td>\n",
       "    </tr>\n",
       "    <tr>\n",
       "      <td>5</td>\n",
       "      <td>0.519337</td>\n",
       "      <td>0.779500</td>\n",
       "    </tr>\n",
       "    <tr>\n",
       "      <td>6</td>\n",
       "      <td>-0.728858</td>\n",
       "      <td>0.389885</td>\n",
       "    </tr>\n",
       "    <tr>\n",
       "      <td>7</td>\n",
       "      <td>-0.414017</td>\n",
       "      <td>-1.580326</td>\n",
       "    </tr>\n",
       "    <tr>\n",
       "      <td>8</td>\n",
       "      <td>1.331479</td>\n",
       "      <td>-1.114717</td>\n",
       "    </tr>\n",
       "    <tr>\n",
       "      <td>9</td>\n",
       "      <td>-1.342784</td>\n",
       "      <td>-0.753548</td>\n",
       "    </tr>\n",
       "  </tbody>\n",
       "</table>\n",
       "</div>"
      ],
      "text/plain": [
       "          0         1\n",
       "0  0.562355  1.282140\n",
       "1  0.637496  0.420877\n",
       "2  0.421389  0.069464\n",
       "3 -1.731148 -0.741192\n",
       "4  0.744750  1.247917\n",
       "5  0.519337  0.779500\n",
       "6 -0.728858  0.389885\n",
       "7 -0.414017 -1.580326\n",
       "8  1.331479 -1.114717\n",
       "9 -1.342784 -0.753548"
      ]
     },
     "execution_count": 9,
     "metadata": {},
     "output_type": "execute_result"
    }
   ],
   "source": [
    "df = pd.DataFrame(np.random.normal(100, 15, (10, 2)))\n",
    "(df - df.mean()) / df.std()"
   ]
  },
  {
   "cell_type": "code",
   "execution_count": 17,
   "metadata": {},
   "outputs": [
    {
     "data": {
      "text/html": [
       "<div>\n",
       "<style scoped>\n",
       "    .dataframe tbody tr th:only-of-type {\n",
       "        vertical-align: middle;\n",
       "    }\n",
       "\n",
       "    .dataframe tbody tr th {\n",
       "        vertical-align: top;\n",
       "    }\n",
       "\n",
       "    .dataframe thead th {\n",
       "        text-align: right;\n",
       "    }\n",
       "</style>\n",
       "<table border=\"1\" class=\"dataframe\">\n",
       "  <thead>\n",
       "    <tr style=\"text-align: right;\">\n",
       "      <th></th>\n",
       "      <th>petal_length</th>\n",
       "      <th>petal_width</th>\n",
       "      <th>sepal_length</th>\n",
       "      <th>sepal_width</th>\n",
       "      <th>species</th>\n",
       "    </tr>\n",
       "  </thead>\n",
       "  <tbody>\n",
       "    <tr>\n",
       "      <td>0</td>\n",
       "      <td>-0.357011</td>\n",
       "      <td>-0.436492</td>\n",
       "      <td>0.266674</td>\n",
       "      <td>0.189941</td>\n",
       "      <td>setosa</td>\n",
       "    </tr>\n",
       "    <tr>\n",
       "      <td>1</td>\n",
       "      <td>-0.357011</td>\n",
       "      <td>-0.436492</td>\n",
       "      <td>-0.300718</td>\n",
       "      <td>-1.129096</td>\n",
       "      <td>setosa</td>\n",
       "    </tr>\n",
       "    <tr>\n",
       "      <td>2</td>\n",
       "      <td>-0.932836</td>\n",
       "      <td>-0.436492</td>\n",
       "      <td>-0.868111</td>\n",
       "      <td>-0.601481</td>\n",
       "      <td>setosa</td>\n",
       "    </tr>\n",
       "    <tr>\n",
       "      <td>3</td>\n",
       "      <td>0.218813</td>\n",
       "      <td>-0.436492</td>\n",
       "      <td>-1.151807</td>\n",
       "      <td>-0.865288</td>\n",
       "      <td>setosa</td>\n",
       "    </tr>\n",
       "    <tr>\n",
       "      <td>4</td>\n",
       "      <td>-0.357011</td>\n",
       "      <td>-0.436492</td>\n",
       "      <td>-0.017022</td>\n",
       "      <td>0.453749</td>\n",
       "      <td>setosa</td>\n",
       "    </tr>\n",
       "    <tr>\n",
       "      <td>...</td>\n",
       "      <td>...</td>\n",
       "      <td>...</td>\n",
       "      <td>...</td>\n",
       "      <td>...</td>\n",
       "      <td>...</td>\n",
       "    </tr>\n",
       "    <tr>\n",
       "      <td>145</td>\n",
       "      <td>-0.637803</td>\n",
       "      <td>0.997633</td>\n",
       "      <td>0.176134</td>\n",
       "      <td>0.080621</td>\n",
       "      <td>virginica</td>\n",
       "    </tr>\n",
       "    <tr>\n",
       "      <td>146</td>\n",
       "      <td>-1.000191</td>\n",
       "      <td>-0.458766</td>\n",
       "      <td>-0.452916</td>\n",
       "      <td>-1.469783</td>\n",
       "      <td>virginica</td>\n",
       "    </tr>\n",
       "    <tr>\n",
       "      <td>147</td>\n",
       "      <td>-0.637803</td>\n",
       "      <td>-0.094666</td>\n",
       "      <td>-0.138391</td>\n",
       "      <td>0.080621</td>\n",
       "      <td>virginica</td>\n",
       "    </tr>\n",
       "    <tr>\n",
       "      <td>148</td>\n",
       "      <td>-0.275415</td>\n",
       "      <td>0.997633</td>\n",
       "      <td>-0.610178</td>\n",
       "      <td>1.320944</td>\n",
       "      <td>virginica</td>\n",
       "    </tr>\n",
       "    <tr>\n",
       "      <td>149</td>\n",
       "      <td>-0.818997</td>\n",
       "      <td>-0.822865</td>\n",
       "      <td>-1.081966</td>\n",
       "      <td>0.080621</td>\n",
       "      <td>virginica</td>\n",
       "    </tr>\n",
       "  </tbody>\n",
       "</table>\n",
       "<p>150 rows × 5 columns</p>\n",
       "</div>"
      ],
      "text/plain": [
       "     petal_length  petal_width  sepal_length  sepal_width    species\n",
       "0       -0.357011    -0.436492      0.266674     0.189941     setosa\n",
       "1       -0.357011    -0.436492     -0.300718    -1.129096     setosa\n",
       "2       -0.932836    -0.436492     -0.868111    -0.601481     setosa\n",
       "3        0.218813    -0.436492     -1.151807    -0.865288     setosa\n",
       "4       -0.357011    -0.436492     -0.017022     0.453749     setosa\n",
       "..            ...          ...           ...          ...        ...\n",
       "145     -0.637803     0.997633      0.176134     0.080621  virginica\n",
       "146     -1.000191    -0.458766     -0.452916    -1.469783  virginica\n",
       "147     -0.637803    -0.094666     -0.138391     0.080621  virginica\n",
       "148     -0.275415     0.997633     -0.610178     1.320944  virginica\n",
       "149     -0.818997    -0.822865     -1.081966     0.080621  virginica\n",
       "\n",
       "[150 rows x 5 columns]"
      ]
     },
     "execution_count": 17,
     "metadata": {},
     "output_type": "execute_result"
    }
   ],
   "source": [
    "# We can also use apply and transform methods with groupyby\n",
    "#\n",
    "iris = sbn.load_dataset('iris')\n",
    "# Below we standardize numeric variables in groups\n",
    "z = iris \\\n",
    "    .groupby('species') \\\n",
    "    .apply(lambda x: (x - x.mean()) / x.std()) \\\n",
    "    .combine_first(iris)\n",
    "\n",
    "z"
   ]
  },
  {
   "cell_type": "code",
   "execution_count": 18,
   "metadata": {},
   "outputs": [
    {
     "data": {
      "text/html": [
       "<div>\n",
       "<style scoped>\n",
       "    .dataframe tbody tr th:only-of-type {\n",
       "        vertical-align: middle;\n",
       "    }\n",
       "\n",
       "    .dataframe tbody tr th {\n",
       "        vertical-align: top;\n",
       "    }\n",
       "\n",
       "    .dataframe thead tr th {\n",
       "        text-align: left;\n",
       "    }\n",
       "\n",
       "    .dataframe thead tr:last-of-type th {\n",
       "        text-align: right;\n",
       "    }\n",
       "</style>\n",
       "<table border=\"1\" class=\"dataframe\">\n",
       "  <thead>\n",
       "    <tr>\n",
       "      <th></th>\n",
       "      <th colspan=\"2\" halign=\"left\">petal_length</th>\n",
       "      <th colspan=\"2\" halign=\"left\">petal_width</th>\n",
       "      <th colspan=\"2\" halign=\"left\">sepal_length</th>\n",
       "      <th colspan=\"2\" halign=\"left\">sepal_width</th>\n",
       "    </tr>\n",
       "    <tr>\n",
       "      <th></th>\n",
       "      <th>mean</th>\n",
       "      <th>var</th>\n",
       "      <th>mean</th>\n",
       "      <th>var</th>\n",
       "      <th>mean</th>\n",
       "      <th>var</th>\n",
       "      <th>mean</th>\n",
       "      <th>var</th>\n",
       "    </tr>\n",
       "    <tr>\n",
       "      <th>species</th>\n",
       "      <th></th>\n",
       "      <th></th>\n",
       "      <th></th>\n",
       "      <th></th>\n",
       "      <th></th>\n",
       "      <th></th>\n",
       "      <th></th>\n",
       "      <th></th>\n",
       "    </tr>\n",
       "  </thead>\n",
       "  <tbody>\n",
       "    <tr>\n",
       "      <td>setosa</td>\n",
       "      <td>-1.167955e-15</td>\n",
       "      <td>1.0</td>\n",
       "      <td>9.281464e-16</td>\n",
       "      <td>1.0</td>\n",
       "      <td>1.845399e-15</td>\n",
       "      <td>1.0</td>\n",
       "      <td>-2.167155e-15</td>\n",
       "      <td>1.0</td>\n",
       "    </tr>\n",
       "    <tr>\n",
       "      <td>versicolor</td>\n",
       "      <td>4.196643e-16</td>\n",
       "      <td>1.0</td>\n",
       "      <td>8.204548e-16</td>\n",
       "      <td>1.0</td>\n",
       "      <td>1.143530e-16</td>\n",
       "      <td>1.0</td>\n",
       "      <td>-1.486589e-15</td>\n",
       "      <td>1.0</td>\n",
       "    </tr>\n",
       "    <tr>\n",
       "      <td>virginica</td>\n",
       "      <td>6.528111e-16</td>\n",
       "      <td>1.0</td>\n",
       "      <td>6.417089e-16</td>\n",
       "      <td>1.0</td>\n",
       "      <td>2.748912e-15</td>\n",
       "      <td>1.0</td>\n",
       "      <td>7.280287e-16</td>\n",
       "      <td>1.0</td>\n",
       "    </tr>\n",
       "  </tbody>\n",
       "</table>\n",
       "</div>"
      ],
      "text/plain": [
       "            petal_length        petal_width       sepal_length       \\\n",
       "                    mean  var          mean  var          mean  var   \n",
       "species                                                               \n",
       "setosa     -1.167955e-15  1.0  9.281464e-16  1.0  1.845399e-15  1.0   \n",
       "versicolor  4.196643e-16  1.0  8.204548e-16  1.0  1.143530e-16  1.0   \n",
       "virginica   6.528111e-16  1.0  6.417089e-16  1.0  2.748912e-15  1.0   \n",
       "\n",
       "             sepal_width       \n",
       "                    mean  var  \n",
       "species                        \n",
       "setosa     -2.167155e-15  1.0  \n",
       "versicolor -1.486589e-15  1.0  \n",
       "virginica   7.280287e-16  1.0  "
      ]
     },
     "execution_count": 18,
     "metadata": {},
     "output_type": "execute_result"
    }
   ],
   "source": [
    "# Check solution\n",
    "z.groupby('species').agg([np.mean, np.var])"
   ]
  },
  {
   "cell_type": "code",
   "execution_count": 19,
   "metadata": {},
   "outputs": [
    {
     "data": {
      "text/plain": [
       "petal_length   -3.108624e-17\n",
       "petal_width     8.060219e-16\n",
       "sepal_length    1.567635e-15\n",
       "sepal_width    -9.770888e-16\n",
       "dtype: float64"
      ]
     },
     "execution_count": 19,
     "metadata": {},
     "output_type": "execute_result"
    },
    {
     "data": {
      "text/plain": [
       "petal_length    0.993266\n",
       "petal_width     0.993266\n",
       "sepal_length    0.993266\n",
       "sepal_width     0.993266\n",
       "dtype: float64"
      ]
     },
     "execution_count": 19,
     "metadata": {},
     "output_type": "execute_result"
    }
   ],
   "source": [
    "z.mean(0)\n",
    "z.std(0)"
   ]
  },
  {
   "cell_type": "code",
   "execution_count": 21,
   "metadata": {},
   "outputs": [
    {
     "data": {
      "text/plain": [
       "species         \n",
       "setosa      0.00    4.300\n",
       "            0.25    4.800\n",
       "            0.50    5.000\n",
       "            0.75    5.200\n",
       "            1.00    5.800\n",
       "versicolor  0.00    4.900\n",
       "            0.25    5.600\n",
       "            0.50    5.900\n",
       "            0.75    6.300\n",
       "            1.00    7.000\n",
       "virginica   0.00    4.900\n",
       "            0.25    6.225\n",
       "            0.50    6.500\n",
       "            0.75    6.900\n",
       "            1.00    7.900\n",
       "Name: sepal_length, dtype: float64"
      ]
     },
     "execution_count": 21,
     "metadata": {},
     "output_type": "execute_result"
    }
   ],
   "source": [
    "# We may use just a subset of columns\n",
    "Q = iris.groupby('species')['sepal_length'] \\\n",
    "    .apply(lambda x: x.quantile([0, .25, .5, .75, 1]))\n",
    "Q"
   ]
  },
  {
   "cell_type": "code",
   "execution_count": 22,
   "metadata": {},
   "outputs": [
    {
     "data": {
      "text/html": [
       "<div>\n",
       "<style scoped>\n",
       "    .dataframe tbody tr th:only-of-type {\n",
       "        vertical-align: middle;\n",
       "    }\n",
       "\n",
       "    .dataframe tbody tr th {\n",
       "        vertical-align: top;\n",
       "    }\n",
       "\n",
       "    .dataframe thead tr th {\n",
       "        text-align: left;\n",
       "    }\n",
       "\n",
       "    .dataframe thead tr:last-of-type th {\n",
       "        text-align: right;\n",
       "    }\n",
       "</style>\n",
       "<table border=\"1\" class=\"dataframe\">\n",
       "  <thead>\n",
       "    <tr>\n",
       "      <th></th>\n",
       "      <th colspan=\"2\" halign=\"left\">sepal_length</th>\n",
       "      <th colspan=\"2\" halign=\"left\">petal_length</th>\n",
       "      <th>species</th>\n",
       "    </tr>\n",
       "    <tr>\n",
       "      <th></th>\n",
       "      <th>mean</th>\n",
       "      <th>std</th>\n",
       "      <th>mean</th>\n",
       "      <th>var</th>\n",
       "      <th>nunique</th>\n",
       "    </tr>\n",
       "    <tr>\n",
       "      <th>species</th>\n",
       "      <th></th>\n",
       "      <th></th>\n",
       "      <th></th>\n",
       "      <th></th>\n",
       "      <th></th>\n",
       "    </tr>\n",
       "  </thead>\n",
       "  <tbody>\n",
       "    <tr>\n",
       "      <td>setosa</td>\n",
       "      <td>5.006</td>\n",
       "      <td>0.352490</td>\n",
       "      <td>1.462</td>\n",
       "      <td>0.030159</td>\n",
       "      <td>1</td>\n",
       "    </tr>\n",
       "    <tr>\n",
       "      <td>versicolor</td>\n",
       "      <td>5.936</td>\n",
       "      <td>0.516171</td>\n",
       "      <td>4.260</td>\n",
       "      <td>0.220816</td>\n",
       "      <td>1</td>\n",
       "    </tr>\n",
       "    <tr>\n",
       "      <td>virginica</td>\n",
       "      <td>6.588</td>\n",
       "      <td>0.635880</td>\n",
       "      <td>5.552</td>\n",
       "      <td>0.304588</td>\n",
       "      <td>1</td>\n",
       "    </tr>\n",
       "  </tbody>\n",
       "</table>\n",
       "</div>"
      ],
      "text/plain": [
       "           sepal_length           petal_length           species\n",
       "                   mean       std         mean       var nunique\n",
       "species                                                         \n",
       "setosa            5.006  0.352490        1.462  0.030159       1\n",
       "versicolor        5.936  0.516171        4.260  0.220816       1\n",
       "virginica         6.588  0.635880        5.552  0.304588       1"
      ]
     },
     "execution_count": 22,
     "metadata": {},
     "output_type": "execute_result"
    }
   ],
   "source": [
    "# And apply different functions to different columns\n",
    "iris.groupby('species').agg({\n",
    "    'sepal_length': [np.mean, np.std],\n",
    "    'petal_length': [np.mean, np.var],\n",
    "    'species': ['nunique']\n",
    "})"
   ]
  },
  {
   "cell_type": "code",
   "execution_count": 23,
   "metadata": {},
   "outputs": [
    {
     "data": {
      "text/plain": [
       "species\n",
       "setosa        50\n",
       "versicolor    50\n",
       "virginica     50\n",
       "dtype: int64"
      ]
     },
     "execution_count": 23,
     "metadata": {},
     "output_type": "execute_result"
    }
   ],
   "source": [
    "# Of course we can also ask for group sizes\n",
    "iris.groupby('species').size()"
   ]
  },
  {
   "cell_type": "markdown",
   "metadata": {},
   "source": [
    "All the methods above are useful but fall short when we need to perform complex computations depending on multiple\n",
    "columns in groups. Luckily, there is a trick that we can use while using the `.apply()` method that allows us\n",
    "to define arbitrary group computations using multiple columns as well as any other values we may need.\n",
    "\n",
    "Below we compute average of ratios of sepal / petal lengths and widths in groups."
   ]
  },
  {
   "cell_type": "code",
   "execution_count": 24,
   "metadata": {},
   "outputs": [
    {
     "data": {
      "text/html": [
       "<div>\n",
       "<style scoped>\n",
       "    .dataframe tbody tr th:only-of-type {\n",
       "        vertical-align: middle;\n",
       "    }\n",
       "\n",
       "    .dataframe tbody tr th {\n",
       "        vertical-align: top;\n",
       "    }\n",
       "\n",
       "    .dataframe thead th {\n",
       "        text-align: right;\n",
       "    }\n",
       "</style>\n",
       "<table border=\"1\" class=\"dataframe\">\n",
       "  <thead>\n",
       "    <tr style=\"text-align: right;\">\n",
       "      <th></th>\n",
       "      <th>sepal</th>\n",
       "      <th>petal</th>\n",
       "    </tr>\n",
       "    <tr>\n",
       "      <th>species</th>\n",
       "      <th></th>\n",
       "      <th></th>\n",
       "    </tr>\n",
       "  </thead>\n",
       "  <tbody>\n",
       "    <tr>\n",
       "      <td>setosa</td>\n",
       "      <td>1.470188</td>\n",
       "      <td>6.908000</td>\n",
       "    </tr>\n",
       "    <tr>\n",
       "      <td>versicolor</td>\n",
       "      <td>2.160402</td>\n",
       "      <td>3.242837</td>\n",
       "    </tr>\n",
       "    <tr>\n",
       "      <td>virginica</td>\n",
       "      <td>2.230453</td>\n",
       "      <td>2.780662</td>\n",
       "    </tr>\n",
       "  </tbody>\n",
       "</table>\n",
       "</div>"
      ],
      "text/plain": [
       "               sepal     petal\n",
       "species                       \n",
       "setosa      1.470188  6.908000\n",
       "versicolor  2.160402  3.242837\n",
       "virginica   2.230453  2.780662"
      ]
     },
     "execution_count": 24,
     "metadata": {},
     "output_type": "execute_result"
    }
   ],
   "source": [
    "iris.groupby('species') \\\n",
    "    .apply(lambda g: pd.Series({\n",
    "        'sepal': (g['sepal_length'] / g['sepal_width']).mean(),\n",
    "        'petal': (g['petal_length'] / g['petal_width']).mean()\n",
    "}))"
   ]
  },
  {
   "cell_type": "markdown",
   "metadata": {},
   "source": [
    "Of course it is also possible to group by multiple columns.\n",
    "\n",
    "Below we show it using a famous dataset about Titanic survivors and casualties."
   ]
  },
  {
   "cell_type": "code",
   "execution_count": 25,
   "metadata": {},
   "outputs": [
    {
     "data": {
      "text/html": [
       "<div>\n",
       "<style scoped>\n",
       "    .dataframe tbody tr th:only-of-type {\n",
       "        vertical-align: middle;\n",
       "    }\n",
       "\n",
       "    .dataframe tbody tr th {\n",
       "        vertical-align: top;\n",
       "    }\n",
       "\n",
       "    .dataframe thead th {\n",
       "        text-align: right;\n",
       "    }\n",
       "</style>\n",
       "<table border=\"1\" class=\"dataframe\">\n",
       "  <thead>\n",
       "    <tr style=\"text-align: right;\">\n",
       "      <th></th>\n",
       "      <th>survived</th>\n",
       "      <th>pclass</th>\n",
       "      <th>sex</th>\n",
       "      <th>age</th>\n",
       "      <th>sibsp</th>\n",
       "      <th>parch</th>\n",
       "      <th>fare</th>\n",
       "      <th>embarked</th>\n",
       "      <th>class</th>\n",
       "      <th>who</th>\n",
       "      <th>adult_male</th>\n",
       "      <th>deck</th>\n",
       "      <th>embark_town</th>\n",
       "      <th>alive</th>\n",
       "      <th>alone</th>\n",
       "    </tr>\n",
       "  </thead>\n",
       "  <tbody>\n",
       "    <tr>\n",
       "      <td>0</td>\n",
       "      <td>0</td>\n",
       "      <td>3</td>\n",
       "      <td>male</td>\n",
       "      <td>22.0</td>\n",
       "      <td>1</td>\n",
       "      <td>0</td>\n",
       "      <td>7.2500</td>\n",
       "      <td>S</td>\n",
       "      <td>Third</td>\n",
       "      <td>man</td>\n",
       "      <td>True</td>\n",
       "      <td>NaN</td>\n",
       "      <td>Southampton</td>\n",
       "      <td>no</td>\n",
       "      <td>False</td>\n",
       "    </tr>\n",
       "    <tr>\n",
       "      <td>1</td>\n",
       "      <td>1</td>\n",
       "      <td>1</td>\n",
       "      <td>female</td>\n",
       "      <td>38.0</td>\n",
       "      <td>1</td>\n",
       "      <td>0</td>\n",
       "      <td>71.2833</td>\n",
       "      <td>C</td>\n",
       "      <td>First</td>\n",
       "      <td>woman</td>\n",
       "      <td>False</td>\n",
       "      <td>C</td>\n",
       "      <td>Cherbourg</td>\n",
       "      <td>yes</td>\n",
       "      <td>False</td>\n",
       "    </tr>\n",
       "    <tr>\n",
       "      <td>2</td>\n",
       "      <td>1</td>\n",
       "      <td>3</td>\n",
       "      <td>female</td>\n",
       "      <td>26.0</td>\n",
       "      <td>0</td>\n",
       "      <td>0</td>\n",
       "      <td>7.9250</td>\n",
       "      <td>S</td>\n",
       "      <td>Third</td>\n",
       "      <td>woman</td>\n",
       "      <td>False</td>\n",
       "      <td>NaN</td>\n",
       "      <td>Southampton</td>\n",
       "      <td>yes</td>\n",
       "      <td>True</td>\n",
       "    </tr>\n",
       "    <tr>\n",
       "      <td>3</td>\n",
       "      <td>1</td>\n",
       "      <td>1</td>\n",
       "      <td>female</td>\n",
       "      <td>35.0</td>\n",
       "      <td>1</td>\n",
       "      <td>0</td>\n",
       "      <td>53.1000</td>\n",
       "      <td>S</td>\n",
       "      <td>First</td>\n",
       "      <td>woman</td>\n",
       "      <td>False</td>\n",
       "      <td>C</td>\n",
       "      <td>Southampton</td>\n",
       "      <td>yes</td>\n",
       "      <td>False</td>\n",
       "    </tr>\n",
       "    <tr>\n",
       "      <td>4</td>\n",
       "      <td>0</td>\n",
       "      <td>3</td>\n",
       "      <td>male</td>\n",
       "      <td>35.0</td>\n",
       "      <td>0</td>\n",
       "      <td>0</td>\n",
       "      <td>8.0500</td>\n",
       "      <td>S</td>\n",
       "      <td>Third</td>\n",
       "      <td>man</td>\n",
       "      <td>True</td>\n",
       "      <td>NaN</td>\n",
       "      <td>Southampton</td>\n",
       "      <td>no</td>\n",
       "      <td>True</td>\n",
       "    </tr>\n",
       "  </tbody>\n",
       "</table>\n",
       "</div>"
      ],
      "text/plain": [
       "   survived  pclass     sex   age  sibsp  parch     fare embarked  class  \\\n",
       "0         0       3    male  22.0      1      0   7.2500        S  Third   \n",
       "1         1       1  female  38.0      1      0  71.2833        C  First   \n",
       "2         1       3  female  26.0      0      0   7.9250        S  Third   \n",
       "3         1       1  female  35.0      1      0  53.1000        S  First   \n",
       "4         0       3    male  35.0      0      0   8.0500        S  Third   \n",
       "\n",
       "     who  adult_male deck  embark_town alive  alone  \n",
       "0    man        True  NaN  Southampton    no  False  \n",
       "1  woman       False    C    Cherbourg   yes  False  \n",
       "2  woman       False  NaN  Southampton   yes   True  \n",
       "3  woman       False    C  Southampton   yes  False  \n",
       "4    man        True  NaN  Southampton    no   True  "
      ]
     },
     "execution_count": 25,
     "metadata": {},
     "output_type": "execute_result"
    }
   ],
   "source": [
    "titanic = sbn.load_dataset('titanic')\n",
    "titanic.head()"
   ]
  },
  {
   "cell_type": "code",
   "execution_count": 38,
   "metadata": {},
   "outputs": [
    {
     "data": {
      "text/plain": [
       "class   embark_town\n",
       "First   Cherbourg       85\n",
       "        Queenstown       2\n",
       "        Southampton    127\n",
       "Second  Cherbourg       17\n",
       "        Queenstown       3\n",
       "        Southampton    164\n",
       "Third   Cherbourg       66\n",
       "        Queenstown      72\n",
       "        Southampton    353\n",
       "dtype: int64"
      ]
     },
     "execution_count": 38,
     "metadata": {},
     "output_type": "execute_result"
    }
   ],
   "source": [
    "titanic.groupby(['class', 'embark_town']).size()"
   ]
  },
  {
   "cell_type": "markdown",
   "metadata": {},
   "source": [
    "### `DataFrame` | Exercise 6.\n",
    "\n",
    "Check how class and gender correlated with chance of survival in Titanic.\n",
    "\n",
    "HINT. Use `groupby` (duh!)\n",
    "\n",
    "HINT2. Note that the variable `survived` is simple binary vector, so you can compute its mean."
   ]
  },
  {
   "cell_type": "code",
   "execution_count": 27,
   "metadata": {},
   "outputs": [
    {
     "data": {
      "text/html": [
       "<div>\n",
       "<style scoped>\n",
       "    .dataframe tbody tr th:only-of-type {\n",
       "        vertical-align: middle;\n",
       "    }\n",
       "\n",
       "    .dataframe tbody tr th {\n",
       "        vertical-align: top;\n",
       "    }\n",
       "\n",
       "    .dataframe thead th {\n",
       "        text-align: right;\n",
       "    }\n",
       "</style>\n",
       "<table border=\"1\" class=\"dataframe\">\n",
       "  <thead>\n",
       "    <tr style=\"text-align: right;\">\n",
       "      <th></th>\n",
       "      <th>survived</th>\n",
       "      <th>pclass</th>\n",
       "      <th>sex</th>\n",
       "      <th>age</th>\n",
       "      <th>sibsp</th>\n",
       "      <th>parch</th>\n",
       "      <th>fare</th>\n",
       "      <th>embarked</th>\n",
       "      <th>class</th>\n",
       "      <th>who</th>\n",
       "      <th>adult_male</th>\n",
       "      <th>deck</th>\n",
       "      <th>embark_town</th>\n",
       "      <th>alive</th>\n",
       "      <th>alone</th>\n",
       "    </tr>\n",
       "  </thead>\n",
       "  <tbody>\n",
       "    <tr>\n",
       "      <td>0</td>\n",
       "      <td>0</td>\n",
       "      <td>3</td>\n",
       "      <td>male</td>\n",
       "      <td>22.0</td>\n",
       "      <td>1</td>\n",
       "      <td>0</td>\n",
       "      <td>7.2500</td>\n",
       "      <td>S</td>\n",
       "      <td>Third</td>\n",
       "      <td>man</td>\n",
       "      <td>True</td>\n",
       "      <td>NaN</td>\n",
       "      <td>Southampton</td>\n",
       "      <td>no</td>\n",
       "      <td>False</td>\n",
       "    </tr>\n",
       "    <tr>\n",
       "      <td>1</td>\n",
       "      <td>1</td>\n",
       "      <td>1</td>\n",
       "      <td>female</td>\n",
       "      <td>38.0</td>\n",
       "      <td>1</td>\n",
       "      <td>0</td>\n",
       "      <td>71.2833</td>\n",
       "      <td>C</td>\n",
       "      <td>First</td>\n",
       "      <td>woman</td>\n",
       "      <td>False</td>\n",
       "      <td>C</td>\n",
       "      <td>Cherbourg</td>\n",
       "      <td>yes</td>\n",
       "      <td>False</td>\n",
       "    </tr>\n",
       "    <tr>\n",
       "      <td>2</td>\n",
       "      <td>1</td>\n",
       "      <td>3</td>\n",
       "      <td>female</td>\n",
       "      <td>26.0</td>\n",
       "      <td>0</td>\n",
       "      <td>0</td>\n",
       "      <td>7.9250</td>\n",
       "      <td>S</td>\n",
       "      <td>Third</td>\n",
       "      <td>woman</td>\n",
       "      <td>False</td>\n",
       "      <td>NaN</td>\n",
       "      <td>Southampton</td>\n",
       "      <td>yes</td>\n",
       "      <td>True</td>\n",
       "    </tr>\n",
       "    <tr>\n",
       "      <td>3</td>\n",
       "      <td>1</td>\n",
       "      <td>1</td>\n",
       "      <td>female</td>\n",
       "      <td>35.0</td>\n",
       "      <td>1</td>\n",
       "      <td>0</td>\n",
       "      <td>53.1000</td>\n",
       "      <td>S</td>\n",
       "      <td>First</td>\n",
       "      <td>woman</td>\n",
       "      <td>False</td>\n",
       "      <td>C</td>\n",
       "      <td>Southampton</td>\n",
       "      <td>yes</td>\n",
       "      <td>False</td>\n",
       "    </tr>\n",
       "    <tr>\n",
       "      <td>4</td>\n",
       "      <td>0</td>\n",
       "      <td>3</td>\n",
       "      <td>male</td>\n",
       "      <td>35.0</td>\n",
       "      <td>0</td>\n",
       "      <td>0</td>\n",
       "      <td>8.0500</td>\n",
       "      <td>S</td>\n",
       "      <td>Third</td>\n",
       "      <td>man</td>\n",
       "      <td>True</td>\n",
       "      <td>NaN</td>\n",
       "      <td>Southampton</td>\n",
       "      <td>no</td>\n",
       "      <td>True</td>\n",
       "    </tr>\n",
       "  </tbody>\n",
       "</table>\n",
       "</div>"
      ],
      "text/plain": [
       "   survived  pclass     sex   age  sibsp  parch     fare embarked  class  \\\n",
       "0         0       3    male  22.0      1      0   7.2500        S  Third   \n",
       "1         1       1  female  38.0      1      0  71.2833        C  First   \n",
       "2         1       3  female  26.0      0      0   7.9250        S  Third   \n",
       "3         1       1  female  35.0      1      0  53.1000        S  First   \n",
       "4         0       3    male  35.0      0      0   8.0500        S  Third   \n",
       "\n",
       "     who  adult_male deck  embark_town alive  alone  \n",
       "0    man        True  NaN  Southampton    no  False  \n",
       "1  woman       False    C    Cherbourg   yes  False  \n",
       "2  woman       False  NaN  Southampton   yes   True  \n",
       "3  woman       False    C  Southampton   yes  False  \n",
       "4    man        True  NaN  Southampton    no   True  "
      ]
     },
     "execution_count": 27,
     "metadata": {},
     "output_type": "execute_result"
    }
   ],
   "source": [
    "titanic = sbn.load_dataset('titanic')\n",
    "titanic.head()"
   ]
  },
  {
   "cell_type": "markdown",
   "metadata": {},
   "source": [
    "## Index hierarchies aka `MultiIndex`\n",
    "\n",
    "So far we limited our attention to data structures with flat indexes that have only one level and (usually) map one unique\n",
    "index value to one data value. But sometimes we may need something more elaborate. \n",
    "\n",
    "For instance, in one of the exercises we used a simple dataset with multiple exam scores for students."
   ]
  },
  {
   "cell_type": "code",
   "execution_count": 39,
   "metadata": {},
   "outputs": [
    {
     "data": {
      "text/html": [
       "<div>\n",
       "<style scoped>\n",
       "    .dataframe tbody tr th:only-of-type {\n",
       "        vertical-align: middle;\n",
       "    }\n",
       "\n",
       "    .dataframe tbody tr th {\n",
       "        vertical-align: top;\n",
       "    }\n",
       "\n",
       "    .dataframe thead th {\n",
       "        text-align: right;\n",
       "    }\n",
       "</style>\n",
       "<table border=\"1\" class=\"dataframe\">\n",
       "  <thead>\n",
       "    <tr style=\"text-align: right;\">\n",
       "      <th></th>\n",
       "      <th>0</th>\n",
       "      <th>1</th>\n",
       "      <th>2</th>\n",
       "    </tr>\n",
       "  </thead>\n",
       "  <tbody>\n",
       "    <tr>\n",
       "      <td>Alice</td>\n",
       "      <td>61</td>\n",
       "      <td>70</td>\n",
       "      <td>90</td>\n",
       "    </tr>\n",
       "    <tr>\n",
       "      <td>Bob</td>\n",
       "      <td>50</td>\n",
       "      <td>80</td>\n",
       "      <td>91</td>\n",
       "    </tr>\n",
       "    <tr>\n",
       "      <td>Freya</td>\n",
       "      <td>80</td>\n",
       "      <td>90</td>\n",
       "      <td>82</td>\n",
       "    </tr>\n",
       "    <tr>\n",
       "      <td>Merlin</td>\n",
       "      <td>90</td>\n",
       "      <td>100</td>\n",
       "      <td>92</td>\n",
       "    </tr>\n",
       "  </tbody>\n",
       "</table>\n",
       "</div>"
      ],
      "text/plain": [
       "         0    1   2\n",
       "Alice   61   70  90\n",
       "Bob     50   80  91\n",
       "Freya   80   90  82\n",
       "Merlin  90  100  92"
      ]
     },
     "execution_count": 39,
     "metadata": {},
     "output_type": "execute_result"
    }
   ],
   "source": [
    "df = pd.DataFrame([\n",
    "    pd.Series([61, 70, 90], name='Alice'),\n",
    "    pd.Series([50, 80, 91], name='Bob'),\n",
    "    pd.Series([80, 90, 82], name='Freya'),\n",
    "    pd.Series([90, 100, 92], name='Merlin')\n",
    "])\n",
    "df"
   ]
  },
  {
   "cell_type": "markdown",
   "metadata": {},
   "source": [
    "In Pandas we may choose to represent the above data as a series object with two-level index that maps every data value\n",
    "to student name and the exam number."
   ]
  },
  {
   "cell_type": "code",
   "execution_count": 40,
   "metadata": {},
   "outputs": [
    {
     "data": {
      "text/plain": [
       "Alice   0     61\n",
       "        1     70\n",
       "        2     90\n",
       "Bob     0     50\n",
       "        1     80\n",
       "        2     91\n",
       "Freya   0     80\n",
       "        1     90\n",
       "        2     82\n",
       "Merlin  0     90\n",
       "        1    100\n",
       "        2     92\n",
       "dtype: int64"
      ]
     },
     "execution_count": 40,
     "metadata": {},
     "output_type": "execute_result"
    }
   ],
   "source": [
    "s = df.stack()\n",
    "s"
   ]
  },
  {
   "cell_type": "code",
   "execution_count": 41,
   "metadata": {},
   "outputs": [
    {
     "data": {
      "text/plain": [
       "pandas.core.series.Series"
      ]
     },
     "execution_count": 41,
     "metadata": {},
     "output_type": "execute_result"
    }
   ],
   "source": [
    "type(s)"
   ]
  },
  {
   "cell_type": "code",
   "execution_count": 46,
   "metadata": {},
   "outputs": [
    {
     "data": {
      "text/plain": [
       "MultiIndex([( 'Alice', 0),\n",
       "            ( 'Alice', 1),\n",
       "            ( 'Alice', 2),\n",
       "            (   'Bob', 0),\n",
       "            (   'Bob', 1),\n",
       "            (   'Bob', 2),\n",
       "            ( 'Freya', 0),\n",
       "            ( 'Freya', 1),\n",
       "            ( 'Freya', 2),\n",
       "            ('Merlin', 0),\n",
       "            ('Merlin', 1),\n",
       "            ('Merlin', 2)],\n",
       "           )"
      ]
     },
     "execution_count": 46,
     "metadata": {},
     "output_type": "execute_result"
    }
   ],
   "source": [
    "s.index"
   ]
  },
  {
   "cell_type": "markdown",
   "metadata": {},
   "source": [
    "Now we can use both index levels to address particular parts of our data."
   ]
  },
  {
   "cell_type": "code",
   "execution_count": 43,
   "metadata": {},
   "outputs": [
    {
     "data": {
      "text/plain": [
       "0    61\n",
       "1    70\n",
       "2    90\n",
       "dtype: int64"
      ]
     },
     "execution_count": 43,
     "metadata": {},
     "output_type": "execute_result"
    }
   ],
   "source": [
    "s['Alice']"
   ]
  },
  {
   "cell_type": "code",
   "execution_count": 47,
   "metadata": {},
   "outputs": [
    {
     "data": {
      "text/plain": [
       "Alice  0    61\n",
       "       1    70\n",
       "       2    90\n",
       "Bob    0    50\n",
       "       1    80\n",
       "       2    91\n",
       "Freya  0    80\n",
       "       1    90\n",
       "       2    82\n",
       "dtype: int64"
      ]
     },
     "execution_count": 47,
     "metadata": {},
     "output_type": "execute_result"
    }
   ],
   "source": [
    "s['Alice':'Freya']"
   ]
  },
  {
   "cell_type": "markdown",
   "metadata": {},
   "source": [
    "We can also use values on two-levels. We pass it as a tuple."
   ]
  },
  {
   "cell_type": "code",
   "execution_count": 48,
   "metadata": {},
   "outputs": [
    {
     "data": {
      "text/plain": [
       "92"
      ]
     },
     "execution_count": 48,
     "metadata": {},
     "output_type": "execute_result"
    }
   ],
   "source": [
    "s[('Merlin', 2)]"
   ]
  },
  {
   "cell_type": "markdown",
   "metadata": {},
   "source": [
    "Indexing on one of the nested level is a special kind of an operation that is called _cross-sectioning_. \n",
    "We have to use a special method to do this."
   ]
  },
  {
   "cell_type": "code",
   "execution_count": 119,
   "metadata": {},
   "outputs": [
    {
     "data": {
      "text/plain": [
       "Alice     90\n",
       "Bob       91\n",
       "Freya     82\n",
       "Merlin    92\n",
       "dtype: int64"
      ]
     },
     "execution_count": 119,
     "metadata": {},
     "output_type": "execute_result"
    }
   ],
   "source": [
    "# Get scores for second test\n",
    "s.xs(2, level=1)"
   ]
  },
  {
   "cell_type": "markdown",
   "metadata": {},
   "source": [
    "We can also easily convert back and forth between multi index representation and simpler data frame representation."
   ]
  },
  {
   "cell_type": "code",
   "execution_count": 49,
   "metadata": {},
   "outputs": [
    {
     "data": {
      "text/plain": [
       "Alice   0     61\n",
       "        1     70\n",
       "        2     90\n",
       "Bob     0     50\n",
       "        1     80\n",
       "        2     91\n",
       "Freya   0     80\n",
       "        1     90\n",
       "        2     82\n",
       "Merlin  0     90\n",
       "        1    100\n",
       "        2     92\n",
       "dtype: int64"
      ]
     },
     "execution_count": 49,
     "metadata": {},
     "output_type": "execute_result"
    }
   ],
   "source": [
    "s"
   ]
  },
  {
   "cell_type": "code",
   "execution_count": 52,
   "metadata": {},
   "outputs": [
    {
     "data": {
      "text/html": [
       "<div>\n",
       "<style scoped>\n",
       "    .dataframe tbody tr th:only-of-type {\n",
       "        vertical-align: middle;\n",
       "    }\n",
       "\n",
       "    .dataframe tbody tr th {\n",
       "        vertical-align: top;\n",
       "    }\n",
       "\n",
       "    .dataframe thead th {\n",
       "        text-align: right;\n",
       "    }\n",
       "</style>\n",
       "<table border=\"1\" class=\"dataframe\">\n",
       "  <thead>\n",
       "    <tr style=\"text-align: right;\">\n",
       "      <th></th>\n",
       "      <th>name</th>\n",
       "      <th>exam</th>\n",
       "      <th>score</th>\n",
       "    </tr>\n",
       "  </thead>\n",
       "  <tbody>\n",
       "    <tr>\n",
       "      <td>0</td>\n",
       "      <td>Alice</td>\n",
       "      <td>0</td>\n",
       "      <td>61</td>\n",
       "    </tr>\n",
       "    <tr>\n",
       "      <td>1</td>\n",
       "      <td>Alice</td>\n",
       "      <td>1</td>\n",
       "      <td>70</td>\n",
       "    </tr>\n",
       "    <tr>\n",
       "      <td>2</td>\n",
       "      <td>Alice</td>\n",
       "      <td>2</td>\n",
       "      <td>90</td>\n",
       "    </tr>\n",
       "    <tr>\n",
       "      <td>3</td>\n",
       "      <td>Bob</td>\n",
       "      <td>0</td>\n",
       "      <td>50</td>\n",
       "    </tr>\n",
       "    <tr>\n",
       "      <td>4</td>\n",
       "      <td>Bob</td>\n",
       "      <td>1</td>\n",
       "      <td>80</td>\n",
       "    </tr>\n",
       "    <tr>\n",
       "      <td>5</td>\n",
       "      <td>Bob</td>\n",
       "      <td>2</td>\n",
       "      <td>91</td>\n",
       "    </tr>\n",
       "    <tr>\n",
       "      <td>6</td>\n",
       "      <td>Freya</td>\n",
       "      <td>0</td>\n",
       "      <td>80</td>\n",
       "    </tr>\n",
       "    <tr>\n",
       "      <td>7</td>\n",
       "      <td>Freya</td>\n",
       "      <td>1</td>\n",
       "      <td>90</td>\n",
       "    </tr>\n",
       "    <tr>\n",
       "      <td>8</td>\n",
       "      <td>Freya</td>\n",
       "      <td>2</td>\n",
       "      <td>82</td>\n",
       "    </tr>\n",
       "    <tr>\n",
       "      <td>9</td>\n",
       "      <td>Merlin</td>\n",
       "      <td>0</td>\n",
       "      <td>90</td>\n",
       "    </tr>\n",
       "    <tr>\n",
       "      <td>10</td>\n",
       "      <td>Merlin</td>\n",
       "      <td>1</td>\n",
       "      <td>100</td>\n",
       "    </tr>\n",
       "    <tr>\n",
       "      <td>11</td>\n",
       "      <td>Merlin</td>\n",
       "      <td>2</td>\n",
       "      <td>92</td>\n",
       "    </tr>\n",
       "  </tbody>\n",
       "</table>\n",
       "</div>"
      ],
      "text/plain": [
       "      name  exam  score\n",
       "0    Alice     0     61\n",
       "1    Alice     1     70\n",
       "2    Alice     2     90\n",
       "3      Bob     0     50\n",
       "4      Bob     1     80\n",
       "5      Bob     2     91\n",
       "6    Freya     0     80\n",
       "7    Freya     1     90\n",
       "8    Freya     2     82\n",
       "9   Merlin     0     90\n",
       "10  Merlin     1    100\n",
       "11  Merlin     2     92"
      ]
     },
     "execution_count": 52,
     "metadata": {},
     "output_type": "execute_result"
    }
   ],
   "source": [
    "df = s.reset_index().rename(columns={'level_0': 'name', 'level_1': 'exam', 0: 'score'})\n",
    "df"
   ]
  },
  {
   "cell_type": "code",
   "execution_count": 53,
   "metadata": {},
   "outputs": [
    {
     "data": {
      "text/html": [
       "<div>\n",
       "<style scoped>\n",
       "    .dataframe tbody tr th:only-of-type {\n",
       "        vertical-align: middle;\n",
       "    }\n",
       "\n",
       "    .dataframe tbody tr th {\n",
       "        vertical-align: top;\n",
       "    }\n",
       "\n",
       "    .dataframe thead th {\n",
       "        text-align: right;\n",
       "    }\n",
       "</style>\n",
       "<table border=\"1\" class=\"dataframe\">\n",
       "  <thead>\n",
       "    <tr style=\"text-align: right;\">\n",
       "      <th></th>\n",
       "      <th></th>\n",
       "      <th>score</th>\n",
       "    </tr>\n",
       "    <tr>\n",
       "      <th>name</th>\n",
       "      <th>exam</th>\n",
       "      <th></th>\n",
       "    </tr>\n",
       "  </thead>\n",
       "  <tbody>\n",
       "    <tr>\n",
       "      <td rowspan=\"3\" valign=\"top\">Alice</td>\n",
       "      <td>0</td>\n",
       "      <td>61</td>\n",
       "    </tr>\n",
       "    <tr>\n",
       "      <td>1</td>\n",
       "      <td>70</td>\n",
       "    </tr>\n",
       "    <tr>\n",
       "      <td>2</td>\n",
       "      <td>90</td>\n",
       "    </tr>\n",
       "    <tr>\n",
       "      <td rowspan=\"3\" valign=\"top\">Bob</td>\n",
       "      <td>0</td>\n",
       "      <td>50</td>\n",
       "    </tr>\n",
       "    <tr>\n",
       "      <td>1</td>\n",
       "      <td>80</td>\n",
       "    </tr>\n",
       "    <tr>\n",
       "      <td>2</td>\n",
       "      <td>91</td>\n",
       "    </tr>\n",
       "    <tr>\n",
       "      <td rowspan=\"3\" valign=\"top\">Freya</td>\n",
       "      <td>0</td>\n",
       "      <td>80</td>\n",
       "    </tr>\n",
       "    <tr>\n",
       "      <td>1</td>\n",
       "      <td>90</td>\n",
       "    </tr>\n",
       "    <tr>\n",
       "      <td>2</td>\n",
       "      <td>82</td>\n",
       "    </tr>\n",
       "    <tr>\n",
       "      <td rowspan=\"3\" valign=\"top\">Merlin</td>\n",
       "      <td>0</td>\n",
       "      <td>90</td>\n",
       "    </tr>\n",
       "    <tr>\n",
       "      <td>1</td>\n",
       "      <td>100</td>\n",
       "    </tr>\n",
       "    <tr>\n",
       "      <td>2</td>\n",
       "      <td>92</td>\n",
       "    </tr>\n",
       "  </tbody>\n",
       "</table>\n",
       "</div>"
      ],
      "text/plain": [
       "             score\n",
       "name   exam       \n",
       "Alice  0        61\n",
       "       1        70\n",
       "       2        90\n",
       "Bob    0        50\n",
       "       1        80\n",
       "       2        91\n",
       "Freya  0        80\n",
       "       1        90\n",
       "       2        82\n",
       "Merlin 0        90\n",
       "       1       100\n",
       "       2        92"
      ]
     },
     "execution_count": 53,
     "metadata": {},
     "output_type": "execute_result"
    }
   ],
   "source": [
    "df.set_index(['name', 'exam'])"
   ]
  },
  {
   "cell_type": "markdown",
   "metadata": {},
   "source": [
    "One of the typical situation in which we find multi indexes are group by computations, in particular when we split\n",
    "by multiple columns. For instance, when we computed numbers of passengers from different ports by ticket class in Titanic dataset what we got was a series with two-level row index."
   ]
  },
  {
   "cell_type": "code",
   "execution_count": 54,
   "metadata": {},
   "outputs": [
    {
     "data": {
      "text/html": [
       "<div>\n",
       "<style scoped>\n",
       "    .dataframe tbody tr th:only-of-type {\n",
       "        vertical-align: middle;\n",
       "    }\n",
       "\n",
       "    .dataframe tbody tr th {\n",
       "        vertical-align: top;\n",
       "    }\n",
       "\n",
       "    .dataframe thead th {\n",
       "        text-align: right;\n",
       "    }\n",
       "</style>\n",
       "<table border=\"1\" class=\"dataframe\">\n",
       "  <thead>\n",
       "    <tr style=\"text-align: right;\">\n",
       "      <th></th>\n",
       "      <th></th>\n",
       "      <th>survived</th>\n",
       "      <th>fare</th>\n",
       "    </tr>\n",
       "    <tr>\n",
       "      <th>class</th>\n",
       "      <th>embark_town</th>\n",
       "      <th></th>\n",
       "      <th></th>\n",
       "    </tr>\n",
       "  </thead>\n",
       "  <tbody>\n",
       "    <tr>\n",
       "      <td rowspan=\"3\" valign=\"top\">First</td>\n",
       "      <td>Cherbourg</td>\n",
       "      <td>0.694118</td>\n",
       "      <td>104.718529</td>\n",
       "    </tr>\n",
       "    <tr>\n",
       "      <td>Queenstown</td>\n",
       "      <td>0.500000</td>\n",
       "      <td>90.000000</td>\n",
       "    </tr>\n",
       "    <tr>\n",
       "      <td>Southampton</td>\n",
       "      <td>0.582677</td>\n",
       "      <td>70.364862</td>\n",
       "    </tr>\n",
       "    <tr>\n",
       "      <td rowspan=\"3\" valign=\"top\">Second</td>\n",
       "      <td>Cherbourg</td>\n",
       "      <td>0.529412</td>\n",
       "      <td>25.358335</td>\n",
       "    </tr>\n",
       "    <tr>\n",
       "      <td>Queenstown</td>\n",
       "      <td>0.666667</td>\n",
       "      <td>12.350000</td>\n",
       "    </tr>\n",
       "    <tr>\n",
       "      <td>Southampton</td>\n",
       "      <td>0.463415</td>\n",
       "      <td>20.327439</td>\n",
       "    </tr>\n",
       "    <tr>\n",
       "      <td rowspan=\"3\" valign=\"top\">Third</td>\n",
       "      <td>Cherbourg</td>\n",
       "      <td>0.378788</td>\n",
       "      <td>11.214083</td>\n",
       "    </tr>\n",
       "    <tr>\n",
       "      <td>Queenstown</td>\n",
       "      <td>0.375000</td>\n",
       "      <td>11.183393</td>\n",
       "    </tr>\n",
       "    <tr>\n",
       "      <td>Southampton</td>\n",
       "      <td>0.189802</td>\n",
       "      <td>14.644083</td>\n",
       "    </tr>\n",
       "  </tbody>\n",
       "</table>\n",
       "</div>"
      ],
      "text/plain": [
       "                    survived        fare\n",
       "class  embark_town                      \n",
       "First  Cherbourg    0.694118  104.718529\n",
       "       Queenstown   0.500000   90.000000\n",
       "       Southampton  0.582677   70.364862\n",
       "Second Cherbourg    0.529412   25.358335\n",
       "       Queenstown   0.666667   12.350000\n",
       "       Southampton  0.463415   20.327439\n",
       "Third  Cherbourg    0.378788   11.214083\n",
       "       Queenstown   0.375000   11.183393\n",
       "       Southampton  0.189802   14.644083"
      ]
     },
     "execution_count": 54,
     "metadata": {},
     "output_type": "execute_result"
    }
   ],
   "source": [
    "# Data frame with two-level row index\n",
    "titanic = sbn.load_dataset('titanic')\n",
    "\n",
    "gdf = titanic.groupby(['class', 'embark_town'])['survived', 'fare'].mean()\n",
    "gdf"
   ]
  },
  {
   "cell_type": "markdown",
   "metadata": {},
   "source": [
    "We can also use indexes in group by. For this we specify `level` of the index that we will want to use to split our data."
   ]
  },
  {
   "cell_type": "code",
   "execution_count": 56,
   "metadata": {},
   "outputs": [
    {
     "data": {
      "text/html": [
       "<div>\n",
       "<style scoped>\n",
       "    .dataframe tbody tr th:only-of-type {\n",
       "        vertical-align: middle;\n",
       "    }\n",
       "\n",
       "    .dataframe tbody tr th {\n",
       "        vertical-align: top;\n",
       "    }\n",
       "\n",
       "    .dataframe thead th {\n",
       "        text-align: right;\n",
       "    }\n",
       "</style>\n",
       "<table border=\"1\" class=\"dataframe\">\n",
       "  <thead>\n",
       "    <tr style=\"text-align: right;\">\n",
       "      <th></th>\n",
       "      <th>survived</th>\n",
       "      <th>fare</th>\n",
       "    </tr>\n",
       "    <tr>\n",
       "      <th>embark_town</th>\n",
       "      <th></th>\n",
       "      <th></th>\n",
       "    </tr>\n",
       "  </thead>\n",
       "  <tbody>\n",
       "    <tr>\n",
       "      <td>Cherbourg</td>\n",
       "      <td>0.534106</td>\n",
       "      <td>47.096983</td>\n",
       "    </tr>\n",
       "    <tr>\n",
       "      <td>Queenstown</td>\n",
       "      <td>0.513889</td>\n",
       "      <td>37.844464</td>\n",
       "    </tr>\n",
       "    <tr>\n",
       "      <td>Southampton</td>\n",
       "      <td>0.411964</td>\n",
       "      <td>35.112128</td>\n",
       "    </tr>\n",
       "  </tbody>\n",
       "</table>\n",
       "</div>"
      ],
      "text/plain": [
       "             survived       fare\n",
       "embark_town                     \n",
       "Cherbourg    0.534106  47.096983\n",
       "Queenstown   0.513889  37.844464\n",
       "Southampton  0.411964  35.112128"
      ]
     },
     "execution_count": 56,
     "metadata": {},
     "output_type": "execute_result"
    }
   ],
   "source": [
    "gdf.groupby(level=1).mean()"
   ]
  },
  {
   "cell_type": "markdown",
   "metadata": {},
   "source": [
    "In some sense, mulit indexes are just sequences of unique tuples."
   ]
  },
  {
   "cell_type": "code",
   "execution_count": 57,
   "metadata": {},
   "outputs": [
    {
     "data": {
      "text/plain": [
       "MultiIndex([( 'First',   'Cherbourg'),\n",
       "            ( 'First',  'Queenstown'),\n",
       "            ( 'First', 'Southampton'),\n",
       "            ('Second',   'Cherbourg'),\n",
       "            ('Second',  'Queenstown'),\n",
       "            ('Second', 'Southampton'),\n",
       "            ( 'Third',   'Cherbourg'),\n",
       "            ( 'Third',  'Queenstown'),\n",
       "            ( 'Third', 'Southampton')],\n",
       "           names=['class', 'embark_town'])"
      ]
     },
     "execution_count": 57,
     "metadata": {},
     "output_type": "execute_result"
    }
   ],
   "source": [
    "gdf.index"
   ]
  },
  {
   "cell_type": "markdown",
   "metadata": {},
   "source": [
    "We can create `MultiIndex` objects by hand from sequences of tuples or form a cartesian product of multiple sequences of values."
   ]
  },
  {
   "cell_type": "code",
   "execution_count": 58,
   "metadata": {},
   "outputs": [
    {
     "data": {
      "text/plain": [
       "MultiIndex([('a', 1),\n",
       "            ('a', 2),\n",
       "            ('b', 1),\n",
       "            ('b', 2),\n",
       "            ('b', 3)],\n",
       "           )"
      ]
     },
     "execution_count": 58,
     "metadata": {},
     "output_type": "execute_result"
    }
   ],
   "source": [
    "# From list of tuples\n",
    "pd.MultiIndex.from_tuples([\n",
    "    ('a', 1),\n",
    "    ('a', 2),\n",
    "    ('b', 1),\n",
    "    ('b', 2),\n",
    "    ('b', 3)\n",
    "])"
   ]
  },
  {
   "cell_type": "code",
   "execution_count": 59,
   "metadata": {},
   "outputs": [
    {
     "data": {
      "text/plain": [
       "MultiIndex([('a', 1),\n",
       "            ('a', 2),\n",
       "            ('a', 3),\n",
       "            ('a', 4),\n",
       "            ('b', 1),\n",
       "            ('b', 2),\n",
       "            ('b', 3),\n",
       "            ('b', 4),\n",
       "            ('c', 1),\n",
       "            ('c', 2),\n",
       "            ('c', 3),\n",
       "            ('c', 4)],\n",
       "           )"
      ]
     },
     "execution_count": 59,
     "metadata": {},
     "output_type": "execute_result"
    }
   ],
   "source": [
    "# From cartesian product\n",
    "pd.MultiIndex.from_product([\n",
    "    ['a', 'b', 'c'], \n",
    "    [1, 2, 3, 4]\n",
    "])"
   ]
  },
  {
   "cell_type": "markdown",
   "metadata": {},
   "source": [
    "### `MultiIndex` | Exercise 1.\n",
    "\n",
    "You are provided with set of multiple measurements (5) for ten persons. They are arranged in 10 by 5 Numpy array.\n",
    "Some value are missing (NaN). Your task is to arrange the data in a single `Series` object with index that differentiates\n",
    "properly between persons and measurements.\n",
    "\n",
    "Use your data structure to compute number of measurement per subject and number of subjects per measurements.\n",
    "\n",
    "Finally, use your data structure (without changing it) to compute\n",
    "average values by person and by measurement."
   ]
  },
  {
   "cell_type": "code",
   "execution_count": null,
   "metadata": {},
   "outputs": [],
   "source": [
    "X = np.where(np.random.uniform(0, 1, (10, 5)) < .1, np.nan, np.random.normal(100, 15, (10, 5)))\n",
    "X"
   ]
  },
  {
   "cell_type": "code",
   "execution_count": null,
   "metadata": {},
   "outputs": [],
   "source": [
    "# Your solution"
   ]
  }
 ],
 "metadata": {
  "kernelspec": {
   "display_name": "Python 3",
   "language": "python",
   "name": "python3"
  },
  "language_info": {
   "codemirror_mode": {
    "name": "ipython",
    "version": 3
   },
   "file_extension": ".py",
   "mimetype": "text/x-python",
   "name": "python",
   "nbconvert_exporter": "python",
   "pygments_lexer": "ipython3",
   "version": "3.7.4"
  }
 },
 "nbformat": 4,
 "nbformat_minor": 4
}
