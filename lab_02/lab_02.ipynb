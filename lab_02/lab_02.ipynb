{
 "cells": [
  {
   "cell_type": "markdown",
   "metadata": {},
   "source": [
    "#### (Szymon Talaga, 11.11.2019) | Parts adapted from Julian Zubek 11.2018\n",
    "<hr>"
   ]
  },
  {
   "cell_type": "markdown",
   "metadata": {},
   "source": [
    "## Jupter notebooks & Jupyter lab\n",
    "\n",
    "* It originated from the IPython project.\n",
    "* Jupyter = **Ju**lia + **Py**thon + **R** (currently it supports even more languages).\n",
    "* It supports *literate programming*.\n",
    "* Quite handy and useful for interactive data analsis, sharing and presentation of results and so on.\n",
    "* One of the most popular tools of this type in the data science community.\n",
    "\n",
    "Launching a notebook:\n",
    "\n",
    "```bash\n",
    "jupyter notebook lab_02.ipynb\n",
    "```\n",
    "\n",
    "Jupyter lab is a new improved version of the Jupyter notebook environment. It supports working with and viewing multiple notebooks, docking visualization results to separate windows and linking notebooks with Python shells, what can make interactive work even more seamless.\n",
    "\n",
    "In this class we will be using Jupyter lab or Jupyter notebook environments.\n",
    "\n",
    "Launching a lab:\n",
    "\n",
    "```bash\n",
    "jupyter lab\n",
    "# Should be run in the folder where notebooks reside\n",
    "```"
   ]
  },
  {
   "cell_type": "markdown",
   "metadata": {},
   "source": [
    "# Advanced iteration utilities and data structures\n",
    "## Iterators, generators and packages `itertools` and `collections`\n",
    "\n",
    "Now, after the initial warm up, we will introduce ourselves to some core Python tools available in the so-called standard library (a set of Python packages distributed with Python by default) which are very useful in general data processing.\n",
    "\n",
    "`itertools` module contain a lot of very useful utilities for iterating and transforming data on the fly. The core principle of `itertools` is memory-independence, which means that all provided procedures can iterate over arbitrarily large objects without ever needing to store them in memory. This can be done thanks to **generators** and **iterators**.\n",
    "\n",
    "Both of them are special kinds of objects that iterate (and possibly do something else) over an iterable collection of objects in such a manner that at any point in time only one object is stored in memory. Let us see this with an example."
   ]
  },
  {
   "cell_type": "code",
   "execution_count": 1,
   "metadata": {},
   "outputs": [
    {
     "data": {
      "text/plain": [
       "range(0, 10)"
      ]
     },
     "execution_count": 1,
     "metadata": {},
     "output_type": "execute_result"
    }
   ],
   "source": [
    "range(10) # Does not return a list of numbers\n",
    "\n",
    "# This is so, because it is an iterator and at every point in time\n",
    "# only the current number is stored in the memory.\n",
    "#\n",
    "# This can be very useful when do things like:\n",
    "for x in range(1000000):\n",
    "    pass # do something here\n",
    "\n",
    "# If we treated range like a normal list, instead of an iterator\n",
    "# we would have first to initialize the whole list of 1000000 numbers\n",
    "# in the memory and only after that iterate over them."
   ]
  },
  {
   "cell_type": "markdown",
   "metadata": {},
   "source": [
    "Ok, but what is the difference between iterators and generators? They both allow a single pass over an iterable collection that was passed to them. What does that mean?"
   ]
  },
  {
   "cell_type": "code",
   "execution_count": 2,
   "metadata": {},
   "outputs": [
    {
     "data": {
      "text/plain": [
       "[0, 1, 2, 3, 4, 5, 6, 7, 8, 9]"
      ]
     },
     "execution_count": 2,
     "metadata": {},
     "output_type": "execute_result"
    },
    {
     "data": {
      "text/plain": [
       "[]"
      ]
     },
     "execution_count": 2,
     "metadata": {},
     "output_type": "execute_result"
    }
   ],
   "source": [
    "iterator = iter(range(10))\n",
    "[ x for x in iterator ]\n",
    "[ x for x in iterator ]"
   ]
  },
  {
   "cell_type": "markdown",
   "metadata": {},
   "source": [
    "The difference between iterators and generators is quite technical. The concept of an iterator is older and to create an iterator we have to define a class implementing a specific type of a protocol (a class that implements special methods `__iter__` and `__next__`), called iteration protocol. Or we can use the built-in `iter` function (as above) to create an iterator based on some iterable collection, but this will work only for simple usecases.\n",
    "\n",
    "Generators on the other hand are younger and easier to use, because we can implement an arbitrarily complex generator just through a simple function. To do so we use a special `yield` keyword. They are a subclass of iterators, so every generator is an iterator, but not *vice versa*."
   ]
  },
  {
   "cell_type": "code",
   "execution_count": 3,
   "metadata": {},
   "outputs": [
    {
     "data": {
      "text/plain": [
       "[0, 1, 2, 3, 4, 5, 6, 7, 8, 9]"
      ]
     },
     "execution_count": 3,
     "metadata": {},
     "output_type": "execute_result"
    }
   ],
   "source": [
    "def range_generator(n):\n",
    "    i = 0\n",
    "    while i < n:\n",
    "        yield i\n",
    "        i += 1\n",
    "\n",
    "[ x for x in range_generator(10) ]"
   ]
  },
  {
   "cell_type": "markdown",
   "metadata": {},
   "source": [
    "So it seems we just implemented our own version of the built-in range function! Cool, huh? Not that fast. We mentioned that that iterators and generators allow for only one pass. After that they become empty (this is not a bug, but a feature, since this behavior can be sometimes incredibly useful). So let us check what happens when we pass over our range generator multiple times."
   ]
  },
  {
   "cell_type": "code",
   "execution_count": 4,
   "metadata": {},
   "outputs": [
    {
     "data": {
      "text/plain": [
       "[0, 1, 2, 3, 4, 5, 6, 7, 8, 9]"
      ]
     },
     "execution_count": 4,
     "metadata": {},
     "output_type": "execute_result"
    },
    {
     "data": {
      "text/plain": [
       "[]"
      ]
     },
     "execution_count": 4,
     "metadata": {},
     "output_type": "execute_result"
    },
    {
     "data": {
      "text/plain": [
       "[0, 1, 2, 3, 4, 5, 6, 7, 8, 9]"
      ]
     },
     "execution_count": 4,
     "metadata": {},
     "output_type": "execute_result"
    },
    {
     "data": {
      "text/plain": [
       "[0, 1, 2, 3, 4, 5, 6, 7, 8, 9]"
      ]
     },
     "execution_count": 4,
     "metadata": {},
     "output_type": "execute_result"
    }
   ],
   "source": [
    "r = range(10)\n",
    "r_gen = range_generator(10)\n",
    "\n",
    "# Pass two times over the generator\n",
    "[ x for x in r_gen ]\n",
    "[ x for x in r_gen ]\n",
    "\n",
    "# Pass to times over the standard range\n",
    "[ x for x in r ]\n",
    "[ x for x in r ]"
   ]
  },
  {
   "cell_type": "markdown",
   "metadata": {},
   "source": [
    "Why built-in range allow for multiple passes? Does this mean that under the hood it is not as memory friendly as our range generator? No, it still stores only one number at any given point in time. But what it does under the hood is it returns a new iterator every time we try to iterate over it. So it does not break the one pass rule. This way, the standard `range` object is a **memory-independent** iterable.\n",
    "\n",
    "Take home message is that we have the following basic distinction:\n",
    "\n",
    "* **iterators/generators:** allow one pass, but are memory-independent by design (although if you really want you can implement a generator that is not memory-independent).\n",
    "* **iterables:** allow multiple passes; can be either memory-independent or not, but if they are, they will always internally use iterators/generators. "
   ]
  },
  {
   "cell_type": "code",
   "execution_count": 5,
   "metadata": {},
   "outputs": [
    {
     "data": {
      "text/plain": [
       "[0, 1, 2, 3, 4, 5, 6, 7, 8, 9]"
      ]
     },
     "execution_count": 5,
     "metadata": {},
     "output_type": "execute_result"
    },
    {
     "data": {
      "text/plain": [
       "[]"
      ]
     },
     "execution_count": 5,
     "metadata": {},
     "output_type": "execute_result"
    }
   ],
   "source": [
    "# __iter__ is a magic method that is called everytime we try to iterate over something\n",
    "r_iteration = r.__iter__()\n",
    "\n",
    "[ x for x in r_iteration ]\n",
    "[ x for x in r_iteration ]"
   ]
  },
  {
   "cell_type": "markdown",
   "metadata": {},
   "source": [
    "How can we differentiate between iterators/generators and iterables? One way is to use the built-in `next` function. Iterables do not support `next` statements as they do not have the internal state that tells tham where they are in the loop at the current moment. At the other hand iterators and generators have internal state and support `next` statements."
   ]
  },
  {
   "cell_type": "code",
   "execution_count": 6,
   "metadata": {},
   "outputs": [
    {
     "data": {
      "text/plain": [
       "0"
      ]
     },
     "execution_count": 6,
     "metadata": {},
     "output_type": "execute_result"
    },
    {
     "data": {
      "text/plain": [
       "1"
      ]
     },
     "execution_count": 6,
     "metadata": {},
     "output_type": "execute_result"
    },
    {
     "data": {
      "text/plain": [
       "2"
      ]
     },
     "execution_count": 6,
     "metadata": {},
     "output_type": "execute_result"
    },
    {
     "data": {
      "text/plain": [
       "3"
      ]
     },
     "execution_count": 6,
     "metadata": {},
     "output_type": "execute_result"
    },
    {
     "data": {
      "text/plain": [
       "4"
      ]
     },
     "execution_count": 6,
     "metadata": {},
     "output_type": "execute_result"
    },
    {
     "ename": "StopIteration",
     "evalue": "",
     "output_type": "error",
     "traceback": [
      "\u001b[0;31m---------------------------------------------------------------------------\u001b[0m",
      "\u001b[0;31mStopIteration\u001b[0m                             Traceback (most recent call last)",
      "\u001b[0;32m<ipython-input-6-0a28475d9e2c>\u001b[0m in \u001b[0;36m<module>\u001b[0;34m\u001b[0m\n\u001b[1;32m      5\u001b[0m \u001b[0mnext\u001b[0m\u001b[0;34m(\u001b[0m\u001b[0mgen_rng\u001b[0m\u001b[0;34m)\u001b[0m\u001b[0;34m\u001b[0m\u001b[0;34m\u001b[0m\u001b[0m\n\u001b[1;32m      6\u001b[0m \u001b[0mnext\u001b[0m\u001b[0;34m(\u001b[0m\u001b[0mgen_rng\u001b[0m\u001b[0;34m)\u001b[0m\u001b[0;34m\u001b[0m\u001b[0;34m\u001b[0m\u001b[0m\n\u001b[0;32m----> 7\u001b[0;31m \u001b[0mnext\u001b[0m\u001b[0;34m(\u001b[0m\u001b[0mgen_rng\u001b[0m\u001b[0;34m)\u001b[0m\u001b[0;34m\u001b[0m\u001b[0;34m\u001b[0m\u001b[0m\n\u001b[0m",
      "\u001b[0;31mStopIteration\u001b[0m: "
     ]
    }
   ],
   "source": [
    "gen_rng = range_generator(5)\n",
    "next(gen_rng)\n",
    "next(gen_rng)\n",
    "next(gen_rng)\n",
    "next(gen_rng)\n",
    "next(gen_rng)\n",
    "next(gen_rng)"
   ]
  },
  {
   "cell_type": "markdown",
   "metadata": {},
   "source": [
    "Nice thing about generators is that we can define simple generators as generator comprehensions in the same way as we can write list comprehensions."
   ]
  },
  {
   "cell_type": "code",
   "execution_count": 7,
   "metadata": {},
   "outputs": [
    {
     "data": {
      "text/plain": [
       "[0, 2, 4, 6, 8]"
      ]
     },
     "execution_count": 7,
     "metadata": {},
     "output_type": "execute_result"
    },
    {
     "data": {
      "text/plain": [
       "<generator object <genexpr> at 0x7f37e5f78b10>"
      ]
     },
     "execution_count": 7,
     "metadata": {},
     "output_type": "execute_result"
    }
   ],
   "source": [
    "## List comprehension\n",
    "[ x*2 for x in range(5) ]\n",
    "\n",
    "## Generator comprehension\n",
    "(x*2 for x in range(5))"
   ]
  },
  {
   "cell_type": "markdown",
   "metadata": {},
   "source": [
    "Why is this useful? For instance because generator expressions allows us to pass data to accumulating functions without having to store all the data in memory."
   ]
  },
  {
   "cell_type": "code",
   "execution_count": 8,
   "metadata": {},
   "outputs": [],
   "source": [
    "list_sum = sum([ x**2 for x in range(1000) ])\n",
    "gen_sum = sum(x**2 for x in range(1000))\n",
    "\n",
    "assert list_sum == gen_sum\n",
    "\n",
    "## The results are the same, but since the second sum was defined\n",
    "## via a generator (and range itself is an iterable generator)\n",
    "## during the entire summation process it stored only two numbers\n",
    "## at any point in time: the current sum and a new number to add to it."
   ]
  },
  {
   "cell_type": "markdown",
   "metadata": {},
   "source": [
    "### Built-in Python iterators\n",
    "\n",
    "Python provides several very useful built-in iterators."
   ]
  },
  {
   "cell_type": "code",
   "execution_count": 9,
   "metadata": {},
   "outputs": [
    {
     "name": "stdout",
     "output_type": "stream",
     "text": [
      "1 4 7\n",
      "2 5 8\n",
      "3 6 9\n"
     ]
    }
   ],
   "source": [
    "## ZIP: align multiple collections together\n",
    "for x, y, z in zip([1,2,3], [4,5,6], [7,8,9]):\n",
    "    print(x, y, z)"
   ]
  },
  {
   "cell_type": "code",
   "execution_count": 10,
   "metadata": {},
   "outputs": [
    {
     "name": "stdout",
     "output_type": "stream",
     "text": [
      "1 2\n"
     ]
    }
   ],
   "source": [
    "## But beware that ZIP limits itself to the shortest collection\n",
    "## without letting us know.\n",
    "for x, y in zip([1], [2,3,4,5,6]):\n",
    "    print(x, y)"
   ]
  },
  {
   "cell_type": "code",
   "execution_count": 11,
   "metadata": {},
   "outputs": [
    {
     "name": "stdout",
     "output_type": "stream",
     "text": [
      "1\n",
      "4\n",
      "9\n"
     ]
    }
   ],
   "source": [
    "## Map: apply a function to each element\n",
    "for x in map(lambda x: x**2, [1,2,3]):\n",
    "    print(x)"
   ]
  },
  {
   "cell_type": "code",
   "execution_count": 12,
   "metadata": {},
   "outputs": [
    {
     "name": "stdout",
     "output_type": "stream",
     "text": [
      "2\n",
      "4\n"
     ]
    }
   ],
   "source": [
    "## Filter: remove elements that do not pass a test\n",
    "for x in filter(lambda x: x % 2 == 0, [1,2,3,4]):\n",
    "    print(x)"
   ]
  },
  {
   "cell_type": "code",
   "execution_count": 13,
   "metadata": {},
   "outputs": [
    {
     "name": "stdout",
     "output_type": "stream",
     "text": [
      "0 a\n",
      "1 b\n",
      "2 c\n",
      "3 d\n"
     ]
    }
   ],
   "source": [
    "## Iterate over numbered elements\n",
    "for i, x in enumerate(['a', 'b', 'c', 'd']):\n",
    "    print(i, x)"
   ]
  },
  {
   "cell_type": "code",
   "execution_count": 14,
   "metadata": {},
   "outputs": [
    {
     "name": "stdout",
     "output_type": "stream",
     "text": [
      "0 a\n",
      "1 b\n",
      "2 c\n",
      "3 d\n"
     ]
    }
   ],
   "source": [
    "## This equivalent to, but much more readable than:\n",
    "collection = ['a', 'b', 'c', 'd']\n",
    "for i, x, in zip(range(len(collection)), collection):\n",
    "    print(i, x)"
   ]
  },
  {
   "cell_type": "code",
   "execution_count": 15,
   "metadata": {},
   "outputs": [
    {
     "name": "stdout",
     "output_type": "stream",
     "text": [
      "0\n",
      "1\n",
      "1\n",
      "2\n",
      "3\n",
      "4\n",
      "7\n",
      "11\n"
     ]
    }
   ],
   "source": [
    "## Sorted: iterate over sorted collection (if it is sortable)\n",
    "for x in sorted([2, 7, 1, 3, 0, 11, 4, 1]):\n",
    "    print(x)"
   ]
  },
  {
   "cell_type": "code",
   "execution_count": 16,
   "metadata": {},
   "outputs": [
    {
     "name": "stdout",
     "output_type": "stream",
     "text": [
      "3\n",
      "2\n",
      "1\n"
     ]
    }
   ],
   "source": [
    "## Reversed: reverse an iterable collection\n",
    "for x in reversed([1, 2, 3]):\n",
    "    print(x)"
   ]
  },
  {
   "cell_type": "markdown",
   "metadata": {},
   "source": [
    "### `itertools`\n",
    "\n",
    "The core design principle of the `itertools` package is that every function returns an iterator. This means that we have **ONLY ONE PASS** over objects returned by `itertools` functions.\n",
    "\n",
    "The package defines quite a lot of useful functions and we have time to get accquainted with only few of them. You can easily learn more from the `itertools` [documentation](https://docs.python.org/3/library/itertools.html)."
   ]
  },
  {
   "cell_type": "code",
   "execution_count": 17,
   "metadata": {},
   "outputs": [
    {
     "name": "stdout",
     "output_type": "stream",
     "text": [
      "1\n",
      "2\n",
      "3\n",
      "1\n",
      "2\n",
      "3\n",
      "1\n",
      "2\n",
      "3\n",
      "1\n"
     ]
    }
   ],
   "source": [
    "import itertools as it\n",
    "\n",
    "## We can use `cycle` to cycle indefinitely over a collection\n",
    "infinite_cycle = it.cycle([1, 2, 3])\n",
    "\n",
    "for _ in range(10):\n",
    "    print(next(infinite_cycle))"
   ]
  },
  {
   "cell_type": "code",
   "execution_count": 18,
   "metadata": {},
   "outputs": [
    {
     "data": {
      "text/plain": [
       "['something', 'something', 'something', 'something', 'something']"
      ]
     },
     "execution_count": 18,
     "metadata": {},
     "output_type": "execute_result"
    }
   ],
   "source": [
    "## We can repeat something multiple times\n",
    "list(it.repeat('something', 5))"
   ]
  },
  {
   "cell_type": "code",
   "execution_count": 19,
   "metadata": {},
   "outputs": [
    {
     "data": {
      "text/plain": [
       "[1, 2, 3, 4]"
      ]
     },
     "execution_count": 19,
     "metadata": {},
     "output_type": "execute_result"
    },
    {
     "data": {
      "text/plain": [
       "[1, 2, 3, 4]"
      ]
     },
     "execution_count": 19,
     "metadata": {},
     "output_type": "execute_result"
    }
   ],
   "source": [
    "## Or chain multiple iterables into one long iterable\n",
    "list(it.chain([1, 2], [3, 4]))\n",
    "\n",
    "[1, 2] + [3, 4]"
   ]
  },
  {
   "cell_type": "markdown",
   "metadata": {},
   "source": [
    "Quite often we want to get a cartesian product of multiple collections (all possible combinations of their elements).\n",
    "This is very useful for instance if we want to run some code multiple times with different combinations of arguments,\n",
    "for instance when we run a simulation study."
   ]
  },
  {
   "cell_type": "code",
   "execution_count": 20,
   "metadata": {},
   "outputs": [
    {
     "name": "stdout",
     "output_type": "stream",
     "text": [
      "a 1 c\n",
      "a 1 d\n",
      "a 2 c\n",
      "a 2 d\n",
      "b 1 c\n",
      "b 1 d\n",
      "b 2 c\n",
      "b 2 d\n",
      "c 1 c\n",
      "c 1 d\n",
      "c 2 c\n",
      "c 2 d\n"
     ]
    }
   ],
   "source": [
    "letters = ['a', 'b', 'c']\n",
    "numbers = [1, 2]\n",
    "\n",
    "for letter, number, x in it.product(letters, numbers, ['c', 'd']):\n",
    "    print(letter, number, x)"
   ]
  },
  {
   "cell_type": "code",
   "execution_count": 21,
   "metadata": {},
   "outputs": [],
   "source": [
    "# EXERCISE 1.\n",
    "#\n",
    "# Write a list comprehension expression using iterator utilities\n",
    "# such as map, filter or product to produce a multiplication\n",
    "# table for all numbers from 1 to 10.\n",
    "#\n",
    "# The result should be a list of 10 lists of 10 elements\n",
    "# (100 elements in total) matching the `expected` list below.\n",
    "#\n",
    "# HINT: remember that iterators does not return anything\n",
    "# before they are iterated over. To dump an iterator\n",
    "# to a list you can call the `list` constructor method on it.\n",
    "#\n",
    "# Like this:\n",
    "#       range(3) != [0, 1, 2]\n",
    "# list(range(3)) == [0, 1, 2]\n",
    "\n",
    "numbers = list(range(1, 11))\n",
    "\n",
    "# VERSION 1.\n",
    "result = [ [ i*j for j in numbers] for i in numbers ]\n",
    "# VERSION 2.\n",
    "# It is more convoluted, but use a `lambda` expression in an interesting way,\n",
    "# since part of the logic in the expression (the `i` variable)\n",
    "# comes from the outer for-loop.\n",
    "result = [ list(map(lambda x: x*i, numbers)) for i in numbers ]\n",
    "\n",
    "expected = [\n",
    "    [1, 2, 3, 4, 5, 6, 7, 8, 9, 10],\n",
    "    [2, 4, 6, 8, 10, 12, 14, 16, 18, 20],\n",
    "    [3, 6, 9, 12, 15, 18, 21, 24, 27, 30],\n",
    "    [4, 8, 12, 16, 20, 24, 28, 32, 36, 40],\n",
    "    [5, 10, 15, 20, 25, 30, 35, 40, 45, 50],\n",
    "    [6, 12, 18, 24, 30, 36, 42, 48, 54, 60],\n",
    "    [7, 14, 21, 28, 35, 42, 49, 56, 63, 70],\n",
    "    [8, 16, 24, 32, 40, 48, 56, 64, 72, 80],\n",
    "    [9, 18, 27, 36, 45, 54, 63, 72, 81, 90],\n",
    "    [10, 20, 30, 40, 50, 60, 70, 80, 90, 100]\n",
    "]\n",
    "\n",
    "assert result == expected, \"Sorry, your answer is not correct.\""
   ]
  },
  {
   "cell_type": "code",
   "execution_count": 22,
   "metadata": {},
   "outputs": [],
   "source": [
    "# EXERCISE 2:\n",
    "#\n",
    "# You are running a simulation study in which you want to explore a parameter space\n",
    "# Defined by 2 discrete parameters `alpha` and `beta`.\n",
    "# You want to run your simulation for all possible combinations of values\n",
    "# and run 5 independent simulations for each combination.\n",
    "#\n",
    "# This time you do not want to store everything in memory, but\n",
    "# rather run over parameters' combinations one by one,\n",
    "# so your expression should return an iterator/generator.\n",
    "#\n",
    "# Identical combinations should be grouped together (appear one after another)\n",
    "# but the iterator itself has to be flat.\n",
    "#\n",
    "# You can use iterator utilities such as map, product, chain or repeat,\n",
    "# but you can also write your own generator with `yield` statements if you will.\n",
    "#\n",
    "# HINT: remeber that you can flatten list of arguments with a star `*`\n",
    "#\n",
    "# Like this:\n",
    "#\n",
    "# def add(x, y): return x + y\n",
    "#\n",
    "# two_numbers = (1, 2)\n",
    "#\n",
    "# add(*two_numbers) == 3\n",
    "\n",
    "n_repeats = 5   \n",
    "alpha     = [1, 2, 3]\n",
    "beta      = [10, 20]\n",
    "\n",
    "\n",
    "# VERSION 1.\n",
    "result = it.chain(*(list(it.repeat(params, n_repeats)) for params in it.product(alpha, beta)))\n",
    "# VERSION 2. (with chain.from_iterable)\n",
    "result = it.chain.from_iterable(list(it.repeat(params, n_repeats)) for params in it.product(alpha, beta))\n",
    "\n",
    "expected = [\n",
    "    (1, 10), (1, 10), (1, 10), (1, 10), (1, 10),\n",
    "    (1, 20), (1, 20), (1, 20), (1, 20), (1, 20),\n",
    "    (2, 10), (2, 10), (2, 10), (2, 10), (2, 10),\n",
    "    (2, 20), (2, 20), (2, 20), (2, 20), (2, 20),\n",
    "    (3, 10), (3, 10), (3, 10), (3, 10), (3, 10),\n",
    "    (3, 20), (3, 20), (3, 20), (3, 20), (3, 20)\n",
    "]\n",
    "\n",
    "assert list(result) == expected, \"Sorry, your answer is not correct.\""
   ]
  },
  {
   "cell_type": "markdown",
   "metadata": {},
   "source": [
    "`itertools` package allows us also to define some common data processing and statistical operation as memory-independent iterators."
   ]
  },
  {
   "cell_type": "code",
   "execution_count": 23,
   "metadata": {},
   "outputs": [
    {
     "data": {
      "text/plain": [
       "[1, 3, 6]"
      ]
     },
     "execution_count": 23,
     "metadata": {},
     "output_type": "execute_result"
    }
   ],
   "source": [
    "import itertools as it\n",
    "\n",
    "## Running sum\n",
    "list(\n",
    "    it.accumulate([1, 2, 3])\n",
    ")"
   ]
  },
  {
   "cell_type": "code",
   "execution_count": 24,
   "metadata": {},
   "outputs": [
    {
     "data": {
      "text/plain": [
       "[2, 4, 8]"
      ]
     },
     "execution_count": 24,
     "metadata": {},
     "output_type": "execute_result"
    }
   ],
   "source": [
    "## Running product\n",
    "\n",
    "list(\n",
    "    it.accumulate([2, 2, 2], lambda x, y: x*y)\n",
    ")"
   ]
  },
  {
   "cell_type": "code",
   "execution_count": 25,
   "metadata": {},
   "outputs": [
    {
     "data": {
      "text/plain": [
       "[7, 8, 1, 1, 2]"
      ]
     },
     "execution_count": 25,
     "metadata": {},
     "output_type": "execute_result"
    }
   ],
   "source": [
    "## Remove elements until a condition is met\n",
    "list(\n",
    "    it.dropwhile(lambda x: x < 5, [ 1, 2, 3, 7, 8, 1, 1, 2])\n",
    ")"
   ]
  },
  {
   "cell_type": "code",
   "execution_count": 26,
   "metadata": {},
   "outputs": [
    {
     "data": {
      "text/plain": [
       "[1, 2, 3]"
      ]
     },
     "execution_count": 26,
     "metadata": {},
     "output_type": "execute_result"
    }
   ],
   "source": [
    "## Take elements until a condition is met\n",
    "list(\n",
    "    it.takewhile(lambda x: x < 5, [ 1, 2, 3, 7, 8, 1, 1, 2])\n",
    ")"
   ]
  },
  {
   "cell_type": "code",
   "execution_count": 27,
   "metadata": {},
   "outputs": [],
   "source": [
    "## Nifty trick (in base Python) to take a first element that meets a conditon\n",
    "## It is based on a generator-comprehension\n",
    "gen = (x for x in range(1, 10001) if (x % 47 == 0) and (x % 11) == 0)"
   ]
  },
  {
   "cell_type": "code",
   "execution_count": 28,
   "metadata": {},
   "outputs": [
    {
     "data": {
      "text/plain": [
       "[3, 5]"
      ]
     },
     "execution_count": 28,
     "metadata": {},
     "output_type": "execute_result"
    }
   ],
   "source": [
    "## Filter elements by a list of logical values (or interpretable as booleans)\n",
    "list(\n",
    "    it.compress([1, 2, 3, 4, 5], [0, 0, 1, 0, 1])\n",
    ")"
   ]
  },
  {
   "cell_type": "code",
   "execution_count": 29,
   "metadata": {},
   "outputs": [
    {
     "data": {
      "text/plain": [
       "{0: [2, 4], 1: [1, 3]}"
      ]
     },
     "execution_count": 29,
     "metadata": {},
     "output_type": "execute_result"
    }
   ],
   "source": [
    "numbers = [1, 2, 3, 4]\n",
    "\n",
    "mapping = {\n",
    "    0: [2, 4],\n",
    "    1: [1, 3]\n",
    "}\n",
    "mapping"
   ]
  },
  {
   "cell_type": "code",
   "execution_count": 30,
   "metadata": {},
   "outputs": [
    {
     "data": {
      "text/plain": [
       "[4, 0, 6, 3, 5, 7, 1, 11, 9]"
      ]
     },
     "execution_count": 30,
     "metadata": {},
     "output_type": "execute_result"
    }
   ],
   "source": [
    "L = [3, 5, 4, 7, 1, 0, 11, 9, 6]\n",
    "list(sorted(L, key=lambda x: x % 2))"
   ]
  },
  {
   "cell_type": "code",
   "execution_count": 31,
   "metadata": {},
   "outputs": [
    {
     "data": {
      "text/plain": [
       "{0: [0, 1, 2, 3, 4, 5, 6, 7, 8, 9],\n",
       " 1: [10, 11, 12, 13, 14, 15, 16, 17, 18, 19],\n",
       " 2: [20, 21, 22, 23, 24, 25, 26, 27, 28, 29],\n",
       " 3: [30, 31, 32, 33, 34, 35, 36, 37, 38, 39],\n",
       " 4: [40, 41, 42, 43, 44, 45, 46, 47, 48, 49],\n",
       " 5: [50, 51, 52, 53, 54, 55, 56, 57, 58, 59],\n",
       " 6: [60, 61, 62, 63, 64, 65, 66, 67, 68, 69],\n",
       " 7: [70, 71, 72, 73, 74, 75, 76, 77, 78, 79],\n",
       " 8: [80, 81, 82, 83, 84, 85, 86, 87, 88, 89],\n",
       " 9: [90, 91, 92, 93, 94, 95, 96, 97, 98, 99]}"
      ]
     },
     "execution_count": 31,
     "metadata": {},
     "output_type": "execute_result"
    }
   ],
   "source": [
    "## Group by: returned values grouped by a key function\n",
    "## It is a complicated function, so it is worthwhile to read its documentation:\n",
    "##     https://docs.python.org/3/library/itertools.html#itertools.groupby\n",
    "##\n",
    "## The key function when called on elements of an iterable has to return\n",
    "## an ordinal object and the iterable has to be already sorted by the key\n",
    "## function.\n",
    "##\n",
    "## Let us look at an example.\n",
    "##\n",
    "## We will try to group a list of numbers into tens, like 0-9, 10-19, etc.\n",
    "\n",
    "## integer division by 10\n",
    "keyfunc = lambda x: x // 10\n",
    "## Sorted function accepts additional argument which is a sort key function\n",
    "numbers = sorted(range(100), key=keyfunc)\n",
    "{ k: list(g) for k, g in it.groupby(numbers, keyfunc) }"
   ]
  },
  {
   "cell_type": "code",
   "execution_count": 32,
   "metadata": {},
   "outputs": [],
   "source": [
    "# EXERCISE 3.\n",
    "#\n",
    "# Write using whatever means necessary (though we recommend using itertools functions) \n",
    "# A function called `grouped_data` that will organize the data below (exam scores for students)\n",
    "# in the following way:\n",
    "#\n",
    "# Students have to be grouped by the first letter of the name (uppercase)\n",
    "# and sorted by scores within groups.\n",
    "# In every group running sum score has to be computed.\n",
    "# But students with negative scores (did not take the exam) have to be filtered out first.\n",
    "# Every group has to be represented as a dict with two keys:\n",
    "#     1. students: list of students who took the exame\n",
    "#     2. run_score: running sum of exam score.\n",
    "#\n",
    "# HINT: look closely at the expected output.\n",
    "\n",
    "data = [\n",
    "    ('Bob', 7), ('Alice', 8), ('Marcin', 11), ('Julia', 13), ('Adam', 3),\n",
    "    ('Zenon', 11), ('Zygmunt', -1), ('Tiago', 2), ('Jagna', 0), ('Joda', -1),\n",
    "    ('Luke', 1), ('Chewbaca', -1), ('Agata', 2), ('Sara', 10), ('Darth Vader', 5)\n",
    "]\n",
    "\n",
    "def grouped_data(data):\n",
    "    keyfunc = lambda x: x[0][0].upper()\n",
    "    data = (x for x in data if x[1] >= 0)\n",
    "    data = sorted(data, key=keyfunc)\n",
    "    dct = {}\n",
    "    for k, g in it.groupby(data, keyfunc):\n",
    "        #print(\"k = \", k, \"; g =\", list(g))\n",
    "        g = list(sorted(g, key=lambda x: x[1]))\n",
    "        students = [ name for name, score in g ]\n",
    "        scores = [ score for name, score in g ]\n",
    "        group_data = {\n",
    "            'students': students,\n",
    "            'run_score': list(it.accumulate(scores))\n",
    "        }\n",
    "        dct[k] = group_data\n",
    "    return dct\n",
    "\n",
    "expected = {\n",
    "    'A': {'students': ['Agata', 'Adam', 'Alice'], 'run_score': [2, 5, 13]},\n",
    "    'B': {'students': ['Bob'], 'run_score': [7]},\n",
    "    'D': {'students': ['Darth Vader'], 'run_score': [5]},\n",
    "    'J': {'students': ['Jagna', 'Julia'], 'run_score': [0, 13]},\n",
    "    'L': {'students': ['Luke'], 'run_score': [1]},\n",
    "    'M': {'students': ['Marcin'], 'run_score': [11]},\n",
    "    'S': {'students': ['Sara'], 'run_score': [10]},\n",
    "    'T': {'students': ['Tiago'], 'run_score': [2]},\n",
    "    'Z': {'students': ['Zenon'], 'run_score': [11]}\n",
    "}\n",
    "\n",
    "assert grouped_data(data) == expected, \"Sorry, your answer is not correct.\"\"\""
   ]
  },
  {
   "cell_type": "markdown",
   "metadata": {},
   "source": [
    "## More warm up exercises"
   ]
  },
  {
   "cell_type": "markdown",
   "metadata": {},
   "source": [
    "1\\. Write an expression that reverses a string (e.g. \"abc\" -> \"cba\")."
   ]
  },
  {
   "cell_type": "code",
   "execution_count": 33,
   "metadata": {
    "collapsed": true,
    "jupyter": {
     "outputs_hidden": true
    }
   },
   "outputs": [
    {
     "data": {
      "text/plain": [
       "'cba'"
      ]
     },
     "execution_count": 33,
     "metadata": {},
     "output_type": "execute_result"
    },
    {
     "data": {
      "text/plain": [
       "'cba'"
      ]
     },
     "execution_count": 33,
     "metadata": {},
     "output_type": "execute_result"
    }
   ],
   "source": [
    "string = \"abc\"\n",
    "\n",
    "# VERSION 1.\n",
    "string[::-1]\n",
    "\n",
    "# VERSION 2.\n",
    "\"\".join(reversed(string))"
   ]
  },
  {
   "cell_type": "markdown",
   "metadata": {},
   "source": [
    "2\\. Write a function that takes a string and returns `True` if the string is a palindrom (reads the same from the left the right) and `False` otherwise. Can you reuse the previous result?"
   ]
  },
  {
   "cell_type": "code",
   "execution_count": 34,
   "metadata": {
    "collapsed": true,
    "jupyter": {
     "outputs_hidden": true
    }
   },
   "outputs": [],
   "source": [
    "def is_palindrome(string):\n",
    "    return string == \"\".join(reversed(string)) and len(string) > 1 and \" \" not in string"
   ]
  },
  {
   "cell_type": "markdown",
   "metadata": {},
   "source": [
    "3\\. Write a function that takes a string and returns all the palindrome substring (they do not have to be meaningful words, but should be longer than one character and not contain any whitespaces). Can you reuse your previous results? And can you write this as a one-liner comprehension?"
   ]
  },
  {
   "cell_type": "code",
   "execution_count": 35,
   "metadata": {
    "collapsed": true,
    "jupyter": {
     "outputs_hidden": true
    }
   },
   "outputs": [],
   "source": [
    "## Test on this string\n",
    "s = \"This summer our long neglected civic duty brought the kayak back on our radar.\""
   ]
  },
  {
   "cell_type": "code",
   "execution_count": 36,
   "metadata": {},
   "outputs": [],
   "source": [
    "def get_palindromes(s):\n",
    "    for i in range(len(s)):\n",
    "        for j in range(i+1, len(s)):\n",
    "            if is_palindrome(s[i:j]):\n",
    "                yield s[i:j]"
   ]
  },
  {
   "cell_type": "markdown",
   "metadata": {},
   "source": [
    "4\\. Write a one liner expression that flattens a list of list to a single-level list."
   ]
  },
  {
   "cell_type": "code",
   "execution_count": 37,
   "metadata": {},
   "outputs": [
    {
     "data": {
      "text/plain": [
       "[1, 2, 3, 2, 3, 1, 10, 1010, 1]"
      ]
     },
     "execution_count": 37,
     "metadata": {},
     "output_type": "execute_result"
    },
    {
     "data": {
      "text/plain": [
       "[1, 2, 3, 2, 3, 1, 10, 1010, 1]"
      ]
     },
     "execution_count": 37,
     "metadata": {},
     "output_type": "execute_result"
    }
   ],
   "source": [
    "L = [ [1,2,3], [2,3], [1], [], [10,1010,1]] # Should be [1,2,3,2,3,1,10,1010,1]\n",
    "\n",
    "# SOLUTION.\n",
    "[ number for sublist in L for number in sublist ]\n",
    "\n",
    "# IT IS EQUIVALENT TO\n",
    "# BUT MUCH MORE EFFICIENT FROM:\n",
    "flat_L = []\n",
    "for sublist in L:\n",
    "    for number in sublist:\n",
    "        flat_L.append(number)\n",
    "flat_L"
   ]
  },
  {
   "cell_type": "markdown",
   "metadata": {},
   "source": [
    "5\\. Write a a function that takes an integer `n` as input and generate an `n`-level dollar sign christmas tree like the one below. Can you write it as a one liner?"
   ]
  },
  {
   "cell_type": "markdown",
   "metadata": {},
   "source": [
    "```\n",
    "  $ \n",
    " $$$\n",
    "$$$$$\n",
    "```"
   ]
  },
  {
   "cell_type": "code",
   "execution_count": 39,
   "metadata": {},
   "outputs": [
    {
     "name": "stdout",
     "output_type": "stream",
     "text": [
      "         $\n",
      "        $$$\n",
      "       $$$$$\n",
      "      $$$$$$$\n",
      "     $$$$$$$$$\n",
      "    $$$$$$$$$$$\n",
      "   $$$$$$$$$$$$$\n",
      "  $$$$$$$$$$$$$$$\n",
      " $$$$$$$$$$$$$$$$$\n",
      "$$$$$$$$$$$$$$$$$$$\n"
     ]
    }
   ],
   "source": [
    "def print_pyramid(n):\n",
    "    for i in range(n):\n",
    "        print(\" \"*(n-i-1) + \"$\"*(2*i+1))\n",
    "\n",
    "print_pyramid(10)"
   ]
  },
  {
   "cell_type": "code",
   "execution_count": 40,
   "metadata": {},
   "outputs": [
    {
     "name": "stdout",
     "output_type": "stream",
     "text": [
      "         $\n",
      "        $$$\n",
      "       $$$$$\n",
      "      $$$$$$$\n",
      "     $$$$$$$$$\n",
      "    $$$$$$$$$$$\n",
      "   $$$$$$$$$$$$$\n",
      "  $$$$$$$$$$$$$$$\n",
      " $$$$$$$$$$$$$$$$$\n",
      "$$$$$$$$$$$$$$$$$$$\n"
     ]
    }
   ],
   "source": [
    "## BELOW I MODIFY THE FUNCTION TO MAKE IT RETURN A STRING.\n",
    "def pyramid_string(n):\n",
    "    return \"\\n\".join(\" \"*(n-i-1) + \"$\"*(2*i+1) for i in range(n))\n",
    "\n",
    "print(pyramid_string(10))"
   ]
  },
  {
   "cell_type": "markdown",
   "metadata": {},
   "source": [
    "## Recurrence\n",
    "\n",
    "Recurrsive function are functions that call themselves. In order not to end up stuck in an infinite loop they have to do this in a smart way, so at every call they move towards some well-defined stopping criterion. Let us what that means based on arguably the most famous recurrsive formula of all times: the Fibonnaci sequence.\n",
    "\n",
    "$$x_1 = 1$$\n",
    "$$x_2 = 1$$\n",
    "$$x_n = x_{n-2} + x_{n-1}$$\n",
    "\n",
    "It gives the following sequence (it is infinite so we show ony the beginning):\n",
    "$$\n",
    "1, 1, 2, 3, 5, 8, 13, 21 \\ldots\n",
    "$$\n",
    "\n",
    "Can you code a function that given a positive integer `n` returns the `n`-th Fibonnaci number? Do this in a recursive (function has to call itself) way that mimics the mathematical definition as close as possible."
   ]
  },
  {
   "cell_type": "code",
   "execution_count": 41,
   "metadata": {},
   "outputs": [],
   "source": [
    "def fibonnaci(n):\n",
    "    if n <= 2:\n",
    "        return 1\n",
    "    return fibonnaci(n-1) + fibonnaci(n-2)"
   ]
  },
  {
   "cell_type": "markdown",
   "metadata": {},
   "source": [
    "Now let us see how well does this function behaves for large n."
   ]
  },
  {
   "cell_type": "code",
   "execution_count": 42,
   "metadata": {},
   "outputs": [
    {
     "name": "stdout",
     "output_type": "stream",
     "text": [
      "CPU times: user 6.97 s, sys: 0 ns, total: 6.97 s\n",
      "Wall time: 6.98 s\n"
     ]
    },
    {
     "data": {
      "text/plain": [
       "39088169"
      ]
     },
     "execution_count": 42,
     "metadata": {},
     "output_type": "execute_result"
    }
   ],
   "source": [
    "%%time\n",
    "fibonnaci(38)"
   ]
  },
  {
   "cell_type": "markdown",
   "metadata": {},
   "source": [
    "Are you happy with the execution time? No, I though so, you should not be. Something is off here. Can you guess what it is? How could reimplement the function to make it fast?"
   ]
  },
  {
   "cell_type": "code",
   "execution_count": 49,
   "metadata": {},
   "outputs": [],
   "source": [
    "def fast_fibbonaci(n):\n",
    "    n0 = n1 = 1\n",
    "    if n <= 2:\n",
    "       return 1\n",
    "    for i in range(n-2):\n",
    "        n0, n1 = n1, n0 + n1\n",
    "    return n1"
   ]
  },
  {
   "cell_type": "code",
   "execution_count": 44,
   "metadata": {},
   "outputs": [
    {
     "name": "stdout",
     "output_type": "stream",
     "text": [
      "CPU times: user 17.8 s, sys: 459 µs, total: 17.8 s\n",
      "Wall time: 17.8 s\n"
     ]
    },
    {
     "data": {
      "text/plain": [
       "102334155"
      ]
     },
     "execution_count": 44,
     "metadata": {},
     "output_type": "execute_result"
    }
   ],
   "source": [
    "%%time\n",
    "## COMPARE TIMES\n",
    "##\n",
    "## SLOW FIBONNACI\n",
    "fibonnaci(40)"
   ]
  },
  {
   "cell_type": "code",
   "execution_count": 51,
   "metadata": {},
   "outputs": [
    {
     "name": "stdout",
     "output_type": "stream",
     "text": [
      "CPU times: user 29 µs, sys: 0 ns, total: 29 µs\n",
      "Wall time: 31.5 µs\n"
     ]
    },
    {
     "data": {
      "text/plain": [
       "176023680645013966468226945392411250770384383304492191886725992896575345044216019675"
      ]
     },
     "execution_count": 51,
     "metadata": {},
     "output_type": "execute_result"
    }
   ],
   "source": [
    "%%time\n",
    "## COMPARE TIMES\n",
    "##\n",
    "## FAST FIBONNACI\n",
    "fast_fibbonaci(400)"
   ]
  },
  {
   "cell_type": "markdown",
   "metadata": {},
   "source": [
    "Ok, we solved the problem. So it seems that recursion, as beutiful mathematically it may be, is not really useful in computer programming, because it makes things slow, right? Not exactly. This was just an example of a slow recurssion that should be avoided.\n",
    "\n",
    "Let us now look at a very nice example of recursive algorithm which really can not be expressed differently in the general case."
   ]
  },
  {
   "cell_type": "code",
   "execution_count": 53,
   "metadata": {},
   "outputs": [],
   "source": [
    "# EXCERCISE 4.\n",
    "#\n",
    "# Write a function that flattens a list of nested lists of nested lists etc.\n",
    "# with arbitrary depth of nesting.\n",
    "#\n",
    "# Implement it as a memory-independent generator.\n",
    "# This way you will not have to copy the list to flatten it.\n",
    "\n",
    "nested_L = [\n",
    "    [1, [2, 3, []], [1, 2, 3, [1, [2, 3, []]]]],\n",
    "    [1, 2, 3, [2, 3, [], [], [3,4]]]\n",
    "]\n",
    "\n",
    "def flatten(L):\n",
    "    for element in L:\n",
    "        if isinstance(element, list):\n",
    "            for subelement in flatten(element):\n",
    "                yield subelement\n",
    "            # Shorthand for this is:\n",
    "            # yield from flatten(element)\n",
    "        else:\n",
    "            yield element\n",
    "\n",
    "# Solution based on dynamically appending to a list.\n",
    "# Work, but it is a bad implementation.\n",
    "# It is slower and a little bit mor difficult to read and write.\n",
    "def flatten2(L):\n",
    "    flat_L = []\n",
    "    for element in L:\n",
    "        if isinstance(element, list):\n",
    "            flat_L += flatten2(element)\n",
    "        else:\n",
    "            flat_L.append(element)\n",
    "    return flat_L\n",
    "            \n",
    "\n",
    "expected = [1, 2, 3, 1, 2, 3, 1, 2, 3, 1, 2, 3, 2, 3, 3, 4]\n",
    "assert list(flatten(nested_L)) == expected, \"Sorry, your answer is not correct.\"\n",
    "assert list(flatten2(nested_L)) == expected, \"Sorry, your answer is not correct.\""
   ]
  },
  {
   "cell_type": "markdown",
   "metadata": {},
   "source": [
    "## Package `collections`\n",
    "\n",
    "Since we are already quite well versed with iterations and traversing data (also recursively) it is time to look at the `collections` package which provides us with few very useful data structures."
   ]
  },
  {
   "cell_type": "markdown",
   "metadata": {},
   "source": [
    "### Ordered dict\n",
    "\n",
    "`OrderedDict` is just an ordinary `dict` but such that keeps the order of key-value pairs. Normal dictionaries do not care about the order and may arrange key-value pairs randomly."
   ]
  },
  {
   "cell_type": "code",
   "execution_count": 55,
   "metadata": {},
   "outputs": [
    {
     "data": {
      "text/plain": [
       "OrderedDict([('a', 1), ('b', 2), ('c', 3)])"
      ]
     },
     "execution_count": 55,
     "metadata": {},
     "output_type": "execute_result"
    }
   ],
   "source": [
    "from collections import OrderedDict\n",
    "\n",
    "# This is a BAD way of initializing an ordered dict. Why?\n",
    "# Because the standard dictionary we initialize first already\n",
    "# messes up our ordering, so the final ordered dict will\n",
    "# have random order anyway.\n",
    "dct = {'a': 1, 'b': 2, 'c': 3}\n",
    "odict = OrderedDict(dct)\n",
    "odict"
   ]
  },
  {
   "cell_type": "code",
   "execution_count": 56,
   "metadata": {},
   "outputs": [
    {
     "name": "stdout",
     "output_type": "stream",
     "text": [
      "z 2\n",
      "c 1\n",
      "a 3\n",
      "b 4\n"
     ]
    }
   ],
   "source": [
    "from collections import OrderedDict\n",
    "\n",
    "odict = OrderedDict([\n",
    "    ('z', 2),\n",
    "    ('c', 1),\n",
    "    ('a', 3),\n",
    "    ('b', 4)\n",
    "])\n",
    "# REMEMBER. ONLY BY DEFINING THROUGH A LIST OF TUPLES (OR LIST OF LISTS)\n",
    "# YOU CAN REALLY ENFORCING A PARTICULAR ORDERING.\n",
    "#\n",
    "# CONVERTING A DICT INTO AN ORDERED DICT WILL NOT DO,\n",
    "# AS ORDINARY DICTS HAVE RANDOM ORDERING.\n",
    "\n",
    "for k, v in odict.items():\n",
    "    print(k, v)"
   ]
  },
  {
   "cell_type": "markdown",
   "metadata": {},
   "source": [
    "### Default dict\n",
    "\n",
    "This is one of my favourites. It is simple yet in some circumstances very useful. This is a dictionary that have a default value that it returns when asked for a key it does not have. And once asked, it initializes the key with the default value.\n",
    "\n",
    "It is super useful when you build dynamically a dictionary of lists that themselves are dynamically extended. Or when you build a dict with nested dicts in the same way."
   ]
  },
  {
   "cell_type": "code",
   "execution_count": 59,
   "metadata": {},
   "outputs": [
    {
     "data": {
      "text/plain": [
       "defaultdict(list,\n",
       "            {'L': ['lorem', 'labore', 'laboris', 'laborum.'],\n",
       "             'I': ['ipsum', 'incididunt', 'irure', 'in', 'in', 'in', 'id'],\n",
       "             'D': ['dolor',\n",
       "              'do',\n",
       "              'dolore',\n",
       "              'duis',\n",
       "              'dolor',\n",
       "              'dolore',\n",
       "              'deserunt'],\n",
       "             'S': ['sit', 'sed', 'sint', 'sunt'],\n",
       "             'A': ['amet,',\n",
       "              'adipiscing',\n",
       "              'aliqua.',\n",
       "              'ad',\n",
       "              'aliquip',\n",
       "              'aute',\n",
       "              'anim'],\n",
       "             'C': ['consectetur',\n",
       "              'commodo',\n",
       "              'consequat.',\n",
       "              'cillum',\n",
       "              'cupidatat',\n",
       "              'culpa'],\n",
       "             'E': ['elit,',\n",
       "              'eiusmod',\n",
       "              'et',\n",
       "              'enim',\n",
       "              'exercitation',\n",
       "              'ex',\n",
       "              'ea',\n",
       "              'esse',\n",
       "              'eu',\n",
       "              'excepteur',\n",
       "              'est'],\n",
       "             'T': ['tempor'],\n",
       "             'U': ['ut', 'ut', 'ullamco', 'ut'],\n",
       "             'M': ['magna', 'minim', 'mollit'],\n",
       "             'V': ['veniam,', 'voluptate', 'velit'],\n",
       "             'Q': ['quis', 'qui'],\n",
       "             'N': ['nostrud', 'nisi', 'nulla', 'non'],\n",
       "             'R': ['reprehenderit'],\n",
       "             'F': ['fugiat'],\n",
       "             'P': ['pariatur.', 'proident,'],\n",
       "             'O': ['occaecat', 'officia']})"
      ]
     },
     "execution_count": 59,
     "metadata": {},
     "output_type": "execute_result"
    }
   ],
   "source": [
    "from collections import defaultdict\n",
    "\n",
    "lorem = \\\n",
    "    \"Lorem ipsum dolor sit amet, consectetur adipiscing elit, sed do eiusmod tempor incididunt ut labore et dolore magna aliqua. \" \\\n",
    "    \"Ut enim ad minim veniam, quis nostrud exercitation ullamco laboris nisi ut aliquip ex ea commodo consequat. \" \\\n",
    "    \"Duis aute irure dolor in reprehenderit in voluptate velit esse cillum dolore eu fugiat nulla pariatur. \" \\\n",
    "    \"Excepteur sint occaecat cupidatat non proident, sunt in culpa qui officia deserunt mollit anim id est laborum.\" \\\n",
    "\n",
    "## We will build a dict with lists of word beginning with paticular letters.\n",
    "## It will be a dict with list as a default.\n",
    "ldict = defaultdict(list)\n",
    "dct = {}\n",
    "\n",
    "for word in lorem.split():\n",
    "    word = word.strip().lower()\n",
    "    if not word:\n",
    "        continue\n",
    "    ldict[word[0].upper()].append(word)\n",
    "\n",
    "ldict"
   ]
  },
  {
   "cell_type": "markdown",
   "metadata": {},
   "source": [
    "That was pretty neat, right? So now solve the same problem but this time use just a standard dict."
   ]
  },
  {
   "cell_type": "code",
   "execution_count": 61,
   "metadata": {},
   "outputs": [
    {
     "data": {
      "text/plain": [
       "{'L': ['lorem', 'labore', 'laboris', 'laborum.'],\n",
       " 'I': ['ipsum', 'incididunt', 'irure', 'in', 'in', 'in', 'id'],\n",
       " 'D': ['dolor', 'do', 'dolore', 'duis', 'dolor', 'dolore', 'deserunt'],\n",
       " 'S': ['sit', 'sed', 'sint', 'sunt'],\n",
       " 'A': ['amet,', 'adipiscing', 'aliqua.', 'ad', 'aliquip', 'aute', 'anim'],\n",
       " 'C': ['consectetur', 'commodo', 'consequat.', 'cillum', 'cupidatat', 'culpa'],\n",
       " 'E': ['elit,',\n",
       "  'eiusmod',\n",
       "  'et',\n",
       "  'enim',\n",
       "  'exercitation',\n",
       "  'ex',\n",
       "  'ea',\n",
       "  'esse',\n",
       "  'eu',\n",
       "  'excepteur',\n",
       "  'est'],\n",
       " 'T': ['tempor'],\n",
       " 'U': ['ut', 'ut', 'ullamco', 'ut'],\n",
       " 'M': ['magna', 'minim', 'mollit'],\n",
       " 'V': ['veniam,', 'voluptate', 'velit'],\n",
       " 'Q': ['quis', 'qui'],\n",
       " 'N': ['nostrud', 'nisi', 'nulla', 'non'],\n",
       " 'R': ['reprehenderit'],\n",
       " 'F': ['fugiat'],\n",
       " 'P': ['pariatur.', 'proident,'],\n",
       " 'O': ['occaecat', 'officia']}"
      ]
     },
     "execution_count": 61,
     "metadata": {},
     "output_type": "execute_result"
    }
   ],
   "source": [
    "## Solve the previous problem with the standard dict.\n",
    "#\n",
    "ldict = {}\n",
    "for word in lorem.split():\n",
    "    word = word.strip().lower()\n",
    "    if not word:\n",
    "        continue\n",
    "    key = word[0].upper()\n",
    "    if key in ldict:\n",
    "        ldict[key].append(word)\n",
    "    else:\n",
    "        ldict[key] = [word]\n",
    "\n",
    "ldict"
   ]
  },
  {
   "cell_type": "markdown",
   "metadata": {},
   "source": [
    "### Counter\n",
    "\n",
    "Counter does what it claims it does: it counts occurences of unique objects. It creates a dictionary that maps objects to their numbers of occurences. This means that it can only count hashable (non-mutable) objects such as numbers or tuples but not lists or other dictionaries."
   ]
  },
  {
   "cell_type": "code",
   "execution_count": 62,
   "metadata": {},
   "outputs": [],
   "source": [
    "dct = {}\n",
    "for word in lorem.split():\n",
    "    word = word.strip().lower()\n",
    "    if word in dct:\n",
    "        dct[word] += 1\n",
    "    else:\n",
    "        dct[word] = 1"
   ]
  },
  {
   "cell_type": "code",
   "execution_count": 63,
   "metadata": {},
   "outputs": [
    {
     "data": {
      "text/plain": [
       "Counter({'lorem': 1,\n",
       "         'ipsum': 1,\n",
       "         'dolor': 2,\n",
       "         'sit': 1,\n",
       "         'amet,': 1,\n",
       "         'consectetur': 1,\n",
       "         'adipiscing': 1,\n",
       "         'elit,': 1,\n",
       "         'sed': 1,\n",
       "         'do': 1,\n",
       "         'eiusmod': 1,\n",
       "         'tempor': 1,\n",
       "         'incididunt': 1,\n",
       "         'ut': 3,\n",
       "         'labore': 1,\n",
       "         'et': 1,\n",
       "         'dolore': 2,\n",
       "         'magna': 1,\n",
       "         'aliqua.': 1,\n",
       "         'enim': 1,\n",
       "         'ad': 1,\n",
       "         'minim': 1,\n",
       "         'veniam,': 1,\n",
       "         'quis': 1,\n",
       "         'nostrud': 1,\n",
       "         'exercitation': 1,\n",
       "         'ullamco': 1,\n",
       "         'laboris': 1,\n",
       "         'nisi': 1,\n",
       "         'aliquip': 1,\n",
       "         'ex': 1,\n",
       "         'ea': 1,\n",
       "         'commodo': 1,\n",
       "         'consequat.': 1,\n",
       "         'duis': 1,\n",
       "         'aute': 1,\n",
       "         'irure': 1,\n",
       "         'in': 3,\n",
       "         'reprehenderit': 1,\n",
       "         'voluptate': 1,\n",
       "         'velit': 1,\n",
       "         'esse': 1,\n",
       "         'cillum': 1,\n",
       "         'eu': 1,\n",
       "         'fugiat': 1,\n",
       "         'nulla': 1,\n",
       "         'pariatur.': 1,\n",
       "         'excepteur': 1,\n",
       "         'sint': 1,\n",
       "         'occaecat': 1,\n",
       "         'cupidatat': 1,\n",
       "         'non': 1,\n",
       "         'proident,': 1,\n",
       "         'sunt': 1,\n",
       "         'culpa': 1,\n",
       "         'qui': 1,\n",
       "         'officia': 1,\n",
       "         'deserunt': 1,\n",
       "         'mollit': 1,\n",
       "         'anim': 1,\n",
       "         'id': 1,\n",
       "         'est': 1,\n",
       "         'laborum.': 1})"
      ]
     },
     "execution_count": 63,
     "metadata": {},
     "output_type": "execute_result"
    }
   ],
   "source": [
    "from collections import Counter\n",
    "\n",
    "words = Counter(word.strip().lower() for word in lorem.split())\n",
    "words"
   ]
  },
  {
   "cell_type": "markdown",
   "metadata": {},
   "source": [
    "Do you have any idea how can you sort the counter, so it first are the most frequence items? Remember that it has to remain a mapping."
   ]
  },
  {
   "cell_type": "code",
   "execution_count": 64,
   "metadata": {},
   "outputs": [
    {
     "data": {
      "text/plain": [
       "OrderedDict([('ut', 3),\n",
       "             ('in', 3),\n",
       "             ('dolor', 2),\n",
       "             ('dolore', 2),\n",
       "             ('lorem', 1),\n",
       "             ('ipsum', 1),\n",
       "             ('sit', 1),\n",
       "             ('amet,', 1),\n",
       "             ('consectetur', 1),\n",
       "             ('adipiscing', 1),\n",
       "             ('elit,', 1),\n",
       "             ('sed', 1),\n",
       "             ('do', 1),\n",
       "             ('eiusmod', 1),\n",
       "             ('tempor', 1),\n",
       "             ('incididunt', 1),\n",
       "             ('labore', 1),\n",
       "             ('et', 1),\n",
       "             ('magna', 1),\n",
       "             ('aliqua.', 1),\n",
       "             ('enim', 1),\n",
       "             ('ad', 1),\n",
       "             ('minim', 1),\n",
       "             ('veniam,', 1),\n",
       "             ('quis', 1),\n",
       "             ('nostrud', 1),\n",
       "             ('exercitation', 1),\n",
       "             ('ullamco', 1),\n",
       "             ('laboris', 1),\n",
       "             ('nisi', 1),\n",
       "             ('aliquip', 1),\n",
       "             ('ex', 1),\n",
       "             ('ea', 1),\n",
       "             ('commodo', 1),\n",
       "             ('consequat.', 1),\n",
       "             ('duis', 1),\n",
       "             ('aute', 1),\n",
       "             ('irure', 1),\n",
       "             ('reprehenderit', 1),\n",
       "             ('voluptate', 1),\n",
       "             ('velit', 1),\n",
       "             ('esse', 1),\n",
       "             ('cillum', 1),\n",
       "             ('eu', 1),\n",
       "             ('fugiat', 1),\n",
       "             ('nulla', 1),\n",
       "             ('pariatur.', 1),\n",
       "             ('excepteur', 1),\n",
       "             ('sint', 1),\n",
       "             ('occaecat', 1),\n",
       "             ('cupidatat', 1),\n",
       "             ('non', 1),\n",
       "             ('proident,', 1),\n",
       "             ('sunt', 1),\n",
       "             ('culpa', 1),\n",
       "             ('qui', 1),\n",
       "             ('officia', 1),\n",
       "             ('deserunt', 1),\n",
       "             ('mollit', 1),\n",
       "             ('anim', 1),\n",
       "             ('id', 1),\n",
       "             ('est', 1),\n",
       "             ('laborum.', 1)])"
      ]
     },
     "execution_count": 64,
     "metadata": {},
     "output_type": "execute_result"
    }
   ],
   "source": [
    "## Sorted counter (descending order)\n",
    "odict = OrderedDict((k, v) for k, v in sorted(words.items(), reverse=True, key=lambda x: x[1]))\n",
    "odict"
   ]
  },
  {
   "cell_type": "markdown",
   "metadata": {},
   "source": [
    "### Deque (double-ended queue)\n",
    "\n",
    "Last but not least we have a super usefull class of `deque`. In some sense it is just like a list (it supports all list operations). However, it enables fast appends and pops from both sides, not only from the right. This can be extremely useful in large, data intensive applciations. Let us look at an example."
   ]
  },
  {
   "cell_type": "code",
   "execution_count": 65,
   "metadata": {},
   "outputs": [],
   "source": [
    "from collections import deque\n",
    "\n",
    "L = list(range(99999))\n",
    "D = deque(L)"
   ]
  },
  {
   "cell_type": "code",
   "execution_count": 66,
   "metadata": {},
   "outputs": [
    {
     "name": "stdout",
     "output_type": "stream",
     "text": [
      "CPU times: user 3 µs, sys: 0 ns, total: 3 µs\n",
      "Wall time: 5.01 µs\n"
     ]
    }
   ],
   "source": [
    "%%time\n",
    "L.append(0)"
   ]
  },
  {
   "cell_type": "code",
   "execution_count": 67,
   "metadata": {},
   "outputs": [
    {
     "name": "stdout",
     "output_type": "stream",
     "text": [
      "CPU times: user 3 µs, sys: 0 ns, total: 3 µs\n",
      "Wall time: 5.48 µs\n"
     ]
    }
   ],
   "source": [
    "%%time\n",
    "D.append(0)"
   ]
  },
  {
   "cell_type": "code",
   "execution_count": 68,
   "metadata": {},
   "outputs": [
    {
     "name": "stdout",
     "output_type": "stream",
     "text": [
      "CPU times: user 114 µs, sys: 0 ns, total: 114 µs\n",
      "Wall time: 118 µs\n"
     ]
    }
   ],
   "source": [
    "%%time\n",
    "L.insert(0, 1)"
   ]
  },
  {
   "cell_type": "code",
   "execution_count": 69,
   "metadata": {},
   "outputs": [
    {
     "name": "stdout",
     "output_type": "stream",
     "text": [
      "CPU times: user 3 µs, sys: 0 ns, total: 3 µs\n",
      "Wall time: 5.25 µs\n"
     ]
    }
   ],
   "source": [
    "%%time\n",
    "D.appendleft(1)"
   ]
  },
  {
   "cell_type": "code",
   "execution_count": 70,
   "metadata": {},
   "outputs": [
    {
     "name": "stdout",
     "output_type": "stream",
     "text": [
      "CPU times: user 77 µs, sys: 0 ns, total: 77 µs\n",
      "Wall time: 79.4 µs\n"
     ]
    },
    {
     "data": {
      "text/plain": [
       "1"
      ]
     },
     "execution_count": 70,
     "metadata": {},
     "output_type": "execute_result"
    }
   ],
   "source": [
    "%%time\n",
    "L.pop(0)"
   ]
  },
  {
   "cell_type": "code",
   "execution_count": 71,
   "metadata": {},
   "outputs": [
    {
     "name": "stdout",
     "output_type": "stream",
     "text": [
      "CPU times: user 4 µs, sys: 0 ns, total: 4 µs\n",
      "Wall time: 7.15 µs\n"
     ]
    },
    {
     "data": {
      "text/plain": [
       "1"
      ]
     },
     "execution_count": 71,
     "metadata": {},
     "output_type": "execute_result"
    }
   ],
   "source": [
    "%%time\n",
    "D.popleft()"
   ]
  },
  {
   "cell_type": "markdown",
   "metadata": {},
   "source": [
    "We see that for some operations deque can be an order of magnitude faster. Especially, `deque` is the proper class in Python to implement queues, since `list.pop(0, <value>)` becomes slow when data gets big (see the remark on computational complexity below).\n",
    "However, there is a price to pay. Indexing deques is in general much slower."
   ]
  },
  {
   "cell_type": "markdown",
   "metadata": {},
   "source": [
    "## Computational complexity\n",
    "\n",
    "Estimating exact execution time of programs is hard. However, it is often quite straightforward to assess the worst-case (or average-case) scenario execution time asymptotically, that is assuming very large input data. The assymptotic behavior of programs with respect to execution time is usually described with the so-called **big O** notation.\n",
    "\n",
    "Most of the basic operations have time complexity somewhere around the following categories:\n",
    "\n",
    "1. $O(1)$ : means that the execution time does not depend on the data size at all. This is for instance the complexity of key lookup in dictionary or left and right appends in a deque as well as list indexing.\n",
    "2. $O(\\log{}n)$ : execution time scales linearly with respect to the logarithm of the number of elements. This is for instance complexity of binary search.\n",
    "3. $O(n)$ : execution time grows propotionally to the data size. This is for instance the complexity of a sum over a list of numbers.\n",
    "4. $O(n\\log{}n)$ : this is a typical complexity of something that is just a little bit superlinear. For instance, the Fast Fourier Transform is $O(n\\log{}n)$.\n",
    "5. $O(n^2)$ : Quadratic complexity. If you increase the number of data items two times, then the execution time grows four times. This is bad, we should avoid this whenever we can. A typical scenario that leads to $O(n^2)$ complexity is nesting two loops over the same collection of items. If you write some code and think that two nested loops are a good idea, then think again. Sometimes you can not avoid this of course, but you should always try.\n",
    "6. $O(n^3)$ : this is really bad. If you increase the number of data items two times, the execution time grows 8 times. A typical example of an operation with this complexity is matrix multiplication. This is why you should always do whatever you can to avoid matrix multiplication in the code you write if you want to get a decent performance. Again, sometimes you can not do this, but usually it is worth trying.\n",
    "7. $O(2^n)$ : this is one of the most extreme cases. Code of this complexity is virtually useless for any non-trivial task. We have seen an example of a function with this complexity: the recursive implementation of the `fibonnaci` function.\n",
    "\n",
    "Now we will study complexity of some operations experimentally."
   ]
  },
  {
   "cell_type": "code",
   "execution_count": 73,
   "metadata": {},
   "outputs": [],
   "source": [
    "# Dict access by key is O(1) and list (and deque) access by index is O(n)\n",
    "from collections import deque\n",
    "\n",
    "L1   = list(range(10000))\n",
    "D1   = deque(L1)\n",
    "dct1 = { x: x for x in L1 }\n",
    "\n",
    "L2   = list(range(100000))\n",
    "D2   = deque(L2)\n",
    "dct2 = { x: x for x in L2 }\n",
    "\n",
    "idx = 5329"
   ]
  },
  {
   "cell_type": "code",
   "execution_count": 74,
   "metadata": {},
   "outputs": [
    {
     "name": "stdout",
     "output_type": "stream",
     "text": [
      "41.6 ns ± 0.865 ns per loop (mean ± std. dev. of 7 runs, 10000000 loops each)\n"
     ]
    }
   ],
   "source": [
    "%%timeit\n",
    "L1[idx]"
   ]
  },
  {
   "cell_type": "code",
   "execution_count": 75,
   "metadata": {},
   "outputs": [
    {
     "name": "stdout",
     "output_type": "stream",
     "text": [
      "39 ns ± 0.577 ns per loop (mean ± std. dev. of 7 runs, 10000000 loops each)\n"
     ]
    }
   ],
   "source": [
    "%%timeit\n",
    "L2[idx]"
   ]
  },
  {
   "cell_type": "code",
   "execution_count": 76,
   "metadata": {},
   "outputs": [
    {
     "name": "stdout",
     "output_type": "stream",
     "text": [
      "122 ns ± 4.04 ns per loop (mean ± std. dev. of 7 runs, 10000000 loops each)\n"
     ]
    }
   ],
   "source": [
    "%%timeit\n",
    "D1[idx]"
   ]
  },
  {
   "cell_type": "code",
   "execution_count": 77,
   "metadata": {},
   "outputs": [
    {
     "name": "stdout",
     "output_type": "stream",
     "text": [
      "153 ns ± 4.4 ns per loop (mean ± std. dev. of 7 runs, 10000000 loops each)\n"
     ]
    }
   ],
   "source": [
    "%%timeit\n",
    "D2[idx]"
   ]
  },
  {
   "cell_type": "code",
   "execution_count": 78,
   "metadata": {},
   "outputs": [
    {
     "name": "stdout",
     "output_type": "stream",
     "text": [
      "59.3 ns ± 2.63 ns per loop (mean ± std. dev. of 7 runs, 10000000 loops each)\n"
     ]
    }
   ],
   "source": [
    "%%timeit\n",
    "dct1[idx]"
   ]
  },
  {
   "cell_type": "code",
   "execution_count": 79,
   "metadata": {},
   "outputs": [
    {
     "name": "stdout",
     "output_type": "stream",
     "text": [
      "60.8 ns ± 0.474 ns per loop (mean ± std. dev. of 7 runs, 10000000 loops each)\n"
     ]
    }
   ],
   "source": [
    "%%timeit\n",
    "dct2[idx]"
   ]
  },
  {
   "cell_type": "markdown",
   "metadata": {},
   "source": [
    "What can you conclude from the tests?\n",
    "\n",
    "Now let us look at a problem of items by name and compare implementations based on lists and dicts."
   ]
  },
  {
   "cell_type": "code",
   "execution_count": 80,
   "metadata": {},
   "outputs": [],
   "source": [
    "L = [ ('a{}'.format(i), i) for i in range(100000) ]\n",
    "dct = dict(L)\n",
    "\n",
    "idx = 54225"
   ]
  },
  {
   "cell_type": "code",
   "execution_count": 81,
   "metadata": {},
   "outputs": [
    {
     "name": "stdout",
     "output_type": "stream",
     "text": [
      "13.6 ms ± 413 µs per loop (mean ± std. dev. of 7 runs, 100 loops each)\n"
     ]
    }
   ],
   "source": [
    "%%timeit\n",
    "next((name, value) for name, value in L if name == 'a{}'.format(idx))"
   ]
  },
  {
   "cell_type": "code",
   "execution_count": 82,
   "metadata": {},
   "outputs": [
    {
     "name": "stdout",
     "output_type": "stream",
     "text": [
      "272 ns ± 12.5 ns per loop (mean ± std. dev. of 7 runs, 1000000 loops each)\n"
     ]
    }
   ],
   "source": [
    "%%timeit\n",
    "dct['a{}'.format(idx)]"
   ]
  },
  {
   "cell_type": "code",
   "execution_count": 83,
   "metadata": {},
   "outputs": [
    {
     "name": "stdout",
     "output_type": "stream",
     "text": [
      "('label2', 2)\n"
     ]
    }
   ],
   "source": [
    "data = [('label1', 1), ('label2', 2)]\n",
    "\n",
    "for element in data:\n",
    "    if element[0] == 'label2':\n",
    "        print(element)"
   ]
  },
  {
   "cell_type": "code",
   "execution_count": 84,
   "metadata": {},
   "outputs": [
    {
     "data": {
      "text/plain": [
       "{'label1': 1, 'label2': 2}"
      ]
     },
     "execution_count": 84,
     "metadata": {},
     "output_type": "execute_result"
    }
   ],
   "source": [
    "dct = dict(data)\n",
    "dct"
   ]
  },
  {
   "cell_type": "code",
   "execution_count": 85,
   "metadata": {},
   "outputs": [
    {
     "data": {
      "text/plain": [
       "2"
      ]
     },
     "execution_count": 85,
     "metadata": {},
     "output_type": "execute_result"
    }
   ],
   "source": [
    "dct['label2']"
   ]
  },
  {
   "cell_type": "markdown",
   "metadata": {},
   "source": [
    "## Homework\n",
    "\n",
    "You have to design a new data management system for a university department. The application will process student data. Every student will be described with the following data fields:\n",
    "\n",
    "* Name and surname (string, may not be unique)\n",
    "* Student id (positive integer, unique)\n",
    "* Gender ('F' or 'M')\n",
    "* Study program (cognitive science, biology etc. | string)\n",
    "* Year (1st, 2nd etc | integer)\n",
    "* Date of birth (simplified just to year | integer)\n",
    "* List of classes taken in the current semester (class ids are integers)\n",
    "\n",
    "Program(s) and year(s) are provided in data records as 2-tuples\n",
    "with program name and year at first and second positions.\n",
    "\n",
    "The application has to meet the following requirements:\n",
    "\n",
    "* Fast student lookup by name and surname\n",
    "* Fast student lookup by student id\n",
    "* Fast creation of a list of all students from a given year and given program\n",
    "* Fast creation of a list of all students enrolled in a given class\n",
    "\n",
    "Also the following constraints have to be accounted for:\n",
    "\n",
    "* Some students can be enrolled at multiple programms at different years.\n",
    "* Students' names and surnames may not be unique.\n",
    "\n",
    "But remember that you can shape your data structure however you like,\n",
    "rearrange data and copy it into multiple locations\n",
    "(in this problem we do not care about synchronization of changes between different locations).\n",
    "You may also implement as many helper functions as you want.\n",
    "\n",
    "Also your solution should use the basic data structures covered in this class.\n",
    "If you know more advanced stuff, then good for you, but in this problem you have\n",
    "to work with the basics.\n",
    "\n",
    "HINT. Avoid loops and prefer dictionary-based key lookups to get better performance.\n",
    "      Remeber about requirements and constraints.\n",
    "\n",
    "Skeleton code for functions is in `HW1.py` file. Test data is in `HW1_data.py` file\n",
    "and is already imported in `HW1.py`."
   ]
  },
  {
   "cell_type": "markdown",
   "metadata": {},
   "source": [
    "Send your solution (`HW1.py`) to <stalaga@uw.edu.pl> or <jaroslaw.paszek@gmail.com> (depending on the group you are in) before 06.12.2019.\n",
    "\n",
    "Use the following title in your e-mail: \"Advanced Python HW1: [name and surname]\""
   ]
  },
  {
   "cell_type": "markdown",
   "metadata": {},
   "source": [
    "Below is an example of how you can work on the problem within the notebook to test your implementations."
   ]
  },
  {
   "cell_type": "code",
   "execution_count": 86,
   "metadata": {},
   "outputs": [],
   "source": [
    "# Import HW1 objects.\n",
    "# This will import both data: `records` and `records_many`\n",
    "# as well as your functions (provided you implement them in `HW1.py`).\n",
    "from HW1 import *\n",
    "\n",
    "# Build your data structure, i.e.\n",
    "data = build_data_structure(records)"
   ]
  },
  {
   "cell_type": "code",
   "execution_count": 87,
   "metadata": {},
   "outputs": [
    {
     "name": "stdout",
     "output_type": "stream",
     "text": [
      "CPU times: user 3 µs, sys: 0 ns, total: 3 µs\n",
      "Wall time: 5.48 µs\n"
     ]
    }
   ],
   "source": [
    "%%time\n",
    "# Test your function.\n",
    "# `%%time` command in the code cell\n",
    "# means that the execution time will be measured.\n",
    "find_by_name(data, \"some_name\")"
   ]
  },
  {
   "cell_type": "code",
   "execution_count": 89,
   "metadata": {},
   "outputs": [
    {
     "name": "stdout",
     "output_type": "stream",
     "text": [
      "7.29 ns ± 0.0624 ns per loop (mean ± std. dev. of 7 runs, 100000000 loops each)\n"
     ]
    }
   ],
   "source": [
    "%%timeit\n",
    "# `%%timeit` command runs the code in code cell many times\n",
    "# in order to measure execution time with higher accuracy.\n",
    "2 + 2"
   ]
  },
  {
   "cell_type": "code",
   "execution_count": null,
   "metadata": {},
   "outputs": [],
   "source": []
  }
 ],
 "metadata": {
  "kernelspec": {
   "display_name": "Python 3",
   "language": "python",
   "name": "python3"
  },
  "language_info": {
   "codemirror_mode": {
    "name": "ipython",
    "version": 3
   },
   "file_extension": ".py",
   "mimetype": "text/x-python",
   "name": "python",
   "nbconvert_exporter": "python",
   "pygments_lexer": "ipython3",
   "version": "3.8.3"
  }
 },
 "nbformat": 4,
 "nbformat_minor": 4
}
